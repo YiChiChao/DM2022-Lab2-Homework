{
 "cells": [
  {
   "cell_type": "markdown",
   "id": "2ceff28c",
   "metadata": {
    "papermill": {
     "duration": 0.024902,
     "end_time": "2022-11-19T07:36:18.398017",
     "exception": false,
     "start_time": "2022-11-19T07:36:18.373115",
     "status": "completed"
    },
    "tags": []
   },
   "source": [
    "### Student Information\n",
    "Name: 趙苡棋\n",
    "\n",
    "Student ID: 109070024\n",
    "\n",
    "GitHub ID: YiChiChao\n",
    "\n",
    "Kaggle name: \n",
    "\n",
    "Kaggle private scoreboard snapshot:\n",
    "\n",
    "[Snapshot](img/pic0.png)"
   ]
  },
  {
   "cell_type": "markdown",
   "id": "51e5892d",
   "metadata": {
    "papermill": {
     "duration": 0.021523,
     "end_time": "2022-11-19T07:36:18.441828",
     "exception": false,
     "start_time": "2022-11-19T07:36:18.420305",
     "status": "completed"
    },
    "tags": []
   },
   "source": [
    "### Instructions"
   ]
  },
  {
   "cell_type": "markdown",
   "id": "ee5e0b50",
   "metadata": {
    "papermill": {
     "duration": 0.021409,
     "end_time": "2022-11-19T07:36:18.484935",
     "exception": false,
     "start_time": "2022-11-19T07:36:18.463526",
     "status": "completed"
    },
    "tags": []
   },
   "source": [
    "1. First: __This part is worth 30% of your grade.__ Do the **take home** exercises in the [DM2022-Lab2-master Repo](https://github.com/keziatamus/DM2022-Lab2-Master). You may need to copy some cells from the Lab notebook to this notebook. \n",
    "\n",
    "\n",
    "2. Second: __This part is worth 30% of your grade.__ Participate in the in-class [Kaggle Competition](https://www.kaggle.com/competitions/dm2022-isa5810-lab2-homework) regarding Emotion Recognition on Twitter by this link https://www.kaggle.com/t/2b0d14a829f340bc88d2660dc602d4bd. The scoring will be given according to your place in the Private Leaderboard ranking: \n",
    "    - **Bottom 40%**: Get 20% of the 30% available for this section.\n",
    "\n",
    "    - **Top 41% - 100%**: Get (60-x)/6 + 20 points, where x is your ranking in the leaderboard (ie. If you rank 3rd your score will be (60-3)/6 + 20 = 29.5% out of 30%)   \n",
    "    Submit your last submission __BEFORE the deadline (Nov. 22th 11:59 pm, Tuesday)_. Make sure to take a screenshot of your position at the end of the competition and store it as '''pic0.png''' under the **img** folder of this repository and rerun the cell **Student Information**.\n",
    "    \n",
    "\n",
    "3. Third: __This part is worth 30% of your grade.__ A report of your work developping the model for the competition (You can use code and comment it). This report should include what your preprocessing steps, the feature engineering steps and an explanation of your model. You can also mention different things you tried and insights you gained. \n",
    "\n",
    "\n",
    "4. Fourth: __This part is worth 10% of your grade.__ It's hard for us to follow if your code is messy :'(, so please **tidy up your notebook** and **add minimal comments where needed**.\n",
    "\n",
    "\n",
    "Upload your files to your repository then submit the link to it on the corresponding e-learn assignment.\n",
    "\n",
    "Make sure to commit and save your changes to your repository __BEFORE the deadline (Nov. 25th 11:59 pm, Friday)__. "
   ]
  },
  {
   "cell_type": "markdown",
   "id": "b5294a76",
   "metadata": {
    "id": "uuutyCx4YTpX",
    "papermill": {
     "duration": 0.021405,
     "end_time": "2022-11-19T07:36:18.528141",
     "exception": false,
     "start_time": "2022-11-19T07:36:18.506736",
     "status": "completed"
    },
    "tags": []
   },
   "source": [
    "# Data Mining Lab 2\n",
    "In this lab session we will focus on the use of Neural Word Embeddings "
   ]
  },
  {
   "cell_type": "markdown",
   "id": "5106cc8f",
   "metadata": {
    "id": "ledffNYYYTpX",
    "papermill": {
     "duration": 0.021422,
     "end_time": "2022-11-19T07:36:18.571442",
     "exception": false,
     "start_time": "2022-11-19T07:36:18.550020",
     "status": "completed"
    },
    "tags": []
   },
   "source": [
    "## Table of Contents\n",
    "1. Data preparation\n",
    "2. Feature engineering\n",
    "3. Model\n",
    "4. Results evaluation\n",
    "5. Other things you could try\n",
    "6. Deep Learning\n",
    "7. Word to Vector\n",
    "8. Clustering\n",
    "9. High-dimension Visualization\n",
    "\n"
   ]
  },
  {
   "cell_type": "markdown",
   "id": "6f76aa50",
   "metadata": {
    "papermill": {
     "duration": 0.021271,
     "end_time": "2022-11-19T07:36:18.614223",
     "exception": false,
     "start_time": "2022-11-19T07:36:18.592952",
     "status": "completed"
    },
    "tags": []
   },
   "source": [
    "## Necessary Library Requirements:\n",
    "\n",
    "#### Same as Lab1:\n",
    "- [Jupyter](http://jupyter.org/) (Strongly recommended but not required)\n",
    "    - Install via `pip3 install jupyter` and use `jupyter notebook` in terminal to run\n",
    "- [Scikit Learn](http://scikit-learn.org/stable/index.html)\n",
    "    - Install via `pip3 sklearn` from a terminal\n",
    "- [Pandas](http://pandas.pydata.org/)\n",
    "    - Install via `pip3 install pandas` from a terminal\n",
    "- [Numpy](http://www.numpy.org/)\n",
    "    - Install via `pip3 install numpy` from a terminal\n",
    "- [Matplotlib](https://matplotlib.org/)\n",
    "    - Install via `pip3 maplotlib` from a terminal\n",
    "- [Plotly](https://plot.ly/)\n",
    "    - Install via `pip3 install plotly` from a terminal\n",
    "- [Seaborn](https://seaborn.pydata.org/)\n",
    "    - Install and signup for `seaborn`\n",
    "- [NLTK](http://www.nltk.org/)\n",
    "    - Install via `pip3 install nltk` from a terminal\n",
    "\n",
    "#### New Libraries to intsall:\n",
    "- [Gensim](https://pypi.org/project/gensim/)\n",
    "    - Install via `pip3 install gensim`\n",
    "\n",
    "- [tensorflow](https://www.tensorflow.org/)\n",
    "    - Install via `pip3 install tensorflow`\n",
    "    - Also install `pip3 install tensorflow-hub`\n",
    "\n",
    "- [Keras](https://keras.io/)\n",
    "    - Install via `pip3 install keras`"
   ]
  },
  {
   "cell_type": "markdown",
   "id": "2ab5e786",
   "metadata": {
    "id": "LIpAqCvMYTpX",
    "papermill": {
     "duration": 0.021707,
     "end_time": "2022-11-19T07:36:18.657627",
     "exception": false,
     "start_time": "2022-11-19T07:36:18.635920",
     "status": "completed"
    },
    "tags": []
   },
   "source": [
    "---\n",
    "# Introduction"
   ]
  },
  {
   "cell_type": "markdown",
   "id": "f4b62b99",
   "metadata": {
    "id": "n2paPeNbYTpX",
    "papermill": {
     "duration": 0.021584,
     "end_time": "2022-11-19T07:36:18.700972",
     "exception": false,
     "start_time": "2022-11-19T07:36:18.679388",
     "status": "completed"
    },
    "tags": []
   },
   "source": [
    "**Dataset:** [SemEval 2017 Task](https://competitions.codalab.org/competitions/16380)\n",
    "\n",
    "**Task:** Classify text data into 4 different emotions using word embedding and other deep information retrieval approaches.\n",
    "\n",
    "![image.png](https://raw.githubusercontent.com/keziatamus/DM2022-Lab2-Master/08755efc671824064d7a9347edb8c418550c3e83//pics/pic0.png)"
   ]
  },
  {
   "cell_type": "markdown",
   "id": "ee1af718",
   "metadata": {
    "id": "op_X7pR-YTpX",
    "papermill": {
     "duration": 0.021256,
     "end_time": "2022-11-19T07:36:18.743890",
     "exception": false,
     "start_time": "2022-11-19T07:36:18.722634",
     "status": "completed"
    },
    "tags": []
   },
   "source": [
    "---\n",
    "# 1. Data Preparation"
   ]
  },
  {
   "cell_type": "markdown",
   "id": "cbb19359",
   "metadata": {
    "id": "ID-8I1ELYTpX",
    "papermill": {
     "duration": 0.021189,
     "end_time": "2022-11-19T07:36:18.786960",
     "exception": false,
     "start_time": "2022-11-19T07:36:18.765771",
     "status": "completed"
    },
    "tags": []
   },
   "source": [
    "Before beggining the lab, please make sure to download the [Google News Dataset](https://drive.google.com/file/d/0B7XkCwpI5KDYNlNUTTlSS21pQmM/edit) and place it in a folder named \"GoogleNews\" in the same directory as this file."
   ]
  },
  {
   "cell_type": "markdown",
   "id": "3bbbfafe",
   "metadata": {
    "id": "pgoEbZzSYTpX",
    "papermill": {
     "duration": 0.021676,
     "end_time": "2022-11-19T07:36:18.831081",
     "exception": false,
     "start_time": "2022-11-19T07:36:18.809405",
     "status": "completed"
    },
    "tags": []
   },
   "source": [
    "## 1.1 Load data\n",
    "\n",
    "We start by loading the csv files into a single pandas dataframe for training and one for testing."
   ]
  },
  {
   "cell_type": "code",
   "execution_count": 1,
   "id": "62117ccb",
   "metadata": {
    "execution": {
     "iopub.execute_input": "2022-11-19T07:36:18.876497Z",
     "iopub.status.busy": "2022-11-19T07:36:18.875956Z",
     "iopub.status.idle": "2022-11-19T07:36:18.936398Z",
     "shell.execute_reply": "2022-11-19T07:36:18.934984Z"
    },
    "id": "anfjcPSSYTpX",
    "papermill": {
     "duration": 0.086494,
     "end_time": "2022-11-19T07:36:18.939186",
     "exception": false,
     "start_time": "2022-11-19T07:36:18.852692",
     "status": "completed"
    },
    "tags": []
   },
   "outputs": [],
   "source": [
    "import pandas as pd\n",
    "\n",
    "### training data\n",
    "anger_train = pd.read_csv(\"../input/lab2-dataset/data/semeval/train/anger-ratings-0to1.train.txt\",\n",
    "                         sep=\"\\t\", header=None,names=[\"id\", \"text\", \"emotion\", \"intensity\"])\n",
    "sadness_train = pd.read_csv(\"../input/lab2-dataset/data/semeval/train/sadness-ratings-0to1.train.txt\",\n",
    "                         sep=\"\\t\", header=None, names=[\"id\", \"text\", \"emotion\", \"intensity\"])\n",
    "fear_train = pd.read_csv(\"../input/lab2-dataset/data/semeval/train/fear-ratings-0to1.train.txt\",\n",
    "                         sep=\"\\t\", header=None, names=[\"id\", \"text\", \"emotion\", \"intensity\"])\n",
    "joy_train = pd.read_csv(\"../input/lab2-dataset/data/semeval/train/joy-ratings-0to1.train.txt\",\n",
    "                         sep=\"\\t\", header=None, names=[\"id\", \"text\", \"emotion\", \"intensity\"])"
   ]
  },
  {
   "cell_type": "code",
   "execution_count": 2,
   "id": "b1bc66d3",
   "metadata": {
    "execution": {
     "iopub.execute_input": "2022-11-19T07:36:18.985478Z",
     "iopub.status.busy": "2022-11-19T07:36:18.984139Z",
     "iopub.status.idle": "2022-11-19T07:36:18.993845Z",
     "shell.execute_reply": "2022-11-19T07:36:18.992756Z"
    },
    "id": "yVc2T5MIYTpX",
    "papermill": {
     "duration": 0.034747,
     "end_time": "2022-11-19T07:36:18.995756",
     "exception": false,
     "start_time": "2022-11-19T07:36:18.961009",
     "status": "completed"
    },
    "tags": []
   },
   "outputs": [],
   "source": [
    "# combine 4 sub-dataset\n",
    "train_df = pd.concat([anger_train, fear_train, joy_train, sadness_train], ignore_index=True)"
   ]
  },
  {
   "cell_type": "code",
   "execution_count": 3,
   "id": "6c87e9dd",
   "metadata": {
    "execution": {
     "iopub.execute_input": "2022-11-19T07:36:19.040652Z",
     "iopub.status.busy": "2022-11-19T07:36:19.039660Z",
     "iopub.status.idle": "2022-11-19T07:36:19.089468Z",
     "shell.execute_reply": "2022-11-19T07:36:19.088054Z"
    },
    "id": "Kw8bGMv7YTpX",
    "outputId": "9f6f7052-302e-4794-ef69-b84450b61b36",
    "papermill": {
     "duration": 0.074942,
     "end_time": "2022-11-19T07:36:19.092187",
     "exception": false,
     "start_time": "2022-11-19T07:36:19.017245",
     "status": "completed"
    },
    "tags": []
   },
   "outputs": [
    {
     "data": {
      "text/html": [
       "<div>\n",
       "<style scoped>\n",
       "    .dataframe tbody tr th:only-of-type {\n",
       "        vertical-align: middle;\n",
       "    }\n",
       "\n",
       "    .dataframe tbody tr th {\n",
       "        vertical-align: top;\n",
       "    }\n",
       "\n",
       "    .dataframe thead th {\n",
       "        text-align: right;\n",
       "    }\n",
       "</style>\n",
       "<table border=\"1\" class=\"dataframe\">\n",
       "  <thead>\n",
       "    <tr style=\"text-align: right;\">\n",
       "      <th></th>\n",
       "      <th>id</th>\n",
       "      <th>text</th>\n",
       "      <th>emotion</th>\n",
       "      <th>intensity</th>\n",
       "    </tr>\n",
       "  </thead>\n",
       "  <tbody>\n",
       "    <tr>\n",
       "      <th>0</th>\n",
       "      <td>10000</td>\n",
       "      <td>How the fu*k! Who the heck! moved my fridge!.....</td>\n",
       "      <td>anger</td>\n",
       "      <td>0.938</td>\n",
       "    </tr>\n",
       "    <tr>\n",
       "      <th>1</th>\n",
       "      <td>10001</td>\n",
       "      <td>So my Indian Uber driver just called someone t...</td>\n",
       "      <td>anger</td>\n",
       "      <td>0.896</td>\n",
       "    </tr>\n",
       "    <tr>\n",
       "      <th>2</th>\n",
       "      <td>10002</td>\n",
       "      <td>@DPD_UK I asked for my parcel to be delivered ...</td>\n",
       "      <td>anger</td>\n",
       "      <td>0.896</td>\n",
       "    </tr>\n",
       "    <tr>\n",
       "      <th>3</th>\n",
       "      <td>10003</td>\n",
       "      <td>so ef whichever butt wipe pulled the fire alar...</td>\n",
       "      <td>anger</td>\n",
       "      <td>0.896</td>\n",
       "    </tr>\n",
       "    <tr>\n",
       "      <th>4</th>\n",
       "      <td>10004</td>\n",
       "      <td>Don't join @BTCare they put the phone down on ...</td>\n",
       "      <td>anger</td>\n",
       "      <td>0.896</td>\n",
       "    </tr>\n",
       "  </tbody>\n",
       "</table>\n",
       "</div>"
      ],
      "text/plain": [
       "      id                                               text emotion  intensity\n",
       "0  10000  How the fu*k! Who the heck! moved my fridge!.....   anger      0.938\n",
       "1  10001  So my Indian Uber driver just called someone t...   anger      0.896\n",
       "2  10002  @DPD_UK I asked for my parcel to be delivered ...   anger      0.896\n",
       "3  10003  so ef whichever butt wipe pulled the fire alar...   anger      0.896\n",
       "4  10004  Don't join @BTCare they put the phone down on ...   anger      0.896"
      ]
     },
     "execution_count": 3,
     "metadata": {},
     "output_type": "execute_result"
    }
   ],
   "source": [
    "### testing data\n",
    "anger_test = pd.read_csv(\"../input/lab2-dataset/data/semeval/dev/anger-ratings-0to1.dev.gold.txt\",\n",
    "                         sep=\"\\t\", header=None,names=[\"id\", \"text\", \"emotion\", \"intensity\"])\n",
    "sadness_test = pd.read_csv(\"../input/lab2-dataset/data/semeval/dev/sadness-ratings-0to1.dev.gold.txt\",\n",
    "                         sep=\"\\t\", header=None, names=[\"id\", \"text\", \"emotion\", \"intensity\"])\n",
    "fear_test = pd.read_csv(\"../input/lab2-dataset/data/semeval/dev/fear-ratings-0to1.dev.gold.txt\",\n",
    "                         sep=\"\\t\", header=None, names=[\"id\", \"text\", \"emotion\", \"intensity\"])\n",
    "joy_test = pd.read_csv(\"../input/lab2-dataset/data/semeval/dev/joy-ratings-0to1.dev.gold.txt\",\n",
    "                         sep=\"\\t\", header=None, names=[\"id\", \"text\", \"emotion\", \"intensity\"])\n",
    "\n",
    "# combine 4 sub-dataset\n",
    "test_df = pd.concat([anger_test, fear_test, joy_test, sadness_test], ignore_index=True)\n",
    "train_df.head()"
   ]
  },
  {
   "cell_type": "code",
   "execution_count": 4,
   "id": "bd9889d3",
   "metadata": {
    "execution": {
     "iopub.execute_input": "2022-11-19T07:36:19.138897Z",
     "iopub.status.busy": "2022-11-19T07:36:19.137914Z",
     "iopub.status.idle": "2022-11-19T07:36:19.148010Z",
     "shell.execute_reply": "2022-11-19T07:36:19.146800Z"
    },
    "id": "HBHwcL8sYTpX",
    "papermill": {
     "duration": 0.035624,
     "end_time": "2022-11-19T07:36:19.150320",
     "exception": false,
     "start_time": "2022-11-19T07:36:19.114696",
     "status": "completed"
    },
    "tags": []
   },
   "outputs": [],
   "source": [
    "# shuffle dataset\n",
    "train_df = train_df.sample(frac=1)\n",
    "test_df = test_df.sample(frac=1)"
   ]
  },
  {
   "cell_type": "code",
   "execution_count": 5,
   "id": "4a659412",
   "metadata": {
    "execution": {
     "iopub.execute_input": "2022-11-19T07:36:19.195719Z",
     "iopub.status.busy": "2022-11-19T07:36:19.195270Z",
     "iopub.status.idle": "2022-11-19T07:36:19.200611Z",
     "shell.execute_reply": "2022-11-19T07:36:19.199723Z"
    },
    "id": "9w_cDUwCYTpX",
    "outputId": "3582ac44-1f5f-4cb2-b833-d477f152461a",
    "papermill": {
     "duration": 0.030762,
     "end_time": "2022-11-19T07:36:19.202867",
     "exception": false,
     "start_time": "2022-11-19T07:36:19.172105",
     "status": "completed"
    },
    "scrolled": true,
    "tags": []
   },
   "outputs": [
    {
     "name": "stdout",
     "output_type": "stream",
     "text": [
      "Shape of Training df:  (3613, 4)\n",
      "Shape of Testing df:  (347, 4)\n"
     ]
    }
   ],
   "source": [
    "print(\"Shape of Training df: \", train_df.shape)\n",
    "print(\"Shape of Testing df: \", test_df.shape)"
   ]
  },
  {
   "cell_type": "markdown",
   "id": "7e7d7a1a",
   "metadata": {
    "id": "escCgU1zYTpX",
    "papermill": {
     "duration": 0.02634,
     "end_time": "2022-11-19T07:36:19.255597",
     "exception": false,
     "start_time": "2022-11-19T07:36:19.229257",
     "status": "completed"
    },
    "tags": []
   },
   "source": [
    "---\n",
    "### ** >>> Exercise 1 (Take home): **  \n",
    "Plot word frequency for Top 30 words in both train and test dataset. (Hint: refer to DM lab 1)\n"
   ]
  },
  {
   "cell_type": "code",
   "execution_count": 6,
   "id": "a86b55fb",
   "metadata": {
    "execution": {
     "iopub.execute_input": "2022-11-19T07:36:19.309697Z",
     "iopub.status.busy": "2022-11-19T07:36:19.309314Z",
     "iopub.status.idle": "2022-11-19T07:36:19.313526Z",
     "shell.execute_reply": "2022-11-19T07:36:19.312587Z"
    },
    "id": "HoXjet3pYTpo",
    "papermill": {
     "duration": 0.030723,
     "end_time": "2022-11-19T07:36:19.315584",
     "exception": false,
     "start_time": "2022-11-19T07:36:19.284861",
     "status": "completed"
    },
    "tags": []
   },
   "outputs": [],
   "source": [
    "# Answer here\n"
   ]
  },
  {
   "cell_type": "markdown",
   "id": "8507fa81",
   "metadata": {
    "id": "_hr8aKhlYTpo",
    "papermill": {
     "duration": 0.02156,
     "end_time": "2022-11-19T07:36:19.359044",
     "exception": false,
     "start_time": "2022-11-19T07:36:19.337484",
     "status": "completed"
    },
    "tags": []
   },
   "source": [
    "---\n",
    "### 1.2 Save data"
   ]
  },
  {
   "cell_type": "markdown",
   "id": "2cf15db0",
   "metadata": {
    "id": "Zm6GF2VvYTpo",
    "papermill": {
     "duration": 0.020945,
     "end_time": "2022-11-19T07:36:19.401273",
     "exception": false,
     "start_time": "2022-11-19T07:36:19.380328",
     "status": "completed"
    },
    "tags": []
   },
   "source": [
    "We will save our data in Pickle format. The pickle module implements binary protocols for serializing and de-serializing a Python object structure.   \n",
    "  \n",
    "Some advantages for using pickle structure:  \n",
    "* Because it stores the attribute type, it's more convenient for cross-platform use.  \n",
    "* When your data is huge, it could use less space to store also consume less loading time.   "
   ]
  },
  {
   "cell_type": "code",
   "execution_count": 7,
   "id": "91aaf269",
   "metadata": {
    "execution": {
     "iopub.execute_input": "2022-11-19T07:36:19.446511Z",
     "iopub.status.busy": "2022-11-19T07:36:19.445463Z",
     "iopub.status.idle": "2022-11-19T07:36:19.454018Z",
     "shell.execute_reply": "2022-11-19T07:36:19.452312Z"
    },
    "id": "dZzepBdpYTpo",
    "papermill": {
     "duration": 0.034149,
     "end_time": "2022-11-19T07:36:19.456633",
     "exception": false,
     "start_time": "2022-11-19T07:36:19.422484",
     "status": "completed"
    },
    "tags": []
   },
   "outputs": [],
   "source": [
    "## save to pickle file\n",
    "train_df.to_pickle(\"train_df.pkl\") \n",
    "test_df.to_pickle(\"test_df.pkl\")"
   ]
  },
  {
   "cell_type": "code",
   "execution_count": 8,
   "id": "e369f8f6",
   "metadata": {
    "execution": {
     "iopub.execute_input": "2022-11-19T07:36:19.501323Z",
     "iopub.status.busy": "2022-11-19T07:36:19.500826Z",
     "iopub.status.idle": "2022-11-19T07:36:19.508812Z",
     "shell.execute_reply": "2022-11-19T07:36:19.507912Z"
    },
    "id": "H5uO-kOUYTpo",
    "papermill": {
     "duration": 0.032587,
     "end_time": "2022-11-19T07:36:19.510971",
     "exception": false,
     "start_time": "2022-11-19T07:36:19.478384",
     "status": "completed"
    },
    "tags": []
   },
   "outputs": [],
   "source": [
    "import pandas as pd\n",
    "\n",
    "## load a pickle file\n",
    "train_df = pd.read_pickle(\"train_df.pkl\")\n",
    "test_df = pd.read_pickle(\"test_df.pkl\")"
   ]
  },
  {
   "cell_type": "markdown",
   "id": "288ab254",
   "metadata": {
    "id": "_sLDcQzeYTpo",
    "papermill": {
     "duration": 0.02173,
     "end_time": "2022-11-19T07:36:19.555059",
     "exception": false,
     "start_time": "2022-11-19T07:36:19.533329",
     "status": "completed"
    },
    "tags": []
   },
   "source": [
    "For more information: https://reurl.cc/0Dzqx"
   ]
  },
  {
   "cell_type": "markdown",
   "id": "4658332d",
   "metadata": {
    "id": "dKHpxTzLYTpo",
    "papermill": {
     "duration": 0.021624,
     "end_time": "2022-11-19T07:36:19.598673",
     "exception": false,
     "start_time": "2022-11-19T07:36:19.577049",
     "status": "completed"
    },
    "tags": []
   },
   "source": [
    "---\n",
    "### 1.3 Exploratory data analysis (EDA)\n",
    "\n",
    "Again, before getting our hands dirty, we need to explore a little bit and understand the data we're dealing with."
   ]
  },
  {
   "cell_type": "code",
   "execution_count": 9,
   "id": "4c6dcfbc",
   "metadata": {
    "execution": {
     "iopub.execute_input": "2022-11-19T07:36:19.644587Z",
     "iopub.status.busy": "2022-11-19T07:36:19.644191Z",
     "iopub.status.idle": "2022-11-19T07:36:19.661448Z",
     "shell.execute_reply": "2022-11-19T07:36:19.660063Z"
    },
    "id": "mLnEEliCYTpo",
    "outputId": "a253199b-cf8f-4cdc-b677-732be78993a3",
    "papermill": {
     "duration": 0.043035,
     "end_time": "2022-11-19T07:36:19.663842",
     "exception": false,
     "start_time": "2022-11-19T07:36:19.620807",
     "status": "completed"
    },
    "tags": []
   },
   "outputs": [
    {
     "data": {
      "text/plain": [
       "emotion\n",
       "anger       857\n",
       "fear       1147\n",
       "joy         823\n",
       "sadness     786\n",
       "Name: text, dtype: int64"
      ]
     },
     "execution_count": 9,
     "metadata": {},
     "output_type": "execute_result"
    }
   ],
   "source": [
    "#group to find distribution\n",
    "train_df.groupby(['emotion']).count()['text']"
   ]
  },
  {
   "cell_type": "code",
   "execution_count": 10,
   "id": "79decdcd",
   "metadata": {
    "execution": {
     "iopub.execute_input": "2022-11-19T07:36:19.710841Z",
     "iopub.status.busy": "2022-11-19T07:36:19.710200Z",
     "iopub.status.idle": "2022-11-19T07:36:19.872622Z",
     "shell.execute_reply": "2022-11-19T07:36:19.871407Z"
    },
    "id": "pcVOe8nYYTpo",
    "outputId": "52c413c9-5a8f-450b-d99a-e541a76e95c7",
    "papermill": {
     "duration": 0.188983,
     "end_time": "2022-11-19T07:36:19.875212",
     "exception": false,
     "start_time": "2022-11-19T07:36:19.686229",
     "status": "completed"
    },
    "tags": []
   },
   "outputs": [
    {
     "data": {
      "image/png": "[encoded data removed]",
      "text/plain": [
       "<Figure size 360x216 with 1 Axes>"
      ]
     },
     "metadata": {
      "needs_background": "light"
     },
     "output_type": "display_data"
    }
   ],
   "source": [
    "%matplotlib inline\n",
    "import numpy as np\n",
    "import matplotlib.pyplot as plt\n",
    "\n",
    "# the histogram of the data\n",
    "labels = train_df['emotion'].unique()\n",
    "post_total = len(train_df)\n",
    "df1 = train_df.groupby(['emotion']).count()['text']\n",
    "df1 = df1.apply(lambda x: round(x*100/post_total,3))\n",
    "\n",
    "#plot\n",
    "fig, ax = plt.subplots(figsize=(5,3))\n",
    "plt.bar(df1.index,df1.values)\n",
    "\n",
    "#arrange\n",
    "plt.ylabel('% of instances')\n",
    "plt.xlabel('Emotion')\n",
    "plt.title('Emotion distribution')\n",
    "plt.grid(True)\n",
    "plt.show()"
   ]
  },
  {
   "cell_type": "markdown",
   "id": "34134881",
   "metadata": {
    "id": "B_jGcireYTpo",
    "papermill": {
     "duration": 0.021417,
     "end_time": "2022-11-19T07:36:19.918482",
     "exception": false,
     "start_time": "2022-11-19T07:36:19.897065",
     "status": "completed"
    },
    "tags": []
   },
   "source": [
    "---"
   ]
  },
  {
   "cell_type": "markdown",
   "id": "f0babc74",
   "metadata": {
    "id": "hgHvhTJuYTpo",
    "papermill": {
     "duration": 0.02254,
     "end_time": "2022-11-19T07:36:19.964007",
     "exception": false,
     "start_time": "2022-11-19T07:36:19.941467",
     "status": "completed"
    },
    "tags": []
   },
   "source": [
    "# 2. Feature engineering\n",
    "### Using Bag of Words\n",
    "Using scikit-learn ```CountVectorizer``` perform word frequency and use these as features to train a model.  \n",
    "http://scikit-learn.org/stable/modules/generated/sklearn.feature_extraction.text.CountVectorizer.html"
   ]
  },
  {
   "cell_type": "code",
   "execution_count": 11,
   "id": "d8de1a61",
   "metadata": {
    "execution": {
     "iopub.execute_input": "2022-11-19T07:36:20.010898Z",
     "iopub.status.busy": "2022-11-19T07:36:20.010129Z",
     "iopub.status.idle": "2022-11-19T07:36:21.087837Z",
     "shell.execute_reply": "2022-11-19T07:36:21.086978Z"
    },
    "id": "rbl89LPUYTpo",
    "papermill": {
     "duration": 1.103609,
     "end_time": "2022-11-19T07:36:21.090194",
     "exception": false,
     "start_time": "2022-11-19T07:36:19.986585",
     "status": "completed"
    },
    "tags": []
   },
   "outputs": [],
   "source": [
    "from sklearn.feature_extraction.text import CountVectorizer"
   ]
  },
  {
   "cell_type": "code",
   "execution_count": 12,
   "id": "5904a5de",
   "metadata": {
    "execution": {
     "iopub.execute_input": "2022-11-19T07:36:21.139408Z",
     "iopub.status.busy": "2022-11-19T07:36:21.138866Z",
     "iopub.status.idle": "2022-11-19T07:36:21.144605Z",
     "shell.execute_reply": "2022-11-19T07:36:21.143005Z"
    },
    "id": "Bo8_GP6qYTpo",
    "papermill": {
     "duration": 0.031913,
     "end_time": "2022-11-19T07:36:21.147108",
     "exception": false,
     "start_time": "2022-11-19T07:36:21.115195",
     "status": "completed"
    },
    "tags": []
   },
   "outputs": [],
   "source": [
    "# build analyzers (bag-of-words)\n",
    "BOW_vectorizer = CountVectorizer() "
   ]
  },
  {
   "cell_type": "code",
   "execution_count": 13,
   "id": "16b4c788",
   "metadata": {
    "execution": {
     "iopub.execute_input": "2022-11-19T07:36:21.193993Z",
     "iopub.status.busy": "2022-11-19T07:36:21.193374Z",
     "iopub.status.idle": "2022-11-19T07:36:21.316527Z",
     "shell.execute_reply": "2022-11-19T07:36:21.315596Z"
    },
    "id": "Bz_m0xn7YTpo",
    "papermill": {
     "duration": 0.149785,
     "end_time": "2022-11-19T07:36:21.318896",
     "exception": false,
     "start_time": "2022-11-19T07:36:21.169111",
     "status": "completed"
    },
    "tags": []
   },
   "outputs": [],
   "source": [
    "# 1. Learn a vocabulary dictionary of all tokens in the raw documents.\n",
    "BOW_vectorizer.fit(train_df['text'])\n",
    "\n",
    "# 2. Transform documents to document-term matrix.\n",
    "train_data_BOW_features = BOW_vectorizer.transform(train_df['text'])\n",
    "test_data_BOW_features = BOW_vectorizer.transform(test_df['text'])"
   ]
  },
  {
   "cell_type": "code",
   "execution_count": 14,
   "id": "731981b6",
   "metadata": {
    "execution": {
     "iopub.execute_input": "2022-11-19T07:36:21.364701Z",
     "iopub.status.busy": "2022-11-19T07:36:21.364340Z",
     "iopub.status.idle": "2022-11-19T07:36:21.369931Z",
     "shell.execute_reply": "2022-11-19T07:36:21.369198Z"
    },
    "id": "5cpCUVN8YTpo",
    "outputId": "c68d1f47-143e-4e56-c9bd-049c9c204e11",
    "papermill": {
     "duration": 0.030482,
     "end_time": "2022-11-19T07:36:21.371654",
     "exception": false,
     "start_time": "2022-11-19T07:36:21.341172",
     "status": "completed"
    },
    "tags": []
   },
   "outputs": [
    {
     "data": {
      "text/plain": [
       "<3613x10115 sparse matrix of type '<class 'numpy.int64'>'\n",
       "\twith 51467 stored elements in Compressed Sparse Row format>"
      ]
     },
     "execution_count": 14,
     "metadata": {},
     "output_type": "execute_result"
    }
   ],
   "source": [
    "# check the result\n",
    "train_data_BOW_features"
   ]
  },
  {
   "cell_type": "code",
   "execution_count": 15,
   "id": "f60dcf08",
   "metadata": {
    "execution": {
     "iopub.execute_input": "2022-11-19T07:36:21.417320Z",
     "iopub.status.busy": "2022-11-19T07:36:21.416685Z",
     "iopub.status.idle": "2022-11-19T07:36:21.422205Z",
     "shell.execute_reply": "2022-11-19T07:36:21.421145Z"
    },
    "id": "irGLsag-YTpo",
    "outputId": "27e90366-d681-43ef-ab5f-7c3360b1a671",
    "papermill": {
     "duration": 0.03032,
     "end_time": "2022-11-19T07:36:21.423904",
     "exception": false,
     "start_time": "2022-11-19T07:36:21.393584",
     "status": "completed"
    },
    "tags": []
   },
   "outputs": [
    {
     "data": {
      "text/plain": [
       "scipy.sparse.csr.csr_matrix"
      ]
     },
     "execution_count": 15,
     "metadata": {},
     "output_type": "execute_result"
    }
   ],
   "source": [
    "type(train_data_BOW_features)"
   ]
  },
  {
   "cell_type": "code",
   "execution_count": 16,
   "id": "b18afc6a",
   "metadata": {
    "execution": {
     "iopub.execute_input": "2022-11-19T07:36:21.470722Z",
     "iopub.status.busy": "2022-11-19T07:36:21.470077Z",
     "iopub.status.idle": "2022-11-19T07:36:21.509145Z",
     "shell.execute_reply": "2022-11-19T07:36:21.508104Z"
    },
    "id": "WqbR8KWNYTpo",
    "outputId": "50438b2b-731e-4031-8dfe-19d6c7831545",
    "papermill": {
     "duration": 0.065949,
     "end_time": "2022-11-19T07:36:21.512067",
     "exception": false,
     "start_time": "2022-11-19T07:36:21.446118",
     "status": "completed"
    },
    "scrolled": true,
    "tags": []
   },
   "outputs": [
    {
     "data": {
      "text/plain": [
       "array([[0, 0, 0, ..., 0, 0, 0],\n",
       "       [0, 0, 0, ..., 0, 0, 0],\n",
       "       [0, 0, 0, ..., 0, 0, 0],\n",
       "       ...,\n",
       "       [0, 0, 0, ..., 0, 0, 0],\n",
       "       [0, 0, 0, ..., 0, 0, 0],\n",
       "       [0, 0, 0, ..., 0, 0, 0]])"
      ]
     },
     "execution_count": 16,
     "metadata": {},
     "output_type": "execute_result"
    }
   ],
   "source": [
    "# add .toarray() to show\n",
    "train_data_BOW_features.toarray()"
   ]
  },
  {
   "cell_type": "code",
   "execution_count": 17,
   "id": "50f6760b",
   "metadata": {
    "execution": {
     "iopub.execute_input": "2022-11-19T07:36:21.558821Z",
     "iopub.status.busy": "2022-11-19T07:36:21.558419Z",
     "iopub.status.idle": "2022-11-19T07:36:21.564809Z",
     "shell.execute_reply": "2022-11-19T07:36:21.563412Z"
    },
    "id": "mL0xkGyGYTpo",
    "outputId": "c6245d02-a095-44d9-b00f-bb62936bee4a",
    "papermill": {
     "duration": 0.031722,
     "end_time": "2022-11-19T07:36:21.566682",
     "exception": false,
     "start_time": "2022-11-19T07:36:21.534960",
     "status": "completed"
    },
    "tags": []
   },
   "outputs": [
    {
     "data": {
      "text/plain": [
       "(3613, 10115)"
      ]
     },
     "execution_count": 17,
     "metadata": {},
     "output_type": "execute_result"
    }
   ],
   "source": [
    "# check the dimension\n",
    "train_data_BOW_features.shape"
   ]
  },
  {
   "cell_type": "code",
   "execution_count": 18,
   "id": "eb13d586",
   "metadata": {
    "execution": {
     "iopub.execute_input": "2022-11-19T07:36:21.613592Z",
     "iopub.status.busy": "2022-11-19T07:36:21.612975Z",
     "iopub.status.idle": "2022-11-19T07:36:21.624659Z",
     "shell.execute_reply": "2022-11-19T07:36:21.623792Z"
    },
    "id": "iyRaxyBZYTpo",
    "outputId": "f1df1307-12a0-49b7-afcb-7ad840f886ca",
    "papermill": {
     "duration": 0.037238,
     "end_time": "2022-11-19T07:36:21.626327",
     "exception": false,
     "start_time": "2022-11-19T07:36:21.589089",
     "status": "completed"
    },
    "tags": []
   },
   "outputs": [
    {
     "data": {
      "text/plain": [
       "array(['2k17', '2much', '2nd', '30', '300', '301', '30am', '30pm', '30s',\n",
       "       '31'], dtype=object)"
      ]
     },
     "execution_count": 18,
     "metadata": {},
     "output_type": "execute_result"
    }
   ],
   "source": [
    "# observe some feature names\n",
    "feature_names = BOW_vectorizer.get_feature_names_out()\n",
    "feature_names[100:110]"
   ]
  },
  {
   "cell_type": "markdown",
   "id": "fabd1c8a",
   "metadata": {
    "id": "zm00p_sxYTpo",
    "papermill": {
     "duration": 0.022238,
     "end_time": "2022-11-19T07:36:21.671208",
     "exception": false,
     "start_time": "2022-11-19T07:36:21.648970",
     "status": "completed"
    },
    "tags": []
   },
   "source": [
    " "
   ]
  },
  {
   "cell_type": "markdown",
   "id": "b2d507f3",
   "metadata": {
    "id": "roSfgQKaYTpo",
    "papermill": {
     "duration": 0.022065,
     "end_time": "2022-11-19T07:36:21.715867",
     "exception": false,
     "start_time": "2022-11-19T07:36:21.693802",
     "status": "completed"
    },
    "tags": []
   },
   "source": [
    "The embedding is done. We can technically feed this into our model. However, depending on the embedding technique you use and your model, your accuracy might not be as high, because:\n",
    "\n",
    "* curse of dimensionality  (we have 10,115 dimension now)\n",
    "* some important features are ignored (for example, some models using emoticons yeld better performance than counterparts)"
   ]
  },
  {
   "cell_type": "code",
   "execution_count": 19,
   "id": "92384575",
   "metadata": {
    "execution": {
     "iopub.execute_input": "2022-11-19T07:36:21.762471Z",
     "iopub.status.busy": "2022-11-19T07:36:21.762070Z",
     "iopub.status.idle": "2022-11-19T07:36:21.769401Z",
     "shell.execute_reply": "2022-11-19T07:36:21.767778Z"
    },
    "id": "kx4YPbrdYTpo",
    "outputId": "3d8a8808-fb86-4fe6-93b5-93ba0124f845",
    "papermill": {
     "duration": 0.032963,
     "end_time": "2022-11-19T07:36:21.771331",
     "exception": false,
     "start_time": "2022-11-19T07:36:21.738368",
     "status": "completed"
    },
    "tags": []
   },
   "outputs": [
    {
     "data": {
      "text/plain": [
       "False"
      ]
     },
     "execution_count": 19,
     "metadata": {},
     "output_type": "execute_result"
    }
   ],
   "source": [
    "\"😂\" in feature_names"
   ]
  },
  {
   "cell_type": "markdown",
   "id": "533608d3",
   "metadata": {
    "id": "0MFzyA95YTpo",
    "papermill": {
     "duration": 0.022353,
     "end_time": "2022-11-19T07:36:21.816739",
     "exception": false,
     "start_time": "2022-11-19T07:36:21.794386",
     "status": "completed"
    },
    "tags": []
   },
   "source": [
    "Let's try using another tokenizer below."
   ]
  },
  {
   "cell_type": "code",
   "execution_count": 20,
   "id": "e0340ffa",
   "metadata": {
    "execution": {
     "iopub.execute_input": "2022-11-19T07:36:21.863658Z",
     "iopub.status.busy": "2022-11-19T07:36:21.862994Z",
     "iopub.status.idle": "2022-11-19T07:36:23.953431Z",
     "shell.execute_reply": "2022-11-19T07:36:23.952199Z"
    },
    "id": "SttodxACYTpo",
    "outputId": "11fe3750-22b7-45bf-c15f-586d74c35c13",
    "papermill": {
     "duration": 2.116795,
     "end_time": "2022-11-19T07:36:23.956010",
     "exception": false,
     "start_time": "2022-11-19T07:36:21.839215",
     "status": "completed"
    },
    "tags": []
   },
   "outputs": [
    {
     "name": "stderr",
     "output_type": "stream",
     "text": [
      "/opt/conda/lib/python3.7/site-packages/sklearn/feature_extraction/text.py:517: UserWarning: The parameter 'token_pattern' will not be used since 'tokenizer' is not None'\n",
      "  \"The parameter 'token_pattern' will not be used\"\n"
     ]
    },
    {
     "data": {
      "text/plain": [
       "(3613, 500)"
      ]
     },
     "execution_count": 20,
     "metadata": {},
     "output_type": "execute_result"
    }
   ],
   "source": [
    "import nltk\n",
    "\n",
    "# build analyzers (bag-of-words)\n",
    "BOW_500 = CountVectorizer(max_features=500, tokenizer=nltk.word_tokenize) \n",
    "\n",
    "# apply analyzer to training data\n",
    "BOW_500.fit(train_df['text'])\n",
    "\n",
    "train_data_BOW_features_500 = BOW_500.transform(train_df['text'])\n",
    "\n",
    "## check dimension\n",
    "train_data_BOW_features_500.shape"
   ]
  },
  {
   "cell_type": "code",
   "execution_count": 21,
   "id": "8f38049d",
   "metadata": {
    "execution": {
     "iopub.execute_input": "2022-11-19T07:36:24.006110Z",
     "iopub.status.busy": "2022-11-19T07:36:24.005710Z",
     "iopub.status.idle": "2022-11-19T07:36:24.017267Z",
     "shell.execute_reply": "2022-11-19T07:36:24.016358Z"
    },
    "id": "sPi42W0pYTpo",
    "outputId": "54682edb-fa13-4292-fa48-ae81cd08b14f",
    "papermill": {
     "duration": 0.04002,
     "end_time": "2022-11-19T07:36:24.019453",
     "exception": false,
     "start_time": "2022-11-19T07:36:23.979433",
     "status": "completed"
    },
    "tags": []
   },
   "outputs": [
    {
     "data": {
      "text/plain": [
       "array([[0, 1, 0, ..., 0, 0, 0],\n",
       "       [0, 0, 0, ..., 0, 0, 0],\n",
       "       [0, 0, 0, ..., 0, 0, 0],\n",
       "       ...,\n",
       "       [1, 0, 0, ..., 0, 0, 0],\n",
       "       [0, 0, 0, ..., 0, 0, 0],\n",
       "       [0, 2, 0, ..., 0, 0, 0]])"
      ]
     },
     "execution_count": 21,
     "metadata": {},
     "output_type": "execute_result"
    }
   ],
   "source": [
    "train_data_BOW_features_500.toarray()"
   ]
  },
  {
   "cell_type": "code",
   "execution_count": 22,
   "id": "eecc5f2d",
   "metadata": {
    "execution": {
     "iopub.execute_input": "2022-11-19T07:36:24.068856Z",
     "iopub.status.busy": "2022-11-19T07:36:24.067661Z",
     "iopub.status.idle": "2022-11-19T07:36:24.075966Z",
     "shell.execute_reply": "2022-11-19T07:36:24.074713Z"
    },
    "id": "JCgAnTOfYTpo",
    "outputId": "bba03b17-8ca5-4942-a78f-df389c70cd1f",
    "papermill": {
     "duration": 0.035025,
     "end_time": "2022-11-19T07:36:24.078149",
     "exception": false,
     "start_time": "2022-11-19T07:36:24.043124",
     "status": "completed"
    },
    "tags": []
   },
   "outputs": [
    {
     "data": {
      "text/plain": [
       "array(['change', 'cheer', 'cheerful', 'cheerfully', 'cheering', 'cheery',\n",
       "       'come', 'comes', 'could', 'country'], dtype=object)"
      ]
     },
     "execution_count": 22,
     "metadata": {},
     "output_type": "execute_result"
    }
   ],
   "source": [
    "# observe some feature names\n",
    "feature_names_500 = BOW_500.get_feature_names_out()\n",
    "feature_names_500[100:110]"
   ]
  },
  {
   "cell_type": "code",
   "execution_count": 23,
   "id": "d857f487",
   "metadata": {
    "execution": {
     "iopub.execute_input": "2022-11-19T07:36:24.127592Z",
     "iopub.status.busy": "2022-11-19T07:36:24.127182Z",
     "iopub.status.idle": "2022-11-19T07:36:24.133402Z",
     "shell.execute_reply": "2022-11-19T07:36:24.132602Z"
    },
    "id": "ubgedNi4YTpo",
    "outputId": "d4c8c862-7507-497c-fc76-a2730996bb40",
    "papermill": {
     "duration": 0.033176,
     "end_time": "2022-11-19T07:36:24.135183",
     "exception": false,
     "start_time": "2022-11-19T07:36:24.102007",
     "status": "completed"
    },
    "tags": []
   },
   "outputs": [
    {
     "data": {
      "text/plain": [
       "True"
      ]
     },
     "execution_count": 23,
     "metadata": {},
     "output_type": "execute_result"
    }
   ],
   "source": [
    "\"😂\" in feature_names_500"
   ]
  },
  {
   "cell_type": "markdown",
   "id": "a7e4125d",
   "metadata": {
    "id": "fj6TV4ngYTpo",
    "papermill": {
     "duration": 0.022711,
     "end_time": "2022-11-19T07:36:24.181307",
     "exception": false,
     "start_time": "2022-11-19T07:36:24.158596",
     "status": "completed"
    },
    "tags": []
   },
   "source": [
    "---\n",
    "### ** >>> Exercise 2 (Take home): **  \n",
    "Generate an embedding using the TF-IDF vectorizer instead of th BOW one with 1000 features and show the feature names for features [100:110]."
   ]
  },
  {
   "cell_type": "code",
   "execution_count": 24,
   "id": "f69f6db6",
   "metadata": {
    "execution": {
     "iopub.execute_input": "2022-11-19T07:36:24.229679Z",
     "iopub.status.busy": "2022-11-19T07:36:24.228982Z",
     "iopub.status.idle": "2022-11-19T07:36:24.233037Z",
     "shell.execute_reply": "2022-11-19T07:36:24.231949Z"
    },
    "id": "BOjVbgmxYTpo",
    "papermill": {
     "duration": 0.03072,
     "end_time": "2022-11-19T07:36:24.235348",
     "exception": false,
     "start_time": "2022-11-19T07:36:24.204628",
     "status": "completed"
    },
    "tags": []
   },
   "outputs": [],
   "source": [
    "# Answer here\n"
   ]
  },
  {
   "cell_type": "markdown",
   "id": "5605a72d",
   "metadata": {
    "id": "e0BvbNAVYTpo",
    "papermill": {
     "duration": 0.022801,
     "end_time": "2022-11-19T07:36:24.281500",
     "exception": false,
     "start_time": "2022-11-19T07:36:24.258699",
     "status": "completed"
    },
    "tags": []
   },
   "source": [
    "---\n",
    "# 3. Model\n",
    "### 3.1 Decision Trees\n",
    "Using scikit-learn ```DecisionTreeClassifier``` performs word frequency and uses these as features to train a model.  \n",
    "http://scikit-learn.org/stable/modules/generated/sklearn.tree.DecisionTreeClassifier.html#sklearn.tree.DecisionTreeClassifier"
   ]
  },
  {
   "cell_type": "code",
   "execution_count": 25,
   "id": "df2699cd",
   "metadata": {
    "execution": {
     "iopub.execute_input": "2022-11-19T07:36:24.330133Z",
     "iopub.status.busy": "2022-11-19T07:36:24.329596Z",
     "iopub.status.idle": "2022-11-19T07:36:25.209327Z",
     "shell.execute_reply": "2022-11-19T07:36:25.208369Z"
    },
    "id": "SD0rMWKgYTpo",
    "outputId": "36873985-dd8e-40ac-8ff8-f297a21f69db",
    "papermill": {
     "duration": 0.906881,
     "end_time": "2022-11-19T07:36:25.211737",
     "exception": false,
     "start_time": "2022-11-19T07:36:24.304856",
     "status": "completed"
    },
    "tags": []
   },
   "outputs": [
    {
     "name": "stdout",
     "output_type": "stream",
     "text": [
      "X_train.shape:  (3613, 500)\n",
      "y_train.shape:  (3613,)\n",
      "X_test.shape:  (347, 500)\n",
      "y_test.shape:  (347,)\n"
     ]
    }
   ],
   "source": [
    "from sklearn.tree import DecisionTreeClassifier\n",
    "\n",
    "# for a classificaiton problem, you need to provide both training & testing data\n",
    "X_train = BOW_500.transform(train_df['text'])\n",
    "y_train = train_df['emotion']\n",
    "\n",
    "X_test = BOW_500.transform(test_df['text'])\n",
    "y_test = test_df['emotion']\n",
    "\n",
    "## take a look at data dimension is a good habbit  :)\n",
    "print('X_train.shape: ', X_train.shape)\n",
    "print('y_train.shape: ', y_train.shape)\n",
    "print('X_test.shape: ', X_test.shape)\n",
    "print('y_test.shape: ', y_test.shape)"
   ]
  },
  {
   "cell_type": "code",
   "execution_count": 26,
   "id": "0fd9c1ec",
   "metadata": {
    "execution": {
     "iopub.execute_input": "2022-11-19T07:36:25.261229Z",
     "iopub.status.busy": "2022-11-19T07:36:25.260368Z",
     "iopub.status.idle": "2022-11-19T07:36:25.452554Z",
     "shell.execute_reply": "2022-11-19T07:36:25.451720Z"
    },
    "id": "iDuvLf7TYTpo",
    "outputId": "892ea486-fe16-49fc-a57a-b507924d9549",
    "papermill": {
     "duration": 0.218758,
     "end_time": "2022-11-19T07:36:25.454334",
     "exception": false,
     "start_time": "2022-11-19T07:36:25.235576",
     "status": "completed"
    },
    "tags": []
   },
   "outputs": [
    {
     "data": {
      "text/plain": [
       "array(['fear', 'fear', 'fear', 'fear', 'fear', 'joy', 'anger', 'anger',\n",
       "       'fear', 'fear'], dtype=object)"
      ]
     },
     "execution_count": 26,
     "metadata": {},
     "output_type": "execute_result"
    }
   ],
   "source": [
    "## build DecisionTree model\n",
    "DT_model = DecisionTreeClassifier(random_state=0)\n",
    "\n",
    "## training!\n",
    "DT_model = DT_model.fit(X_train, y_train)\n",
    "\n",
    "## predict!\n",
    "y_train_pred = DT_model.predict(X_train)\n",
    "y_test_pred = DT_model.predict(X_test)\n",
    "\n",
    "## so we get the pred result\n",
    "y_test_pred[:10]"
   ]
  },
  {
   "cell_type": "markdown",
   "id": "e7ead84f",
   "metadata": {
    "id": "zqZHlDjxYTpo",
    "papermill": {
     "duration": 0.02346,
     "end_time": "2022-11-19T07:36:25.501520",
     "exception": false,
     "start_time": "2022-11-19T07:36:25.478060",
     "status": "completed"
    },
    "tags": []
   },
   "source": [
    " "
   ]
  },
  {
   "cell_type": "markdown",
   "id": "c24b5840",
   "metadata": {
    "id": "iBNmBT50YTpo",
    "papermill": {
     "duration": 0.025991,
     "end_time": "2022-11-19T07:36:25.554379",
     "exception": false,
     "start_time": "2022-11-19T07:36:25.528388",
     "status": "completed"
    },
    "tags": []
   },
   "source": [
    "---\n",
    "# 4. Results Evaluation"
   ]
  },
  {
   "cell_type": "markdown",
   "id": "cbeb0ca9",
   "metadata": {
    "id": "-gQU_PbhYTpo",
    "papermill": {
     "duration": 0.024106,
     "end_time": "2022-11-19T07:36:25.602631",
     "exception": false,
     "start_time": "2022-11-19T07:36:25.578525",
     "status": "completed"
    },
    "tags": []
   },
   "source": [
    "Now we will check the results of our model's performance"
   ]
  },
  {
   "cell_type": "code",
   "execution_count": 27,
   "id": "6939584c",
   "metadata": {
    "execution": {
     "iopub.execute_input": "2022-11-19T07:36:25.658555Z",
     "iopub.status.busy": "2022-11-19T07:36:25.657380Z",
     "iopub.status.idle": "2022-11-19T07:36:25.668199Z",
     "shell.execute_reply": "2022-11-19T07:36:25.667477Z"
    },
    "id": "A9yx3tv-YTpo",
    "outputId": "0b1e4f04-d7a5-4e0d-8351-66c2b802cc42",
    "papermill": {
     "duration": 0.039477,
     "end_time": "2022-11-19T07:36:25.670403",
     "exception": false,
     "start_time": "2022-11-19T07:36:25.630926",
     "status": "completed"
    },
    "tags": []
   },
   "outputs": [
    {
     "name": "stdout",
     "output_type": "stream",
     "text": [
      "training accuracy: 0.99\n",
      "testing accuracy: 0.66\n"
     ]
    }
   ],
   "source": [
    "## accuracy\n",
    "from sklearn.metrics import accuracy_score\n",
    "\n",
    "acc_train = accuracy_score(y_true=y_train, y_pred=y_train_pred)\n",
    "acc_test = accuracy_score(y_true=y_test, y_pred=y_test_pred)\n",
    "\n",
    "print('training accuracy: {}'.format(round(acc_train, 2)))\n",
    "print('testing accuracy: {}'.format(round(acc_test, 2)))\n"
   ]
  },
  {
   "cell_type": "code",
   "execution_count": 28,
   "id": "7bf8ba9e",
   "metadata": {
    "execution": {
     "iopub.execute_input": "2022-11-19T07:36:25.720574Z",
     "iopub.status.busy": "2022-11-19T07:36:25.719939Z",
     "iopub.status.idle": "2022-11-19T07:36:25.736684Z",
     "shell.execute_reply": "2022-11-19T07:36:25.735848Z"
    },
    "id": "-wkOqjqiYTpo",
    "outputId": "f0538316-514a-4894-fb0f-ccc73204f598",
    "papermill": {
     "duration": 0.043974,
     "end_time": "2022-11-19T07:36:25.738484",
     "exception": false,
     "start_time": "2022-11-19T07:36:25.694510",
     "status": "completed"
    },
    "tags": []
   },
   "outputs": [
    {
     "name": "stdout",
     "output_type": "stream",
     "text": [
      "              precision    recall  f1-score   support\n",
      "\n",
      "       anger       0.63      0.65      0.64        84\n",
      "        fear       0.66      0.69      0.68       110\n",
      "         joy       0.70      0.68      0.69        79\n",
      "     sadness       0.65      0.59      0.62        74\n",
      "\n",
      "    accuracy                           0.66       347\n",
      "   macro avg       0.66      0.66      0.66       347\n",
      "weighted avg       0.66      0.66      0.66       347\n",
      "\n"
     ]
    }
   ],
   "source": [
    "## precision, recall, f1-score,\n",
    "from sklearn.metrics import classification_report\n",
    "\n",
    "print(classification_report(y_true=y_test, y_pred=y_test_pred))"
   ]
  },
  {
   "cell_type": "code",
   "execution_count": 29,
   "id": "d0b3e51d",
   "metadata": {
    "execution": {
     "iopub.execute_input": "2022-11-19T07:36:25.787407Z",
     "iopub.status.busy": "2022-11-19T07:36:25.786695Z",
     "iopub.status.idle": "2022-11-19T07:36:25.796377Z",
     "shell.execute_reply": "2022-11-19T07:36:25.795026Z"
    },
    "id": "N6mhrmKHYTpo",
    "outputId": "30efb505-d5e0-41f6-e72a-05302135a4db",
    "papermill": {
     "duration": 0.036797,
     "end_time": "2022-11-19T07:36:25.798635",
     "exception": false,
     "start_time": "2022-11-19T07:36:25.761838",
     "status": "completed"
    },
    "tags": []
   },
   "outputs": [
    {
     "name": "stdout",
     "output_type": "stream",
     "text": [
      "[[55 20  5  4]\n",
      " [16 76  8 10]\n",
      " [ 7  8 54 10]\n",
      " [ 9 11 10 44]]\n"
     ]
    }
   ],
   "source": [
    "## check by confusion matrix\n",
    "from sklearn.metrics import confusion_matrix\n",
    "\n",
    "cm = confusion_matrix(y_true=y_test, y_pred=y_test_pred) \n",
    "print(cm)"
   ]
  },
  {
   "cell_type": "code",
   "execution_count": 30,
   "id": "c995ffc5",
   "metadata": {
    "execution": {
     "iopub.execute_input": "2022-11-19T07:36:25.847937Z",
     "iopub.status.busy": "2022-11-19T07:36:25.847552Z",
     "iopub.status.idle": "2022-11-19T07:36:26.027224Z",
     "shell.execute_reply": "2022-11-19T07:36:26.025910Z"
    },
    "id": "-TcX8NA5YTpo",
    "papermill": {
     "duration": 0.206773,
     "end_time": "2022-11-19T07:36:26.029564",
     "exception": false,
     "start_time": "2022-11-19T07:36:25.822791",
     "status": "completed"
    },
    "tags": []
   },
   "outputs": [],
   "source": [
    "# Funciton for visualizing confusion_matrix\n",
    "import matplotlib.pyplot as plt\n",
    "import seaborn as sns\n",
    "import numpy as np\n",
    "import itertools\n",
    "\n",
    "def plot_confusion_matrix(cm, classes, title='Confusion matrix',\n",
    "                          cmap=sns.cubehelix_palette(as_cmap=True)):\n",
    "    \"\"\"\n",
    "    This function is modified from: \n",
    "    http://scikit-learn.org/stable/auto_examples/model_selection/plot_confusion_matrix.html\n",
    "    \"\"\"\n",
    "    classes.sort()\n",
    "    tick_marks = np.arange(len(classes))    \n",
    "    \n",
    "    fig, ax = plt.subplots(figsize=(5,5))\n",
    "    im = ax.imshow(cm, interpolation='nearest', cmap=cmap)\n",
    "    ax.figure.colorbar(im, ax=ax)\n",
    "    ax.set(xticks=np.arange(cm.shape[1]),\n",
    "           yticks=np.arange(cm.shape[0]),\n",
    "           xticklabels = classes,\n",
    "           yticklabels = classes,\n",
    "           title = title,\n",
    "           xlabel = 'True label',\n",
    "           ylabel = 'Predicted label')\n",
    "\n",
    "    fmt = 'd'\n",
    "    thresh = cm.max() / 2.\n",
    "    for i, j in itertools.product(range(cm.shape[0]), range(cm.shape[1])):\n",
    "        plt.text(j, i, format(cm[i, j], fmt), horizontalalignment=\"center\", color=\"white\" if cm[i, j] > thresh else \"black\")\n",
    "    ylim_top = len(classes) - 0.5\n",
    "    plt.ylim([ylim_top, -.5])\n",
    "    plt.tight_layout()\n",
    "    plt.show()"
   ]
  },
  {
   "cell_type": "code",
   "execution_count": 31,
   "id": "1ebb86f9",
   "metadata": {
    "execution": {
     "iopub.execute_input": "2022-11-19T07:36:26.077731Z",
     "iopub.status.busy": "2022-11-19T07:36:26.077380Z",
     "iopub.status.idle": "2022-11-19T07:36:26.289645Z",
     "shell.execute_reply": "2022-11-19T07:36:26.288346Z"
    },
    "id": "1nBVOUpDYTpo",
    "outputId": "7f99188c-1f03-462e-971e-0c8238f4f0d7",
    "papermill": {
     "duration": 0.238765,
     "end_time": "2022-11-19T07:36:26.291897",
     "exception": false,
     "start_time": "2022-11-19T07:36:26.053132",
     "status": "completed"
    },
    "tags": []
   },
   "outputs": [
    {
     "data": {
      "image/png": "[encoded data removed]",
      "text/plain": [
       "<Figure size 360x360 with 2 Axes>"
      ]
     },
     "metadata": {
      "needs_background": "light"
     },
     "output_type": "display_data"
    }
   ],
   "source": [
    "# plot your confusion matrix\n",
    "my_tags = ['anger', 'fear', 'joy', 'sadness']\n",
    "plot_confusion_matrix(cm, classes=my_tags, title='Confusion matrix')"
   ]
  },
  {
   "cell_type": "markdown",
   "id": "adbb09fd",
   "metadata": {
    "id": "l743vmwgYTpo",
    "papermill": {
     "duration": 0.023278,
     "end_time": "2022-11-19T07:36:26.339118",
     "exception": false,
     "start_time": "2022-11-19T07:36:26.315840",
     "status": "completed"
    },
    "tags": []
   },
   "source": [
    "---\n",
    "### ** >>> Exercise 3 (Take home): **  \n",
    "Can you interpret the results above? What do they mean?"
   ]
  },
  {
   "cell_type": "code",
   "execution_count": 32,
   "id": "88e3ad01",
   "metadata": {
    "execution": {
     "iopub.execute_input": "2022-11-19T07:36:26.388067Z",
     "iopub.status.busy": "2022-11-19T07:36:26.387736Z",
     "iopub.status.idle": "2022-11-19T07:36:26.392607Z",
     "shell.execute_reply": "2022-11-19T07:36:26.391354Z"
    },
    "id": "8pYICOxsYTpo",
    "papermill": {
     "duration": 0.03236,
     "end_time": "2022-11-19T07:36:26.395235",
     "exception": false,
     "start_time": "2022-11-19T07:36:26.362875",
     "status": "completed"
    },
    "tags": []
   },
   "outputs": [],
   "source": [
    "# Answer here\n"
   ]
  },
  {
   "cell_type": "markdown",
   "id": "85c07544",
   "metadata": {
    "id": "GaHpgl87YTpo",
    "papermill": {
     "duration": 0.024242,
     "end_time": "2022-11-19T07:36:26.443699",
     "exception": false,
     "start_time": "2022-11-19T07:36:26.419457",
     "status": "completed"
    },
    "tags": []
   },
   "source": [
    "---\n",
    "### ** >>> Exercise 4 (Take home): **  \n",
    "Build a model using a ```Naive Bayes``` model and train it. What are the testing results? \n",
    "\n",
    "*Reference*: https://scikit-learn.org/stable/modules/generated/sklearn.naive_bayes.MultinomialNB.html"
   ]
  },
  {
   "cell_type": "code",
   "execution_count": 33,
   "id": "14484b15",
   "metadata": {
    "execution": {
     "iopub.execute_input": "2022-11-19T07:36:26.494175Z",
     "iopub.status.busy": "2022-11-19T07:36:26.493766Z",
     "iopub.status.idle": "2022-11-19T07:36:26.497655Z",
     "shell.execute_reply": "2022-11-19T07:36:26.496848Z"
    },
    "id": "ZPvaHzpXYTpo",
    "papermill": {
     "duration": 0.031603,
     "end_time": "2022-11-19T07:36:26.499697",
     "exception": false,
     "start_time": "2022-11-19T07:36:26.468094",
     "status": "completed"
    },
    "tags": []
   },
   "outputs": [],
   "source": [
    "# Answer here\n"
   ]
  },
  {
   "cell_type": "markdown",
   "id": "5ecdee83",
   "metadata": {
    "id": "Xv2DqWQSYTpo",
    "papermill": {
     "duration": 0.024008,
     "end_time": "2022-11-19T07:36:26.547843",
     "exception": false,
     "start_time": "2022-11-19T07:36:26.523835",
     "status": "completed"
    },
    "tags": []
   },
   "source": [
    "---\n",
    "### ** >>> Exercise 5 (Take home): **  \n",
    "\n",
    "How do the results from the Naive Bayes model and the Decision Tree model compare? How do you interpret these differences? Use the theoretical background covered in class to try and explain these differences."
   ]
  },
  {
   "cell_type": "code",
   "execution_count": 34,
   "id": "e22aec70",
   "metadata": {
    "execution": {
     "iopub.execute_input": "2022-11-19T07:36:26.597854Z",
     "iopub.status.busy": "2022-11-19T07:36:26.597447Z",
     "iopub.status.idle": "2022-11-19T07:36:26.601134Z",
     "shell.execute_reply": "2022-11-19T07:36:26.600322Z"
    },
    "id": "ALN_jHdlYTpo",
    "papermill": {
     "duration": 0.031383,
     "end_time": "2022-11-19T07:36:26.603016",
     "exception": false,
     "start_time": "2022-11-19T07:36:26.571633",
     "status": "completed"
    },
    "tags": []
   },
   "outputs": [],
   "source": [
    "# Answer here\n"
   ]
  },
  {
   "cell_type": "markdown",
   "id": "5cea9233",
   "metadata": {
    "id": "ehlJ60lhYTpo",
    "papermill": {
     "duration": 0.02421,
     "end_time": "2022-11-19T07:36:26.651196",
     "exception": false,
     "start_time": "2022-11-19T07:36:26.626986",
     "status": "completed"
    },
    "tags": []
   },
   "source": [
    "---"
   ]
  },
  {
   "cell_type": "markdown",
   "id": "277d398a",
   "metadata": {
    "id": "79F_DaW-YTpo",
    "papermill": {
     "duration": 0.024294,
     "end_time": "2022-11-19T07:36:26.700316",
     "exception": false,
     "start_time": "2022-11-19T07:36:26.676022",
     "status": "completed"
    },
    "tags": []
   },
   "source": [
    "## 5. Other things you can try"
   ]
  },
  {
   "cell_type": "markdown",
   "id": "5f5d395c",
   "metadata": {
    "id": "_oeqpRu6YTpo",
    "papermill": {
     "duration": 0.02367,
     "end_time": "2022-11-19T07:36:26.748661",
     "exception": false,
     "start_time": "2022-11-19T07:36:26.724991",
     "status": "completed"
    },
    "tags": []
   },
   "source": [
    "Thus, there are several things you can try that will affect your results. In order to yield better results, you can experiment by: \n",
    "- Trying different features (Feature engineering), such as: Word2Vec,PCA,LDA,FastText, Clustering\n",
    "- Trying different models\n",
    "- Analyzing your results and interpret them to improve your feature engineering/model building process\n",
    "- Iterate through the steps above until finding a satisfying result\n",
    "Remember that you should also consider the task at hand and the model you'll feed the data to. "
   ]
  },
  {
   "cell_type": "markdown",
   "id": "c3deed41",
   "metadata": {
    "id": "fiGUSmPLYTpo",
    "papermill": {
     "duration": 0.023293,
     "end_time": "2022-11-19T07:36:26.795526",
     "exception": false,
     "start_time": "2022-11-19T07:36:26.772233",
     "status": "completed"
    },
    "tags": []
   },
   "source": [
    "---\n",
    "# 6. Deep Learning\n",
    "\n",
    "We use [Keras](https://keras.io/) to be our deep learning framwork, and follow the [Model (functional API)](https://keras.io/models/model/) to build a Deep Neural Network (DNN) model. Keras runs with Tensorflow in the backend. It's a nice abstraction to start working with NN models. \n",
    "\n",
    "Because Deep Learning is a 1-semester course, we can't talk about each detail about it in the lab session. Here, we only provide a simple template about how to build & run a DL model successfully. You can follow this template to design your model.\n",
    "\n",
    "We will begin by building a fully connected network, which looks like this:"
   ]
  },
  {
   "cell_type": "markdown",
   "id": "134100c5",
   "metadata": {
    "id": "1nB0BTq2YTpo",
    "papermill": {
     "duration": 0.023821,
     "end_time": "2022-11-19T07:36:26.843168",
     "exception": false,
     "start_time": "2022-11-19T07:36:26.819347",
     "status": "completed"
    },
    "tags": []
   },
   "source": [
    "![image.png](https://raw.githubusercontent.com/keziatamus/DM2022-Lab2-Master/08755efc671824064d7a9347edb8c418550c3e83//pics/pic1.png)"
   ]
  },
  {
   "cell_type": "markdown",
   "id": "836be450",
   "metadata": {
    "id": "-EtVRGhNYTpo",
    "papermill": {
     "duration": 0.023188,
     "end_time": "2022-11-19T07:36:26.890192",
     "exception": false,
     "start_time": "2022-11-19T07:36:26.867004",
     "status": "completed"
    },
    "tags": []
   },
   "source": [
    "### 6.1 Prepare data (X, y)"
   ]
  },
  {
   "cell_type": "code",
   "execution_count": 35,
   "id": "bf2d4df2",
   "metadata": {
    "execution": {
     "iopub.execute_input": "2022-11-19T07:36:26.939346Z",
     "iopub.status.busy": "2022-11-19T07:36:26.938978Z",
     "iopub.status.idle": "2022-11-19T07:36:33.867156Z",
     "shell.execute_reply": "2022-11-19T07:36:33.865784Z"
    },
    "id": "4mIdg2D6YTpo",
    "outputId": "8f4fa078-7e07-4b76-e5ee-163d123abde3",
    "papermill": {
     "duration": 6.955796,
     "end_time": "2022-11-19T07:36:33.869765",
     "exception": false,
     "start_time": "2022-11-19T07:36:26.913969",
     "status": "completed"
    },
    "tags": []
   },
   "outputs": [
    {
     "name": "stdout",
     "output_type": "stream",
     "text": [
      "X_train.shape:  (3613, 500)\n",
      "y_train.shape:  (3613,)\n",
      "X_test.shape:  (347, 500)\n",
      "y_test.shape:  (347,)\n"
     ]
    }
   ],
   "source": [
    "import keras\n",
    "\n",
    "# standardize name (X, y) \n",
    "X_train = BOW_500.transform(train_df['text'])\n",
    "y_train = train_df['emotion']\n",
    "\n",
    "X_test = BOW_500.transform(test_df['text'])\n",
    "y_test = test_df['emotion']\n",
    "\n",
    "## check dimension is a good habbit \n",
    "print('X_train.shape: ', X_train.shape)\n",
    "print('y_train.shape: ', y_train.shape)\n",
    "print('X_test.shape: ', X_test.shape)\n",
    "print('y_test.shape: ', y_test.shape)"
   ]
  },
  {
   "cell_type": "markdown",
   "id": "d38bb751",
   "metadata": {
    "id": "iBZZedZ2YTpo",
    "papermill": {
     "duration": 0.024821,
     "end_time": "2022-11-19T07:36:33.919505",
     "exception": false,
     "start_time": "2022-11-19T07:36:33.894684",
     "status": "completed"
    },
    "tags": []
   },
   "source": [
    "### 6.2 Deal with categorical label (y)\n",
    "\n",
    "Rather than put your label `train_df['emotion']` directly into a model, we have to process these categorical (or say nominal) label by ourselves. \n",
    "\n",
    "Here, we use the basic method [one-hot encoding](https://en.wikipedia.org/wiki/One-hot) to transform our categorical  labels to numerical ones.\n"
   ]
  },
  {
   "cell_type": "code",
   "execution_count": 36,
   "id": "a18f7df5",
   "metadata": {
    "execution": {
     "iopub.execute_input": "2022-11-19T07:36:33.971308Z",
     "iopub.status.busy": "2022-11-19T07:36:33.970121Z",
     "iopub.status.idle": "2022-11-19T07:36:33.983365Z",
     "shell.execute_reply": "2022-11-19T07:36:33.981782Z"
    },
    "id": "SU95MCsSYTpo",
    "outputId": "7f536cfa-8eda-4c04-bbbb-f35caa203f88",
    "papermill": {
     "duration": 0.041182,
     "end_time": "2022-11-19T07:36:33.985263",
     "exception": false,
     "start_time": "2022-11-19T07:36:33.944081",
     "status": "completed"
    },
    "tags": []
   },
   "outputs": [
    {
     "name": "stdout",
     "output_type": "stream",
     "text": [
      "check label:  ['anger' 'fear' 'joy' 'sadness']\n",
      "\n",
      "## Before convert\n",
      "y_train[0:4]:\n",
      " 47        anger\n",
      "2693        joy\n",
      "1800       fear\n",
      "3450    sadness\n",
      "Name: emotion, dtype: object\n",
      "\n",
      "y_train.shape:  (3613,)\n",
      "y_test.shape:  (347,)\n",
      "\n",
      "\n",
      "## After convert\n",
      "y_train[0:4]:\n",
      " [[1. 0. 0. 0.]\n",
      " [0. 0. 1. 0.]\n",
      " [0. 1. 0. 0.]\n",
      " [0. 0. 0. 1.]]\n",
      "\n",
      "y_train.shape:  (3613, 4)\n",
      "y_test.shape:  (347, 4)\n"
     ]
    }
   ],
   "source": [
    "## deal with label (string -> one-hot)\n",
    "\n",
    "from sklearn.preprocessing import LabelEncoder\n",
    "from keras.utils import np_utils\n",
    "\n",
    "label_encoder = LabelEncoder()\n",
    "label_encoder.fit(y_train)\n",
    "print('check label: ', label_encoder.classes_)\n",
    "print('\\n## Before convert')\n",
    "print('y_train[0:4]:\\n', y_train[0:4])\n",
    "print('\\ny_train.shape: ', y_train.shape)\n",
    "print('y_test.shape: ', y_test.shape)\n",
    "\n",
    "def label_encode(le, labels):\n",
    "    enc = le.transform(labels)\n",
    "    return np_utils.to_categorical(enc)\n",
    "\n",
    "def label_decode(le, one_hot_label):\n",
    "    dec = np.argmax(one_hot_label, axis=1)\n",
    "    return le.inverse_transform(dec)\n",
    "\n",
    "y_train = label_encode(label_encoder, y_train)\n",
    "y_test = label_encode(label_encoder, y_test)\n",
    "\n",
    "print('\\n\\n## After convert')\n",
    "print('y_train[0:4]:\\n', y_train[0:4])\n",
    "print('\\ny_train.shape: ', y_train.shape)\n",
    "print('y_test.shape: ', y_test.shape)\n"
   ]
  },
  {
   "cell_type": "markdown",
   "id": "75469fb3",
   "metadata": {
    "id": "W4bqEcMbYTpo",
    "papermill": {
     "duration": 0.023555,
     "end_time": "2022-11-19T07:36:34.032587",
     "exception": false,
     "start_time": "2022-11-19T07:36:34.009032",
     "status": "completed"
    },
    "tags": []
   },
   "source": [
    "### 6.3 Build model"
   ]
  },
  {
   "cell_type": "code",
   "execution_count": 37,
   "id": "132ff8d2",
   "metadata": {
    "execution": {
     "iopub.execute_input": "2022-11-19T07:36:34.081522Z",
     "iopub.status.busy": "2022-11-19T07:36:34.081116Z",
     "iopub.status.idle": "2022-11-19T07:36:34.087963Z",
     "shell.execute_reply": "2022-11-19T07:36:34.086722Z"
    },
    "id": "6sA7cx-oYTpo",
    "outputId": "9f544ca7-8ceb-45e4-a76d-bdc8ccdb329c",
    "papermill": {
     "duration": 0.033559,
     "end_time": "2022-11-19T07:36:34.089949",
     "exception": false,
     "start_time": "2022-11-19T07:36:34.056390",
     "status": "completed"
    },
    "tags": []
   },
   "outputs": [
    {
     "name": "stdout",
     "output_type": "stream",
     "text": [
      "input_shape:  500\n",
      "output_shape:  4\n"
     ]
    }
   ],
   "source": [
    "# I/O check\n",
    "input_shape = X_train.shape[1]\n",
    "print('input_shape: ', input_shape)\n",
    "\n",
    "output_shape = len(label_encoder.classes_)\n",
    "print('output_shape: ', output_shape)"
   ]
  },
  {
   "cell_type": "markdown",
   "id": "c6c7058f",
   "metadata": {
    "id": "8c-uWuloYTpo",
    "papermill": {
     "duration": 0.024585,
     "end_time": "2022-11-19T07:36:34.139968",
     "exception": false,
     "start_time": "2022-11-19T07:36:34.115383",
     "status": "completed"
    },
    "tags": []
   },
   "source": [
    "![image.png](https://raw.githubusercontent.com/keziatamus/DM2022-Lab2-Master/08755efc671824064d7a9347edb8c418550c3e83//pics/pic2.png)"
   ]
  },
  {
   "cell_type": "code",
   "execution_count": 38,
   "id": "4784dcef",
   "metadata": {
    "execution": {
     "iopub.execute_input": "2022-11-19T07:36:34.190392Z",
     "iopub.status.busy": "2022-11-19T07:36:34.189335Z",
     "iopub.status.idle": "2022-11-19T07:36:34.335604Z",
     "shell.execute_reply": "2022-11-19T07:36:34.334023Z"
    },
    "id": "jTeBWTvgYTpo",
    "outputId": "3e88d40f-2179-40ea-89c6-55085cabd1c6",
    "papermill": {
     "duration": 0.17357,
     "end_time": "2022-11-19T07:36:34.337734",
     "exception": false,
     "start_time": "2022-11-19T07:36:34.164164",
     "status": "completed"
    },
    "tags": []
   },
   "outputs": [
    {
     "name": "stdout",
     "output_type": "stream",
     "text": [
      "Model: \"model\"\n",
      "_________________________________________________________________\n",
      "Layer (type)                 Output Shape              Param #   \n",
      "=================================================================\n",
      "input_1 (InputLayer)         [(None, 500)]             0         \n",
      "_________________________________________________________________\n",
      "dense (Dense)                (None, 64)                32064     \n",
      "_________________________________________________________________\n",
      "re_lu (ReLU)                 (None, 64)                0         \n",
      "_________________________________________________________________\n",
      "dense_1 (Dense)              (None, 64)                4160      \n",
      "_________________________________________________________________\n",
      "re_lu_1 (ReLU)               (None, 64)                0         \n",
      "_________________________________________________________________\n",
      "dense_2 (Dense)              (None, 4)                 260       \n",
      "_________________________________________________________________\n",
      "softmax (Softmax)            (None, 4)                 0         \n",
      "=================================================================\n",
      "Total params: 36,484\n",
      "Trainable params: 36,484\n",
      "Non-trainable params: 0\n",
      "_________________________________________________________________\n"
     ]
    },
    {
     "name": "stderr",
     "output_type": "stream",
     "text": [
      "2022-11-19 07:36:34.249050: I tensorflow/core/common_runtime/process_util.cc:146] Creating new thread pool with default inter op setting: 2. Tune using inter_op_parallelism_threads for best performance.\n"
     ]
    }
   ],
   "source": [
    "from keras.models import Model\n",
    "from keras.layers import Input, Dense\n",
    "from keras.layers import ReLU, Softmax\n",
    "\n",
    "# input layer\n",
    "model_input = Input(shape=(input_shape, ))  # 500\n",
    "X = model_input\n",
    "\n",
    "# 1st hidden layer\n",
    "X_W1 = Dense(units=64)(X)  # 64\n",
    "H1 = ReLU()(X_W1)\n",
    "\n",
    "# 2nd hidden layer\n",
    "H1_W2 = Dense(units=64)(H1)  # 64\n",
    "H2 = ReLU()(H1_W2)\n",
    "\n",
    "# output layer\n",
    "H2_W3 = Dense(units=output_shape)(H2)  # 4\n",
    "H3 = Softmax()(H2_W3)\n",
    "\n",
    "model_output = H3\n",
    "\n",
    "# create model\n",
    "model = Model(inputs=[model_input], outputs=[model_output])\n",
    "\n",
    "# loss function & optimizer\n",
    "model.compile(optimizer='adam',\n",
    "              loss='categorical_crossentropy',\n",
    "              metrics=['accuracy'])\n",
    "\n",
    "# show model construction\n",
    "model.summary()"
   ]
  },
  {
   "cell_type": "markdown",
   "id": "040b5ca3",
   "metadata": {
    "id": "nmTSDO2pYTpo",
    "papermill": {
     "duration": 0.024356,
     "end_time": "2022-11-19T07:36:34.386772",
     "exception": false,
     "start_time": "2022-11-19T07:36:34.362416",
     "status": "completed"
    },
    "tags": []
   },
   "source": [
    "### 6.4 Train"
   ]
  },
  {
   "cell_type": "code",
   "execution_count": 39,
   "id": "dc8de775",
   "metadata": {
    "execution": {
     "iopub.execute_input": "2022-11-19T07:36:34.437487Z",
     "iopub.status.busy": "2022-11-19T07:36:34.437123Z",
     "iopub.status.idle": "2022-11-19T07:36:42.659744Z",
     "shell.execute_reply": "2022-11-19T07:36:42.658316Z"
    },
    "id": "Kl374LYqYTpo",
    "outputId": "75b1f651-b779-4efd-ff14-0b4a0e95d8db",
    "papermill": {
     "duration": 8.250961,
     "end_time": "2022-11-19T07:36:42.662216",
     "exception": false,
     "start_time": "2022-11-19T07:36:34.411255",
     "status": "completed"
    },
    "tags": []
   },
   "outputs": [
    {
     "name": "stdout",
     "output_type": "stream",
     "text": [
      "Epoch 1/25\n"
     ]
    },
    {
     "name": "stderr",
     "output_type": "stream",
     "text": [
      "/opt/conda/lib/python3.7/site-packages/tensorflow/python/framework/indexed_slices.py:449: UserWarning: Converting sparse IndexedSlices(IndexedSlices(indices=Tensor(\"gradient_tape/model/dense/embedding_lookup_sparse/Reshape_1:0\", shape=(None,), dtype=int32), values=Tensor(\"gradient_tape/model/dense/embedding_lookup_sparse/Reshape:0\", shape=(None, 64), dtype=float32), dense_shape=Tensor(\"gradient_tape/model/dense/embedding_lookup_sparse/Cast:0\", shape=(2,), dtype=int32))) to a dense Tensor of unknown shape. This may consume a large amount of memory.\n",
      "  \"shape. This may consume a large amount of memory.\" % value)\n",
      "2022-11-19 07:36:34.937730: I tensorflow/compiler/mlir/mlir_graph_optimization_pass.cc:185] None of the MLIR Optimization Passes are enabled (registered 2)\n"
     ]
    },
    {
     "name": "stdout",
     "output_type": "stream",
     "text": [
      "113/113 [==============================] - 1s 4ms/step - loss: 1.3295 - accuracy: 0.3737 - val_loss: 1.2914 - val_accuracy: 0.4323\n",
      "Epoch 2/25\n",
      "113/113 [==============================] - 0s 2ms/step - loss: 0.9912 - accuracy: 0.6482 - val_loss: 0.9423 - val_accuracy: 0.6599\n",
      "Epoch 3/25\n",
      "113/113 [==============================] - 0s 2ms/step - loss: 0.5788 - accuracy: 0.7894 - val_loss: 0.7704 - val_accuracy: 0.7176\n",
      "Epoch 4/25\n",
      "113/113 [==============================] - 0s 2ms/step - loss: 0.4175 - accuracy: 0.8456 - val_loss: 0.8027 - val_accuracy: 0.7061\n",
      "Epoch 5/25\n",
      "113/113 [==============================] - 0s 2ms/step - loss: 0.3341 - accuracy: 0.8807 - val_loss: 0.8393 - val_accuracy: 0.6772\n",
      "Epoch 6/25\n",
      "113/113 [==============================] - 0s 2ms/step - loss: 0.2764 - accuracy: 0.9067 - val_loss: 0.8840 - val_accuracy: 0.6830\n",
      "Epoch 7/25\n",
      "113/113 [==============================] - 0s 2ms/step - loss: 0.2273 - accuracy: 0.9225 - val_loss: 0.9369 - val_accuracy: 0.6628\n",
      "Epoch 8/25\n",
      "113/113 [==============================] - 0s 2ms/step - loss: 0.1901 - accuracy: 0.9402 - val_loss: 1.0209 - val_accuracy: 0.6657\n",
      "Epoch 9/25\n",
      "113/113 [==============================] - 0s 2ms/step - loss: 0.1650 - accuracy: 0.9480 - val_loss: 1.0915 - val_accuracy: 0.6888\n",
      "Epoch 10/25\n",
      "113/113 [==============================] - 0s 2ms/step - loss: 0.1406 - accuracy: 0.9541 - val_loss: 1.1197 - val_accuracy: 0.6628\n",
      "Epoch 11/25\n",
      "113/113 [==============================] - 0s 2ms/step - loss: 0.1272 - accuracy: 0.9615 - val_loss: 1.1793 - val_accuracy: 0.6715\n",
      "Epoch 12/25\n",
      "113/113 [==============================] - 0s 2ms/step - loss: 0.1125 - accuracy: 0.9660 - val_loss: 1.2418 - val_accuracy: 0.6686\n",
      "Epoch 13/25\n",
      "113/113 [==============================] - 0s 2ms/step - loss: 0.1029 - accuracy: 0.9698 - val_loss: 1.2525 - val_accuracy: 0.6628\n",
      "Epoch 14/25\n",
      "113/113 [==============================] - 0s 2ms/step - loss: 0.0978 - accuracy: 0.9693 - val_loss: 1.3537 - val_accuracy: 0.6599\n",
      "Epoch 15/25\n",
      "113/113 [==============================] - 0s 2ms/step - loss: 0.0930 - accuracy: 0.9715 - val_loss: 1.3881 - val_accuracy: 0.6513\n",
      "Epoch 16/25\n",
      "113/113 [==============================] - 0s 2ms/step - loss: 0.0848 - accuracy: 0.9723 - val_loss: 1.4038 - val_accuracy: 0.6657\n",
      "Epoch 17/25\n",
      "113/113 [==============================] - 0s 2ms/step - loss: 0.0830 - accuracy: 0.9737 - val_loss: 1.4485 - val_accuracy: 0.6715\n",
      "Epoch 18/25\n",
      "113/113 [==============================] - 0s 2ms/step - loss: 0.0800 - accuracy: 0.9743 - val_loss: 1.4938 - val_accuracy: 0.6484\n",
      "Epoch 19/25\n",
      "113/113 [==============================] - 0s 2ms/step - loss: 0.0803 - accuracy: 0.9743 - val_loss: 1.5049 - val_accuracy: 0.6513\n",
      "Epoch 20/25\n",
      "113/113 [==============================] - 0s 2ms/step - loss: 0.0753 - accuracy: 0.9745 - val_loss: 1.5080 - val_accuracy: 0.6571\n",
      "Epoch 21/25\n",
      "113/113 [==============================] - 0s 3ms/step - loss: 0.0703 - accuracy: 0.9754 - val_loss: 1.6047 - val_accuracy: 0.6542\n",
      "Epoch 22/25\n",
      "113/113 [==============================] - 0s 2ms/step - loss: 0.0730 - accuracy: 0.9768 - val_loss: 1.5544 - val_accuracy: 0.6513\n",
      "Epoch 23/25\n",
      "113/113 [==============================] - 0s 2ms/step - loss: 0.0679 - accuracy: 0.9743 - val_loss: 1.5429 - val_accuracy: 0.6571\n",
      "Epoch 24/25\n",
      "113/113 [==============================] - 0s 2ms/step - loss: 0.0615 - accuracy: 0.9781 - val_loss: 1.6161 - val_accuracy: 0.6542\n",
      "Epoch 25/25\n",
      "113/113 [==============================] - 0s 2ms/step - loss: 0.0636 - accuracy: 0.9768 - val_loss: 1.6268 - val_accuracy: 0.6513\n",
      "training finish\n"
     ]
    }
   ],
   "source": [
    "from keras.callbacks import CSVLogger\n",
    "\n",
    "csv_logger = CSVLogger('training_log.csv')\n",
    "\n",
    "# training setting\n",
    "epochs = 25\n",
    "batch_size = 32\n",
    "\n",
    "# training!\n",
    "history = model.fit(X_train, y_train, \n",
    "                    epochs=epochs, \n",
    "                    batch_size=batch_size, \n",
    "                    callbacks=[csv_logger],\n",
    "                    validation_data = (X_test, y_test))\n",
    "print('training finish')"
   ]
  },
  {
   "cell_type": "markdown",
   "id": "87f7e271",
   "metadata": {
    "id": "ip8RYsvSYTpo",
    "papermill": {
     "duration": 0.03278,
     "end_time": "2022-11-19T07:36:42.728406",
     "exception": false,
     "start_time": "2022-11-19T07:36:42.695626",
     "status": "completed"
    },
    "tags": []
   },
   "source": [
    "### 6.5 Predict on testing data"
   ]
  },
  {
   "cell_type": "code",
   "execution_count": 40,
   "id": "0810ce99",
   "metadata": {
    "execution": {
     "iopub.execute_input": "2022-11-19T07:36:42.796740Z",
     "iopub.status.busy": "2022-11-19T07:36:42.795621Z",
     "iopub.status.idle": "2022-11-19T07:36:42.910003Z",
     "shell.execute_reply": "2022-11-19T07:36:42.909240Z"
    },
    "id": "xdnLuBYBYTpo",
    "outputId": "6e7e97b7-fe5c-44f6-9baa-a71335aa7b06",
    "papermill": {
     "duration": 0.150376,
     "end_time": "2022-11-19T07:36:42.911742",
     "exception": false,
     "start_time": "2022-11-19T07:36:42.761366",
     "status": "completed"
    },
    "tags": []
   },
   "outputs": [
    {
     "data": {
      "text/plain": [
       "array([[8.3418894e-01, 1.3493176e-01, 2.5814908e-02, 5.0644120e-03],\n",
       "       [2.6501677e-05, 9.9995410e-01, 7.0296896e-06, 1.2367046e-05],\n",
       "       [9.7987705e-01, 1.6244764e-02, 2.5503507e-03, 1.3279215e-03],\n",
       "       [1.0645248e-04, 9.9984264e-01, 8.7196117e-10, 5.0891791e-05],\n",
       "       [5.3629151e-04, 1.2074934e-02, 7.2451544e-01, 2.6287323e-01]],\n",
       "      dtype=float32)"
      ]
     },
     "execution_count": 40,
     "metadata": {},
     "output_type": "execute_result"
    }
   ],
   "source": [
    "## predict\n",
    "pred_result = model.predict(X_test, batch_size=128)\n",
    "pred_result[:5]"
   ]
  },
  {
   "cell_type": "code",
   "execution_count": 41,
   "id": "6944fa69",
   "metadata": {
    "execution": {
     "iopub.execute_input": "2022-11-19T07:36:42.979248Z",
     "iopub.status.busy": "2022-11-19T07:36:42.978655Z",
     "iopub.status.idle": "2022-11-19T07:36:42.985086Z",
     "shell.execute_reply": "2022-11-19T07:36:42.983705Z"
    },
    "id": "hSaXGEX-YTpo",
    "outputId": "d35b5fb3-74e5-44d9-ac1d-8a11cca023e4",
    "papermill": {
     "duration": 0.043103,
     "end_time": "2022-11-19T07:36:42.987492",
     "exception": false,
     "start_time": "2022-11-19T07:36:42.944389",
     "status": "completed"
    },
    "tags": []
   },
   "outputs": [
    {
     "data": {
      "text/plain": [
       "array(['anger', 'fear', 'anger', 'fear', 'joy'], dtype=object)"
      ]
     },
     "execution_count": 41,
     "metadata": {},
     "output_type": "execute_result"
    }
   ],
   "source": [
    "pred_result = label_decode(label_encoder, pred_result)\n",
    "pred_result[:5]"
   ]
  },
  {
   "cell_type": "code",
   "execution_count": 42,
   "id": "56909c2c",
   "metadata": {
    "execution": {
     "iopub.execute_input": "2022-11-19T07:36:43.057382Z",
     "iopub.status.busy": "2022-11-19T07:36:43.057020Z",
     "iopub.status.idle": "2022-11-19T07:36:43.064525Z",
     "shell.execute_reply": "2022-11-19T07:36:43.063042Z"
    },
    "id": "bRRHye9KYTp5",
    "outputId": "d4f240ef-5f59-4d90-e3a2-57b98ced3928",
    "papermill": {
     "duration": 0.044878,
     "end_time": "2022-11-19T07:36:43.066884",
     "exception": false,
     "start_time": "2022-11-19T07:36:43.022006",
     "status": "completed"
    },
    "tags": []
   },
   "outputs": [
    {
     "name": "stdout",
     "output_type": "stream",
     "text": [
      "testing accuracy: 0.65\n"
     ]
    }
   ],
   "source": [
    "from sklearn.metrics import accuracy_score\n",
    "\n",
    "print('testing accuracy: {}'.format(round(accuracy_score(label_decode(label_encoder, y_test), pred_result), 2)))"
   ]
  },
  {
   "cell_type": "code",
   "execution_count": 43,
   "id": "f7b40618",
   "metadata": {
    "execution": {
     "iopub.execute_input": "2022-11-19T07:36:43.137041Z",
     "iopub.status.busy": "2022-11-19T07:36:43.136022Z",
     "iopub.status.idle": "2022-11-19T07:36:43.152303Z",
     "shell.execute_reply": "2022-11-19T07:36:43.151678Z"
    },
    "id": "ks2Q0aMsYTp5",
    "outputId": "8b802a69-6377-4f0a-c1fa-2f03e5abebd4",
    "papermill": {
     "duration": 0.053374,
     "end_time": "2022-11-19T07:36:43.154054",
     "exception": false,
     "start_time": "2022-11-19T07:36:43.100680",
     "status": "completed"
    },
    "tags": []
   },
   "outputs": [
    {
     "data": {
      "text/html": [
       "<div>\n",
       "<style scoped>\n",
       "    .dataframe tbody tr th:only-of-type {\n",
       "        vertical-align: middle;\n",
       "    }\n",
       "\n",
       "    .dataframe tbody tr th {\n",
       "        vertical-align: top;\n",
       "    }\n",
       "\n",
       "    .dataframe thead th {\n",
       "        text-align: right;\n",
       "    }\n",
       "</style>\n",
       "<table border=\"1\" class=\"dataframe\">\n",
       "  <thead>\n",
       "    <tr style=\"text-align: right;\">\n",
       "      <th></th>\n",
       "      <th>epoch</th>\n",
       "      <th>accuracy</th>\n",
       "      <th>loss</th>\n",
       "      <th>val_accuracy</th>\n",
       "      <th>val_loss</th>\n",
       "    </tr>\n",
       "  </thead>\n",
       "  <tbody>\n",
       "    <tr>\n",
       "      <th>0</th>\n",
       "      <td>0</td>\n",
       "      <td>0.373651</td>\n",
       "      <td>1.329497</td>\n",
       "      <td>0.432277</td>\n",
       "      <td>1.291362</td>\n",
       "    </tr>\n",
       "    <tr>\n",
       "      <th>1</th>\n",
       "      <td>1</td>\n",
       "      <td>0.648215</td>\n",
       "      <td>0.991176</td>\n",
       "      <td>0.659942</td>\n",
       "      <td>0.942284</td>\n",
       "    </tr>\n",
       "    <tr>\n",
       "      <th>2</th>\n",
       "      <td>2</td>\n",
       "      <td>0.789372</td>\n",
       "      <td>0.578800</td>\n",
       "      <td>0.717579</td>\n",
       "      <td>0.770431</td>\n",
       "    </tr>\n",
       "    <tr>\n",
       "      <th>3</th>\n",
       "      <td>3</td>\n",
       "      <td>0.845558</td>\n",
       "      <td>0.417490</td>\n",
       "      <td>0.706052</td>\n",
       "      <td>0.802711</td>\n",
       "    </tr>\n",
       "    <tr>\n",
       "      <th>4</th>\n",
       "      <td>4</td>\n",
       "      <td>0.880709</td>\n",
       "      <td>0.334085</td>\n",
       "      <td>0.677233</td>\n",
       "      <td>0.839273</td>\n",
       "    </tr>\n",
       "    <tr>\n",
       "      <th>5</th>\n",
       "      <td>5</td>\n",
       "      <td>0.906726</td>\n",
       "      <td>0.276430</td>\n",
       "      <td>0.682997</td>\n",
       "      <td>0.884005</td>\n",
       "    </tr>\n",
       "    <tr>\n",
       "      <th>6</th>\n",
       "      <td>6</td>\n",
       "      <td>0.922502</td>\n",
       "      <td>0.227306</td>\n",
       "      <td>0.662824</td>\n",
       "      <td>0.936933</td>\n",
       "    </tr>\n",
       "    <tr>\n",
       "      <th>7</th>\n",
       "      <td>7</td>\n",
       "      <td>0.940216</td>\n",
       "      <td>0.190105</td>\n",
       "      <td>0.665706</td>\n",
       "      <td>1.020947</td>\n",
       "    </tr>\n",
       "    <tr>\n",
       "      <th>8</th>\n",
       "      <td>8</td>\n",
       "      <td>0.947966</td>\n",
       "      <td>0.164961</td>\n",
       "      <td>0.688761</td>\n",
       "      <td>1.091519</td>\n",
       "    </tr>\n",
       "    <tr>\n",
       "      <th>9</th>\n",
       "      <td>9</td>\n",
       "      <td>0.954055</td>\n",
       "      <td>0.140628</td>\n",
       "      <td>0.662824</td>\n",
       "      <td>1.119743</td>\n",
       "    </tr>\n",
       "    <tr>\n",
       "      <th>10</th>\n",
       "      <td>10</td>\n",
       "      <td>0.961528</td>\n",
       "      <td>0.127169</td>\n",
       "      <td>0.671470</td>\n",
       "      <td>1.179322</td>\n",
       "    </tr>\n",
       "    <tr>\n",
       "      <th>11</th>\n",
       "      <td>11</td>\n",
       "      <td>0.965956</td>\n",
       "      <td>0.112485</td>\n",
       "      <td>0.668588</td>\n",
       "      <td>1.241828</td>\n",
       "    </tr>\n",
       "    <tr>\n",
       "      <th>12</th>\n",
       "      <td>12</td>\n",
       "      <td>0.969831</td>\n",
       "      <td>0.102919</td>\n",
       "      <td>0.662824</td>\n",
       "      <td>1.252548</td>\n",
       "    </tr>\n",
       "    <tr>\n",
       "      <th>13</th>\n",
       "      <td>13</td>\n",
       "      <td>0.969278</td>\n",
       "      <td>0.097752</td>\n",
       "      <td>0.659942</td>\n",
       "      <td>1.353687</td>\n",
       "    </tr>\n",
       "    <tr>\n",
       "      <th>14</th>\n",
       "      <td>14</td>\n",
       "      <td>0.971492</td>\n",
       "      <td>0.092989</td>\n",
       "      <td>0.651297</td>\n",
       "      <td>1.388102</td>\n",
       "    </tr>\n",
       "    <tr>\n",
       "      <th>15</th>\n",
       "      <td>15</td>\n",
       "      <td>0.972322</td>\n",
       "      <td>0.084844</td>\n",
       "      <td>0.665706</td>\n",
       "      <td>1.403828</td>\n",
       "    </tr>\n",
       "    <tr>\n",
       "      <th>16</th>\n",
       "      <td>16</td>\n",
       "      <td>0.973706</td>\n",
       "      <td>0.082950</td>\n",
       "      <td>0.671470</td>\n",
       "      <td>1.448532</td>\n",
       "    </tr>\n",
       "    <tr>\n",
       "      <th>17</th>\n",
       "      <td>17</td>\n",
       "      <td>0.974260</td>\n",
       "      <td>0.079974</td>\n",
       "      <td>0.648415</td>\n",
       "      <td>1.493787</td>\n",
       "    </tr>\n",
       "    <tr>\n",
       "      <th>18</th>\n",
       "      <td>18</td>\n",
       "      <td>0.974260</td>\n",
       "      <td>0.080328</td>\n",
       "      <td>0.651297</td>\n",
       "      <td>1.504910</td>\n",
       "    </tr>\n",
       "    <tr>\n",
       "      <th>19</th>\n",
       "      <td>19</td>\n",
       "      <td>0.974536</td>\n",
       "      <td>0.075277</td>\n",
       "      <td>0.657061</td>\n",
       "      <td>1.508039</td>\n",
       "    </tr>\n",
       "    <tr>\n",
       "      <th>20</th>\n",
       "      <td>20</td>\n",
       "      <td>0.975367</td>\n",
       "      <td>0.070267</td>\n",
       "      <td>0.654179</td>\n",
       "      <td>1.604688</td>\n",
       "    </tr>\n",
       "    <tr>\n",
       "      <th>21</th>\n",
       "      <td>21</td>\n",
       "      <td>0.976751</td>\n",
       "      <td>0.072974</td>\n",
       "      <td>0.651297</td>\n",
       "      <td>1.554360</td>\n",
       "    </tr>\n",
       "    <tr>\n",
       "      <th>22</th>\n",
       "      <td>22</td>\n",
       "      <td>0.974260</td>\n",
       "      <td>0.067928</td>\n",
       "      <td>0.657061</td>\n",
       "      <td>1.542871</td>\n",
       "    </tr>\n",
       "    <tr>\n",
       "      <th>23</th>\n",
       "      <td>23</td>\n",
       "      <td>0.978135</td>\n",
       "      <td>0.061467</td>\n",
       "      <td>0.654179</td>\n",
       "      <td>1.616120</td>\n",
       "    </tr>\n",
       "    <tr>\n",
       "      <th>24</th>\n",
       "      <td>24</td>\n",
       "      <td>0.976751</td>\n",
       "      <td>0.063623</td>\n",
       "      <td>0.651297</td>\n",
       "      <td>1.626753</td>\n",
       "    </tr>\n",
       "  </tbody>\n",
       "</table>\n",
       "</div>"
      ],
      "text/plain": [
       "    epoch  accuracy      loss  val_accuracy  val_loss\n",
       "0       0  0.373651  1.329497      0.432277  1.291362\n",
       "1       1  0.648215  0.991176      0.659942  0.942284\n",
       "2       2  0.789372  0.578800      0.717579  0.770431\n",
       "3       3  0.845558  0.417490      0.706052  0.802711\n",
       "4       4  0.880709  0.334085      0.677233  0.839273\n",
       "5       5  0.906726  0.276430      0.682997  0.884005\n",
       "6       6  0.922502  0.227306      0.662824  0.936933\n",
       "7       7  0.940216  0.190105      0.665706  1.020947\n",
       "8       8  0.947966  0.164961      0.688761  1.091519\n",
       "9       9  0.954055  0.140628      0.662824  1.119743\n",
       "10     10  0.961528  0.127169      0.671470  1.179322\n",
       "11     11  0.965956  0.112485      0.668588  1.241828\n",
       "12     12  0.969831  0.102919      0.662824  1.252548\n",
       "13     13  0.969278  0.097752      0.659942  1.353687\n",
       "14     14  0.971492  0.092989      0.651297  1.388102\n",
       "15     15  0.972322  0.084844      0.665706  1.403828\n",
       "16     16  0.973706  0.082950      0.671470  1.448532\n",
       "17     17  0.974260  0.079974      0.648415  1.493787\n",
       "18     18  0.974260  0.080328      0.651297  1.504910\n",
       "19     19  0.974536  0.075277      0.657061  1.508039\n",
       "20     20  0.975367  0.070267      0.654179  1.604688\n",
       "21     21  0.976751  0.072974      0.651297  1.554360\n",
       "22     22  0.974260  0.067928      0.657061  1.542871\n",
       "23     23  0.978135  0.061467      0.654179  1.616120\n",
       "24     24  0.976751  0.063623      0.651297  1.626753"
      ]
     },
     "execution_count": 43,
     "metadata": {},
     "output_type": "execute_result"
    }
   ],
   "source": [
    "#Let's take a look at the training log\n",
    "training_log = pd.DataFrame()\n",
    "training_log = pd.read_csv(\"training_log.csv\")\n",
    "training_log"
   ]
  },
  {
   "cell_type": "markdown",
   "id": "7ffa0135",
   "metadata": {
    "id": "NoYqY0-tYTp5",
    "papermill": {
     "duration": 0.034381,
     "end_time": "2022-11-19T07:36:43.222785",
     "exception": false,
     "start_time": "2022-11-19T07:36:43.188404",
     "status": "completed"
    },
    "tags": []
   },
   "source": [
    "---\n",
    "### ** >>> Exercise 6 (Take home): **  \n",
    "\n",
    "Plot the Training and Validation Accuracy and Loss (different plots), just like the images below (Note: the pictures below are an example from a different model). How to interpret the graphs you got? How are they related to the concept of overfitting/underfitting covered in class?\n",
    "\n",
    "![image.png](https://raw.githubusercontent.com/keziatamus/DM2022-Lab2-Master/08755efc671824064d7a9347edb8c418550c3e83//pics/pic3.png)![image.png](https://raw.githubusercontent.com/keziatamus/DM2022-Lab2-Master/08755efc671824064d7a9347edb8c418550c3e83//pics/pic4.png)"
   ]
  },
  {
   "cell_type": "code",
   "execution_count": 44,
   "id": "773211a9",
   "metadata": {
    "execution": {
     "iopub.execute_input": "2022-11-19T07:36:43.293796Z",
     "iopub.status.busy": "2022-11-19T07:36:43.292572Z",
     "iopub.status.idle": "2022-11-19T07:36:43.297869Z",
     "shell.execute_reply": "2022-11-19T07:36:43.296777Z"
    },
    "id": "AlhstCrlYTp5",
    "papermill": {
     "duration": 0.042637,
     "end_time": "2022-11-19T07:36:43.299664",
     "exception": false,
     "start_time": "2022-11-19T07:36:43.257027",
     "status": "completed"
    },
    "tags": []
   },
   "outputs": [],
   "source": [
    "# Answer here\n"
   ]
  },
  {
   "cell_type": "markdown",
   "id": "ac79421a",
   "metadata": {
    "id": "UYabzgSGYTp5",
    "papermill": {
     "duration": 0.034187,
     "end_time": "2022-11-19T07:36:43.368271",
     "exception": false,
     "start_time": "2022-11-19T07:36:43.334084",
     "status": "completed"
    },
    "tags": []
   },
   "source": [
    "---"
   ]
  },
  {
   "cell_type": "markdown",
   "id": "75f7648d",
   "metadata": {
    "id": "4e5eiVLOYTp5",
    "papermill": {
     "duration": 0.034857,
     "end_time": "2022-11-19T07:36:43.437287",
     "exception": false,
     "start_time": "2022-11-19T07:36:43.402430",
     "status": "completed"
    },
    "tags": []
   },
   "source": [
    "### Note\n",
    "\n",
    "If you don't have a GPU (level is higher than GTX 1060) or you are not good at setting lots of things about computer, we recommend you to use the [kaggle kernel](https://www.kaggle.com/kernels) to do deep learning model training. They have already installed all the librarys and provided free GPU for you to use.\n",
    "\n",
    "Note however that you will only be able to run a kernel for 6 hours. After 6 hours of inactivity, your Kaggle kernel will shut down (meaning if your model takes more than 6 hours to train, you can't train it at once).\n",
    "\n",
    "\n",
    "### More Information for your reference\n",
    "\n",
    "* Keras document: https://keras.io/\n",
    "* Keras GitHub example: https://github.com/keras-team/keras/tree/master/examples\n",
    "* CS229: Machine Learning: http://cs229.stanford.edu/syllabus.html\n",
    "* Deep Learning cheatsheet: https://stanford.edu/~shervine/teaching/cs-229/cheatsheet-deep-learning\n",
    "* If you want to try TensorFlow or PyTorch: https://pytorch.org/tutorials/\n",
    "https://www.tensorflow.org/tutorials/quickstart/beginner"
   ]
  },
  {
   "cell_type": "markdown",
   "id": "1fe53765",
   "metadata": {
    "id": "IESBq48MYTp5",
    "papermill": {
     "duration": 0.034192,
     "end_time": "2022-11-19T07:36:43.505943",
     "exception": false,
     "start_time": "2022-11-19T07:36:43.471751",
     "status": "completed"
    },
    "tags": []
   },
   "source": [
    "---\n",
    "# 7. Word2Vector\n",
    "\n",
    "We will introduce how to use `gensim` to train your word2vec model and how to load a pre-trained model.\n",
    "\n",
    "https://radimrehurek.com/gensim/index.html"
   ]
  },
  {
   "cell_type": "markdown",
   "id": "0e7c46f5",
   "metadata": {
    "id": "KRSDMhQ5YTp5",
    "papermill": {
     "duration": 0.033985,
     "end_time": "2022-11-19T07:36:43.574311",
     "exception": false,
     "start_time": "2022-11-19T07:36:43.540326",
     "status": "completed"
    },
    "tags": []
   },
   "source": [
    "### 7.1 Prepare training corpus"
   ]
  },
  {
   "cell_type": "code",
   "execution_count": 45,
   "id": "0469eb2e",
   "metadata": {
    "execution": {
     "iopub.execute_input": "2022-11-19T07:36:43.645508Z",
     "iopub.status.busy": "2022-11-19T07:36:43.644872Z",
     "iopub.status.idle": "2022-11-19T07:36:44.575036Z",
     "shell.execute_reply": "2022-11-19T07:36:44.574006Z"
    },
    "id": "6aBYrovJYTp5",
    "outputId": "3df27e8d-0a96-40a5-8e3d-3186bb1ea624",
    "papermill": {
     "duration": 0.968659,
     "end_time": "2022-11-19T07:36:44.576983",
     "exception": false,
     "start_time": "2022-11-19T07:36:43.608324",
     "status": "completed"
    },
    "tags": []
   },
   "outputs": [
    {
     "data": {
      "text/html": [
       "<div>\n",
       "<style scoped>\n",
       "    .dataframe tbody tr th:only-of-type {\n",
       "        vertical-align: middle;\n",
       "    }\n",
       "\n",
       "    .dataframe tbody tr th {\n",
       "        vertical-align: top;\n",
       "    }\n",
       "\n",
       "    .dataframe thead th {\n",
       "        text-align: right;\n",
       "    }\n",
       "</style>\n",
       "<table border=\"1\" class=\"dataframe\">\n",
       "  <thead>\n",
       "    <tr style=\"text-align: right;\">\n",
       "      <th></th>\n",
       "      <th>id</th>\n",
       "      <th>text</th>\n",
       "      <th>text_tokenized</th>\n",
       "    </tr>\n",
       "  </thead>\n",
       "  <tbody>\n",
       "    <tr>\n",
       "      <th>47</th>\n",
       "      <td>10047</td>\n",
       "      <td>Still can't log into my fucking Snapchat #Snap...</td>\n",
       "      <td>[Still, ca, n't, log, into, my, fucking, Snapc...</td>\n",
       "    </tr>\n",
       "    <tr>\n",
       "      <th>2693</th>\n",
       "      <td>30689</td>\n",
       "      <td>@honevbee close up shots of my ugly mug as I c...</td>\n",
       "      <td>[@, honevbee, close, up, shots, of, my, ugly, ...</td>\n",
       "    </tr>\n",
       "    <tr>\n",
       "      <th>1800</th>\n",
       "      <td>20943</td>\n",
       "      <td>@Netflix_ME penny dreadful season 3?</td>\n",
       "      <td>[@, Netflix_ME, penny, dreadful, season, 3, ?]</td>\n",
       "    </tr>\n",
       "    <tr>\n",
       "      <th>3450</th>\n",
       "      <td>40623</td>\n",
       "      <td>@Vixen85Webster yep &amp;amp; I stayed in pjs all ...</td>\n",
       "      <td>[@, Vixen85Webster, yep, &amp;, amp, ;, I, stayed,...</td>\n",
       "    </tr>\n",
       "    <tr>\n",
       "      <th>3372</th>\n",
       "      <td>40545</td>\n",
       "      <td>@sundersays made me laugh, that quote. In a so...</td>\n",
       "      <td>[@, sundersays, made, me, laugh, ,, that, quot...</td>\n",
       "    </tr>\n",
       "  </tbody>\n",
       "</table>\n",
       "</div>"
      ],
      "text/plain": [
       "         id                                               text  \\\n",
       "47    10047  Still can't log into my fucking Snapchat #Snap...   \n",
       "2693  30689  @honevbee close up shots of my ugly mug as I c...   \n",
       "1800  20943               @Netflix_ME penny dreadful season 3?   \n",
       "3450  40623  @Vixen85Webster yep &amp; I stayed in pjs all ...   \n",
       "3372  40545  @sundersays made me laugh, that quote. In a so...   \n",
       "\n",
       "                                         text_tokenized  \n",
       "47    [Still, ca, n't, log, into, my, fucking, Snapc...  \n",
       "2693  [@, honevbee, close, up, shots, of, my, ugly, ...  \n",
       "1800     [@, Netflix_ME, penny, dreadful, season, 3, ?]  \n",
       "3450  [@, Vixen85Webster, yep, &, amp, ;, I, stayed,...  \n",
       "3372  [@, sundersays, made, me, laugh, ,, that, quot...  "
      ]
     },
     "execution_count": 45,
     "metadata": {},
     "output_type": "execute_result"
    }
   ],
   "source": [
    "## check library\n",
    "import gensim\n",
    "\n",
    "## ignore warnings\n",
    "import warnings\n",
    "warnings.filterwarnings('ignore')\n",
    "\n",
    "# # if you want to see the training messages, you can use it\n",
    "# import logging\n",
    "# logging.basicConfig(format='%(asctime)s : %(levelname)s : %(message)s', level=logging.INFO)\n",
    "\n",
    "## the input type\n",
    "train_df['text_tokenized'] = train_df['text'].apply(lambda x: nltk.word_tokenize(x))\n",
    "train_df[['id', 'text', 'text_tokenized']].head()"
   ]
  },
  {
   "cell_type": "code",
   "execution_count": 46,
   "id": "66dfbb24",
   "metadata": {
    "execution": {
     "iopub.execute_input": "2022-11-19T07:36:44.648651Z",
     "iopub.status.busy": "2022-11-19T07:36:44.648045Z",
     "iopub.status.idle": "2022-11-19T07:36:44.655073Z",
     "shell.execute_reply": "2022-11-19T07:36:44.653680Z"
    },
    "id": "okFIEcmnYTp5",
    "outputId": "17a7ccde-3595-4837-f8d2-91698348fb22",
    "papermill": {
     "duration": 0.045875,
     "end_time": "2022-11-19T07:36:44.657573",
     "exception": false,
     "start_time": "2022-11-19T07:36:44.611698",
     "status": "completed"
    },
    "tags": []
   },
   "outputs": [
    {
     "data": {
      "text/plain": [
       "array([list(['Still', 'ca', \"n't\", 'log', 'into', 'my', 'fucking', 'Snapchat', '#', 'Snapchat']),\n",
       "       list(['@', 'honevbee', 'close', 'up', 'shots', 'of', 'my', 'ugly', 'mug', 'as', 'I', 'continue', 'to', 'talk', 'about', 'Blaine', 'years', 'after', 'glee', 'has', 'been', 'dead']),\n",
       "       list(['@', 'Netflix_ME', 'penny', 'dreadful', 'season', '3', '?'])],\n",
       "      dtype=object)"
      ]
     },
     "execution_count": 46,
     "metadata": {},
     "output_type": "execute_result"
    }
   ],
   "source": [
    "## create the training corpus\n",
    "training_corpus = train_df['text_tokenized'].values\n",
    "training_corpus[:3]"
   ]
  },
  {
   "cell_type": "markdown",
   "id": "4c4ea61a",
   "metadata": {
    "id": "dOgAriPRYTp5",
    "papermill": {
     "duration": 0.033874,
     "end_time": "2022-11-19T07:36:44.725726",
     "exception": false,
     "start_time": "2022-11-19T07:36:44.691852",
     "status": "completed"
    },
    "tags": []
   },
   "source": [
    "### 7.2 Training our model\n",
    "\n",
    "You can try to train your own model. More details: https://radimrehurek.com/gensim/models/word2vec.html"
   ]
  },
  {
   "cell_type": "code",
   "execution_count": 47,
   "id": "eda938ba",
   "metadata": {
    "execution": {
     "iopub.execute_input": "2022-11-19T07:36:44.796517Z",
     "iopub.status.busy": "2022-11-19T07:36:44.795977Z",
     "iopub.status.idle": "2022-11-19T07:36:45.468065Z",
     "shell.execute_reply": "2022-11-19T07:36:45.467106Z"
    },
    "id": "4kF8vvi5YTp5",
    "outputId": "92fed35a-efbe-4af8-bf8e-03e9e6a38745",
    "papermill": {
     "duration": 0.709851,
     "end_time": "2022-11-19T07:36:45.470094",
     "exception": false,
     "start_time": "2022-11-19T07:36:44.760243",
     "status": "completed"
    },
    "tags": []
   },
   "outputs": [
    {
     "data": {
      "text/html": [
       "<div>\n",
       "<style scoped>\n",
       "    .dataframe tbody tr th:only-of-type {\n",
       "        vertical-align: middle;\n",
       "    }\n",
       "\n",
       "    .dataframe tbody tr th {\n",
       "        vertical-align: top;\n",
       "    }\n",
       "\n",
       "    .dataframe thead th {\n",
       "        text-align: right;\n",
       "    }\n",
       "</style>\n",
       "<table border=\"1\" class=\"dataframe\">\n",
       "  <thead>\n",
       "    <tr style=\"text-align: right;\">\n",
       "      <th></th>\n",
       "      <th>id</th>\n",
       "      <th>text</th>\n",
       "      <th>text_tokenized</th>\n",
       "    </tr>\n",
       "  </thead>\n",
       "  <tbody>\n",
       "    <tr>\n",
       "      <th>47</th>\n",
       "      <td>10047</td>\n",
       "      <td>Still can't log into my fucking Snapchat #Snap...</td>\n",
       "      <td>[Still, ca, n't, log, into, my, fucking, Snapc...</td>\n",
       "    </tr>\n",
       "    <tr>\n",
       "      <th>2693</th>\n",
       "      <td>30689</td>\n",
       "      <td>@honevbee close up shots of my ugly mug as I c...</td>\n",
       "      <td>[@, honevbee, close, up, shots, of, my, ugly, ...</td>\n",
       "    </tr>\n",
       "    <tr>\n",
       "      <th>1800</th>\n",
       "      <td>20943</td>\n",
       "      <td>@Netflix_ME penny dreadful season 3?</td>\n",
       "      <td>[@, Netflix_ME, penny, dreadful, season, 3, ?]</td>\n",
       "    </tr>\n",
       "    <tr>\n",
       "      <th>3450</th>\n",
       "      <td>40623</td>\n",
       "      <td>@Vixen85Webster yep &amp;amp; I stayed in pjs all ...</td>\n",
       "      <td>[@, Vixen85Webster, yep, &amp;, amp, ;, I, stayed,...</td>\n",
       "    </tr>\n",
       "    <tr>\n",
       "      <th>3372</th>\n",
       "      <td>40545</td>\n",
       "      <td>@sundersays made me laugh, that quote. In a so...</td>\n",
       "      <td>[@, sundersays, made, me, laugh, ,, that, quot...</td>\n",
       "    </tr>\n",
       "  </tbody>\n",
       "</table>\n",
       "</div>"
      ],
      "text/plain": [
       "         id                                               text  \\\n",
       "47    10047  Still can't log into my fucking Snapchat #Snap...   \n",
       "2693  30689  @honevbee close up shots of my ugly mug as I c...   \n",
       "1800  20943               @Netflix_ME penny dreadful season 3?   \n",
       "3450  40623  @Vixen85Webster yep &amp; I stayed in pjs all ...   \n",
       "3372  40545  @sundersays made me laugh, that quote. In a so...   \n",
       "\n",
       "                                         text_tokenized  \n",
       "47    [Still, ca, n't, log, into, my, fucking, Snapc...  \n",
       "2693  [@, honevbee, close, up, shots, of, my, ugly, ...  \n",
       "1800     [@, Netflix_ME, penny, dreadful, season, 3, ?]  \n",
       "3450  [@, Vixen85Webster, yep, &, amp, ;, I, stayed,...  \n",
       "3372  [@, sundersays, made, me, laugh, ,, that, quot...  "
      ]
     },
     "execution_count": 47,
     "metadata": {},
     "output_type": "execute_result"
    }
   ],
   "source": [
    "## the input type\n",
    "train_df['text_tokenized'] = train_df['text'].apply(lambda x: nltk.word_tokenize(x))\n",
    "train_df[['id', 'text', 'text_tokenized']].head()"
   ]
  },
  {
   "cell_type": "code",
   "execution_count": 48,
   "id": "6720d6c1",
   "metadata": {
    "execution": {
     "iopub.execute_input": "2022-11-19T07:36:45.542082Z",
     "iopub.status.busy": "2022-11-19T07:36:45.541714Z",
     "iopub.status.idle": "2022-11-19T07:36:46.967961Z",
     "shell.execute_reply": "2022-11-19T07:36:46.966842Z"
    },
    "id": "72ZA54IDYTp5",
    "papermill": {
     "duration": 1.464774,
     "end_time": "2022-11-19T07:36:46.970247",
     "exception": false,
     "start_time": "2022-11-19T07:36:45.505473",
     "status": "completed"
    },
    "scrolled": true,
    "tags": []
   },
   "outputs": [],
   "source": [
    "from gensim.models import Word2Vec\n",
    "\n",
    "## setting\n",
    "vector_dim = 100\n",
    "window_size = 5\n",
    "min_count = 1\n",
    "training_epochs = 20\n",
    "\n",
    "## model\n",
    "word2vec_model = Word2Vec(sentences=training_corpus, \n",
    "                          vector_size=vector_dim, window=window_size, \n",
    "                          min_count=min_count, epochs=training_epochs)"
   ]
  },
  {
   "cell_type": "markdown",
   "id": "0264362e",
   "metadata": {
    "id": "ob0Molb3YTp5",
    "papermill": {
     "duration": 0.034482,
     "end_time": "2022-11-19T07:36:47.039872",
     "exception": false,
     "start_time": "2022-11-19T07:36:47.005390",
     "status": "completed"
    },
    "tags": []
   },
   "source": [
    "![Imgur](https://i.imgur.com/Fca3MCs.png)"
   ]
  },
  {
   "cell_type": "markdown",
   "id": "0e9e8cf6",
   "metadata": {
    "id": "E0jjvjN5YTp5",
    "papermill": {
     "duration": 0.034157,
     "end_time": "2022-11-19T07:36:47.109556",
     "exception": false,
     "start_time": "2022-11-19T07:36:47.075399",
     "status": "completed"
    },
    "tags": []
   },
   "source": [
    "### 7.3 Generating word vector (embeddings)"
   ]
  },
  {
   "cell_type": "code",
   "execution_count": 49,
   "id": "61592a02",
   "metadata": {
    "execution": {
     "iopub.execute_input": "2022-11-19T07:36:47.180704Z",
     "iopub.status.busy": "2022-11-19T07:36:47.180099Z",
     "iopub.status.idle": "2022-11-19T07:36:47.186746Z",
     "shell.execute_reply": "2022-11-19T07:36:47.185727Z"
    },
    "id": "4ejofZfCYTp5",
    "outputId": "b6e8683c-4368-41e4-b05b-868822b9c406",
    "papermill": {
     "duration": 0.04446,
     "end_time": "2022-11-19T07:36:47.188417",
     "exception": false,
     "start_time": "2022-11-19T07:36:47.143957",
     "status": "completed"
    },
    "tags": []
   },
   "outputs": [
    {
     "data": {
      "text/plain": [
       "array([ 0.5332903 ,  0.1188989 , -0.09182462,  0.0112787 , -0.2602864 ,\n",
       "       -1.2453288 ,  0.41491592,  1.3517133 , -0.31592703, -0.74350405,\n",
       "       -0.86370784, -0.5440064 , -0.31231675,  0.51740146, -0.42078486,\n",
       "       -0.7057034 ,  0.00253   , -0.4702278 ,  0.1640669 , -1.1287527 ,\n",
       "        0.43981174,  0.809313  ,  0.52916497,  0.26487952,  0.166328  ,\n",
       "       -0.25011325, -0.5029868 ,  0.6505912 , -0.04165334, -0.19593973,\n",
       "        0.34151128, -0.4427241 ,  0.4779082 , -0.46924824, -0.6400205 ,\n",
       "        0.20716168,  0.36398792,  0.00979982, -0.30503175,  0.03206297,\n",
       "        0.33900508,  0.03550091, -0.44055167,  0.25441343,  0.7524782 ,\n",
       "        0.12079897, -0.9273978 ,  0.36015064, -0.04163473,  0.2569882 ,\n",
       "       -0.11426686, -0.45047083,  0.39038017,  0.01245862, -0.83835036,\n",
       "       -0.10336908,  0.32984668, -0.141999  ,  0.00700166, -0.19601905,\n",
       "        0.09584928, -0.31978813,  0.5772394 ,  0.01620819, -0.6767801 ,\n",
       "        0.6658159 ,  0.5791126 ,  0.7689402 , -1.361785  ,  0.33016858,\n",
       "       -0.16981389,  0.6625482 ,  0.42004925, -0.6775115 ,  0.7239841 ,\n",
       "       -0.20874077,  0.41002694,  0.41250622, -0.48728687, -0.31345004,\n",
       "       -0.66928285, -0.55826545, -0.6515333 ,  0.8328127 ,  0.03886242,\n",
       "       -0.71270204,  0.6952007 ,  0.17271069,  0.26160422,  0.2140403 ,\n",
       "        1.0460918 ,  0.21886437,  0.22717711,  0.08093418,  1.3529867 ,\n",
       "        0.17501816,  0.1363911 ,  0.03744345, -0.05659252, -0.04179464],\n",
       "      dtype=float32)"
      ]
     },
     "execution_count": 49,
     "metadata": {},
     "output_type": "execute_result"
    }
   ],
   "source": [
    "# get the corresponding vector of a word\n",
    "word_vec = word2vec_model.wv['happy']\n",
    "word_vec"
   ]
  },
  {
   "cell_type": "code",
   "execution_count": 50,
   "id": "853f03a5",
   "metadata": {
    "execution": {
     "iopub.execute_input": "2022-11-19T07:36:47.262435Z",
     "iopub.status.busy": "2022-11-19T07:36:47.261807Z",
     "iopub.status.idle": "2022-11-19T07:36:47.274322Z",
     "shell.execute_reply": "2022-11-19T07:36:47.273508Z"
    },
    "id": "9dUSkCscYTp5",
    "outputId": "ebd32d0b-bcda-4140-805e-35dfef1a68fb",
    "papermill": {
     "duration": 0.051516,
     "end_time": "2022-11-19T07:36:47.276853",
     "exception": false,
     "start_time": "2022-11-19T07:36:47.225337",
     "status": "completed"
    },
    "tags": []
   },
   "outputs": [
    {
     "data": {
      "text/plain": [
       "[('blessed', 0.9257147908210754),\n",
       " ('cats', 0.9206518530845642),\n",
       " ('bday', 0.9119521379470825),\n",
       " ('Be', 0.9100953340530396),\n",
       " (\"'you\", 0.895560622215271),\n",
       " ('right', 0.894049882888794),\n",
       " ('help', 0.8885336518287659),\n",
       " ('smile', 0.8876312375068665),\n",
       " ('plz', 0.8859533071517944),\n",
       " ('free', 0.8837763667106628)]"
      ]
     },
     "execution_count": 50,
     "metadata": {},
     "output_type": "execute_result"
    }
   ],
   "source": [
    "# Get the most similar words\n",
    "word = 'happy'\n",
    "topn = 10\n",
    "word2vec_model.wv.most_similar(word, topn=topn)"
   ]
  },
  {
   "cell_type": "markdown",
   "id": "f406654d",
   "metadata": {
    "id": "zuQvZVJvYTp5",
    "papermill": {
     "duration": 0.044874,
     "end_time": "2022-11-19T07:36:47.366755",
     "exception": false,
     "start_time": "2022-11-19T07:36:47.321881",
     "status": "completed"
    },
    "tags": []
   },
   "source": [
    "### 7.4 Using a pre-trained w2v model\n",
    "\n",
    "Instead of training your own model ,you can use a model that has already been trained. Here, we see 2 ways of doing that:\n",
    "\n",
    "\n",
    "#### (1) Download model by yourself\n",
    "\n",
    "source: [GoogleNews-vectors-negative300](https://code.google.com/archive/p/word2vec/)\n",
    "\n",
    "more details: https://radimrehurek.com/gensim/models/keyedvectors.html"
   ]
  },
  {
   "cell_type": "code",
   "execution_count": 51,
   "id": "cb127b5f",
   "metadata": {
    "execution": {
     "iopub.execute_input": "2022-11-19T07:36:47.442151Z",
     "iopub.status.busy": "2022-11-19T07:36:47.441841Z",
     "iopub.status.idle": "2022-11-19T07:38:00.748756Z",
     "shell.execute_reply": "2022-11-19T07:38:00.748001Z"
    },
    "id": "bdH9E9auYTp5",
    "outputId": "6193f5df-93cb-4c77-96fb-2d36b5d71835",
    "papermill": {
     "duration": 73.345414,
     "end_time": "2022-11-19T07:38:00.750870",
     "exception": false,
     "start_time": "2022-11-19T07:36:47.405456",
     "status": "completed"
    },
    "tags": []
   },
   "outputs": [
    {
     "name": "stdout",
     "output_type": "stream",
     "text": [
      "load ok\n"
     ]
    },
    {
     "data": {
      "text/plain": [
       "[('glad', 0.7408890724182129),\n",
       " ('pleased', 0.6632170677185059),\n",
       " ('ecstatic', 0.6626912355422974),\n",
       " ('overjoyed', 0.6599286794662476),\n",
       " ('thrilled', 0.6514049172401428),\n",
       " ('satisfied', 0.6437949538230896),\n",
       " ('proud', 0.636042058467865),\n",
       " ('delighted', 0.627237856388092),\n",
       " ('disappointed', 0.6269949674606323),\n",
       " ('excited', 0.6247665286064148)]"
      ]
     },
     "execution_count": 51,
     "metadata": {},
     "output_type": "execute_result"
    }
   ],
   "source": [
    "from gensim.models import KeyedVectors\n",
    "\n",
    "## Note: this model is very huge, this will take some time ...\n",
    "model_path = \"../input/googlenews/GoogleNews-vectors-negative300.bin\"\n",
    "w2v_google_model = KeyedVectors.load_word2vec_format(model_path, binary=True)\n",
    "print('load ok')\n",
    "\n",
    "w2v_google_model.most_similar('happy', topn=10)"
   ]
  },
  {
   "cell_type": "markdown",
   "id": "e14478aa",
   "metadata": {
    "id": "NdQ9ul0eYTp5",
    "papermill": {
     "duration": 0.044703,
     "end_time": "2022-11-19T07:38:00.843733",
     "exception": false,
     "start_time": "2022-11-19T07:38:00.799030",
     "status": "completed"
    },
    "tags": []
   },
   "source": [
    "#### (2) Using gensim api\n",
    "\n",
    "Other pretrained models are available here: https://github.com/RaRe-Technologies/gensim-data"
   ]
  },
  {
   "cell_type": "code",
   "execution_count": 52,
   "id": "46a4aca7",
   "metadata": {
    "execution": {
     "iopub.execute_input": "2022-11-19T07:38:00.917561Z",
     "iopub.status.busy": "2022-11-19T07:38:00.917083Z",
     "iopub.status.idle": "2022-11-19T07:38:41.967089Z",
     "shell.execute_reply": "2022-11-19T07:38:41.966387Z"
    },
    "id": "oIxHpNB6YTp5",
    "outputId": "8dc8d6f9-80b3-4cff-810d-28f175f5b891",
    "papermill": {
     "duration": 41.882369,
     "end_time": "2022-11-19T07:38:42.762340",
     "exception": false,
     "start_time": "2022-11-19T07:38:00.879971",
     "status": "completed"
    },
    "tags": []
   },
   "outputs": [
    {
     "name": "stdout",
     "output_type": "stream",
     "text": [
      "[==================================================] 100.0% 104.8/104.8MB downloaded\n",
      "load ok\n"
     ]
    },
    {
     "data": {
      "text/plain": [
       "[('birthday', 0.9577818512916565),\n",
       " ('thank', 0.937666654586792),\n",
       " ('welcome', 0.93361496925354),\n",
       " ('love', 0.9176183342933655),\n",
       " ('miss', 0.9164500832557678),\n",
       " ('hello', 0.9158351421356201),\n",
       " ('thanks', 0.915008544921875),\n",
       " ('merry', 0.9053249359130859),\n",
       " ('bless', 0.902732253074646),\n",
       " ('wish', 0.9013164043426514)]"
      ]
     },
     "execution_count": 52,
     "metadata": {},
     "output_type": "execute_result"
    }
   ],
   "source": [
    "import gensim.downloader as api\n",
    "\n",
    "## If you see `SSL: CERTIFICATE_VERIFY_FAILED` error, use this:\n",
    "import ssl\n",
    "import urllib.request\n",
    "ssl._create_default_https_context = ssl._create_unverified_context\n",
    "\n",
    "glove_twitter_25_model = api.load(\"glove-twitter-25\")\n",
    "print('load ok')\n",
    "\n",
    "glove_twitter_25_model.most_similar('happy', topn=10)"
   ]
  },
  {
   "cell_type": "markdown",
   "id": "b2e91c47",
   "metadata": {
    "id": "GCNDNqeXYTp5",
    "papermill": {
     "duration": 0.751146,
     "end_time": "2022-11-19T07:38:44.317456",
     "exception": false,
     "start_time": "2022-11-19T07:38:43.566310",
     "status": "completed"
    },
    "tags": []
   },
   "source": [
    "### 7.5 king + woman - man = ?"
   ]
  },
  {
   "cell_type": "markdown",
   "id": "6bee1ba9",
   "metadata": {
    "id": "_GtCRr_7YTp5",
    "papermill": {
     "duration": 0.812017,
     "end_time": "2022-11-19T07:38:45.937828",
     "exception": false,
     "start_time": "2022-11-19T07:38:45.125811",
     "status": "completed"
    },
    "tags": []
   },
   "source": [
    "Let's run one of the most famous examples for Word2Vec and compute the similarity between these 3 words:"
   ]
  },
  {
   "cell_type": "code",
   "execution_count": 53,
   "id": "24ed4793",
   "metadata": {
    "execution": {
     "iopub.execute_input": "2022-11-19T07:38:47.497743Z",
     "iopub.status.busy": "2022-11-19T07:38:47.497341Z",
     "iopub.status.idle": "2022-11-19T07:38:47.669559Z",
     "shell.execute_reply": "2022-11-19T07:38:47.668667Z"
    },
    "id": "Zew7m_kIYTp5",
    "outputId": "807bc2d0-c2c1-4b96-e61d-a62e6096aa1e",
    "papermill": {
     "duration": 0.98518,
     "end_time": "2022-11-19T07:38:47.672370",
     "exception": false,
     "start_time": "2022-11-19T07:38:46.687190",
     "status": "completed"
    },
    "tags": []
   },
   "outputs": [
    {
     "data": {
      "text/plain": [
       "[('queen', 0.7118193507194519),\n",
       " ('monarch', 0.6189674139022827),\n",
       " ('princess', 0.5902431011199951),\n",
       " ('crown_prince', 0.5499460697174072),\n",
       " ('prince', 0.5377321839332581),\n",
       " ('kings', 0.5236844420433044),\n",
       " ('Queen_Consort', 0.5235945582389832),\n",
       " ('queens', 0.5181134343147278),\n",
       " ('sultan', 0.5098593831062317),\n",
       " ('monarchy', 0.5087411999702454)]"
      ]
     },
     "execution_count": 53,
     "metadata": {},
     "output_type": "execute_result"
    }
   ],
   "source": [
    "w2v_google_model.most_similar(positive=['king', 'woman'], negative=['man'])"
   ]
  },
  {
   "cell_type": "markdown",
   "id": "a11e5a17",
   "metadata": {
    "id": "y3RQVnBOYTp5",
    "papermill": {
     "duration": 0.804328,
     "end_time": "2022-11-19T07:38:49.244190",
     "exception": false,
     "start_time": "2022-11-19T07:38:48.439862",
     "status": "completed"
    },
    "tags": []
   },
   "source": [
    "---\n",
    "### ** >>> Exercise 7 (Take home): **  \n",
    "\n",
    "Now, we have the word vectors, but our input data is a sequence of words (or say sentence). \n",
    "How can we utilize these \"word\" vectors to represent the sentence data and train our model?\n"
   ]
  },
  {
   "cell_type": "code",
   "execution_count": 54,
   "id": "6550b233",
   "metadata": {
    "execution": {
     "iopub.execute_input": "2022-11-19T07:38:50.794895Z",
     "iopub.status.busy": "2022-11-19T07:38:50.794462Z",
     "iopub.status.idle": "2022-11-19T07:38:50.799344Z",
     "shell.execute_reply": "2022-11-19T07:38:50.797919Z"
    },
    "id": "TBwRT93DYTp5",
    "papermill": {
     "duration": 0.752333,
     "end_time": "2022-11-19T07:38:50.802020",
     "exception": false,
     "start_time": "2022-11-19T07:38:50.049687",
     "status": "completed"
    },
    "tags": []
   },
   "outputs": [],
   "source": [
    "# Answer here\n"
   ]
  },
  {
   "cell_type": "markdown",
   "id": "fdd9061f",
   "metadata": {
    "id": "LrK7O1KDYTp5",
    "papermill": {
     "duration": 0.744817,
     "end_time": "2022-11-19T07:38:52.364965",
     "exception": false,
     "start_time": "2022-11-19T07:38:51.620148",
     "status": "completed"
    },
    "tags": []
   },
   "source": [
    "# 8. Clustering: k-means\n",
    "\n",
    "Here we introduce how to use `sklearn` to do the basic **unsupervised learning** approach, k-means.    \n",
    "\n",
    "more details: http://scikit-learn.org/stable/modules/generated/sklearn.cluster.KMeans.html\n"
   ]
  },
  {
   "cell_type": "markdown",
   "id": "9f1367ac",
   "metadata": {
    "id": "Hr8_IxwBYTp5",
    "papermill": {
     "duration": 0.763176,
     "end_time": "2022-11-19T07:38:53.936737",
     "exception": false,
     "start_time": "2022-11-19T07:38:53.173561",
     "status": "completed"
    },
    "tags": []
   },
   "source": [
    "#### Basic concept\n",
    "\n",
    "![image.png](https://camo.githubusercontent.com/630f4ff082ed061752822d94fce7b3da1f841301be6d5a3ee529d0bfe9186f87/68747470733a2f2f692e696d6775722e636f6d2f504564556635342e706e67)"
   ]
  },
  {
   "cell_type": "code",
   "execution_count": 55,
   "id": "102edbff",
   "metadata": {
    "execution": {
     "iopub.execute_input": "2022-11-19T07:38:55.556572Z",
     "iopub.status.busy": "2022-11-19T07:38:55.555956Z",
     "iopub.status.idle": "2022-11-19T07:38:55.562580Z",
     "shell.execute_reply": "2022-11-19T07:38:55.561334Z"
    },
    "id": "6heUPVwWYTp5",
    "outputId": "46a95152-7852-49d5-c055-f24ac1a04aa3",
    "papermill": {
     "duration": 0.816951,
     "end_time": "2022-11-19T07:38:55.564446",
     "exception": false,
     "start_time": "2022-11-19T07:38:54.747495",
     "status": "completed"
    },
    "tags": []
   },
   "outputs": [
    {
     "name": "stdout",
     "output_type": "stream",
     "text": [
      "target words:  ['happy', 'fear', 'angry', 'car', 'teacher', 'computer']\n"
     ]
    }
   ],
   "source": [
    "# clustering target\n",
    "target_list = ['happy', 'fear', 'angry', 'car', 'teacher', 'computer']\n",
    "print('target words: ', target_list)\n",
    "\n",
    "# convert to word vector\n",
    "X = [word2vec_model.wv[word] for word in target_list]"
   ]
  },
  {
   "cell_type": "code",
   "execution_count": 56,
   "id": "71ede133",
   "metadata": {
    "execution": {
     "iopub.execute_input": "2022-11-19T07:38:57.135579Z",
     "iopub.status.busy": "2022-11-19T07:38:57.134934Z",
     "iopub.status.idle": "2022-11-19T07:38:57.469144Z",
     "shell.execute_reply": "2022-11-19T07:38:57.468250Z"
    },
    "id": "E9t_sJrvYTp5",
    "outputId": "47d70112-5490-47cc-8014-1b5b7dadbb26",
    "papermill": {
     "duration": 1.15893,
     "end_time": "2022-11-19T07:38:57.471194",
     "exception": false,
     "start_time": "2022-11-19T07:38:56.312264",
     "status": "completed"
    },
    "tags": []
   },
   "outputs": [
    {
     "name": "stdout",
     "output_type": "stream",
     "text": [
      "word: happy \t cluster: 1\n",
      "word: fear \t cluster: 1\n",
      "word: angry \t cluster: 1\n",
      "word: car \t cluster: 0\n",
      "word: teacher \t cluster: 0\n",
      "word: computer \t cluster: 0\n"
     ]
    }
   ],
   "source": [
    "from sklearn.cluster import KMeans\n",
    "\n",
    "# we have to decide how many cluster (k) we want\n",
    "k = 2\n",
    "\n",
    "# k-means model\n",
    "kmeans_model = KMeans(n_clusters=k)\n",
    "kmeans_model.fit(X)\n",
    "\n",
    "# cluster result\n",
    "cluster_result = kmeans_model.labels_\n",
    "\n",
    "# show\n",
    "for i in range(len(target_list)):\n",
    "    print('word: {} \\t cluster: {}'.format(target_list[i], cluster_result[i]))"
   ]
  },
  {
   "cell_type": "markdown",
   "id": "6ba4524f",
   "metadata": {
    "id": "QcDTL7kRYTp5",
    "papermill": {
     "duration": 0.813987,
     "end_time": "2022-11-19T07:38:59.037039",
     "exception": false,
     "start_time": "2022-11-19T07:38:58.223052",
     "status": "completed"
    },
    "tags": []
   },
   "source": [
    "![image.png](https://raw.githubusercontent.com/keziatamus/DM2022-Lab2-Master/08755efc671824064d7a9347edb8c418550c3e83//pics/pic6.png)"
   ]
  },
  {
   "cell_type": "code",
   "execution_count": 57,
   "id": "ede77ae6",
   "metadata": {
    "execution": {
     "iopub.execute_input": "2022-11-19T07:39:00.625965Z",
     "iopub.status.busy": "2022-11-19T07:39:00.625598Z",
     "iopub.status.idle": "2022-11-19T07:39:00.775150Z",
     "shell.execute_reply": "2022-11-19T07:39:00.774194Z"
    },
    "id": "NIMFax_uYTp5",
    "outputId": "2f2df2f8-98d2-426b-8ced-719be6a03281",
    "papermill": {
     "duration": 0.993076,
     "end_time": "2022-11-19T07:39:00.777207",
     "exception": false,
     "start_time": "2022-11-19T07:38:59.784131",
     "status": "completed"
    },
    "tags": []
   },
   "outputs": [
    {
     "data": {
      "text/plain": [
       "array([0], dtype=int32)"
      ]
     },
     "execution_count": 57,
     "metadata": {},
     "output_type": "execute_result"
    }
   ],
   "source": [
    "#check cluster membership\n",
    "word = 'student'\n",
    "word_vec = word2vec_model.wv[word]\n",
    "kmeans_model.predict([word_vec])"
   ]
  },
  {
   "cell_type": "code",
   "execution_count": 58,
   "id": "3b68cb9c",
   "metadata": {
    "execution": {
     "iopub.execute_input": "2022-11-19T07:39:02.393945Z",
     "iopub.status.busy": "2022-11-19T07:39:02.393505Z",
     "iopub.status.idle": "2022-11-19T07:39:02.411682Z",
     "shell.execute_reply": "2022-11-19T07:39:02.410949Z"
    },
    "id": "vIDuLDOlYTp5",
    "outputId": "eae37f20-1de0-498d-a327-ce60d7336fb0",
    "papermill": {
     "duration": 0.835265,
     "end_time": "2022-11-19T07:39:02.413363",
     "exception": false,
     "start_time": "2022-11-19T07:39:01.578098",
     "status": "completed"
    },
    "tags": []
   },
   "outputs": [
    {
     "data": {
      "text/plain": [
       "array([1], dtype=int32)"
      ]
     },
     "execution_count": 58,
     "metadata": {},
     "output_type": "execute_result"
    }
   ],
   "source": [
    "#check cluster membership\n",
    "word = 'sad'\n",
    "word_vec = word2vec_model.wv[word]\n",
    "kmeans_model.predict([word_vec])"
   ]
  },
  {
   "cell_type": "markdown",
   "id": "1454c4a0",
   "metadata": {
    "id": "cZOEGH3GYTp5",
    "papermill": {
     "duration": 0.817308,
     "end_time": "2022-11-19T07:39:03.971140",
     "exception": false,
     "start_time": "2022-11-19T07:39:03.153832",
     "status": "completed"
    },
    "tags": []
   },
   "source": [
    "\n",
    "# 9. High-dimension Visualization: t-SNE\n",
    "\n",
    "No matter if you use the Bag-of-words, tf-idf, or word2vec, it's very hard to see the embedding result, because the dimension is larger than 3.  \n",
    "\n",
    "In Lab 1, we already talked about PCA. We can use PCA to reduce the dimension of our data, then visualize it. However, if you dig deeper into the result, you'd find it is insufficient...\n",
    "\n",
    "Our aim will be to create a visualization similar to the one below:"
   ]
  },
  {
   "cell_type": "markdown",
   "id": "b41a8fe8",
   "metadata": {
    "id": "4FeIFzzxYTp5",
    "papermill": {
     "duration": 0.802904,
     "end_time": "2022-11-19T07:39:05.544683",
     "exception": false,
     "start_time": "2022-11-19T07:39:04.741779",
     "status": "completed"
    },
    "tags": []
   },
   "source": [
    "  "
   ]
  },
  {
   "cell_type": "markdown",
   "id": "43bbc74c",
   "metadata": {
    "id": "3-JR-rqyYTp5",
    "papermill": {
     "duration": 0.811238,
     "end_time": "2022-11-19T07:39:07.105402",
     "exception": false,
     "start_time": "2022-11-19T07:39:06.294164",
     "status": "completed"
    },
    "tags": []
   },
   "source": [
    "![image.png](https://raw.githubusercontent.com/keziatamus/DM2022-Lab2-Master/08755efc671824064d7a9347edb8c418550c3e83//pics/pic7.png)"
   ]
  },
  {
   "cell_type": "markdown",
   "id": "dbf3376d",
   "metadata": {
    "id": "KCFR771SYTp5",
    "papermill": {
     "duration": 0.820052,
     "end_time": "2022-11-19T07:39:08.669728",
     "exception": false,
     "start_time": "2022-11-19T07:39:07.849676",
     "status": "completed"
    },
    "tags": []
   },
   "source": [
    "  "
   ]
  },
  {
   "cell_type": "markdown",
   "id": "d75006b0",
   "metadata": {
    "id": "tmdbJbjxYTp5",
    "papermill": {
     "duration": 0.815616,
     "end_time": "2022-11-19T07:39:10.227731",
     "exception": false,
     "start_time": "2022-11-19T07:39:09.412115",
     "status": "completed"
    },
    "tags": []
   },
   "source": [
    "Here we would like to introduce another visualization method called t-SNE.  \n",
    "http://scikit-learn.org/stable/modules/generated/sklearn.manifold.TSNE.html "
   ]
  },
  {
   "cell_type": "markdown",
   "id": "b434fad6",
   "metadata": {
    "id": "MU8eeDnGYTp5",
    "papermill": {
     "duration": 0.808626,
     "end_time": "2022-11-19T07:39:11.786555",
     "exception": false,
     "start_time": "2022-11-19T07:39:10.977929",
     "status": "completed"
    },
    "tags": []
   },
   "source": [
    "### 9.1 Prepare visualizing target"
   ]
  },
  {
   "cell_type": "markdown",
   "id": "0683fcad",
   "metadata": {
    "id": "T9IHcP3VYTp5",
    "papermill": {
     "duration": 0.807944,
     "end_time": "2022-11-19T07:39:13.339632",
     "exception": false,
     "start_time": "2022-11-19T07:39:12.531688",
     "status": "completed"
    },
    "tags": []
   },
   "source": [
    "Let's repare data lists like:\n",
    "    - happpy words\n",
    "    - angry words\n",
    "    - data words\n",
    "    - mining words"
   ]
  },
  {
   "cell_type": "code",
   "execution_count": 59,
   "id": "d2504623",
   "metadata": {
    "execution": {
     "iopub.execute_input": "2022-11-19T07:39:14.889625Z",
     "iopub.status.busy": "2022-11-19T07:39:14.889273Z",
     "iopub.status.idle": "2022-11-19T07:39:15.561364Z",
     "shell.execute_reply": "2022-11-19T07:39:15.560577Z"
    },
    "id": "L9il5L7pYTp5",
    "outputId": "91d18f86-d137-4771-94db-ca7542d5a8d6",
    "papermill": {
     "duration": 1.478734,
     "end_time": "2022-11-19T07:39:15.563340",
     "exception": false,
     "start_time": "2022-11-19T07:39:14.084606",
     "status": "completed"
    },
    "tags": []
   },
   "outputs": [
    {
     "name": "stdout",
     "output_type": "stream",
     "text": [
      "happy_words:  ['happy', 'glad', 'pleased', 'ecstatic', 'overjoyed', 'thrilled']\n",
      "angry_words:  ['angry', 'irate', 'enraged', 'indignant', 'incensed', 'annoyed']\n",
      "data_words:  ['data', 'Data', 'datasets', 'dataset', 'databases', 'statistics']\n",
      "mining_words:  ['mining', 'Mining', 'mines', 'coal_mining', 'mine', 'miner']\n",
      "\n",
      "target words: \n",
      "['happy', 'glad', 'pleased', 'ecstatic', 'overjoyed', 'thrilled', 'angry', 'irate', 'enraged', 'indignant', 'incensed', 'annoyed', 'data', 'Data', 'datasets', 'dataset', 'databases', 'statistics', 'mining', 'Mining', 'mines', 'coal_mining', 'mine', 'miner']\n",
      "\n",
      "color list:\n",
      "['b', 'b', 'b', 'b', 'b', 'b', 'g', 'g', 'g', 'g', 'g', 'g', 'r', 'r', 'r', 'r', 'r', 'r', 'y', 'y', 'y', 'y', 'y', 'y']\n"
     ]
    }
   ],
   "source": [
    "word_list = ['happy', 'angry', 'data', 'mining']\n",
    "\n",
    "topn = 5\n",
    "happy_words = ['happy'] + [word_ for word_, sim_ in w2v_google_model.most_similar('happy', topn=topn)]\n",
    "angry_words = ['angry'] + [word_ for word_, sim_ in w2v_google_model.most_similar('angry', topn=topn)]        \n",
    "data_words = ['data'] + [word_ for word_, sim_ in w2v_google_model.most_similar('data', topn=topn)]        \n",
    "mining_words = ['mining'] + [word_ for word_, sim_ in w2v_google_model.most_similar('mining', topn=topn)]        \n",
    "\n",
    "print('happy_words: ', happy_words)\n",
    "print('angry_words: ', angry_words)\n",
    "print('data_words: ', data_words)\n",
    "print('mining_words: ', mining_words)\n",
    "\n",
    "target_words = happy_words + angry_words + data_words + mining_words\n",
    "print('\\ntarget words: ')\n",
    "print(target_words)\n",
    "\n",
    "print('\\ncolor list:')\n",
    "cn = topn + 1\n",
    "color = ['b'] * cn + ['g'] * cn + ['r'] * cn + ['y'] * cn\n",
    "print(color)"
   ]
  },
  {
   "cell_type": "markdown",
   "id": "6bcf7067",
   "metadata": {
    "id": "zKa5LRxbYTp5",
    "papermill": {
     "duration": 0.821269,
     "end_time": "2022-11-19T07:39:17.156226",
     "exception": false,
     "start_time": "2022-11-19T07:39:16.334957",
     "status": "completed"
    },
    "tags": []
   },
   "source": [
    "### 9.1 Plot using t-SNE (2-dimension)"
   ]
  },
  {
   "cell_type": "code",
   "execution_count": 60,
   "id": "16a0ae11",
   "metadata": {
    "execution": {
     "iopub.execute_input": "2022-11-19T07:39:18.712025Z",
     "iopub.status.busy": "2022-11-19T07:39:18.711657Z",
     "iopub.status.idle": "2022-11-19T07:39:19.942259Z",
     "shell.execute_reply": "2022-11-19T07:39:19.941216Z"
    },
    "id": "CJlljN2gYTp5",
    "outputId": "cdd792e6-0a15-4189-d611-02b1aa42ddb1",
    "papermill": {
     "duration": 2.045688,
     "end_time": "2022-11-19T07:39:19.944525",
     "exception": false,
     "start_time": "2022-11-19T07:39:17.898837",
     "status": "completed"
    },
    "tags": []
   },
   "outputs": [
    {
     "data": {
      "image/png": "[encoded data removed]",
      "text/plain": [
       "<Figure size 862.5x862.5 with 1 Axes>"
      ]
     },
     "metadata": {
      "needs_background": "light"
     },
     "output_type": "display_data"
    }
   ],
   "source": [
    "%matplotlib inline\n",
    "import matplotlib.pyplot as plt\n",
    "from sklearn.manifold import TSNE\n",
    "\n",
    "## w2v model\n",
    "model = w2v_google_model\n",
    "\n",
    "## prepare training word vectors\n",
    "size = 200\n",
    "target_size = len(target_words)\n",
    "all_word = list(model.index_to_key)\n",
    "word_train = target_words + all_word[:size]\n",
    "X_train = model[word_train]\n",
    "\n",
    "## t-SNE model\n",
    "tsne = TSNE(n_components=2, metric='cosine', random_state=28)\n",
    "\n",
    "## training\n",
    "X_tsne = tsne.fit_transform(X_train)\n",
    "\n",
    "## plot the result\n",
    "plt.figure(figsize=(7.5, 7.5), dpi=115)\n",
    "plt.scatter(X_tsne[:target_size, 0], X_tsne[:target_size, 1], c=color)\n",
    "for label, x, y in zip(target_words, X_tsne[:target_size, 0], X_tsne[:target_size, 1]):\n",
    "    plt.annotate(label, xy=(x,y), xytext=(0,0),  textcoords='offset points')\n",
    "plt.show()"
   ]
  },
  {
   "cell_type": "markdown",
   "id": "92cac1d6",
   "metadata": {
    "id": "2PL61rqYYTp5",
    "papermill": {
     "duration": 0.809451,
     "end_time": "2022-11-19T07:39:21.501775",
     "exception": false,
     "start_time": "2022-11-19T07:39:20.692324",
     "status": "completed"
    },
    "tags": []
   },
   "source": [
    "---\n",
    "### ** >>> Exercise 8 (Take home): **  \n",
    "\n",
    "Generate a t-SNE visualization to show the 15 words most related to the words \"angry\", \"happy\", \"sad\", \"fear\" (60 words total)."
   ]
  },
  {
   "cell_type": "code",
   "execution_count": 61,
   "id": "571e145c",
   "metadata": {
    "execution": {
     "iopub.execute_input": "2022-11-19T07:39:23.059333Z",
     "iopub.status.busy": "2022-11-19T07:39:23.058221Z",
     "iopub.status.idle": "2022-11-19T07:39:23.062472Z",
     "shell.execute_reply": "2022-11-19T07:39:23.061869Z"
    },
    "id": "rvh7ymeNYTp5",
    "papermill": {
     "duration": 0.811788,
     "end_time": "2022-11-19T07:39:23.064284",
     "exception": false,
     "start_time": "2022-11-19T07:39:22.252496",
     "status": "completed"
    },
    "tags": []
   },
   "outputs": [],
   "source": [
    "# Answer here\n"
   ]
  },
  {
   "cell_type": "markdown",
   "id": "f8b0d1b8",
   "metadata": {
    "id": "_fF1woa8YTp5",
    "papermill": {
     "duration": 0.802269,
     "end_time": "2022-11-19T07:39:24.611076",
     "exception": false,
     "start_time": "2022-11-19T07:39:23.808807",
     "status": "completed"
    },
    "tags": []
   },
   "source": [
    "---"
   ]
  }
 ],
 "metadata": {
  "kernelspec": {
   "display_name": "Python 3",
   "language": "python",
   "name": "python3"
  },
  "language_info": {
   "codemirror_mode": {
    "name": "ipython",
    "version": 3
   },
   "file_extension": ".py",
   "mimetype": "text/x-python",
   "name": "python",
   "nbconvert_exporter": "python",
   "pygments_lexer": "ipython3",
   "version": "3.7.12"
  },
  "papermill": {
   "default_parameters": {},
   "duration": 200.080021,
   "end_time": "2022-11-19T07:39:28.894520",
   "environment_variables": {},
   "exception": null,
   "input_path": "__notebook__.ipynb",
   "output_path": "__notebook__.ipynb",
   "parameters": {},
   "start_time": "2022-11-19T07:36:08.814499",
   "version": "2.3.4"
  }
 },
 "nbformat": 4,
 "nbformat_minor": 5
}
