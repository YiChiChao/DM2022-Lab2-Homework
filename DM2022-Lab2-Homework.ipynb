{
 "cells": [
  {
   "cell_type": "markdown",
   "id": "1ba261e6",
   "metadata": {
    "papermill": {
     "duration": 0.023815,
     "end_time": "2022-11-19T17:32:16.634991",
     "exception": false,
     "start_time": "2022-11-19T17:32:16.611176",
     "status": "completed"
    },
    "tags": []
   },
   "source": [
    "### Student Information\n",
    "Name: 趙苡棋\n",
    "\n",
    "Student ID: 109070024\n",
    "\n",
    "GitHub ID: YiChiChao\n",
    "\n",
    "Kaggle name: \n",
    "\n",
    "Kaggle private scoreboard snapshot:\n",
    "\n",
    "[Snapshot](img/pic0.png)"
   ]
  },
  {
   "cell_type": "markdown",
   "id": "ea7554ec",
   "metadata": {
    "papermill": {
     "duration": 0.022286,
     "end_time": "2022-11-19T17:32:16.679996",
     "exception": false,
     "start_time": "2022-11-19T17:32:16.657710",
     "status": "completed"
    },
    "tags": []
   },
   "source": [
    "### Instructions"
   ]
  },
  {
   "cell_type": "markdown",
   "id": "af8d74c9",
   "metadata": {
    "papermill": {
     "duration": 0.022344,
     "end_time": "2022-11-19T17:32:16.724727",
     "exception": false,
     "start_time": "2022-11-19T17:32:16.702383",
     "status": "completed"
    },
    "tags": []
   },
   "source": [
    "1. First: __This part is worth 30% of your grade.__ Do the **take home** exercises in the [DM2022-Lab2-master Repo](https://github.com/keziatamus/DM2022-Lab2-Master). You may need to copy some cells from the Lab notebook to this notebook. \n",
    "\n",
    "\n",
    "2. Second: __This part is worth 30% of your grade.__ Participate in the in-class [Kaggle Competition](https://www.kaggle.com/competitions/dm2022-isa5810-lab2-homework) regarding Emotion Recognition on Twitter by this link https://www.kaggle.com/t/2b0d14a829f340bc88d2660dc602d4bd. The scoring will be given according to your place in the Private Leaderboard ranking: \n",
    "    - **Bottom 40%**: Get 20% of the 30% available for this section.\n",
    "\n",
    "    - **Top 41% - 100%**: Get (60-x)/6 + 20 points, where x is your ranking in the leaderboard (ie. If you rank 3rd your score will be (60-3)/6 + 20 = 29.5% out of 30%)   \n",
    "    Submit your last submission __BEFORE the deadline (Nov. 22th 11:59 pm, Tuesday)_. Make sure to take a screenshot of your position at the end of the competition and store it as '''pic0.png''' under the **img** folder of this repository and rerun the cell **Student Information**.\n",
    "    \n",
    "\n",
    "3. Third: __This part is worth 30% of your grade.__ A report of your work developping the model for the competition (You can use code and comment it). This report should include what your preprocessing steps, the feature engineering steps and an explanation of your model. You can also mention different things you tried and insights you gained. \n",
    "\n",
    "\n",
    "4. Fourth: __This part is worth 10% of your grade.__ It's hard for us to follow if your code is messy :'(, so please **tidy up your notebook** and **add minimal comments where needed**.\n",
    "\n",
    "\n",
    "Upload your files to your repository then submit the link to it on the corresponding e-learn assignment.\n",
    "\n",
    "Make sure to commit and save your changes to your repository __BEFORE the deadline (Nov. 25th 11:59 pm, Friday)__. "
   ]
  },
  {
   "cell_type": "markdown",
   "id": "423a45ac",
   "metadata": {
    "id": "uuutyCx4YTpX",
    "papermill": {
     "duration": 0.022436,
     "end_time": "2022-11-19T17:32:16.770131",
     "exception": false,
     "start_time": "2022-11-19T17:32:16.747695",
     "status": "completed"
    },
    "tags": []
   },
   "source": [
    "# Data Mining Lab 2\n",
    "In this lab session we will focus on the use of Neural Word Embeddings "
   ]
  },
  {
   "cell_type": "markdown",
   "id": "38820adf",
   "metadata": {
    "id": "ledffNYYYTpX",
    "papermill": {
     "duration": 0.022678,
     "end_time": "2022-11-19T17:32:16.815344",
     "exception": false,
     "start_time": "2022-11-19T17:32:16.792666",
     "status": "completed"
    },
    "tags": []
   },
   "source": [
    "## Table of Contents\n",
    "1. Data preparation\n",
    "2. Feature engineering\n",
    "3. Model\n",
    "4. Results evaluation\n",
    "5. Other things you could try\n",
    "6. Deep Learning\n",
    "7. Word to Vector\n",
    "8. Clustering\n",
    "9. High-dimension Visualization\n",
    "\n"
   ]
  },
  {
   "cell_type": "markdown",
   "id": "ce08c062",
   "metadata": {
    "papermill": {
     "duration": 0.021675,
     "end_time": "2022-11-19T17:32:16.859242",
     "exception": false,
     "start_time": "2022-11-19T17:32:16.837567",
     "status": "completed"
    },
    "tags": []
   },
   "source": [
    "## Necessary Library Requirements:\n",
    "\n",
    "#### Same as Lab1:\n",
    "- [Jupyter](http://jupyter.org/) (Strongly recommended but not required)\n",
    "    - Install via `pip3 install jupyter` and use `jupyter notebook` in terminal to run\n",
    "- [Scikit Learn](http://scikit-learn.org/stable/index.html)\n",
    "    - Install via `pip3 sklearn` from a terminal\n",
    "- [Pandas](http://pandas.pydata.org/)\n",
    "    - Install via `pip3 install pandas` from a terminal\n",
    "- [Numpy](http://www.numpy.org/)\n",
    "    - Install via `pip3 install numpy` from a terminal\n",
    "- [Matplotlib](https://matplotlib.org/)\n",
    "    - Install via `pip3 maplotlib` from a terminal\n",
    "- [Plotly](https://plot.ly/)\n",
    "    - Install via `pip3 install plotly` from a terminal\n",
    "- [Seaborn](https://seaborn.pydata.org/)\n",
    "    - Install and signup for `seaborn`\n",
    "- [NLTK](http://www.nltk.org/)\n",
    "    - Install via `pip3 install nltk` from a terminal\n",
    "\n",
    "#### New Libraries to intsall:\n",
    "- [Gensim](https://pypi.org/project/gensim/)\n",
    "    - Install via `pip3 install gensim`\n",
    "\n",
    "- [tensorflow](https://www.tensorflow.org/)\n",
    "    - Install via `pip3 install tensorflow`\n",
    "    - Also install `pip3 install tensorflow-hub`\n",
    "\n",
    "- [Keras](https://keras.io/)\n",
    "    - Install via `pip3 install keras`"
   ]
  },
  {
   "cell_type": "markdown",
   "id": "cf3cda4e",
   "metadata": {
    "id": "LIpAqCvMYTpX",
    "papermill": {
     "duration": 0.02152,
     "end_time": "2022-11-19T17:32:16.902868",
     "exception": false,
     "start_time": "2022-11-19T17:32:16.881348",
     "status": "completed"
    },
    "tags": []
   },
   "source": [
    "---\n",
    "# Introduction"
   ]
  },
  {
   "cell_type": "markdown",
   "id": "5b126278",
   "metadata": {
    "id": "n2paPeNbYTpX",
    "papermill": {
     "duration": 0.022175,
     "end_time": "2022-11-19T17:32:16.947483",
     "exception": false,
     "start_time": "2022-11-19T17:32:16.925308",
     "status": "completed"
    },
    "tags": []
   },
   "source": [
    "**Dataset:** [SemEval 2017 Task](https://competitions.codalab.org/competitions/16380)\n",
    "\n",
    "**Task:** Classify text data into 4 different emotions using word embedding and other deep information retrieval approaches.\n",
    "\n",
    "![image.png](https://raw.githubusercontent.com/keziatamus/DM2022-Lab2-Master/08755efc671824064d7a9347edb8c418550c3e83//pics/pic0.png)"
   ]
  },
  {
   "cell_type": "markdown",
   "id": "3adccbab",
   "metadata": {
    "id": "op_X7pR-YTpX",
    "papermill": {
     "duration": 0.022021,
     "end_time": "2022-11-19T17:32:16.991534",
     "exception": false,
     "start_time": "2022-11-19T17:32:16.969513",
     "status": "completed"
    },
    "tags": []
   },
   "source": [
    "---\n",
    "# 1. Data Preparation"
   ]
  },
  {
   "cell_type": "markdown",
   "id": "970b9e7e",
   "metadata": {
    "id": "ID-8I1ELYTpX",
    "papermill": {
     "duration": 0.021521,
     "end_time": "2022-11-19T17:32:17.035352",
     "exception": false,
     "start_time": "2022-11-19T17:32:17.013831",
     "status": "completed"
    },
    "tags": []
   },
   "source": [
    "Before beggining the lab, please make sure to download the [Google News Dataset](https://drive.google.com/file/d/0B7XkCwpI5KDYNlNUTTlSS21pQmM/edit) and place it in a folder named \"GoogleNews\" in the same directory as this file."
   ]
  },
  {
   "cell_type": "markdown",
   "id": "37735a32",
   "metadata": {
    "id": "pgoEbZzSYTpX",
    "papermill": {
     "duration": 0.022848,
     "end_time": "2022-11-19T17:32:17.080097",
     "exception": false,
     "start_time": "2022-11-19T17:32:17.057249",
     "status": "completed"
    },
    "tags": []
   },
   "source": [
    "## 1.1 Load data\n",
    "\n",
    "We start by loading the csv files into a single pandas dataframe for training and one for testing."
   ]
  },
  {
   "cell_type": "code",
   "execution_count": 1,
   "id": "d136a9af",
   "metadata": {
    "execution": {
     "iopub.execute_input": "2022-11-19T17:32:17.127615Z",
     "iopub.status.busy": "2022-11-19T17:32:17.127111Z",
     "iopub.status.idle": "2022-11-19T17:32:17.197888Z",
     "shell.execute_reply": "2022-11-19T17:32:17.196856Z"
    },
    "id": "anfjcPSSYTpX",
    "papermill": {
     "duration": 0.096781,
     "end_time": "2022-11-19T17:32:17.200088",
     "exception": false,
     "start_time": "2022-11-19T17:32:17.103307",
     "status": "completed"
    },
    "tags": []
   },
   "outputs": [],
   "source": [
    "import pandas as pd\n",
    "\n",
    "### training data\n",
    "anger_train = pd.read_csv(\"../input/lab2-dataset/data/semeval/train/anger-ratings-0to1.train.txt\",\n",
    "                         sep=\"\\t\", header=None,names=[\"id\", \"text\", \"emotion\", \"intensity\"])\n",
    "sadness_train = pd.read_csv(\"../input/lab2-dataset/data/semeval/train/sadness-ratings-0to1.train.txt\",\n",
    "                         sep=\"\\t\", header=None, names=[\"id\", \"text\", \"emotion\", \"intensity\"])\n",
    "fear_train = pd.read_csv(\"../input/lab2-dataset/data/semeval/train/fear-ratings-0to1.train.txt\",\n",
    "                         sep=\"\\t\", header=None, names=[\"id\", \"text\", \"emotion\", \"intensity\"])\n",
    "joy_train = pd.read_csv(\"../input/lab2-dataset/data/semeval/train/joy-ratings-0to1.train.txt\",\n",
    "                         sep=\"\\t\", header=None, names=[\"id\", \"text\", \"emotion\", \"intensity\"])"
   ]
  },
  {
   "cell_type": "code",
   "execution_count": 2,
   "id": "bf6f42ba",
   "metadata": {
    "execution": {
     "iopub.execute_input": "2022-11-19T17:32:17.245966Z",
     "iopub.status.busy": "2022-11-19T17:32:17.245685Z",
     "iopub.status.idle": "2022-11-19T17:32:17.253876Z",
     "shell.execute_reply": "2022-11-19T17:32:17.252983Z"
    },
    "id": "yVc2T5MIYTpX",
    "papermill": {
     "duration": 0.033311,
     "end_time": "2022-11-19T17:32:17.255665",
     "exception": false,
     "start_time": "2022-11-19T17:32:17.222354",
     "status": "completed"
    },
    "tags": []
   },
   "outputs": [],
   "source": [
    "# combine 4 sub-dataset\n",
    "train_df = pd.concat([anger_train, fear_train, joy_train, sadness_train], ignore_index=True)"
   ]
  },
  {
   "cell_type": "code",
   "execution_count": 3,
   "id": "8f8b8553",
   "metadata": {
    "execution": {
     "iopub.execute_input": "2022-11-19T17:32:17.301873Z",
     "iopub.status.busy": "2022-11-19T17:32:17.301232Z",
     "iopub.status.idle": "2022-11-19T17:32:17.360765Z",
     "shell.execute_reply": "2022-11-19T17:32:17.359785Z"
    },
    "id": "Kw8bGMv7YTpX",
    "outputId": "9f6f7052-302e-4794-ef69-b84450b61b36",
    "papermill": {
     "duration": 0.085776,
     "end_time": "2022-11-19T17:32:17.363580",
     "exception": false,
     "start_time": "2022-11-19T17:32:17.277804",
     "status": "completed"
    },
    "tags": []
   },
   "outputs": [
    {
     "data": {
      "text/html": [
       "<div>\n",
       "<style scoped>\n",
       "    .dataframe tbody tr th:only-of-type {\n",
       "        vertical-align: middle;\n",
       "    }\n",
       "\n",
       "    .dataframe tbody tr th {\n",
       "        vertical-align: top;\n",
       "    }\n",
       "\n",
       "    .dataframe thead th {\n",
       "        text-align: right;\n",
       "    }\n",
       "</style>\n",
       "<table border=\"1\" class=\"dataframe\">\n",
       "  <thead>\n",
       "    <tr style=\"text-align: right;\">\n",
       "      <th></th>\n",
       "      <th>id</th>\n",
       "      <th>text</th>\n",
       "      <th>emotion</th>\n",
       "      <th>intensity</th>\n",
       "    </tr>\n",
       "  </thead>\n",
       "  <tbody>\n",
       "    <tr>\n",
       "      <th>0</th>\n",
       "      <td>10000</td>\n",
       "      <td>How the fu*k! Who the heck! moved my fridge!.....</td>\n",
       "      <td>anger</td>\n",
       "      <td>0.938</td>\n",
       "    </tr>\n",
       "    <tr>\n",
       "      <th>1</th>\n",
       "      <td>10001</td>\n",
       "      <td>So my Indian Uber driver just called someone t...</td>\n",
       "      <td>anger</td>\n",
       "      <td>0.896</td>\n",
       "    </tr>\n",
       "    <tr>\n",
       "      <th>2</th>\n",
       "      <td>10002</td>\n",
       "      <td>@DPD_UK I asked for my parcel to be delivered ...</td>\n",
       "      <td>anger</td>\n",
       "      <td>0.896</td>\n",
       "    </tr>\n",
       "    <tr>\n",
       "      <th>3</th>\n",
       "      <td>10003</td>\n",
       "      <td>so ef whichever butt wipe pulled the fire alar...</td>\n",
       "      <td>anger</td>\n",
       "      <td>0.896</td>\n",
       "    </tr>\n",
       "    <tr>\n",
       "      <th>4</th>\n",
       "      <td>10004</td>\n",
       "      <td>Don't join @BTCare they put the phone down on ...</td>\n",
       "      <td>anger</td>\n",
       "      <td>0.896</td>\n",
       "    </tr>\n",
       "  </tbody>\n",
       "</table>\n",
       "</div>"
      ],
      "text/plain": [
       "      id                                               text emotion  intensity\n",
       "0  10000  How the fu*k! Who the heck! moved my fridge!.....   anger      0.938\n",
       "1  10001  So my Indian Uber driver just called someone t...   anger      0.896\n",
       "2  10002  @DPD_UK I asked for my parcel to be delivered ...   anger      0.896\n",
       "3  10003  so ef whichever butt wipe pulled the fire alar...   anger      0.896\n",
       "4  10004  Don't join @BTCare they put the phone down on ...   anger      0.896"
      ]
     },
     "execution_count": 3,
     "metadata": {},
     "output_type": "execute_result"
    }
   ],
   "source": [
    "### testing data\n",
    "anger_test = pd.read_csv(\"../input/lab2-dataset/data/semeval/dev/anger-ratings-0to1.dev.gold.txt\",\n",
    "                         sep=\"\\t\", header=None,names=[\"id\", \"text\", \"emotion\", \"intensity\"])\n",
    "sadness_test = pd.read_csv(\"../input/lab2-dataset/data/semeval/dev/sadness-ratings-0to1.dev.gold.txt\",\n",
    "                         sep=\"\\t\", header=None, names=[\"id\", \"text\", \"emotion\", \"intensity\"])\n",
    "fear_test = pd.read_csv(\"../input/lab2-dataset/data/semeval/dev/fear-ratings-0to1.dev.gold.txt\",\n",
    "                         sep=\"\\t\", header=None, names=[\"id\", \"text\", \"emotion\", \"intensity\"])\n",
    "joy_test = pd.read_csv(\"../input/lab2-dataset/data/semeval/dev/joy-ratings-0to1.dev.gold.txt\",\n",
    "                         sep=\"\\t\", header=None, names=[\"id\", \"text\", \"emotion\", \"intensity\"])\n",
    "\n",
    "# combine 4 sub-dataset\n",
    "test_df = pd.concat([anger_test, fear_test, joy_test, sadness_test], ignore_index=True)\n",
    "train_df.head()"
   ]
  },
  {
   "cell_type": "code",
   "execution_count": 4,
   "id": "1e38c71d",
   "metadata": {
    "execution": {
     "iopub.execute_input": "2022-11-19T17:32:17.411913Z",
     "iopub.status.busy": "2022-11-19T17:32:17.410792Z",
     "iopub.status.idle": "2022-11-19T17:32:17.419491Z",
     "shell.execute_reply": "2022-11-19T17:32:17.418814Z"
    },
    "id": "HBHwcL8sYTpX",
    "papermill": {
     "duration": 0.034673,
     "end_time": "2022-11-19T17:32:17.421427",
     "exception": false,
     "start_time": "2022-11-19T17:32:17.386754",
     "status": "completed"
    },
    "tags": []
   },
   "outputs": [],
   "source": [
    "# shuffle dataset\n",
    "train_df = train_df.sample(frac=1)\n",
    "test_df = test_df.sample(frac=1)"
   ]
  },
  {
   "cell_type": "code",
   "execution_count": 5,
   "id": "18187e06",
   "metadata": {
    "execution": {
     "iopub.execute_input": "2022-11-19T17:32:17.468188Z",
     "iopub.status.busy": "2022-11-19T17:32:17.467327Z",
     "iopub.status.idle": "2022-11-19T17:32:17.472911Z",
     "shell.execute_reply": "2022-11-19T17:32:17.471982Z"
    },
    "id": "9w_cDUwCYTpX",
    "outputId": "3582ac44-1f5f-4cb2-b833-d477f152461a",
    "papermill": {
     "duration": 0.031092,
     "end_time": "2022-11-19T17:32:17.474782",
     "exception": false,
     "start_time": "2022-11-19T17:32:17.443690",
     "status": "completed"
    },
    "scrolled": true,
    "tags": []
   },
   "outputs": [
    {
     "name": "stdout",
     "output_type": "stream",
     "text": [
      "Shape of Training df:  (3613, 4)\n",
      "Shape of Testing df:  (347, 4)\n"
     ]
    }
   ],
   "source": [
    "print(\"Shape of Training df: \", train_df.shape)\n",
    "print(\"Shape of Testing df: \", test_df.shape)"
   ]
  },
  {
   "cell_type": "markdown",
   "id": "f0ad6ade",
   "metadata": {
    "id": "escCgU1zYTpX",
    "papermill": {
     "duration": 0.021992,
     "end_time": "2022-11-19T17:32:17.518889",
     "exception": false,
     "start_time": "2022-11-19T17:32:17.496897",
     "status": "completed"
    },
    "tags": []
   },
   "source": [
    "---\n",
    "### ** >>> Exercise 1 (Take home): **  \n",
    "Plot word frequency for Top 30 words in both train and test dataset. (Hint: refer to DM lab 1)\n"
   ]
  },
  {
   "cell_type": "code",
   "execution_count": 6,
   "id": "6e4ff62a",
   "metadata": {
    "execution": {
     "iopub.execute_input": "2022-11-19T17:32:17.566932Z",
     "iopub.status.busy": "2022-11-19T17:32:17.566415Z",
     "iopub.status.idle": "2022-11-19T17:32:18.468798Z",
     "shell.execute_reply": "2022-11-19T17:32:18.467476Z"
    },
    "id": "HoXjet3pYTpo",
    "papermill": {
     "duration": 0.929017,
     "end_time": "2022-11-19T17:32:18.471027",
     "exception": false,
     "start_time": "2022-11-19T17:32:17.542010",
     "status": "completed"
    },
    "tags": []
   },
   "outputs": [],
   "source": [
    "# Answer here\n",
    "from sklearn.feature_extraction.text import CountVectorizer\n",
    "import pandas as pd\n",
    "import numpy as np\n",
    "import matplotlib.pyplot as plt"
   ]
  },
  {
   "cell_type": "code",
   "execution_count": 7,
   "id": "ccaf2a42",
   "metadata": {
    "execution": {
     "iopub.execute_input": "2022-11-19T17:32:18.521498Z",
     "iopub.status.busy": "2022-11-19T17:32:18.520925Z",
     "iopub.status.idle": "2022-11-19T17:32:18.525408Z",
     "shell.execute_reply": "2022-11-19T17:32:18.524826Z"
    },
    "papermill": {
     "duration": 0.030482,
     "end_time": "2022-11-19T17:32:18.527001",
     "exception": false,
     "start_time": "2022-11-19T17:32:18.496519",
     "status": "completed"
    },
    "tags": []
   },
   "outputs": [],
   "source": [
    "def get_words_freq(matrix):\n",
    "  term_freq = list()\n",
    "\n",
    "  for t in matrix.T:\n",
    "    term_freq.append(t.toarray().sum())\n",
    "\n",
    "  return term_freq"
   ]
  },
  {
   "cell_type": "code",
   "execution_count": 8,
   "id": "70e71e36",
   "metadata": {
    "execution": {
     "iopub.execute_input": "2022-11-19T17:32:18.576631Z",
     "iopub.status.busy": "2022-11-19T17:32:18.576070Z",
     "iopub.status.idle": "2022-11-19T17:32:18.582259Z",
     "shell.execute_reply": "2022-11-19T17:32:18.581601Z"
    },
    "papermill": {
     "duration": 0.03406,
     "end_time": "2022-11-19T17:32:18.584194",
     "exception": false,
     "start_time": "2022-11-19T17:32:18.550134",
     "status": "completed"
    },
    "tags": []
   },
   "outputs": [],
   "source": [
    "def plot_frequent_words(term_number, target_text, plot_name):\n",
    "  N_count_vect = CountVectorizer(max_features=term_number)\n",
    "  matrix = N_count_vect.fit_transform(target_text)\n",
    "\n",
    "  words_freq = get_words_freq(matrix)\n",
    "  sort_term_list = list()\n",
    "  #sort the terms to let the plot easier to see\n",
    "  for i in np.argsort(words_freq):\n",
    "    sort_term_list.append(N_count_vect.get_feature_names()[i])\n",
    "\n",
    "  words_freq = np.sort(words_freq)\n",
    "\n",
    "\n",
    "  fig = plt.figure(figsize = (20,6))\n",
    "  ax = fig.subplots()\n",
    "  xs = N_count_vect.get_feature_names_out()\n",
    "  ys = words_freq \n",
    "  ax.bar(xs, ys)\n",
    "  plt.title(plot_name)\n",
    "  plt.xticks(rotation = 90) \n",
    "  plt.show()"
   ]
  },
  {
   "cell_type": "code",
   "execution_count": 9,
   "id": "5ece6ad6",
   "metadata": {
    "execution": {
     "iopub.execute_input": "2022-11-19T17:32:18.631834Z",
     "iopub.status.busy": "2022-11-19T17:32:18.631055Z",
     "iopub.status.idle": "2022-11-19T17:32:18.946862Z",
     "shell.execute_reply": "2022-11-19T17:32:18.945093Z"
    },
    "papermill": {
     "duration": 0.342132,
     "end_time": "2022-11-19T17:32:18.949092",
     "exception": false,
     "start_time": "2022-11-19T17:32:18.606960",
     "status": "completed"
    },
    "tags": []
   },
   "outputs": [
    {
     "name": "stderr",
     "output_type": "stream",
     "text": [
      "/opt/conda/lib/python3.7/site-packages/sklearn/utils/deprecation.py:87: FutureWarning: Function get_feature_names is deprecated; get_feature_names is deprecated in 1.0 and will be removed in 1.2. Please use get_feature_names_out instead.\n",
      "  warnings.warn(msg, category=FutureWarning)\n"
     ]
    },
    {
     "data": {
      "image/png": "[encoded data removed]",
      "text/plain": [
       "<Figure size 1440x432 with 1 Axes>"
      ]
     },
     "metadata": {
      "needs_background": "light"
     },
     "output_type": "display_data"
    }
   ],
   "source": [
    "plot_frequent_words(30, test_df.text, \"Top 30 Words for Test\")"
   ]
  },
  {
   "cell_type": "code",
   "execution_count": 10,
   "id": "90f6ba12",
   "metadata": {
    "execution": {
     "iopub.execute_input": "2022-11-19T17:32:19.004987Z",
     "iopub.status.busy": "2022-11-19T17:32:19.004676Z",
     "iopub.status.idle": "2022-11-19T17:32:19.339930Z",
     "shell.execute_reply": "2022-11-19T17:32:19.338251Z"
    },
    "papermill": {
     "duration": 0.362327,
     "end_time": "2022-11-19T17:32:19.341652",
     "exception": false,
     "start_time": "2022-11-19T17:32:18.979325",
     "status": "completed"
    },
    "tags": []
   },
   "outputs": [
    {
     "name": "stderr",
     "output_type": "stream",
     "text": [
      "/opt/conda/lib/python3.7/site-packages/sklearn/utils/deprecation.py:87: FutureWarning: Function get_feature_names is deprecated; get_feature_names is deprecated in 1.0 and will be removed in 1.2. Please use get_feature_names_out instead.\n",
      "  warnings.warn(msg, category=FutureWarning)\n"
     ]
    },
    {
     "data": {
      "image/png": "[encoded data removed]",
      "text/plain": [
       "<Figure size 1440x432 with 1 Axes>"
      ]
     },
     "metadata": {
      "needs_background": "light"
     },
     "output_type": "display_data"
    }
   ],
   "source": [
    "plot_frequent_words(30, train_df.text, \"Top 30 Words for Train\")"
   ]
  },
  {
   "cell_type": "markdown",
   "id": "99f44e57",
   "metadata": {
    "id": "_hr8aKhlYTpo",
    "papermill": {
     "duration": 0.02428,
     "end_time": "2022-11-19T17:32:19.389167",
     "exception": false,
     "start_time": "2022-11-19T17:32:19.364887",
     "status": "completed"
    },
    "tags": []
   },
   "source": [
    "---\n",
    "### 1.2 Save data"
   ]
  },
  {
   "cell_type": "markdown",
   "id": "60bdba09",
   "metadata": {
    "id": "Zm6GF2VvYTpo",
    "papermill": {
     "duration": 0.023175,
     "end_time": "2022-11-19T17:32:19.435501",
     "exception": false,
     "start_time": "2022-11-19T17:32:19.412326",
     "status": "completed"
    },
    "tags": []
   },
   "source": [
    "We will save our data in Pickle format. The pickle module implements binary protocols for serializing and de-serializing a Python object structure.   \n",
    "  \n",
    "Some advantages for using pickle structure:  \n",
    "* Because it stores the attribute type, it's more convenient for cross-platform use.  \n",
    "* When your data is huge, it could use less space to store also consume less loading time.   "
   ]
  },
  {
   "cell_type": "code",
   "execution_count": 11,
   "id": "8d148359",
   "metadata": {
    "execution": {
     "iopub.execute_input": "2022-11-19T17:32:19.485409Z",
     "iopub.status.busy": "2022-11-19T17:32:19.485090Z",
     "iopub.status.idle": "2022-11-19T17:32:19.494631Z",
     "shell.execute_reply": "2022-11-19T17:32:19.493280Z"
    },
    "id": "dZzepBdpYTpo",
    "papermill": {
     "duration": 0.037758,
     "end_time": "2022-11-19T17:32:19.497544",
     "exception": false,
     "start_time": "2022-11-19T17:32:19.459786",
     "status": "completed"
    },
    "tags": []
   },
   "outputs": [],
   "source": [
    "## save to pickle file\n",
    "train_df.to_pickle(\"train_df.pkl\") \n",
    "test_df.to_pickle(\"test_df.pkl\")"
   ]
  },
  {
   "cell_type": "code",
   "execution_count": 12,
   "id": "fda16483",
   "metadata": {
    "execution": {
     "iopub.execute_input": "2022-11-19T17:32:19.546855Z",
     "iopub.status.busy": "2022-11-19T17:32:19.546543Z",
     "iopub.status.idle": "2022-11-19T17:32:19.554898Z",
     "shell.execute_reply": "2022-11-19T17:32:19.553484Z"
    },
    "id": "H5uO-kOUYTpo",
    "papermill": {
     "duration": 0.036026,
     "end_time": "2022-11-19T17:32:19.557403",
     "exception": false,
     "start_time": "2022-11-19T17:32:19.521377",
     "status": "completed"
    },
    "tags": []
   },
   "outputs": [],
   "source": [
    "import pandas as pd\n",
    "\n",
    "## load a pickle file\n",
    "train_df = pd.read_pickle(\"train_df.pkl\")\n",
    "test_df = pd.read_pickle(\"test_df.pkl\")"
   ]
  },
  {
   "cell_type": "markdown",
   "id": "f4aed99e",
   "metadata": {
    "id": "_sLDcQzeYTpo",
    "papermill": {
     "duration": 0.023258,
     "end_time": "2022-11-19T17:32:19.604766",
     "exception": false,
     "start_time": "2022-11-19T17:32:19.581508",
     "status": "completed"
    },
    "tags": []
   },
   "source": [
    "For more information: https://reurl.cc/0Dzqx"
   ]
  },
  {
   "cell_type": "markdown",
   "id": "3bf78b59",
   "metadata": {
    "id": "dKHpxTzLYTpo",
    "papermill": {
     "duration": 0.023655,
     "end_time": "2022-11-19T17:32:19.652046",
     "exception": false,
     "start_time": "2022-11-19T17:32:19.628391",
     "status": "completed"
    },
    "tags": []
   },
   "source": [
    "---\n",
    "### 1.3 Exploratory data analysis (EDA)\n",
    "\n",
    "Again, before getting our hands dirty, we need to explore a little bit and understand the data we're dealing with."
   ]
  },
  {
   "cell_type": "code",
   "execution_count": 13,
   "id": "31ee9190",
   "metadata": {
    "execution": {
     "iopub.execute_input": "2022-11-19T17:32:19.702605Z",
     "iopub.status.busy": "2022-11-19T17:32:19.702076Z",
     "iopub.status.idle": "2022-11-19T17:32:19.720783Z",
     "shell.execute_reply": "2022-11-19T17:32:19.719869Z"
    },
    "id": "mLnEEliCYTpo",
    "outputId": "a253199b-cf8f-4cdc-b677-732be78993a3",
    "papermill": {
     "duration": 0.047879,
     "end_time": "2022-11-19T17:32:19.723411",
     "exception": false,
     "start_time": "2022-11-19T17:32:19.675532",
     "status": "completed"
    },
    "tags": []
   },
   "outputs": [
    {
     "data": {
      "text/plain": [
       "emotion\n",
       "anger       857\n",
       "fear       1147\n",
       "joy         823\n",
       "sadness     786\n",
       "Name: text, dtype: int64"
      ]
     },
     "execution_count": 13,
     "metadata": {},
     "output_type": "execute_result"
    }
   ],
   "source": [
    "#group to find distribution\n",
    "train_df.groupby(['emotion']).count()['text']"
   ]
  },
  {
   "cell_type": "code",
   "execution_count": 14,
   "id": "d304fe06",
   "metadata": {
    "execution": {
     "iopub.execute_input": "2022-11-19T17:32:19.772066Z",
     "iopub.status.busy": "2022-11-19T17:32:19.771635Z",
     "iopub.status.idle": "2022-11-19T17:32:19.893085Z",
     "shell.execute_reply": "2022-11-19T17:32:19.891993Z"
    },
    "id": "pcVOe8nYYTpo",
    "outputId": "52c413c9-5a8f-450b-d99a-e541a76e95c7",
    "papermill": {
     "duration": 0.148469,
     "end_time": "2022-11-19T17:32:19.895681",
     "exception": false,
     "start_time": "2022-11-19T17:32:19.747212",
     "status": "completed"
    },
    "tags": []
   },
   "outputs": [
    {
     "data": {
      "image/png": "[encoded data removed]",
      "text/plain": [
       "<Figure size 360x216 with 1 Axes>"
      ]
     },
     "metadata": {
      "needs_background": "light"
     },
     "output_type": "display_data"
    }
   ],
   "source": [
    "%matplotlib inline\n",
    "import numpy as np\n",
    "import matplotlib.pyplot as plt\n",
    "\n",
    "# the histogram of the data\n",
    "labels = train_df['emotion'].unique()\n",
    "post_total = len(train_df)\n",
    "df1 = train_df.groupby(['emotion']).count()['text']\n",
    "df1 = df1.apply(lambda x: round(x*100/post_total,3))\n",
    "\n",
    "#plot\n",
    "fig, ax = plt.subplots(figsize=(5,3))\n",
    "plt.bar(df1.index,df1.values)\n",
    "\n",
    "#arrange\n",
    "plt.ylabel('% of instances')\n",
    "plt.xlabel('Emotion')\n",
    "plt.title('Emotion distribution')\n",
    "plt.grid(True)\n",
    "plt.show()"
   ]
  },
  {
   "cell_type": "markdown",
   "id": "4a6d8f66",
   "metadata": {
    "id": "B_jGcireYTpo",
    "papermill": {
     "duration": 0.023407,
     "end_time": "2022-11-19T17:32:19.950143",
     "exception": false,
     "start_time": "2022-11-19T17:32:19.926736",
     "status": "completed"
    },
    "tags": []
   },
   "source": [
    "---"
   ]
  },
  {
   "cell_type": "markdown",
   "id": "42513ae2",
   "metadata": {
    "id": "hgHvhTJuYTpo",
    "papermill": {
     "duration": 0.023676,
     "end_time": "2022-11-19T17:32:19.998290",
     "exception": false,
     "start_time": "2022-11-19T17:32:19.974614",
     "status": "completed"
    },
    "tags": []
   },
   "source": [
    "# 2. Feature engineering\n",
    "### Using Bag of Words\n",
    "Using scikit-learn ```CountVectorizer``` perform word frequency and use these as features to train a model.  \n",
    "http://scikit-learn.org/stable/modules/generated/sklearn.feature_extraction.text.CountVectorizer.html"
   ]
  },
  {
   "cell_type": "code",
   "execution_count": 15,
   "id": "10ea91c5",
   "metadata": {
    "execution": {
     "iopub.execute_input": "2022-11-19T17:32:20.047279Z",
     "iopub.status.busy": "2022-11-19T17:32:20.046964Z",
     "iopub.status.idle": "2022-11-19T17:32:20.050260Z",
     "shell.execute_reply": "2022-11-19T17:32:20.049761Z"
    },
    "id": "rbl89LPUYTpo",
    "papermill": {
     "duration": 0.02996,
     "end_time": "2022-11-19T17:32:20.051823",
     "exception": false,
     "start_time": "2022-11-19T17:32:20.021863",
     "status": "completed"
    },
    "tags": []
   },
   "outputs": [],
   "source": [
    "from sklearn.feature_extraction.text import CountVectorizer"
   ]
  },
  {
   "cell_type": "code",
   "execution_count": 16,
   "id": "c4364805",
   "metadata": {
    "execution": {
     "iopub.execute_input": "2022-11-19T17:32:20.101780Z",
     "iopub.status.busy": "2022-11-19T17:32:20.101487Z",
     "iopub.status.idle": "2022-11-19T17:32:20.106823Z",
     "shell.execute_reply": "2022-11-19T17:32:20.105687Z"
    },
    "id": "Bo8_GP6qYTpo",
    "papermill": {
     "duration": 0.033172,
     "end_time": "2022-11-19T17:32:20.109239",
     "exception": false,
     "start_time": "2022-11-19T17:32:20.076067",
     "status": "completed"
    },
    "tags": []
   },
   "outputs": [],
   "source": [
    "# build analyzers (bag-of-words)\n",
    "BOW_vectorizer = CountVectorizer() "
   ]
  },
  {
   "cell_type": "code",
   "execution_count": 17,
   "id": "33925d31",
   "metadata": {
    "execution": {
     "iopub.execute_input": "2022-11-19T17:32:20.159998Z",
     "iopub.status.busy": "2022-11-19T17:32:20.159700Z",
     "iopub.status.idle": "2022-11-19T17:32:20.284656Z",
     "shell.execute_reply": "2022-11-19T17:32:20.283442Z"
    },
    "id": "Bz_m0xn7YTpo",
    "papermill": {
     "duration": 0.153772,
     "end_time": "2022-11-19T17:32:20.286935",
     "exception": false,
     "start_time": "2022-11-19T17:32:20.133163",
     "status": "completed"
    },
    "tags": []
   },
   "outputs": [],
   "source": [
    "# 1. Learn a vocabulary dictionary of all tokens in the raw documents.\n",
    "BOW_vectorizer.fit(train_df['text'])\n",
    "\n",
    "# 2. Transform documents to document-term matrix.\n",
    "train_data_BOW_features = BOW_vectorizer.transform(train_df['text'])\n",
    "test_data_BOW_features = BOW_vectorizer.transform(test_df['text'])"
   ]
  },
  {
   "cell_type": "code",
   "execution_count": 18,
   "id": "11b143e4",
   "metadata": {
    "execution": {
     "iopub.execute_input": "2022-11-19T17:32:20.336737Z",
     "iopub.status.busy": "2022-11-19T17:32:20.336416Z",
     "iopub.status.idle": "2022-11-19T17:32:20.342370Z",
     "shell.execute_reply": "2022-11-19T17:32:20.341467Z"
    },
    "id": "5cpCUVN8YTpo",
    "outputId": "c68d1f47-143e-4e56-c9bd-049c9c204e11",
    "papermill": {
     "duration": 0.032929,
     "end_time": "2022-11-19T17:32:20.344167",
     "exception": false,
     "start_time": "2022-11-19T17:32:20.311238",
     "status": "completed"
    },
    "tags": []
   },
   "outputs": [
    {
     "data": {
      "text/plain": [
       "<3613x10115 sparse matrix of type '<class 'numpy.int64'>'\n",
       "\twith 51467 stored elements in Compressed Sparse Row format>"
      ]
     },
     "execution_count": 18,
     "metadata": {},
     "output_type": "execute_result"
    }
   ],
   "source": [
    "# check the result\n",
    "train_data_BOW_features"
   ]
  },
  {
   "cell_type": "code",
   "execution_count": 19,
   "id": "ccf267f9",
   "metadata": {
    "execution": {
     "iopub.execute_input": "2022-11-19T17:32:20.393115Z",
     "iopub.status.busy": "2022-11-19T17:32:20.392405Z",
     "iopub.status.idle": "2022-11-19T17:32:20.397339Z",
     "shell.execute_reply": "2022-11-19T17:32:20.396780Z"
    },
    "id": "irGLsag-YTpo",
    "outputId": "27e90366-d681-43ef-ab5f-7c3360b1a671",
    "papermill": {
     "duration": 0.031097,
     "end_time": "2022-11-19T17:32:20.398808",
     "exception": false,
     "start_time": "2022-11-19T17:32:20.367711",
     "status": "completed"
    },
    "tags": []
   },
   "outputs": [
    {
     "data": {
      "text/plain": [
       "scipy.sparse.csr.csr_matrix"
      ]
     },
     "execution_count": 19,
     "metadata": {},
     "output_type": "execute_result"
    }
   ],
   "source": [
    "type(train_data_BOW_features)"
   ]
  },
  {
   "cell_type": "code",
   "execution_count": 20,
   "id": "ff959f74",
   "metadata": {
    "execution": {
     "iopub.execute_input": "2022-11-19T17:32:20.448688Z",
     "iopub.status.busy": "2022-11-19T17:32:20.446669Z",
     "iopub.status.idle": "2022-11-19T17:32:20.493327Z",
     "shell.execute_reply": "2022-11-19T17:32:20.492027Z"
    },
    "id": "WqbR8KWNYTpo",
    "outputId": "50438b2b-731e-4031-8dfe-19d6c7831545",
    "papermill": {
     "duration": 0.073902,
     "end_time": "2022-11-19T17:32:20.496326",
     "exception": false,
     "start_time": "2022-11-19T17:32:20.422424",
     "status": "completed"
    },
    "scrolled": true,
    "tags": []
   },
   "outputs": [
    {
     "data": {
      "text/plain": [
       "array([[0, 0, 0, ..., 0, 0, 0],\n",
       "       [0, 0, 0, ..., 0, 0, 0],\n",
       "       [0, 0, 0, ..., 0, 0, 0],\n",
       "       ...,\n",
       "       [0, 0, 0, ..., 0, 0, 0],\n",
       "       [0, 0, 0, ..., 0, 0, 0],\n",
       "       [0, 0, 0, ..., 0, 0, 0]])"
      ]
     },
     "execution_count": 20,
     "metadata": {},
     "output_type": "execute_result"
    }
   ],
   "source": [
    "# add .toarray() to show\n",
    "train_data_BOW_features.toarray()"
   ]
  },
  {
   "cell_type": "code",
   "execution_count": 21,
   "id": "521c931d",
   "metadata": {
    "execution": {
     "iopub.execute_input": "2022-11-19T17:32:20.546623Z",
     "iopub.status.busy": "2022-11-19T17:32:20.546307Z",
     "iopub.status.idle": "2022-11-19T17:32:20.553308Z",
     "shell.execute_reply": "2022-11-19T17:32:20.550954Z"
    },
    "id": "mL0xkGyGYTpo",
    "outputId": "c6245d02-a095-44d9-b00f-bb62936bee4a",
    "papermill": {
     "duration": 0.034876,
     "end_time": "2022-11-19T17:32:20.555800",
     "exception": false,
     "start_time": "2022-11-19T17:32:20.520924",
     "status": "completed"
    },
    "tags": []
   },
   "outputs": [
    {
     "data": {
      "text/plain": [
       "(3613, 10115)"
      ]
     },
     "execution_count": 21,
     "metadata": {},
     "output_type": "execute_result"
    }
   ],
   "source": [
    "# check the dimension\n",
    "train_data_BOW_features.shape"
   ]
  },
  {
   "cell_type": "code",
   "execution_count": 22,
   "id": "b99db8f2",
   "metadata": {
    "execution": {
     "iopub.execute_input": "2022-11-19T17:32:20.606552Z",
     "iopub.status.busy": "2022-11-19T17:32:20.606244Z",
     "iopub.status.idle": "2022-11-19T17:32:20.618051Z",
     "shell.execute_reply": "2022-11-19T17:32:20.617143Z"
    },
    "id": "iyRaxyBZYTpo",
    "outputId": "f1df1307-12a0-49b7-afcb-7ad840f886ca",
    "papermill": {
     "duration": 0.03946,
     "end_time": "2022-11-19T17:32:20.619568",
     "exception": false,
     "start_time": "2022-11-19T17:32:20.580108",
     "status": "completed"
    },
    "tags": []
   },
   "outputs": [
    {
     "data": {
      "text/plain": [
       "array(['2k17', '2much', '2nd', '30', '300', '301', '30am', '30pm', '30s',\n",
       "       '31'], dtype=object)"
      ]
     },
     "execution_count": 22,
     "metadata": {},
     "output_type": "execute_result"
    }
   ],
   "source": [
    "# observe some feature names\n",
    "feature_names = BOW_vectorizer.get_feature_names_out()\n",
    "feature_names[100:110]"
   ]
  },
  {
   "cell_type": "markdown",
   "id": "18c369b3",
   "metadata": {
    "id": "zm00p_sxYTpo",
    "papermill": {
     "duration": 0.023541,
     "end_time": "2022-11-19T17:32:20.667095",
     "exception": false,
     "start_time": "2022-11-19T17:32:20.643554",
     "status": "completed"
    },
    "tags": []
   },
   "source": [
    " "
   ]
  },
  {
   "cell_type": "markdown",
   "id": "c932452f",
   "metadata": {
    "id": "roSfgQKaYTpo",
    "papermill": {
     "duration": 0.024674,
     "end_time": "2022-11-19T17:32:20.715823",
     "exception": false,
     "start_time": "2022-11-19T17:32:20.691149",
     "status": "completed"
    },
    "tags": []
   },
   "source": [
    "The embedding is done. We can technically feed this into our model. However, depending on the embedding technique you use and your model, your accuracy might not be as high, because:\n",
    "\n",
    "* curse of dimensionality  (we have 10,115 dimension now)\n",
    "* some important features are ignored (for example, some models using emoticons yeld better performance than counterparts)"
   ]
  },
  {
   "cell_type": "code",
   "execution_count": 23,
   "id": "43be0521",
   "metadata": {
    "execution": {
     "iopub.execute_input": "2022-11-19T17:32:20.768453Z",
     "iopub.status.busy": "2022-11-19T17:32:20.767793Z",
     "iopub.status.idle": "2022-11-19T17:32:20.773783Z",
     "shell.execute_reply": "2022-11-19T17:32:20.772746Z"
    },
    "id": "kx4YPbrdYTpo",
    "outputId": "3d8a8808-fb86-4fe6-93b5-93ba0124f845",
    "papermill": {
     "duration": 0.035333,
     "end_time": "2022-11-19T17:32:20.775417",
     "exception": false,
     "start_time": "2022-11-19T17:32:20.740084",
     "status": "completed"
    },
    "tags": []
   },
   "outputs": [
    {
     "data": {
      "text/plain": [
       "False"
      ]
     },
     "execution_count": 23,
     "metadata": {},
     "output_type": "execute_result"
    }
   ],
   "source": [
    "\"😂\" in feature_names"
   ]
  },
  {
   "cell_type": "markdown",
   "id": "744d8639",
   "metadata": {
    "id": "0MFzyA95YTpo",
    "papermill": {
     "duration": 0.023816,
     "end_time": "2022-11-19T17:32:20.823077",
     "exception": false,
     "start_time": "2022-11-19T17:32:20.799261",
     "status": "completed"
    },
    "tags": []
   },
   "source": [
    "Let's try using another tokenizer below."
   ]
  },
  {
   "cell_type": "code",
   "execution_count": 24,
   "id": "8f0dfd5d",
   "metadata": {
    "execution": {
     "iopub.execute_input": "2022-11-19T17:32:20.872632Z",
     "iopub.status.busy": "2022-11-19T17:32:20.871957Z",
     "iopub.status.idle": "2022-11-19T17:32:22.914153Z",
     "shell.execute_reply": "2022-11-19T17:32:22.912807Z"
    },
    "id": "SttodxACYTpo",
    "outputId": "11fe3750-22b7-45bf-c15f-586d74c35c13",
    "papermill": {
     "duration": 2.06946,
     "end_time": "2022-11-19T17:32:22.916249",
     "exception": false,
     "start_time": "2022-11-19T17:32:20.846789",
     "status": "completed"
    },
    "tags": []
   },
   "outputs": [
    {
     "name": "stderr",
     "output_type": "stream",
     "text": [
      "/opt/conda/lib/python3.7/site-packages/sklearn/feature_extraction/text.py:517: UserWarning: The parameter 'token_pattern' will not be used since 'tokenizer' is not None'\n",
      "  \"The parameter 'token_pattern' will not be used\"\n"
     ]
    },
    {
     "data": {
      "text/plain": [
       "(3613, 500)"
      ]
     },
     "execution_count": 24,
     "metadata": {},
     "output_type": "execute_result"
    }
   ],
   "source": [
    "import nltk\n",
    "\n",
    "# build analyzers (bag-of-words)\n",
    "BOW_500 = CountVectorizer(max_features=500, tokenizer=nltk.word_tokenize) \n",
    "\n",
    "# apply analyzer to training data\n",
    "BOW_500.fit(train_df['text'])\n",
    "\n",
    "train_data_BOW_features_500 = BOW_500.transform(train_df['text'])\n",
    "\n",
    "## check dimension\n",
    "train_data_BOW_features_500.shape"
   ]
  },
  {
   "cell_type": "code",
   "execution_count": 25,
   "id": "b46a4bf1",
   "metadata": {
    "execution": {
     "iopub.execute_input": "2022-11-19T17:32:22.967174Z",
     "iopub.status.busy": "2022-11-19T17:32:22.966776Z",
     "iopub.status.idle": "2022-11-19T17:32:22.978810Z",
     "shell.execute_reply": "2022-11-19T17:32:22.976994Z"
    },
    "id": "sPi42W0pYTpo",
    "outputId": "54682edb-fa13-4292-fa48-ae81cd08b14f",
    "papermill": {
     "duration": 0.040538,
     "end_time": "2022-11-19T17:32:22.981272",
     "exception": false,
     "start_time": "2022-11-19T17:32:22.940734",
     "status": "completed"
    },
    "tags": []
   },
   "outputs": [
    {
     "data": {
      "text/plain": [
       "array([[0, 0, 0, ..., 0, 0, 0],\n",
       "       [0, 0, 0, ..., 0, 0, 0],\n",
       "       [0, 0, 0, ..., 0, 0, 0],\n",
       "       ...,\n",
       "       [0, 1, 0, ..., 0, 0, 0],\n",
       "       [0, 0, 0, ..., 0, 0, 0],\n",
       "       [0, 0, 0, ..., 0, 0, 0]])"
      ]
     },
     "execution_count": 25,
     "metadata": {},
     "output_type": "execute_result"
    }
   ],
   "source": [
    "train_data_BOW_features_500.toarray()"
   ]
  },
  {
   "cell_type": "code",
   "execution_count": 26,
   "id": "018b764a",
   "metadata": {
    "execution": {
     "iopub.execute_input": "2022-11-19T17:32:23.033342Z",
     "iopub.status.busy": "2022-11-19T17:32:23.032662Z",
     "iopub.status.idle": "2022-11-19T17:32:23.040271Z",
     "shell.execute_reply": "2022-11-19T17:32:23.038994Z"
    },
    "id": "JCgAnTOfYTpo",
    "outputId": "bba03b17-8ca5-4942-a78f-df389c70cd1f",
    "papermill": {
     "duration": 0.036805,
     "end_time": "2022-11-19T17:32:23.042415",
     "exception": false,
     "start_time": "2022-11-19T17:32:23.005610",
     "status": "completed"
    },
    "tags": []
   },
   "outputs": [
    {
     "data": {
      "text/plain": [
       "array(['change', 'cheer', 'cheerful', 'cheerfully', 'cheering', 'cheery',\n",
       "       'come', 'comes', 'could', 'country'], dtype=object)"
      ]
     },
     "execution_count": 26,
     "metadata": {},
     "output_type": "execute_result"
    }
   ],
   "source": [
    "# observe some feature names\n",
    "feature_names_500 = BOW_500.get_feature_names_out()\n",
    "feature_names_500[100:110]"
   ]
  },
  {
   "cell_type": "code",
   "execution_count": 27,
   "id": "56aa757e",
   "metadata": {
    "execution": {
     "iopub.execute_input": "2022-11-19T17:32:23.092816Z",
     "iopub.status.busy": "2022-11-19T17:32:23.092455Z",
     "iopub.status.idle": "2022-11-19T17:32:23.099168Z",
     "shell.execute_reply": "2022-11-19T17:32:23.098231Z"
    },
    "id": "ubgedNi4YTpo",
    "outputId": "d4c8c862-7507-497c-fc76-a2730996bb40",
    "papermill": {
     "duration": 0.033762,
     "end_time": "2022-11-19T17:32:23.100787",
     "exception": false,
     "start_time": "2022-11-19T17:32:23.067025",
     "status": "completed"
    },
    "tags": []
   },
   "outputs": [
    {
     "data": {
      "text/plain": [
       "True"
      ]
     },
     "execution_count": 27,
     "metadata": {},
     "output_type": "execute_result"
    }
   ],
   "source": [
    "\"😂\" in feature_names_500"
   ]
  },
  {
   "cell_type": "markdown",
   "id": "02098cb4",
   "metadata": {
    "id": "fj6TV4ngYTpo",
    "papermill": {
     "duration": 0.024222,
     "end_time": "2022-11-19T17:32:23.149566",
     "exception": false,
     "start_time": "2022-11-19T17:32:23.125344",
     "status": "completed"
    },
    "tags": []
   },
   "source": [
    "---\n",
    "### ** >>> Exercise 2 (Take home): **  \n",
    "Generate an embedding using the TF-IDF vectorizer instead of th BOW one with 1000 features and show the feature names for features [100:110]."
   ]
  },
  {
   "cell_type": "code",
   "execution_count": 28,
   "id": "e5c41b31",
   "metadata": {
    "execution": {
     "iopub.execute_input": "2022-11-19T17:32:23.199832Z",
     "iopub.status.busy": "2022-11-19T17:32:23.199545Z",
     "iopub.status.idle": "2022-11-19T17:32:24.704964Z",
     "shell.execute_reply": "2022-11-19T17:32:24.703746Z"
    },
    "id": "BOjVbgmxYTpo",
    "papermill": {
     "duration": 1.533433,
     "end_time": "2022-11-19T17:32:24.707542",
     "exception": false,
     "start_time": "2022-11-19T17:32:23.174109",
     "status": "completed"
    },
    "tags": []
   },
   "outputs": [
    {
     "data": {
      "text/plain": [
       "(3613, 1000)"
      ]
     },
     "execution_count": 28,
     "metadata": {},
     "output_type": "execute_result"
    }
   ],
   "source": [
    "# Answer here\n",
    "from sklearn.feature_extraction.text import TfidfVectorizer\n",
    "\n",
    "TFIDF = TfidfVectorizer(max_features=1000, tokenizer=nltk.word_tokenize)\n",
    "\n",
    "TFIDF.fit(train_df['text'])\n",
    "train_data_TFIDF_1000 = TFIDF.transform(train_df['text'])\n",
    "\n",
    "train_data_TFIDF_1000.shape"
   ]
  },
  {
   "cell_type": "code",
   "execution_count": 29,
   "id": "85fde0f9",
   "metadata": {
    "execution": {
     "iopub.execute_input": "2022-11-19T17:32:24.759061Z",
     "iopub.status.busy": "2022-11-19T17:32:24.758770Z",
     "iopub.status.idle": "2022-11-19T17:32:24.768137Z",
     "shell.execute_reply": "2022-11-19T17:32:24.766935Z"
    },
    "papermill": {
     "duration": 0.037437,
     "end_time": "2022-11-19T17:32:24.769992",
     "exception": false,
     "start_time": "2022-11-19T17:32:24.732555",
     "status": "completed"
    },
    "tags": []
   },
   "outputs": [
    {
     "name": "stderr",
     "output_type": "stream",
     "text": [
      "/opt/conda/lib/python3.7/site-packages/sklearn/utils/deprecation.py:87: FutureWarning: Function get_feature_names is deprecated; get_feature_names is deprecated in 1.0 and will be removed in 1.2. Please use get_feature_names_out instead.\n",
      "  warnings.warn(msg, category=FutureWarning)\n"
     ]
    },
    {
     "data": {
      "text/plain": [
       "['awful', 'b', 'baby', 'back', 'bad', 'ball', 'balls', 'bb18', 'bc', 'bday']"
      ]
     },
     "execution_count": 29,
     "metadata": {},
     "output_type": "execute_result"
    }
   ],
   "source": [
    "feature_names_1000 = TFIDF.get_feature_names()\n",
    "feature_names_1000[100:110]"
   ]
  },
  {
   "cell_type": "markdown",
   "id": "0d605006",
   "metadata": {
    "id": "e0BvbNAVYTpo",
    "papermill": {
     "duration": 0.02472,
     "end_time": "2022-11-19T17:32:24.819614",
     "exception": false,
     "start_time": "2022-11-19T17:32:24.794894",
     "status": "completed"
    },
    "tags": []
   },
   "source": [
    "---\n",
    "# 3. Model\n",
    "### 3.1 Decision Trees\n",
    "Using scikit-learn ```DecisionTreeClassifier``` performs word frequency and uses these as features to train a model.  \n",
    "http://scikit-learn.org/stable/modules/generated/sklearn.tree.DecisionTreeClassifier.html#sklearn.tree.DecisionTreeClassifier"
   ]
  },
  {
   "cell_type": "code",
   "execution_count": 30,
   "id": "efbfa7c5",
   "metadata": {
    "execution": {
     "iopub.execute_input": "2022-11-19T17:32:24.870611Z",
     "iopub.status.busy": "2022-11-19T17:32:24.870300Z",
     "iopub.status.idle": "2022-11-19T17:32:25.756867Z",
     "shell.execute_reply": "2022-11-19T17:32:25.755000Z"
    },
    "id": "SD0rMWKgYTpo",
    "outputId": "36873985-dd8e-40ac-8ff8-f297a21f69db",
    "papermill": {
     "duration": 0.914678,
     "end_time": "2022-11-19T17:32:25.758981",
     "exception": false,
     "start_time": "2022-11-19T17:32:24.844303",
     "status": "completed"
    },
    "tags": []
   },
   "outputs": [
    {
     "name": "stdout",
     "output_type": "stream",
     "text": [
      "X_train.shape:  (3613, 500)\n",
      "y_train.shape:  (3613,)\n",
      "X_test.shape:  (347, 500)\n",
      "y_test.shape:  (347,)\n"
     ]
    }
   ],
   "source": [
    "from sklearn.tree import DecisionTreeClassifier\n",
    "\n",
    "# for a classificaiton problem, you need to provide both training & testing data\n",
    "X_train = BOW_500.transform(train_df['text'])\n",
    "y_train = train_df['emotion']\n",
    "\n",
    "X_test = BOW_500.transform(test_df['text'])\n",
    "y_test = test_df['emotion']\n",
    "## take a look at data dimension is a good habbit  :)\n",
    "print('X_train.shape: ', X_train.shape)\n",
    "print('y_train.shape: ', y_train.shape)\n",
    "print('X_test.shape: ', X_test.shape)\n",
    "print('y_test.shape: ', y_test.shape)"
   ]
  },
  {
   "cell_type": "code",
   "execution_count": 31,
   "id": "6a0a0edd",
   "metadata": {
    "execution": {
     "iopub.execute_input": "2022-11-19T17:32:25.810581Z",
     "iopub.status.busy": "2022-11-19T17:32:25.810236Z",
     "iopub.status.idle": "2022-11-19T17:32:26.005183Z",
     "shell.execute_reply": "2022-11-19T17:32:26.004413Z"
    },
    "id": "iDuvLf7TYTpo",
    "outputId": "892ea486-fe16-49fc-a57a-b507924d9549",
    "papermill": {
     "duration": 0.222663,
     "end_time": "2022-11-19T17:32:26.006894",
     "exception": false,
     "start_time": "2022-11-19T17:32:25.784231",
     "status": "completed"
    },
    "tags": []
   },
   "outputs": [
    {
     "data": {
      "text/plain": [
       "array(['joy', 'fear', 'anger', 'fear', 'joy', 'joy', 'anger', 'fear',\n",
       "       'joy', 'joy'], dtype=object)"
      ]
     },
     "execution_count": 31,
     "metadata": {},
     "output_type": "execute_result"
    }
   ],
   "source": [
    "## build DecisionTree model\n",
    "DT_model = DecisionTreeClassifier(random_state=0)\n",
    "\n",
    "## training!\n",
    "DT_model = DT_model.fit(X_train, y_train)\n",
    "\n",
    "## predict!\n",
    "y_train_pred = DT_model.predict(X_train)\n",
    "y_test_pred = DT_model.predict(X_test)\n",
    "\n",
    "## so we get the pred result\n",
    "y_test_pred[:10]"
   ]
  },
  {
   "cell_type": "markdown",
   "id": "5b330330",
   "metadata": {
    "id": "zqZHlDjxYTpo",
    "papermill": {
     "duration": 0.024594,
     "end_time": "2022-11-19T17:32:26.056156",
     "exception": false,
     "start_time": "2022-11-19T17:32:26.031562",
     "status": "completed"
    },
    "tags": []
   },
   "source": [
    " "
   ]
  },
  {
   "cell_type": "markdown",
   "id": "9c98fa0f",
   "metadata": {
    "id": "iBNmBT50YTpo",
    "papermill": {
     "duration": 0.024941,
     "end_time": "2022-11-19T17:32:26.106544",
     "exception": false,
     "start_time": "2022-11-19T17:32:26.081603",
     "status": "completed"
    },
    "tags": []
   },
   "source": [
    "---\n",
    "# 4. Results Evaluation"
   ]
  },
  {
   "cell_type": "markdown",
   "id": "78e8a6cc",
   "metadata": {
    "id": "-gQU_PbhYTpo",
    "papermill": {
     "duration": 0.02478,
     "end_time": "2022-11-19T17:32:26.156785",
     "exception": false,
     "start_time": "2022-11-19T17:32:26.132005",
     "status": "completed"
    },
    "tags": []
   },
   "source": [
    "Now we will check the results of our model's performance"
   ]
  },
  {
   "cell_type": "code",
   "execution_count": 32,
   "id": "0e1e39f0",
   "metadata": {
    "execution": {
     "iopub.execute_input": "2022-11-19T17:32:26.208876Z",
     "iopub.status.busy": "2022-11-19T17:32:26.208491Z",
     "iopub.status.idle": "2022-11-19T17:32:26.219293Z",
     "shell.execute_reply": "2022-11-19T17:32:26.218236Z"
    },
    "id": "A9yx3tv-YTpo",
    "outputId": "0b1e4f04-d7a5-4e0d-8351-66c2b802cc42",
    "papermill": {
     "duration": 0.039555,
     "end_time": "2022-11-19T17:32:26.221504",
     "exception": false,
     "start_time": "2022-11-19T17:32:26.181949",
     "status": "completed"
    },
    "tags": []
   },
   "outputs": [
    {
     "name": "stdout",
     "output_type": "stream",
     "text": [
      "training accuracy: 0.99\n",
      "testing accuracy: 0.66\n"
     ]
    }
   ],
   "source": [
    "## accuracy\n",
    "from sklearn.metrics import accuracy_score\n",
    "\n",
    "acc_train = accuracy_score(y_true=y_train, y_pred=y_train_pred)\n",
    "acc_test = accuracy_score(y_true=y_test, y_pred=y_test_pred)\n",
    "\n",
    "print('training accuracy: {}'.format(round(acc_train, 2)))\n",
    "print('testing accuracy: {}'.format(round(acc_test, 2)))\n"
   ]
  },
  {
   "cell_type": "code",
   "execution_count": 33,
   "id": "c2c86295",
   "metadata": {
    "execution": {
     "iopub.execute_input": "2022-11-19T17:32:26.274629Z",
     "iopub.status.busy": "2022-11-19T17:32:26.274301Z",
     "iopub.status.idle": "2022-11-19T17:32:26.292317Z",
     "shell.execute_reply": "2022-11-19T17:32:26.290943Z"
    },
    "id": "-wkOqjqiYTpo",
    "outputId": "f0538316-514a-4894-fb0f-ccc73204f598",
    "papermill": {
     "duration": 0.047418,
     "end_time": "2022-11-19T17:32:26.294424",
     "exception": false,
     "start_time": "2022-11-19T17:32:26.247006",
     "status": "completed"
    },
    "tags": []
   },
   "outputs": [
    {
     "name": "stdout",
     "output_type": "stream",
     "text": [
      "              precision    recall  f1-score   support\n",
      "\n",
      "       anger       0.63      0.65      0.64        84\n",
      "        fear       0.66      0.69      0.68       110\n",
      "         joy       0.70      0.68      0.69        79\n",
      "     sadness       0.65      0.59      0.62        74\n",
      "\n",
      "    accuracy                           0.66       347\n",
      "   macro avg       0.66      0.66      0.66       347\n",
      "weighted avg       0.66      0.66      0.66       347\n",
      "\n"
     ]
    }
   ],
   "source": [
    "## precision, recall, f1-score,\n",
    "from sklearn.metrics import classification_report\n",
    "\n",
    "print(classification_report(y_true=y_test, y_pred=y_test_pred))"
   ]
  },
  {
   "cell_type": "code",
   "execution_count": 34,
   "id": "f2a3d9e9",
   "metadata": {
    "execution": {
     "iopub.execute_input": "2022-11-19T17:32:26.346916Z",
     "iopub.status.busy": "2022-11-19T17:32:26.346601Z",
     "iopub.status.idle": "2022-11-19T17:32:26.355583Z",
     "shell.execute_reply": "2022-11-19T17:32:26.353719Z"
    },
    "id": "N6mhrmKHYTpo",
    "outputId": "30efb505-d5e0-41f6-e72a-05302135a4db",
    "papermill": {
     "duration": 0.038381,
     "end_time": "2022-11-19T17:32:26.358368",
     "exception": false,
     "start_time": "2022-11-19T17:32:26.319987",
     "status": "completed"
    },
    "tags": []
   },
   "outputs": [
    {
     "name": "stdout",
     "output_type": "stream",
     "text": [
      "[[55 20  5  4]\n",
      " [16 76  8 10]\n",
      " [ 7  8 54 10]\n",
      " [ 9 11 10 44]]\n"
     ]
    }
   ],
   "source": [
    "## check by confusion matrix\n",
    "from sklearn.metrics import confusion_matrix\n",
    "\n",
    "cm = confusion_matrix(y_true=y_test, y_pred=y_test_pred) \n",
    "print(cm)"
   ]
  },
  {
   "cell_type": "code",
   "execution_count": 35,
   "id": "3315c935",
   "metadata": {
    "execution": {
     "iopub.execute_input": "2022-11-19T17:32:26.411281Z",
     "iopub.status.busy": "2022-11-19T17:32:26.410970Z",
     "iopub.status.idle": "2022-11-19T17:32:26.595656Z",
     "shell.execute_reply": "2022-11-19T17:32:26.593819Z"
    },
    "id": "-TcX8NA5YTpo",
    "papermill": {
     "duration": 0.214287,
     "end_time": "2022-11-19T17:32:26.598374",
     "exception": false,
     "start_time": "2022-11-19T17:32:26.384087",
     "status": "completed"
    },
    "tags": []
   },
   "outputs": [],
   "source": [
    "# Funciton for visualizing confusion_matrix\n",
    "import matplotlib.pyplot as plt\n",
    "import seaborn as sns\n",
    "import numpy as np\n",
    "import itertools\n",
    "\n",
    "def plot_confusion_matrix(cm, classes, title='Confusion matrix',\n",
    "                          cmap=sns.cubehelix_palette(as_cmap=True)):\n",
    "    \"\"\"\n",
    "    This function is modified from: \n",
    "    http://scikit-learn.org/stable/auto_examples/model_selection/plot_confusion_matrix.html\n",
    "    \"\"\"\n",
    "    classes.sort()\n",
    "    tick_marks = np.arange(len(classes))    \n",
    "    \n",
    "    fig, ax = plt.subplots(figsize=(5,5))\n",
    "    im = ax.imshow(cm, interpolation='nearest', cmap=cmap)\n",
    "    ax.figure.colorbar(im, ax=ax)\n",
    "    ax.set(xticks=np.arange(cm.shape[1]),\n",
    "           yticks=np.arange(cm.shape[0]),\n",
    "           xticklabels = classes,\n",
    "           yticklabels = classes,\n",
    "           title = title,\n",
    "           xlabel = 'True label',\n",
    "           ylabel = 'Predicted label')\n",
    "\n",
    "    fmt = 'd'\n",
    "    thresh = cm.max() / 2.\n",
    "    for i, j in itertools.product(range(cm.shape[0]), range(cm.shape[1])):\n",
    "        plt.text(j, i, format(cm[i, j], fmt), horizontalalignment=\"center\", color=\"white\" if cm[i, j] > thresh else \"black\")\n",
    "    ylim_top = len(classes) - 0.5\n",
    "    plt.ylim([ylim_top, -.5])\n",
    "    plt.tight_layout()\n",
    "    plt.show()"
   ]
  },
  {
   "cell_type": "code",
   "execution_count": 36,
   "id": "dce9682d",
   "metadata": {
    "execution": {
     "iopub.execute_input": "2022-11-19T17:32:26.653082Z",
     "iopub.status.busy": "2022-11-19T17:32:26.652780Z",
     "iopub.status.idle": "2022-11-19T17:32:26.873761Z",
     "shell.execute_reply": "2022-11-19T17:32:26.872993Z"
    },
    "id": "1nBVOUpDYTpo",
    "outputId": "7f99188c-1f03-462e-971e-0c8238f4f0d7",
    "papermill": {
     "duration": 0.251036,
     "end_time": "2022-11-19T17:32:26.875906",
     "exception": false,
     "start_time": "2022-11-19T17:32:26.624870",
     "status": "completed"
    },
    "tags": []
   },
   "outputs": [
    {
     "data": {
      "image/png": "[encoded data removed]",
      "text/plain": [
       "<Figure size 360x360 with 2 Axes>"
      ]
     },
     "metadata": {
      "needs_background": "light"
     },
     "output_type": "display_data"
    }
   ],
   "source": [
    "# plot your confusion matrix\n",
    "my_tags = ['anger', 'fear', 'joy', 'sadness']\n",
    "plot_confusion_matrix(cm, classes=my_tags, title='Confusion matrix')"
   ]
  },
  {
   "cell_type": "markdown",
   "id": "9ccf93f6",
   "metadata": {
    "id": "l743vmwgYTpo",
    "papermill": {
     "duration": 0.025418,
     "end_time": "2022-11-19T17:32:26.927189",
     "exception": false,
     "start_time": "2022-11-19T17:32:26.901771",
     "status": "completed"
    },
    "tags": []
   },
   "source": [
    "---\n",
    "### ** >>> Exercise 3 (Take home): **  \n",
    "Can you interpret the results above? What do they mean?"
   ]
  },
  {
   "cell_type": "markdown",
   "id": "ebc311c6",
   "metadata": {
    "execution": {
     "iopub.execute_input": "2022-11-19T07:25:59.119895Z",
     "iopub.status.busy": "2022-11-19T07:25:59.119190Z",
     "iopub.status.idle": "2022-11-19T07:25:59.124839Z",
     "shell.execute_reply": "2022-11-19T07:25:59.123800Z",
     "shell.execute_reply.started": "2022-11-19T07:25:59.119847Z"
    },
    "id": "8pYICOxsYTpo",
    "papermill": {
     "duration": 0.024872,
     "end_time": "2022-11-19T17:32:26.977778",
     "exception": false,
     "start_time": "2022-11-19T17:32:26.952906",
     "status": "completed"
    },
    "tags": []
   },
   "source": [
    "### Answer here\n",
    "Although the result in the confusion matrix seems to be accurate, compared with the train data result, the accuracy of the test data is much lower than the train data(0.99 v.s. 0.66). In conclusion, the model of decision tree is overfitting"
   ]
  },
  {
   "cell_type": "markdown",
   "id": "8a76e028",
   "metadata": {
    "id": "GaHpgl87YTpo",
    "papermill": {
     "duration": 0.025367,
     "end_time": "2022-11-19T17:32:27.028519",
     "exception": false,
     "start_time": "2022-11-19T17:32:27.003152",
     "status": "completed"
    },
    "tags": []
   },
   "source": [
    "---\n",
    "### ** >>> Exercise 4 (Take home): **  \n",
    "Build a model using a ```Naive Bayes``` model and train it. What are the testing results? \n",
    "\n",
    "*Reference*: https://scikit-learn.org/stable/modules/generated/sklearn.naive_bayes.MultinomialNB.html"
   ]
  },
  {
   "cell_type": "code",
   "execution_count": 37,
   "id": "55b703eb",
   "metadata": {
    "execution": {
     "iopub.execute_input": "2022-11-19T17:32:27.080093Z",
     "iopub.status.busy": "2022-11-19T17:32:27.079780Z",
     "iopub.status.idle": "2022-11-19T17:32:27.089797Z",
     "shell.execute_reply": "2022-11-19T17:32:27.088383Z"
    },
    "id": "ZPvaHzpXYTpo",
    "papermill": {
     "duration": 0.03849,
     "end_time": "2022-11-19T17:32:27.091917",
     "exception": false,
     "start_time": "2022-11-19T17:32:27.053427",
     "status": "completed"
    },
    "tags": []
   },
   "outputs": [],
   "source": [
    "# Answer here\n",
    "from sklearn.feature_extraction.text import TfidfVectorizer\n",
    "from sklearn.naive_bayes import MultinomialNB\n",
    "from sklearn.pipeline import make_pipeline\n",
    "from sklearn.model_selection import train_test_split"
   ]
  },
  {
   "cell_type": "code",
   "execution_count": 38,
   "id": "b0f5bbec",
   "metadata": {
    "execution": {
     "iopub.execute_input": "2022-11-19T17:32:27.143341Z",
     "iopub.status.busy": "2022-11-19T17:32:27.142990Z",
     "iopub.status.idle": "2022-11-19T17:32:27.950348Z",
     "shell.execute_reply": "2022-11-19T17:32:27.948262Z"
    },
    "papermill": {
     "duration": 0.835727,
     "end_time": "2022-11-19T17:32:27.952771",
     "exception": false,
     "start_time": "2022-11-19T17:32:27.117044",
     "status": "completed"
    },
    "tags": []
   },
   "outputs": [
    {
     "name": "stdout",
     "output_type": "stream",
     "text": [
      "X_MNB_train.shape:  (3613, 500)\n",
      "y_MNB_train.shape:  (3613,)\n",
      "X_MNB_test.shape:  (347, 500)\n",
      "y_MNB_test.shape:  (347,)\n"
     ]
    }
   ],
   "source": [
    "# for a classificaiton problem, you need to provide both training & testing data\n",
    "X_MNB_train = BOW_500.transform(train_df['text'])\n",
    "y_MNB_train = train_df['emotion']\n",
    "\n",
    "X_MNB_test = BOW_500.transform(test_df['text'])\n",
    "y_MNB_test = test_df['emotion']\n",
    "\n",
    "## take a look at data dimension is a good habbit  :)\n",
    "print('X_MNB_train.shape: ', X_MNB_train.shape)\n",
    "print('y_MNB_train.shape: ', y_MNB_train.shape)\n",
    "print('X_MNB_test.shape: ', X_MNB_test.shape)\n",
    "print('y_MNB_test.shape: ', y_MNB_test.shape)"
   ]
  },
  {
   "cell_type": "code",
   "execution_count": 39,
   "id": "8a656cdf",
   "metadata": {
    "execution": {
     "iopub.execute_input": "2022-11-19T17:32:28.008461Z",
     "iopub.status.busy": "2022-11-19T17:32:28.008125Z",
     "iopub.status.idle": "2022-11-19T17:32:28.026078Z",
     "shell.execute_reply": "2022-11-19T17:32:28.024205Z"
    },
    "papermill": {
     "duration": 0.048887,
     "end_time": "2022-11-19T17:32:28.028360",
     "exception": false,
     "start_time": "2022-11-19T17:32:27.979473",
     "status": "completed"
    },
    "tags": []
   },
   "outputs": [
    {
     "data": {
      "text/plain": [
       "array(['anger', 'fear', 'fear', 'fear', 'joy', 'joy', 'sadness', 'fear',\n",
       "       'joy', 'joy'], dtype='<U7')"
      ]
     },
     "execution_count": 39,
     "metadata": {},
     "output_type": "execute_result"
    }
   ],
   "source": [
    "## build Naive Bayes model\n",
    "MNB = MultinomialNB()\n",
    "\n",
    "## training!\n",
    "MNB.fit(X_MNB_train, y_MNB_train)\n",
    "\n",
    "## predict!\n",
    "y_MNB_train_pred = MNB.predict(X_MNB_train)\n",
    "y_MNB_test_pred = MNB.predict(X_MNB_test)\n",
    "\n",
    "## so we get the pred result\n",
    "y_MNB_test_pred[:10]"
   ]
  },
  {
   "cell_type": "code",
   "execution_count": 40,
   "id": "6f1c50e4",
   "metadata": {
    "execution": {
     "iopub.execute_input": "2022-11-19T17:32:28.082309Z",
     "iopub.status.busy": "2022-11-19T17:32:28.082001Z",
     "iopub.status.idle": "2022-11-19T17:32:28.093048Z",
     "shell.execute_reply": "2022-11-19T17:32:28.091455Z"
    },
    "papermill": {
     "duration": 0.040874,
     "end_time": "2022-11-19T17:32:28.095623",
     "exception": false,
     "start_time": "2022-11-19T17:32:28.054749",
     "status": "completed"
    },
    "tags": []
   },
   "outputs": [
    {
     "name": "stdout",
     "output_type": "stream",
     "text": [
      "Naive Bayes model training accuracy: 0.79\n",
      "Naive Bayes model testing accuracy: 0.7\n"
     ]
    }
   ],
   "source": [
    "## accuracy\n",
    "acc_MNB_train = accuracy_score(y_true=y_MNB_train, y_pred=y_MNB_train_pred)\n",
    "acc_MNB_test = accuracy_score(y_true=y_MNB_test, y_pred=y_MNB_test_pred)\n",
    "\n",
    "print('Naive Bayes model training accuracy: {}'.format(round(acc_MNB_train, 2)))\n",
    "print('Naive Bayes model testing accuracy: {}'.format(round(acc_MNB_test, 2)))"
   ]
  },
  {
   "cell_type": "code",
   "execution_count": 41,
   "id": "05462509",
   "metadata": {
    "execution": {
     "iopub.execute_input": "2022-11-19T17:32:28.149587Z",
     "iopub.status.busy": "2022-11-19T17:32:28.149253Z",
     "iopub.status.idle": "2022-11-19T17:32:28.363277Z",
     "shell.execute_reply": "2022-11-19T17:32:28.362159Z"
    },
    "papermill": {
     "duration": 0.244306,
     "end_time": "2022-11-19T17:32:28.365184",
     "exception": false,
     "start_time": "2022-11-19T17:32:28.120878",
     "status": "completed"
    },
    "tags": []
   },
   "outputs": [
    {
     "data": {
      "image/png": "[encoded data removed]",
      "text/plain": [
       "<Figure size 360x360 with 2 Axes>"
      ]
     },
     "metadata": {
      "needs_background": "light"
     },
     "output_type": "display_data"
    }
   ],
   "source": [
    "## check by confusion matrix\n",
    "cm_mnb = confusion_matrix(y_true=y_MNB_test, y_pred=y_MNB_test_pred) \n",
    "# plot your confusion matrix\n",
    "my_tags = ['anger', 'fear', 'joy', 'sadness']\n",
    "plot_confusion_matrix(cm_mnb, classes=my_tags, title='Confusion matrix')"
   ]
  },
  {
   "cell_type": "markdown",
   "id": "e3b3952b",
   "metadata": {
    "id": "Xv2DqWQSYTpo",
    "papermill": {
     "duration": 0.02579,
     "end_time": "2022-11-19T17:32:28.416854",
     "exception": false,
     "start_time": "2022-11-19T17:32:28.391064",
     "status": "completed"
    },
    "tags": []
   },
   "source": [
    "---\n",
    "### ** >>> Exercise 5 (Take home): **  \n",
    "\n",
    "How do the results from the Naive Bayes model and the Decision Tree model compare? How do you interpret these differences? Use the theoretical background covered in class to try and explain these differences."
   ]
  },
  {
   "cell_type": "markdown",
   "id": "7bf2f177",
   "metadata": {
    "papermill": {
     "duration": 0.025964,
     "end_time": "2022-11-19T17:32:28.468868",
     "exception": false,
     "start_time": "2022-11-19T17:32:28.442904",
     "status": "completed"
    },
    "tags": []
   },
   "source": [
    "### Answer here\n",
    "\n",
    "From the observation above, compared to Decision Tree, Naive Bayes model does not overfit.\n",
    "\n",
    "The reason that decision tree being overfitting is the amount of specificity we look at leading to smaller sample of events that meet the previous assumptions.\n",
    "This small sample could lead to unsound conclusions and increase the test set error occurence.\n",
    "\n",
    "Naive Bayes makes a strong assumption of independence between the features, so it would be biased and less flexible, hence less likely to overfit. \n",
    "\n",
    "\n",
    "\n",
    "Reference:\n",
    "\n",
    "https://towardsdatascience.com/decision-trees-and-random-forests-df0c3123f991\n",
    "https://stats.stackexchange.com/questions/543494/how-can-naive-bayes-overfit-the-data"
   ]
  },
  {
   "cell_type": "markdown",
   "id": "37c4a042",
   "metadata": {
    "id": "ehlJ60lhYTpo",
    "papermill": {
     "duration": 0.025783,
     "end_time": "2022-11-19T17:32:28.520563",
     "exception": false,
     "start_time": "2022-11-19T17:32:28.494780",
     "status": "completed"
    },
    "tags": []
   },
   "source": [
    "---"
   ]
  },
  {
   "cell_type": "markdown",
   "id": "5c7c872c",
   "metadata": {
    "id": "79F_DaW-YTpo",
    "papermill": {
     "duration": 0.0261,
     "end_time": "2022-11-19T17:32:28.572770",
     "exception": false,
     "start_time": "2022-11-19T17:32:28.546670",
     "status": "completed"
    },
    "tags": []
   },
   "source": [
    "## 5. Other things you can try"
   ]
  },
  {
   "cell_type": "markdown",
   "id": "ee9b9eeb",
   "metadata": {
    "id": "_oeqpRu6YTpo",
    "papermill": {
     "duration": 0.026183,
     "end_time": "2022-11-19T17:32:28.624930",
     "exception": false,
     "start_time": "2022-11-19T17:32:28.598747",
     "status": "completed"
    },
    "tags": []
   },
   "source": [
    "Thus, there are several things you can try that will affect your results. In order to yield better results, you can experiment by: \n",
    "- Trying different features (Feature engineering), such as: Word2Vec,PCA,LDA,FastText, Clustering\n",
    "- Trying different models\n",
    "- Analyzing your results and interpret them to improve your feature engineering/model building process\n",
    "- Iterate through the steps above until finding a satisfying result\n",
    "Remember that you should also consider the task at hand and the model you'll feed the data to. "
   ]
  },
  {
   "cell_type": "markdown",
   "id": "ec67b11f",
   "metadata": {
    "id": "fiGUSmPLYTpo",
    "papermill": {
     "duration": 0.025703,
     "end_time": "2022-11-19T17:32:28.676851",
     "exception": false,
     "start_time": "2022-11-19T17:32:28.651148",
     "status": "completed"
    },
    "tags": []
   },
   "source": [
    "---\n",
    "# 6. Deep Learning\n",
    "\n",
    "We use [Keras](https://keras.io/) to be our deep learning framwork, and follow the [Model (functional API)](https://keras.io/models/model/) to build a Deep Neural Network (DNN) model. Keras runs with Tensorflow in the backend. It's a nice abstraction to start working with NN models. \n",
    "\n",
    "Because Deep Learning is a 1-semester course, we can't talk about each detail about it in the lab session. Here, we only provide a simple template about how to build & run a DL model successfully. You can follow this template to design your model.\n",
    "\n",
    "We will begin by building a fully connected network, which looks like this:"
   ]
  },
  {
   "cell_type": "markdown",
   "id": "46a32610",
   "metadata": {
    "id": "1nB0BTq2YTpo",
    "papermill": {
     "duration": 0.026734,
     "end_time": "2022-11-19T17:32:28.729822",
     "exception": false,
     "start_time": "2022-11-19T17:32:28.703088",
     "status": "completed"
    },
    "tags": []
   },
   "source": [
    "![image.png](https://raw.githubusercontent.com/keziatamus/DM2022-Lab2-Master/08755efc671824064d7a9347edb8c418550c3e83//pics/pic1.png)"
   ]
  },
  {
   "cell_type": "markdown",
   "id": "0eeeb9aa",
   "metadata": {
    "id": "-EtVRGhNYTpo",
    "papermill": {
     "duration": 0.026073,
     "end_time": "2022-11-19T17:32:28.781884",
     "exception": false,
     "start_time": "2022-11-19T17:32:28.755811",
     "status": "completed"
    },
    "tags": []
   },
   "source": [
    "### 6.1 Prepare data (X, y)"
   ]
  },
  {
   "cell_type": "code",
   "execution_count": 42,
   "id": "d5479d01",
   "metadata": {
    "execution": {
     "iopub.execute_input": "2022-11-19T17:32:28.835342Z",
     "iopub.status.busy": "2022-11-19T17:32:28.834662Z",
     "iopub.status.idle": "2022-11-19T17:32:35.700752Z",
     "shell.execute_reply": "2022-11-19T17:32:35.699604Z"
    },
    "id": "4mIdg2D6YTpo",
    "outputId": "8f4fa078-7e07-4b76-e5ee-163d123abde3",
    "papermill": {
     "duration": 6.895296,
     "end_time": "2022-11-19T17:32:35.703096",
     "exception": false,
     "start_time": "2022-11-19T17:32:28.807800",
     "status": "completed"
    },
    "tags": []
   },
   "outputs": [
    {
     "name": "stdout",
     "output_type": "stream",
     "text": [
      "X_train.shape:  (3613, 500)\n",
      "y_train.shape:  (3613,)\n",
      "X_test.shape:  (347, 500)\n",
      "y_test.shape:  (347,)\n"
     ]
    }
   ],
   "source": [
    "import keras\n",
    "\n",
    "# standardize name (X, y) \n",
    "X_train = BOW_500.transform(train_df['text'])\n",
    "y_train = train_df['emotion']\n",
    "\n",
    "X_test = BOW_500.transform(test_df['text'])\n",
    "y_test = test_df['emotion']\n",
    "\n",
    "## check dimension is a good habbit \n",
    "print('X_train.shape: ', X_train.shape)\n",
    "print('y_train.shape: ', y_train.shape)\n",
    "print('X_test.shape: ', X_test.shape)\n",
    "print('y_test.shape: ', y_test.shape)"
   ]
  },
  {
   "cell_type": "markdown",
   "id": "80eb98ee",
   "metadata": {
    "id": "iBZZedZ2YTpo",
    "papermill": {
     "duration": 0.026105,
     "end_time": "2022-11-19T17:32:35.755777",
     "exception": false,
     "start_time": "2022-11-19T17:32:35.729672",
     "status": "completed"
    },
    "tags": []
   },
   "source": [
    "### 6.2 Deal with categorical label (y)\n",
    "\n",
    "Rather than put your label `train_df['emotion']` directly into a model, we have to process these categorical (or say nominal) label by ourselves. \n",
    "\n",
    "Here, we use the basic method [one-hot encoding](https://en.wikipedia.org/wiki/One-hot) to transform our categorical  labels to numerical ones.\n"
   ]
  },
  {
   "cell_type": "code",
   "execution_count": 43,
   "id": "4abed36b",
   "metadata": {
    "execution": {
     "iopub.execute_input": "2022-11-19T17:32:35.811216Z",
     "iopub.status.busy": "2022-11-19T17:32:35.810622Z",
     "iopub.status.idle": "2022-11-19T17:32:35.823924Z",
     "shell.execute_reply": "2022-11-19T17:32:35.822123Z"
    },
    "id": "SU95MCsSYTpo",
    "outputId": "7f536cfa-8eda-4c04-bbbb-f35caa203f88",
    "papermill": {
     "duration": 0.043607,
     "end_time": "2022-11-19T17:32:35.826114",
     "exception": false,
     "start_time": "2022-11-19T17:32:35.782507",
     "status": "completed"
    },
    "tags": []
   },
   "outputs": [
    {
     "name": "stdout",
     "output_type": "stream",
     "text": [
      "check label:  ['anger' 'fear' 'joy' 'sadness']\n",
      "\n",
      "## Before convert\n",
      "y_train[0:4]:\n",
      " 1066       fear\n",
      "522       anger\n",
      "1922       fear\n",
      "3015    sadness\n",
      "Name: emotion, dtype: object\n",
      "\n",
      "y_train.shape:  (3613,)\n",
      "y_test.shape:  (347,)\n",
      "\n",
      "\n",
      "## After convert\n",
      "y_train[0:4]:\n",
      " [[0. 1. 0. 0.]\n",
      " [1. 0. 0. 0.]\n",
      " [0. 1. 0. 0.]\n",
      " [0. 0. 0. 1.]]\n",
      "\n",
      "y_train.shape:  (3613, 4)\n",
      "y_test.shape:  (347, 4)\n"
     ]
    }
   ],
   "source": [
    "## deal with label (string -> one-hot)\n",
    "\n",
    "from sklearn.preprocessing import LabelEncoder\n",
    "from keras.utils import np_utils\n",
    "\n",
    "label_encoder = LabelEncoder()\n",
    "label_encoder.fit(y_train)\n",
    "print('check label: ', label_encoder.classes_)\n",
    "print('\\n## Before convert')\n",
    "print('y_train[0:4]:\\n', y_train[0:4])\n",
    "print('\\ny_train.shape: ', y_train.shape)\n",
    "print('y_test.shape: ', y_test.shape)\n",
    "\n",
    "def label_encode(le, labels):\n",
    "    enc = le.transform(labels)\n",
    "    return np_utils.to_categorical(enc)\n",
    "\n",
    "def label_decode(le, one_hot_label):\n",
    "    dec = np.argmax(one_hot_label, axis=1)\n",
    "    return le.inverse_transform(dec)\n",
    "\n",
    "y_train = label_encode(label_encoder, y_train)\n",
    "y_test = label_encode(label_encoder, y_test)\n",
    "\n",
    "print('\\n\\n## After convert')\n",
    "print('y_train[0:4]:\\n', y_train[0:4])\n",
    "print('\\ny_train.shape: ', y_train.shape)\n",
    "print('y_test.shape: ', y_test.shape)\n"
   ]
  },
  {
   "cell_type": "markdown",
   "id": "682c74cf",
   "metadata": {
    "id": "W4bqEcMbYTpo",
    "papermill": {
     "duration": 0.025473,
     "end_time": "2022-11-19T17:32:35.877999",
     "exception": false,
     "start_time": "2022-11-19T17:32:35.852526",
     "status": "completed"
    },
    "tags": []
   },
   "source": [
    "### 6.3 Build model"
   ]
  },
  {
   "cell_type": "code",
   "execution_count": 44,
   "id": "7cf07a5a",
   "metadata": {
    "execution": {
     "iopub.execute_input": "2022-11-19T17:32:35.932372Z",
     "iopub.status.busy": "2022-11-19T17:32:35.931823Z",
     "iopub.status.idle": "2022-11-19T17:32:35.936239Z",
     "shell.execute_reply": "2022-11-19T17:32:35.935584Z"
    },
    "id": "6sA7cx-oYTpo",
    "outputId": "9f544ca7-8ceb-45e4-a76d-bdc8ccdb329c",
    "papermill": {
     "duration": 0.034098,
     "end_time": "2022-11-19T17:32:35.938454",
     "exception": false,
     "start_time": "2022-11-19T17:32:35.904356",
     "status": "completed"
    },
    "tags": []
   },
   "outputs": [
    {
     "name": "stdout",
     "output_type": "stream",
     "text": [
      "input_shape:  500\n",
      "output_shape:  4\n"
     ]
    }
   ],
   "source": [
    "# I/O check\n",
    "input_shape = X_train.shape[1]\n",
    "print('input_shape: ', input_shape)\n",
    "\n",
    "output_shape = len(label_encoder.classes_)\n",
    "print('output_shape: ', output_shape)"
   ]
  },
  {
   "cell_type": "markdown",
   "id": "42e0ffb2",
   "metadata": {
    "id": "8c-uWuloYTpo",
    "papermill": {
     "duration": 0.026277,
     "end_time": "2022-11-19T17:32:35.992319",
     "exception": false,
     "start_time": "2022-11-19T17:32:35.966042",
     "status": "completed"
    },
    "tags": []
   },
   "source": [
    "![image.png](https://raw.githubusercontent.com/keziatamus/DM2022-Lab2-Master/08755efc671824064d7a9347edb8c418550c3e83//pics/pic2.png)"
   ]
  },
  {
   "cell_type": "code",
   "execution_count": 45,
   "id": "47f5c40a",
   "metadata": {
    "execution": {
     "iopub.execute_input": "2022-11-19T17:32:36.047242Z",
     "iopub.status.busy": "2022-11-19T17:32:36.046911Z",
     "iopub.status.idle": "2022-11-19T17:32:36.169511Z",
     "shell.execute_reply": "2022-11-19T17:32:36.167163Z"
    },
    "id": "jTeBWTvgYTpo",
    "outputId": "3e88d40f-2179-40ea-89c6-55085cabd1c6",
    "papermill": {
     "duration": 0.152887,
     "end_time": "2022-11-19T17:32:36.171761",
     "exception": false,
     "start_time": "2022-11-19T17:32:36.018874",
     "status": "completed"
    },
    "tags": []
   },
   "outputs": [
    {
     "name": "stdout",
     "output_type": "stream",
     "text": [
      "Model: \"model\"\n",
      "_________________________________________________________________\n",
      "Layer (type)                 Output Shape              Param #   \n",
      "=================================================================\n",
      "input_1 (InputLayer)         [(None, 500)]             0         \n",
      "_________________________________________________________________\n",
      "dense (Dense)                (None, 64)                32064     \n",
      "_________________________________________________________________\n",
      "re_lu (ReLU)                 (None, 64)                0         \n",
      "_________________________________________________________________\n",
      "dense_1 (Dense)              (None, 64)                4160      \n",
      "_________________________________________________________________\n",
      "re_lu_1 (ReLU)               (None, 64)                0         \n",
      "_________________________________________________________________\n",
      "dense_2 (Dense)              (None, 4)                 260       \n",
      "_________________________________________________________________\n",
      "softmax (Softmax)            (None, 4)                 0         \n",
      "=================================================================\n",
      "Total params: 36,484\n",
      "Trainable params: 36,484\n",
      "Non-trainable params: 0\n",
      "_________________________________________________________________\n"
     ]
    },
    {
     "name": "stderr",
     "output_type": "stream",
     "text": [
      "2022-11-19 17:32:36.092824: I tensorflow/core/common_runtime/process_util.cc:146] Creating new thread pool with default inter op setting: 2. Tune using inter_op_parallelism_threads for best performance.\n"
     ]
    }
   ],
   "source": [
    "from keras.models import Model\n",
    "from keras.layers import Input, Dense\n",
    "from keras.layers import ReLU, Softmax\n",
    "\n",
    "# input layer\n",
    "model_input = Input(shape=(input_shape, ))  # 500\n",
    "X = model_input\n",
    "\n",
    "# 1st hidden layer\n",
    "X_W1 = Dense(units=64)(X)  # 64\n",
    "H1 = ReLU()(X_W1)\n",
    "\n",
    "# 2nd hidden layer\n",
    "H1_W2 = Dense(units=64)(H1)  # 64\n",
    "H2 = ReLU()(H1_W2)\n",
    "\n",
    "# output layer\n",
    "H2_W3 = Dense(units=output_shape)(H2)  # 4\n",
    "H3 = Softmax()(H2_W3)\n",
    "\n",
    "model_output = H3\n",
    "\n",
    "# create model\n",
    "model = Model(inputs=[model_input], outputs=[model_output])\n",
    "\n",
    "# loss function & optimizer\n",
    "model.compile(optimizer='adam',\n",
    "              loss='categorical_crossentropy',\n",
    "              metrics=['accuracy'])\n",
    "\n",
    "# show model construction\n",
    "model.summary()"
   ]
  },
  {
   "cell_type": "markdown",
   "id": "32dd4e76",
   "metadata": {
    "id": "nmTSDO2pYTpo",
    "papermill": {
     "duration": 0.02589,
     "end_time": "2022-11-19T17:32:36.224485",
     "exception": false,
     "start_time": "2022-11-19T17:32:36.198595",
     "status": "completed"
    },
    "tags": []
   },
   "source": [
    "### 6.4 Train"
   ]
  },
  {
   "cell_type": "code",
   "execution_count": 46,
   "id": "5b7294dd",
   "metadata": {
    "execution": {
     "iopub.execute_input": "2022-11-19T17:32:36.278315Z",
     "iopub.status.busy": "2022-11-19T17:32:36.278003Z",
     "iopub.status.idle": "2022-11-19T17:32:47.913511Z",
     "shell.execute_reply": "2022-11-19T17:32:47.911929Z"
    },
    "id": "Kl374LYqYTpo",
    "outputId": "75b1f651-b779-4efd-ff14-0b4a0e95d8db",
    "papermill": {
     "duration": 11.664992,
     "end_time": "2022-11-19T17:32:47.915388",
     "exception": false,
     "start_time": "2022-11-19T17:32:36.250396",
     "status": "completed"
    },
    "tags": []
   },
   "outputs": [
    {
     "name": "stdout",
     "output_type": "stream",
     "text": [
      "Epoch 1/25\n"
     ]
    },
    {
     "name": "stderr",
     "output_type": "stream",
     "text": [
      "/opt/conda/lib/python3.7/site-packages/tensorflow/python/framework/indexed_slices.py:449: UserWarning: Converting sparse IndexedSlices(IndexedSlices(indices=Tensor(\"gradient_tape/model/dense/embedding_lookup_sparse/Reshape_1:0\", shape=(None,), dtype=int32), values=Tensor(\"gradient_tape/model/dense/embedding_lookup_sparse/Reshape:0\", shape=(None, 64), dtype=float32), dense_shape=Tensor(\"gradient_tape/model/dense/embedding_lookup_sparse/Cast:0\", shape=(2,), dtype=int32))) to a dense Tensor of unknown shape. This may consume a large amount of memory.\n",
      "  \"shape. This may consume a large amount of memory.\" % value)\n",
      "2022-11-19 17:32:36.914856: I tensorflow/compiler/mlir/mlir_graph_optimization_pass.cc:185] None of the MLIR Optimization Passes are enabled (registered 2)\n"
     ]
    },
    {
     "name": "stdout",
     "output_type": "stream",
     "text": [
      "113/113 [==============================] - 1s 5ms/step - loss: 1.3311 - accuracy: 0.3767 - val_loss: 1.2972 - val_accuracy: 0.4150\n",
      "Epoch 2/25\n",
      "113/113 [==============================] - 0s 3ms/step - loss: 1.0078 - accuracy: 0.6338 - val_loss: 0.9580 - val_accuracy: 0.6196\n",
      "Epoch 3/25\n",
      "113/113 [==============================] - 0s 3ms/step - loss: 0.5822 - accuracy: 0.7935 - val_loss: 0.8111 - val_accuracy: 0.7032\n",
      "Epoch 4/25\n",
      "113/113 [==============================] - 0s 3ms/step - loss: 0.4140 - accuracy: 0.8539 - val_loss: 0.8179 - val_accuracy: 0.6916\n",
      "Epoch 5/25\n",
      "113/113 [==============================] - 0s 3ms/step - loss: 0.3274 - accuracy: 0.8832 - val_loss: 0.8672 - val_accuracy: 0.6772\n",
      "Epoch 6/25\n",
      "113/113 [==============================] - 0s 3ms/step - loss: 0.2633 - accuracy: 0.9067 - val_loss: 0.8951 - val_accuracy: 0.6916\n",
      "Epoch 7/25\n",
      "113/113 [==============================] - 0s 3ms/step - loss: 0.2214 - accuracy: 0.9267 - val_loss: 0.9702 - val_accuracy: 0.6657\n",
      "Epoch 8/25\n",
      "113/113 [==============================] - 0s 3ms/step - loss: 0.1829 - accuracy: 0.9446 - val_loss: 1.0110 - val_accuracy: 0.6801\n",
      "Epoch 9/25\n",
      "113/113 [==============================] - 0s 3ms/step - loss: 0.1585 - accuracy: 0.9496 - val_loss: 1.1143 - val_accuracy: 0.6628\n",
      "Epoch 10/25\n",
      "113/113 [==============================] - 0s 3ms/step - loss: 0.1352 - accuracy: 0.9579 - val_loss: 1.1207 - val_accuracy: 0.6859\n",
      "Epoch 11/25\n",
      "113/113 [==============================] - 0s 3ms/step - loss: 0.1243 - accuracy: 0.9624 - val_loss: 1.1493 - val_accuracy: 0.6744\n",
      "Epoch 12/25\n",
      "113/113 [==============================] - 0s 3ms/step - loss: 0.1105 - accuracy: 0.9676 - val_loss: 1.2357 - val_accuracy: 0.6744\n",
      "Epoch 13/25\n",
      "113/113 [==============================] - 0s 3ms/step - loss: 0.1067 - accuracy: 0.9676 - val_loss: 1.2467 - val_accuracy: 0.6686\n",
      "Epoch 14/25\n",
      "113/113 [==============================] - 0s 4ms/step - loss: 0.1006 - accuracy: 0.9698 - val_loss: 1.3138 - val_accuracy: 0.6715\n",
      "Epoch 15/25\n",
      "113/113 [==============================] - 0s 3ms/step - loss: 0.0920 - accuracy: 0.9732 - val_loss: 1.4443 - val_accuracy: 0.6715\n",
      "Epoch 16/25\n",
      "113/113 [==============================] - 0s 3ms/step - loss: 0.0848 - accuracy: 0.9729 - val_loss: 1.3694 - val_accuracy: 0.6772\n",
      "Epoch 17/25\n",
      "113/113 [==============================] - 0s 3ms/step - loss: 0.0834 - accuracy: 0.9748 - val_loss: 1.4223 - val_accuracy: 0.6657\n",
      "Epoch 18/25\n",
      "113/113 [==============================] - 0s 3ms/step - loss: 0.0785 - accuracy: 0.9756 - val_loss: 1.4221 - val_accuracy: 0.6599\n",
      "Epoch 19/25\n",
      "113/113 [==============================] - 0s 3ms/step - loss: 0.0797 - accuracy: 0.9762 - val_loss: 1.4167 - val_accuracy: 0.6657\n",
      "Epoch 20/25\n",
      "113/113 [==============================] - 0s 3ms/step - loss: 0.0684 - accuracy: 0.9779 - val_loss: 1.5150 - val_accuracy: 0.6628\n",
      "Epoch 21/25\n",
      "113/113 [==============================] - 0s 3ms/step - loss: 0.0664 - accuracy: 0.9784 - val_loss: 1.4709 - val_accuracy: 0.6916\n",
      "Epoch 22/25\n",
      "113/113 [==============================] - 0s 3ms/step - loss: 0.0664 - accuracy: 0.9765 - val_loss: 1.5500 - val_accuracy: 0.6657\n",
      "Epoch 23/25\n",
      "113/113 [==============================] - 0s 3ms/step - loss: 0.0674 - accuracy: 0.9773 - val_loss: 1.5962 - val_accuracy: 0.6571\n",
      "Epoch 24/25\n",
      "113/113 [==============================] - 0s 3ms/step - loss: 0.0637 - accuracy: 0.9773 - val_loss: 1.5868 - val_accuracy: 0.6715\n",
      "Epoch 25/25\n",
      "113/113 [==============================] - 0s 3ms/step - loss: 0.0644 - accuracy: 0.9776 - val_loss: 1.5606 - val_accuracy: 0.6888\n",
      "training finish\n"
     ]
    }
   ],
   "source": [
    "from keras.callbacks import CSVLogger\n",
    "\n",
    "csv_logger = CSVLogger('training_log.csv')\n",
    "\n",
    "# training setting\n",
    "epochs = 25\n",
    "batch_size = 32\n",
    "\n",
    "# training!\n",
    "history = model.fit(X_train, y_train, \n",
    "                    epochs=epochs, \n",
    "                    batch_size=batch_size, \n",
    "                    callbacks=[csv_logger],\n",
    "                    validation_data = (X_test, y_test))\n",
    "print('training finish')"
   ]
  },
  {
   "cell_type": "markdown",
   "id": "8a01f19d",
   "metadata": {
    "id": "ip8RYsvSYTpo",
    "papermill": {
     "duration": 0.037927,
     "end_time": "2022-11-19T17:32:47.991269",
     "exception": false,
     "start_time": "2022-11-19T17:32:47.953342",
     "status": "completed"
    },
    "tags": []
   },
   "source": [
    "### 6.5 Predict on testing data"
   ]
  },
  {
   "cell_type": "code",
   "execution_count": 47,
   "id": "81489c17",
   "metadata": {
    "execution": {
     "iopub.execute_input": "2022-11-19T17:32:48.069296Z",
     "iopub.status.busy": "2022-11-19T17:32:48.068403Z",
     "iopub.status.idle": "2022-11-19T17:32:48.188523Z",
     "shell.execute_reply": "2022-11-19T17:32:48.187500Z"
    },
    "id": "xdnLuBYBYTpo",
    "outputId": "6e7e97b7-fe5c-44f6-9baa-a71335aa7b06",
    "papermill": {
     "duration": 0.161596,
     "end_time": "2022-11-19T17:32:48.190274",
     "exception": false,
     "start_time": "2022-11-19T17:32:48.028678",
     "status": "completed"
    },
    "tags": []
   },
   "outputs": [
    {
     "data": {
      "text/plain": [
       "array([[8.5391285e-04, 1.2245795e-03, 9.9783462e-01, 8.6922351e-05],\n",
       "       [6.4503098e-07, 9.9980909e-01, 4.3170783e-09, 1.9036749e-04],\n",
       "       [3.4060208e-03, 9.3225527e-01, 6.1893586e-02, 2.4451423e-03],\n",
       "       [2.3389511e-08, 9.9999619e-01, 3.1283423e-07, 3.4715827e-06],\n",
       "       [4.5200426e-07, 7.2213006e-05, 9.9926513e-01, 6.6221837e-04]],\n",
       "      dtype=float32)"
      ]
     },
     "execution_count": 47,
     "metadata": {},
     "output_type": "execute_result"
    }
   ],
   "source": [
    "## predict\n",
    "pred_result = model.predict(X_test, batch_size=128)\n",
    "pred_result[:5]"
   ]
  },
  {
   "cell_type": "code",
   "execution_count": 48,
   "id": "2dd3473a",
   "metadata": {
    "execution": {
     "iopub.execute_input": "2022-11-19T17:32:48.267360Z",
     "iopub.status.busy": "2022-11-19T17:32:48.267051Z",
     "iopub.status.idle": "2022-11-19T17:32:48.273731Z",
     "shell.execute_reply": "2022-11-19T17:32:48.272821Z"
    },
    "id": "hSaXGEX-YTpo",
    "outputId": "d35b5fb3-74e5-44d9-ac1d-8a11cca023e4",
    "papermill": {
     "duration": 0.047867,
     "end_time": "2022-11-19T17:32:48.275852",
     "exception": false,
     "start_time": "2022-11-19T17:32:48.227985",
     "status": "completed"
    },
    "tags": []
   },
   "outputs": [
    {
     "data": {
      "text/plain": [
       "array(['joy', 'fear', 'fear', 'fear', 'joy'], dtype=object)"
      ]
     },
     "execution_count": 48,
     "metadata": {},
     "output_type": "execute_result"
    }
   ],
   "source": [
    "pred_result = label_decode(label_encoder, pred_result)\n",
    "pred_result[:5]"
   ]
  },
  {
   "cell_type": "code",
   "execution_count": 49,
   "id": "209ee135",
   "metadata": {
    "execution": {
     "iopub.execute_input": "2022-11-19T17:32:48.352996Z",
     "iopub.status.busy": "2022-11-19T17:32:48.352332Z",
     "iopub.status.idle": "2022-11-19T17:32:48.359480Z",
     "shell.execute_reply": "2022-11-19T17:32:48.357814Z"
    },
    "id": "bRRHye9KYTp5",
    "outputId": "d4f240ef-5f59-4d90-e3a2-57b98ced3928",
    "papermill": {
     "duration": 0.047702,
     "end_time": "2022-11-19T17:32:48.361299",
     "exception": false,
     "start_time": "2022-11-19T17:32:48.313597",
     "status": "completed"
    },
    "tags": []
   },
   "outputs": [
    {
     "name": "stdout",
     "output_type": "stream",
     "text": [
      "testing accuracy: 0.69\n"
     ]
    }
   ],
   "source": [
    "from sklearn.metrics import accuracy_score\n",
    "\n",
    "print('testing accuracy: {}'.format(round(accuracy_score(label_decode(label_encoder, y_test), pred_result), 2)))"
   ]
  },
  {
   "cell_type": "code",
   "execution_count": 50,
   "id": "2dc2cdac",
   "metadata": {
    "execution": {
     "iopub.execute_input": "2022-11-19T17:32:48.439150Z",
     "iopub.status.busy": "2022-11-19T17:32:48.438175Z",
     "iopub.status.idle": "2022-11-19T17:32:48.454115Z",
     "shell.execute_reply": "2022-11-19T17:32:48.452871Z"
    },
    "id": "ks2Q0aMsYTp5",
    "outputId": "8b802a69-6377-4f0a-c1fa-2f03e5abebd4",
    "papermill": {
     "duration": 0.057407,
     "end_time": "2022-11-19T17:32:48.455756",
     "exception": false,
     "start_time": "2022-11-19T17:32:48.398349",
     "status": "completed"
    },
    "tags": []
   },
   "outputs": [
    {
     "data": {
      "text/html": [
       "<div>\n",
       "<style scoped>\n",
       "    .dataframe tbody tr th:only-of-type {\n",
       "        vertical-align: middle;\n",
       "    }\n",
       "\n",
       "    .dataframe tbody tr th {\n",
       "        vertical-align: top;\n",
       "    }\n",
       "\n",
       "    .dataframe thead th {\n",
       "        text-align: right;\n",
       "    }\n",
       "</style>\n",
       "<table border=\"1\" class=\"dataframe\">\n",
       "  <thead>\n",
       "    <tr style=\"text-align: right;\">\n",
       "      <th></th>\n",
       "      <th>epoch</th>\n",
       "      <th>accuracy</th>\n",
       "      <th>loss</th>\n",
       "      <th>val_accuracy</th>\n",
       "      <th>val_loss</th>\n",
       "    </tr>\n",
       "  </thead>\n",
       "  <tbody>\n",
       "    <tr>\n",
       "      <th>0</th>\n",
       "      <td>0</td>\n",
       "      <td>0.376695</td>\n",
       "      <td>1.331083</td>\n",
       "      <td>0.414986</td>\n",
       "      <td>1.297177</td>\n",
       "    </tr>\n",
       "    <tr>\n",
       "      <th>1</th>\n",
       "      <td>1</td>\n",
       "      <td>0.633822</td>\n",
       "      <td>1.007762</td>\n",
       "      <td>0.619597</td>\n",
       "      <td>0.958009</td>\n",
       "    </tr>\n",
       "    <tr>\n",
       "      <th>2</th>\n",
       "      <td>2</td>\n",
       "      <td>0.793523</td>\n",
       "      <td>0.582189</td>\n",
       "      <td>0.703170</td>\n",
       "      <td>0.811128</td>\n",
       "    </tr>\n",
       "    <tr>\n",
       "      <th>3</th>\n",
       "      <td>3</td>\n",
       "      <td>0.853861</td>\n",
       "      <td>0.413956</td>\n",
       "      <td>0.691643</td>\n",
       "      <td>0.817875</td>\n",
       "    </tr>\n",
       "    <tr>\n",
       "      <th>4</th>\n",
       "      <td>4</td>\n",
       "      <td>0.883200</td>\n",
       "      <td>0.327403</td>\n",
       "      <td>0.677233</td>\n",
       "      <td>0.867212</td>\n",
       "    </tr>\n",
       "    <tr>\n",
       "      <th>5</th>\n",
       "      <td>5</td>\n",
       "      <td>0.906726</td>\n",
       "      <td>0.263311</td>\n",
       "      <td>0.691643</td>\n",
       "      <td>0.895073</td>\n",
       "    </tr>\n",
       "    <tr>\n",
       "      <th>6</th>\n",
       "      <td>6</td>\n",
       "      <td>0.926654</td>\n",
       "      <td>0.221389</td>\n",
       "      <td>0.665706</td>\n",
       "      <td>0.970236</td>\n",
       "    </tr>\n",
       "    <tr>\n",
       "      <th>7</th>\n",
       "      <td>7</td>\n",
       "      <td>0.944644</td>\n",
       "      <td>0.182854</td>\n",
       "      <td>0.680115</td>\n",
       "      <td>1.011016</td>\n",
       "    </tr>\n",
       "    <tr>\n",
       "      <th>8</th>\n",
       "      <td>8</td>\n",
       "      <td>0.949626</td>\n",
       "      <td>0.158516</td>\n",
       "      <td>0.662824</td>\n",
       "      <td>1.114267</td>\n",
       "    </tr>\n",
       "    <tr>\n",
       "      <th>9</th>\n",
       "      <td>9</td>\n",
       "      <td>0.957930</td>\n",
       "      <td>0.135170</td>\n",
       "      <td>0.685879</td>\n",
       "      <td>1.120741</td>\n",
       "    </tr>\n",
       "    <tr>\n",
       "      <th>10</th>\n",
       "      <td>10</td>\n",
       "      <td>0.962358</td>\n",
       "      <td>0.124350</td>\n",
       "      <td>0.674352</td>\n",
       "      <td>1.149265</td>\n",
       "    </tr>\n",
       "    <tr>\n",
       "      <th>11</th>\n",
       "      <td>11</td>\n",
       "      <td>0.967617</td>\n",
       "      <td>0.110511</td>\n",
       "      <td>0.674352</td>\n",
       "      <td>1.235660</td>\n",
       "    </tr>\n",
       "    <tr>\n",
       "      <th>12</th>\n",
       "      <td>12</td>\n",
       "      <td>0.967617</td>\n",
       "      <td>0.106665</td>\n",
       "      <td>0.668588</td>\n",
       "      <td>1.246683</td>\n",
       "    </tr>\n",
       "    <tr>\n",
       "      <th>13</th>\n",
       "      <td>13</td>\n",
       "      <td>0.969831</td>\n",
       "      <td>0.100613</td>\n",
       "      <td>0.671470</td>\n",
       "      <td>1.313755</td>\n",
       "    </tr>\n",
       "    <tr>\n",
       "      <th>14</th>\n",
       "      <td>14</td>\n",
       "      <td>0.973153</td>\n",
       "      <td>0.091968</td>\n",
       "      <td>0.671470</td>\n",
       "      <td>1.444314</td>\n",
       "    </tr>\n",
       "    <tr>\n",
       "      <th>15</th>\n",
       "      <td>15</td>\n",
       "      <td>0.972876</td>\n",
       "      <td>0.084820</td>\n",
       "      <td>0.677233</td>\n",
       "      <td>1.369396</td>\n",
       "    </tr>\n",
       "    <tr>\n",
       "      <th>16</th>\n",
       "      <td>16</td>\n",
       "      <td>0.974813</td>\n",
       "      <td>0.083442</td>\n",
       "      <td>0.665706</td>\n",
       "      <td>1.422305</td>\n",
       "    </tr>\n",
       "    <tr>\n",
       "      <th>17</th>\n",
       "      <td>17</td>\n",
       "      <td>0.975644</td>\n",
       "      <td>0.078480</td>\n",
       "      <td>0.659942</td>\n",
       "      <td>1.422116</td>\n",
       "    </tr>\n",
       "    <tr>\n",
       "      <th>18</th>\n",
       "      <td>18</td>\n",
       "      <td>0.976197</td>\n",
       "      <td>0.079679</td>\n",
       "      <td>0.665706</td>\n",
       "      <td>1.416701</td>\n",
       "    </tr>\n",
       "    <tr>\n",
       "      <th>19</th>\n",
       "      <td>19</td>\n",
       "      <td>0.977858</td>\n",
       "      <td>0.068391</td>\n",
       "      <td>0.662824</td>\n",
       "      <td>1.515023</td>\n",
       "    </tr>\n",
       "    <tr>\n",
       "      <th>20</th>\n",
       "      <td>20</td>\n",
       "      <td>0.978411</td>\n",
       "      <td>0.066447</td>\n",
       "      <td>0.691643</td>\n",
       "      <td>1.470860</td>\n",
       "    </tr>\n",
       "    <tr>\n",
       "      <th>21</th>\n",
       "      <td>21</td>\n",
       "      <td>0.976474</td>\n",
       "      <td>0.066378</td>\n",
       "      <td>0.665706</td>\n",
       "      <td>1.549960</td>\n",
       "    </tr>\n",
       "    <tr>\n",
       "      <th>22</th>\n",
       "      <td>22</td>\n",
       "      <td>0.977304</td>\n",
       "      <td>0.067450</td>\n",
       "      <td>0.657061</td>\n",
       "      <td>1.596156</td>\n",
       "    </tr>\n",
       "    <tr>\n",
       "      <th>23</th>\n",
       "      <td>23</td>\n",
       "      <td>0.977304</td>\n",
       "      <td>0.063675</td>\n",
       "      <td>0.671470</td>\n",
       "      <td>1.586816</td>\n",
       "    </tr>\n",
       "    <tr>\n",
       "      <th>24</th>\n",
       "      <td>24</td>\n",
       "      <td>0.977581</td>\n",
       "      <td>0.064361</td>\n",
       "      <td>0.688761</td>\n",
       "      <td>1.560649</td>\n",
       "    </tr>\n",
       "  </tbody>\n",
       "</table>\n",
       "</div>"
      ],
      "text/plain": [
       "    epoch  accuracy      loss  val_accuracy  val_loss\n",
       "0       0  0.376695  1.331083      0.414986  1.297177\n",
       "1       1  0.633822  1.007762      0.619597  0.958009\n",
       "2       2  0.793523  0.582189      0.703170  0.811128\n",
       "3       3  0.853861  0.413956      0.691643  0.817875\n",
       "4       4  0.883200  0.327403      0.677233  0.867212\n",
       "5       5  0.906726  0.263311      0.691643  0.895073\n",
       "6       6  0.926654  0.221389      0.665706  0.970236\n",
       "7       7  0.944644  0.182854      0.680115  1.011016\n",
       "8       8  0.949626  0.158516      0.662824  1.114267\n",
       "9       9  0.957930  0.135170      0.685879  1.120741\n",
       "10     10  0.962358  0.124350      0.674352  1.149265\n",
       "11     11  0.967617  0.110511      0.674352  1.235660\n",
       "12     12  0.967617  0.106665      0.668588  1.246683\n",
       "13     13  0.969831  0.100613      0.671470  1.313755\n",
       "14     14  0.973153  0.091968      0.671470  1.444314\n",
       "15     15  0.972876  0.084820      0.677233  1.369396\n",
       "16     16  0.974813  0.083442      0.665706  1.422305\n",
       "17     17  0.975644  0.078480      0.659942  1.422116\n",
       "18     18  0.976197  0.079679      0.665706  1.416701\n",
       "19     19  0.977858  0.068391      0.662824  1.515023\n",
       "20     20  0.978411  0.066447      0.691643  1.470860\n",
       "21     21  0.976474  0.066378      0.665706  1.549960\n",
       "22     22  0.977304  0.067450      0.657061  1.596156\n",
       "23     23  0.977304  0.063675      0.671470  1.586816\n",
       "24     24  0.977581  0.064361      0.688761  1.560649"
      ]
     },
     "execution_count": 50,
     "metadata": {},
     "output_type": "execute_result"
    }
   ],
   "source": [
    "#Let's take a look at the training log\n",
    "training_log = pd.DataFrame()\n",
    "training_log = pd.read_csv(\"training_log.csv\")\n",
    "training_log"
   ]
  },
  {
   "cell_type": "markdown",
   "id": "833f9552",
   "metadata": {
    "id": "NoYqY0-tYTp5",
    "papermill": {
     "duration": 0.091385,
     "end_time": "2022-11-19T17:32:48.584726",
     "exception": false,
     "start_time": "2022-11-19T17:32:48.493341",
     "status": "completed"
    },
    "tags": []
   },
   "source": [
    "---\n",
    "### ** >>> Exercise 6 (Take home): **  \n",
    "\n",
    "Plot the Training and Validation Accuracy and Loss (different plots), just like the images below (Note: the pictures below are an example from a different model). How to interpret the graphs you got? How are they related to the concept of overfitting/underfitting covered in class?\n",
    "\n",
    "![image.png](https://raw.githubusercontent.com/keziatamus/DM2022-Lab2-Master/08755efc671824064d7a9347edb8c418550c3e83//pics/pic3.png)![image.png](https://raw.githubusercontent.com/keziatamus/DM2022-Lab2-Master/08755efc671824064d7a9347edb8c418550c3e83//pics/pic4.png)"
   ]
  },
  {
   "cell_type": "code",
   "execution_count": 51,
   "id": "6d891e5f",
   "metadata": {
    "execution": {
     "iopub.execute_input": "2022-11-19T17:32:48.663108Z",
     "iopub.status.busy": "2022-11-19T17:32:48.662056Z",
     "iopub.status.idle": "2022-11-19T17:32:48.668261Z",
     "shell.execute_reply": "2022-11-19T17:32:48.667329Z"
    },
    "id": "AlhstCrlYTp5",
    "papermill": {
     "duration": 0.047345,
     "end_time": "2022-11-19T17:32:48.670485",
     "exception": false,
     "start_time": "2022-11-19T17:32:48.623140",
     "status": "completed"
    },
    "tags": []
   },
   "outputs": [],
   "source": [
    "# Answer here\n",
    "def make_line_plot(i, epoch ,train_y, val_y, train_title, val_title, y_title, plot_title):\n",
    "    plt.subplot(120+i)\n",
    "    plt.plot(epoch, train_y, color='blue', linewidth=\"2\", label= train_title)\n",
    "    plt.plot(epoch, val_y, color='red', linewidth=\"2\", label= val_title)\n",
    "    plt.xlabel('Epochs', fontsize=\"10\")\n",
    "    plt.ylabel(y_title, fontsize=\"10\")\n",
    "    plt.title(plot_title, fontsize=\"13\")\n",
    "\n",
    "    plt.legend()"
   ]
  },
  {
   "cell_type": "code",
   "execution_count": 52,
   "id": "34b60200",
   "metadata": {
    "execution": {
     "iopub.execute_input": "2022-11-19T17:32:48.749805Z",
     "iopub.status.busy": "2022-11-19T17:32:48.749151Z",
     "iopub.status.idle": "2022-11-19T17:32:49.018132Z",
     "shell.execute_reply": "2022-11-19T17:32:49.017514Z"
    },
    "papermill": {
     "duration": 0.310648,
     "end_time": "2022-11-19T17:32:49.019970",
     "exception": false,
     "start_time": "2022-11-19T17:32:48.709322",
     "status": "completed"
    },
    "tags": []
   },
   "outputs": [
    {
     "data": {
      "image/png": "[encoded data removed]",
      "text/plain": [
       "<Figure size 1008x360 with 2 Axes>"
      ]
     },
     "metadata": {
      "needs_background": "light"
     },
     "output_type": "display_data"
    }
   ],
   "source": [
    "plt.figure(figsize=(14, 5))\n",
    "make_line_plot(1, training_log.epoch, training_log.accuracy ,training_log.val_accuracy, \"Train accuracy\", \"Val accuracy\", \"Accuracy\", \"Train Accuracy per epoch\")\n",
    "make_line_plot(2, training_log.epoch, training_log.loss ,training_log.val_loss, \"Train loss\", \"Val loss\", \"Loss\", \"Train Loss per epoch\")\n",
    "plt.show()"
   ]
  },
  {
   "cell_type": "markdown",
   "id": "ff9b5651",
   "metadata": {
    "id": "4e5eiVLOYTp5",
    "papermill": {
     "duration": 0.040026,
     "end_time": "2022-11-19T17:32:49.098572",
     "exception": false,
     "start_time": "2022-11-19T17:32:49.058546",
     "status": "completed"
    },
    "tags": []
   },
   "source": [
    "### Note\n",
    "\n",
    "If you don't have a GPU (level is higher than GTX 1060) or you are not good at setting lots of things about computer, we recommend you to use the [kaggle kernel](https://www.kaggle.com/kernels) to do deep learning model training. They have already installed all the librarys and provided free GPU for you to use.\n",
    "\n",
    "Note however that you will only be able to run a kernel for 6 hours. After 6 hours of inactivity, your Kaggle kernel will shut down (meaning if your model takes more than 6 hours to train, you can't train it at once).\n",
    "\n",
    "\n",
    "### More Information for your reference\n",
    "\n",
    "* Keras document: https://keras.io/\n",
    "* Keras GitHub example: https://github.com/keras-team/keras/tree/master/examples\n",
    "* CS229: Machine Learning: http://cs229.stanford.edu/syllabus.html\n",
    "* Deep Learning cheatsheet: https://stanford.edu/~shervine/teaching/cs-229/cheatsheet-deep-learning\n",
    "* If you want to try TensorFlow or PyTorch: https://pytorch.org/tutorials/\n",
    "https://www.tensorflow.org/tutorials/quickstart/beginner"
   ]
  },
  {
   "cell_type": "markdown",
   "id": "03aee3fd",
   "metadata": {
    "id": "IESBq48MYTp5",
    "papermill": {
     "duration": 0.038483,
     "end_time": "2022-11-19T17:32:49.176162",
     "exception": false,
     "start_time": "2022-11-19T17:32:49.137679",
     "status": "completed"
    },
    "tags": []
   },
   "source": [
    "---\n",
    "# 7. Word2Vector\n",
    "\n",
    "We will introduce how to use `gensim` to train your word2vec model and how to load a pre-trained model.\n",
    "\n",
    "https://radimrehurek.com/gensim/index.html"
   ]
  },
  {
   "cell_type": "markdown",
   "id": "e448edcc",
   "metadata": {
    "id": "KRSDMhQ5YTp5",
    "papermill": {
     "duration": 0.038447,
     "end_time": "2022-11-19T17:32:49.253499",
     "exception": false,
     "start_time": "2022-11-19T17:32:49.215052",
     "status": "completed"
    },
    "tags": []
   },
   "source": [
    "### 7.1 Prepare training corpus"
   ]
  },
  {
   "cell_type": "code",
   "execution_count": 53,
   "id": "e9d59916",
   "metadata": {
    "execution": {
     "iopub.execute_input": "2022-11-19T17:32:49.332621Z",
     "iopub.status.busy": "2022-11-19T17:32:49.332118Z",
     "iopub.status.idle": "2022-11-19T17:32:50.255470Z",
     "shell.execute_reply": "2022-11-19T17:32:50.254488Z"
    },
    "id": "6aBYrovJYTp5",
    "outputId": "3df27e8d-0a96-40a5-8e3d-3186bb1ea624",
    "papermill": {
     "duration": 0.964689,
     "end_time": "2022-11-19T17:32:50.257072",
     "exception": false,
     "start_time": "2022-11-19T17:32:49.292383",
     "status": "completed"
    },
    "tags": []
   },
   "outputs": [
    {
     "data": {
      "text/html": [
       "<div>\n",
       "<style scoped>\n",
       "    .dataframe tbody tr th:only-of-type {\n",
       "        vertical-align: middle;\n",
       "    }\n",
       "\n",
       "    .dataframe tbody tr th {\n",
       "        vertical-align: top;\n",
       "    }\n",
       "\n",
       "    .dataframe thead th {\n",
       "        text-align: right;\n",
       "    }\n",
       "</style>\n",
       "<table border=\"1\" class=\"dataframe\">\n",
       "  <thead>\n",
       "    <tr style=\"text-align: right;\">\n",
       "      <th></th>\n",
       "      <th>id</th>\n",
       "      <th>text</th>\n",
       "      <th>text_tokenized</th>\n",
       "    </tr>\n",
       "  </thead>\n",
       "  <tbody>\n",
       "    <tr>\n",
       "      <th>1066</th>\n",
       "      <td>20209</td>\n",
       "      <td>This is the first time I've written anything o...</td>\n",
       "      <td>[This, is, the, first, time, I, 've, written, ...</td>\n",
       "    </tr>\n",
       "    <tr>\n",
       "      <th>522</th>\n",
       "      <td>10522</td>\n",
       "      <td>Since the 'update' my @iPhone loses power near...</td>\n",
       "      <td>[Since, the, 'update, ', my, @, iPhone, loses,...</td>\n",
       "    </tr>\n",
       "    <tr>\n",
       "      <th>1922</th>\n",
       "      <td>21065</td>\n",
       "      <td>@Burnt_Out_Darth @theaterofscifi thanks.</td>\n",
       "      <td>[@, Burnt_Out_Darth, @, theaterofscifi, thanks...</td>\n",
       "    </tr>\n",
       "    <tr>\n",
       "      <th>3015</th>\n",
       "      <td>40188</td>\n",
       "      <td>All the 'juniors' are now wearing purple at ol...</td>\n",
       "      <td>[All, the, 'juniors, ', are, now, wearing, pur...</td>\n",
       "    </tr>\n",
       "    <tr>\n",
       "      <th>2108</th>\n",
       "      <td>30104</td>\n",
       "      <td>Aw there's a young fox outside on the grass ju...</td>\n",
       "      <td>[Aw, there, 's, a, young, fox, outside, on, th...</td>\n",
       "    </tr>\n",
       "  </tbody>\n",
       "</table>\n",
       "</div>"
      ],
      "text/plain": [
       "         id                                               text  \\\n",
       "1066  20209  This is the first time I've written anything o...   \n",
       "522   10522  Since the 'update' my @iPhone loses power near...   \n",
       "1922  21065          @Burnt_Out_Darth @theaterofscifi thanks.    \n",
       "3015  40188  All the 'juniors' are now wearing purple at ol...   \n",
       "2108  30104  Aw there's a young fox outside on the grass ju...   \n",
       "\n",
       "                                         text_tokenized  \n",
       "1066  [This, is, the, first, time, I, 've, written, ...  \n",
       "522   [Since, the, 'update, ', my, @, iPhone, loses,...  \n",
       "1922  [@, Burnt_Out_Darth, @, theaterofscifi, thanks...  \n",
       "3015  [All, the, 'juniors, ', are, now, wearing, pur...  \n",
       "2108  [Aw, there, 's, a, young, fox, outside, on, th...  "
      ]
     },
     "execution_count": 53,
     "metadata": {},
     "output_type": "execute_result"
    }
   ],
   "source": [
    "## check library\n",
    "import gensim\n",
    "\n",
    "## ignore warnings\n",
    "import warnings\n",
    "warnings.filterwarnings('ignore')\n",
    "\n",
    "# # if you want to see the training messages, you can use it\n",
    "# import logging\n",
    "# logging.basicConfig(format='%(asctime)s : %(levelname)s : %(message)s', level=logging.INFO)\n",
    "\n",
    "## the input type\n",
    "train_df['text_tokenized'] = train_df['text'].apply(lambda x: nltk.word_tokenize(x))\n",
    "train_df[['id', 'text', 'text_tokenized']].head()"
   ]
  },
  {
   "cell_type": "code",
   "execution_count": 54,
   "id": "7ba6d06d",
   "metadata": {
    "execution": {
     "iopub.execute_input": "2022-11-19T17:32:50.342586Z",
     "iopub.status.busy": "2022-11-19T17:32:50.342001Z",
     "iopub.status.idle": "2022-11-19T17:32:50.347013Z",
     "shell.execute_reply": "2022-11-19T17:32:50.346485Z"
    },
    "id": "okFIEcmnYTp5",
    "outputId": "17a7ccde-3595-4837-f8d2-91698348fb22",
    "papermill": {
     "duration": 0.048057,
     "end_time": "2022-11-19T17:32:50.348588",
     "exception": false,
     "start_time": "2022-11-19T17:32:50.300531",
     "status": "completed"
    },
    "tags": []
   },
   "outputs": [
    {
     "data": {
      "text/plain": [
       "array([list(['This', 'is', 'the', 'first', 'time', 'I', \"'ve\", 'written', 'anything', 'on', 'this', 'series', 'in', 'over', 'two', 'years', ',', 'so', 'I', \"'m\", 'checking', 'back', 'in', 'for', 'one', 'last', 'nightmare', '.']),\n",
       "       list(['Since', 'the', \"'update\", \"'\", 'my', '@', 'iPhone', 'loses', 'power', 'nearly', '40', '%', 'faster', '.']),\n",
       "       list(['@', 'Burnt_Out_Darth', '@', 'theaterofscifi', 'thanks', '.'])],\n",
       "      dtype=object)"
      ]
     },
     "execution_count": 54,
     "metadata": {},
     "output_type": "execute_result"
    }
   ],
   "source": [
    "## create the training corpus\n",
    "training_corpus = train_df['text_tokenized'].values\n",
    "training_corpus[:3]"
   ]
  },
  {
   "cell_type": "markdown",
   "id": "001ec100",
   "metadata": {
    "id": "dOgAriPRYTp5",
    "papermill": {
     "duration": 0.04064,
     "end_time": "2022-11-19T17:32:50.428812",
     "exception": false,
     "start_time": "2022-11-19T17:32:50.388172",
     "status": "completed"
    },
    "tags": []
   },
   "source": [
    "### 7.2 Training our model\n",
    "\n",
    "You can try to train your own model. More details: https://radimrehurek.com/gensim/models/word2vec.html"
   ]
  },
  {
   "cell_type": "code",
   "execution_count": 55,
   "id": "96fe4f3d",
   "metadata": {
    "execution": {
     "iopub.execute_input": "2022-11-19T17:32:50.511418Z",
     "iopub.status.busy": "2022-11-19T17:32:50.510878Z",
     "iopub.status.idle": "2022-11-19T17:32:51.198468Z",
     "shell.execute_reply": "2022-11-19T17:32:51.197528Z"
    },
    "id": "4kF8vvi5YTp5",
    "outputId": "92fed35a-efbe-4af8-bf8e-03e9e6a38745",
    "papermill": {
     "duration": 0.731141,
     "end_time": "2022-11-19T17:32:51.200167",
     "exception": false,
     "start_time": "2022-11-19T17:32:50.469026",
     "status": "completed"
    },
    "tags": []
   },
   "outputs": [
    {
     "data": {
      "text/html": [
       "<div>\n",
       "<style scoped>\n",
       "    .dataframe tbody tr th:only-of-type {\n",
       "        vertical-align: middle;\n",
       "    }\n",
       "\n",
       "    .dataframe tbody tr th {\n",
       "        vertical-align: top;\n",
       "    }\n",
       "\n",
       "    .dataframe thead th {\n",
       "        text-align: right;\n",
       "    }\n",
       "</style>\n",
       "<table border=\"1\" class=\"dataframe\">\n",
       "  <thead>\n",
       "    <tr style=\"text-align: right;\">\n",
       "      <th></th>\n",
       "      <th>id</th>\n",
       "      <th>text</th>\n",
       "      <th>text_tokenized</th>\n",
       "    </tr>\n",
       "  </thead>\n",
       "  <tbody>\n",
       "    <tr>\n",
       "      <th>1066</th>\n",
       "      <td>20209</td>\n",
       "      <td>This is the first time I've written anything o...</td>\n",
       "      <td>[This, is, the, first, time, I, 've, written, ...</td>\n",
       "    </tr>\n",
       "    <tr>\n",
       "      <th>522</th>\n",
       "      <td>10522</td>\n",
       "      <td>Since the 'update' my @iPhone loses power near...</td>\n",
       "      <td>[Since, the, 'update, ', my, @, iPhone, loses,...</td>\n",
       "    </tr>\n",
       "    <tr>\n",
       "      <th>1922</th>\n",
       "      <td>21065</td>\n",
       "      <td>@Burnt_Out_Darth @theaterofscifi thanks.</td>\n",
       "      <td>[@, Burnt_Out_Darth, @, theaterofscifi, thanks...</td>\n",
       "    </tr>\n",
       "    <tr>\n",
       "      <th>3015</th>\n",
       "      <td>40188</td>\n",
       "      <td>All the 'juniors' are now wearing purple at ol...</td>\n",
       "      <td>[All, the, 'juniors, ', are, now, wearing, pur...</td>\n",
       "    </tr>\n",
       "    <tr>\n",
       "      <th>2108</th>\n",
       "      <td>30104</td>\n",
       "      <td>Aw there's a young fox outside on the grass ju...</td>\n",
       "      <td>[Aw, there, 's, a, young, fox, outside, on, th...</td>\n",
       "    </tr>\n",
       "  </tbody>\n",
       "</table>\n",
       "</div>"
      ],
      "text/plain": [
       "         id                                               text  \\\n",
       "1066  20209  This is the first time I've written anything o...   \n",
       "522   10522  Since the 'update' my @iPhone loses power near...   \n",
       "1922  21065          @Burnt_Out_Darth @theaterofscifi thanks.    \n",
       "3015  40188  All the 'juniors' are now wearing purple at ol...   \n",
       "2108  30104  Aw there's a young fox outside on the grass ju...   \n",
       "\n",
       "                                         text_tokenized  \n",
       "1066  [This, is, the, first, time, I, 've, written, ...  \n",
       "522   [Since, the, 'update, ', my, @, iPhone, loses,...  \n",
       "1922  [@, Burnt_Out_Darth, @, theaterofscifi, thanks...  \n",
       "3015  [All, the, 'juniors, ', are, now, wearing, pur...  \n",
       "2108  [Aw, there, 's, a, young, fox, outside, on, th...  "
      ]
     },
     "execution_count": 55,
     "metadata": {},
     "output_type": "execute_result"
    }
   ],
   "source": [
    "## the input type\n",
    "train_df['text_tokenized'] = train_df['text'].apply(lambda x: nltk.word_tokenize(x))\n",
    "train_df[['id', 'text', 'text_tokenized']].head()"
   ]
  },
  {
   "cell_type": "code",
   "execution_count": 56,
   "id": "56dcc38a",
   "metadata": {
    "execution": {
     "iopub.execute_input": "2022-11-19T17:32:51.282727Z",
     "iopub.status.busy": "2022-11-19T17:32:51.282202Z",
     "iopub.status.idle": "2022-11-19T17:32:52.781210Z",
     "shell.execute_reply": "2022-11-19T17:32:52.780339Z"
    },
    "id": "72ZA54IDYTp5",
    "papermill": {
     "duration": 1.543018,
     "end_time": "2022-11-19T17:32:52.783532",
     "exception": false,
     "start_time": "2022-11-19T17:32:51.240514",
     "status": "completed"
    },
    "scrolled": true,
    "tags": []
   },
   "outputs": [],
   "source": [
    "from gensim.models import Word2Vec\n",
    "\n",
    "## setting\n",
    "vector_dim = 100\n",
    "window_size = 5\n",
    "min_count = 1\n",
    "training_epochs = 20\n",
    "\n",
    "## model\n",
    "word2vec_model = Word2Vec(sentences=training_corpus, \n",
    "                          vector_size=vector_dim, window=window_size, \n",
    "                          min_count=min_count, epochs=training_epochs)"
   ]
  },
  {
   "cell_type": "markdown",
   "id": "55c1e021",
   "metadata": {
    "id": "ob0Molb3YTp5",
    "papermill": {
     "duration": 0.039382,
     "end_time": "2022-11-19T17:32:52.862404",
     "exception": false,
     "start_time": "2022-11-19T17:32:52.823022",
     "status": "completed"
    },
    "tags": []
   },
   "source": [
    "![Imgur](https://i.imgur.com/Fca3MCs.png)"
   ]
  },
  {
   "cell_type": "markdown",
   "id": "d42e12b7",
   "metadata": {
    "id": "E0jjvjN5YTp5",
    "papermill": {
     "duration": 0.040522,
     "end_time": "2022-11-19T17:32:52.943238",
     "exception": false,
     "start_time": "2022-11-19T17:32:52.902716",
     "status": "completed"
    },
    "tags": []
   },
   "source": [
    "### 7.3 Generating word vector (embeddings)"
   ]
  },
  {
   "cell_type": "code",
   "execution_count": 57,
   "id": "6c8a5b0f",
   "metadata": {
    "execution": {
     "iopub.execute_input": "2022-11-19T17:32:53.025672Z",
     "iopub.status.busy": "2022-11-19T17:32:53.025324Z",
     "iopub.status.idle": "2022-11-19T17:32:53.032224Z",
     "shell.execute_reply": "2022-11-19T17:32:53.031241Z"
    },
    "id": "4ejofZfCYTp5",
    "outputId": "b6e8683c-4368-41e4-b05b-868822b9c406",
    "papermill": {
     "duration": 0.050773,
     "end_time": "2022-11-19T17:32:53.034428",
     "exception": false,
     "start_time": "2022-11-19T17:32:52.983655",
     "status": "completed"
    },
    "tags": []
   },
   "outputs": [
    {
     "data": {
      "text/plain": [
       "array([-0.01900239, -0.2641859 , -0.02491944, -0.08616671, -0.04803532,\n",
       "       -1.024814  ,  0.4929576 ,  1.3161414 , -0.5626809 , -0.76142687,\n",
       "       -0.44924107, -0.2975724 , -0.2940645 ,  0.49219158, -0.3665158 ,\n",
       "       -0.3758851 , -0.04373337, -0.3836709 ,  0.39620808, -1.2727607 ,\n",
       "        0.79766077,  0.6446892 ,  0.52250546,  0.15061559, -0.05138811,\n",
       "        0.01728379, -0.36771166,  0.59216434, -0.09122463,  0.32056433,\n",
       "        0.67813545,  0.01002624,  0.65763557, -0.6939733 , -0.26547965,\n",
       "        0.4084668 ,  0.29640672, -0.2157864 , -0.35945123, -0.37558463,\n",
       "        0.24015972, -0.07395538, -0.38139644,  0.10454673,  0.8413645 ,\n",
       "       -0.14500552, -0.725295  , -0.02113014,  0.23462854,  0.4991572 ,\n",
       "        0.15382014, -0.3008076 , -0.09093381, -0.03933465, -0.4577983 ,\n",
       "       -0.48873907,  0.07725149, -0.4822329 , -0.2120681 , -0.15226774,\n",
       "       -0.01119629,  0.08417105,  0.22885461,  0.14436096, -0.52297   ,\n",
       "        0.60048825,  0.3467635 ,  0.4469201 , -1.4308835 ,  0.59611934,\n",
       "       -0.06912394,  0.3983155 ,  0.43611646, -0.33096159,  0.6120834 ,\n",
       "       -0.27294984,  0.76531875,  0.20372956, -0.7749092 ,  0.2423329 ,\n",
       "       -0.590427  , -0.10202017, -1.0227902 ,  1.0231457 , -0.3369254 ,\n",
       "       -0.37163168,  0.7111203 ,  0.73512757, -0.07896759,  0.45786023,\n",
       "        0.84740597, -0.04685598,  0.36381346,  0.03515437,  1.2732224 ,\n",
       "        0.42728388,  0.21754189, -0.28790465,  0.39786467,  0.3444276 ],\n",
       "      dtype=float32)"
      ]
     },
     "execution_count": 57,
     "metadata": {},
     "output_type": "execute_result"
    }
   ],
   "source": [
    "# get the corresponding vector of a word\n",
    "word_vec = word2vec_model.wv['happy']\n",
    "word_vec"
   ]
  },
  {
   "cell_type": "code",
   "execution_count": 58,
   "id": "e654c381",
   "metadata": {
    "execution": {
     "iopub.execute_input": "2022-11-19T17:32:53.117212Z",
     "iopub.status.busy": "2022-11-19T17:32:53.116922Z",
     "iopub.status.idle": "2022-11-19T17:32:53.129343Z",
     "shell.execute_reply": "2022-11-19T17:32:53.128577Z"
    },
    "id": "9dUSkCscYTp5",
    "outputId": "ebd32d0b-bcda-4140-805e-35dfef1a68fb",
    "papermill": {
     "duration": 0.056047,
     "end_time": "2022-11-19T17:32:53.131278",
     "exception": false,
     "start_time": "2022-11-19T17:32:53.075231",
     "status": "completed"
    },
    "tags": []
   },
   "outputs": [
    {
     "data": {
      "text/plain": [
       "[('help', 0.9334409832954407),\n",
       " ('Be', 0.9323944449424744),\n",
       " ('smile', 0.9241532683372498),\n",
       " ('cry', 0.9220942854881287),\n",
       " ('establishment', 0.9212876558303833),\n",
       " ('right', 0.9203096628189087),\n",
       " ('free', 0.9194730520248413),\n",
       " ('dad', 0.917047381401062),\n",
       " ('bday', 0.9157103300094604),\n",
       " ('birthday', 0.9131788611412048)]"
      ]
     },
     "execution_count": 58,
     "metadata": {},
     "output_type": "execute_result"
    }
   ],
   "source": [
    "# Get the most similar words\n",
    "word = 'happy'\n",
    "topn = 10\n",
    "word2vec_model.wv.most_similar(word, topn=topn)"
   ]
  },
  {
   "cell_type": "markdown",
   "id": "aafa8776",
   "metadata": {
    "id": "zuQvZVJvYTp5",
    "papermill": {
     "duration": 0.054254,
     "end_time": "2022-11-19T17:32:53.239637",
     "exception": false,
     "start_time": "2022-11-19T17:32:53.185383",
     "status": "completed"
    },
    "tags": []
   },
   "source": [
    "### 7.4 Using a pre-trained w2v model\n",
    "\n",
    "Instead of training your own model ,you can use a model that has already been trained. Here, we see 2 ways of doing that:\n",
    "\n",
    "\n",
    "#### (1) Download model by yourself\n",
    "\n",
    "source: [GoogleNews-vectors-negative300](https://code.google.com/archive/p/word2vec/)\n",
    "\n",
    "more details: https://radimrehurek.com/gensim/models/keyedvectors.html"
   ]
  },
  {
   "cell_type": "code",
   "execution_count": 59,
   "id": "813999b5",
   "metadata": {
    "execution": {
     "iopub.execute_input": "2022-11-19T17:32:53.320909Z",
     "iopub.status.busy": "2022-11-19T17:32:53.320380Z",
     "iopub.status.idle": "2022-11-19T17:33:53.224981Z",
     "shell.execute_reply": "2022-11-19T17:33:53.223755Z"
    },
    "id": "bdH9E9auYTp5",
    "outputId": "6193f5df-93cb-4c77-96fb-2d36b5d71835",
    "papermill": {
     "duration": 59.947428,
     "end_time": "2022-11-19T17:33:53.227286",
     "exception": false,
     "start_time": "2022-11-19T17:32:53.279858",
     "status": "completed"
    },
    "tags": []
   },
   "outputs": [
    {
     "name": "stdout",
     "output_type": "stream",
     "text": [
      "load ok\n"
     ]
    },
    {
     "data": {
      "text/plain": [
       "[('glad', 0.7408890724182129),\n",
       " ('pleased', 0.6632170677185059),\n",
       " ('ecstatic', 0.6626912355422974),\n",
       " ('overjoyed', 0.6599286794662476),\n",
       " ('thrilled', 0.6514049172401428),\n",
       " ('satisfied', 0.6437949538230896),\n",
       " ('proud', 0.636042058467865),\n",
       " ('delighted', 0.627237856388092),\n",
       " ('disappointed', 0.6269949674606323),\n",
       " ('excited', 0.6247665286064148)]"
      ]
     },
     "execution_count": 59,
     "metadata": {},
     "output_type": "execute_result"
    }
   ],
   "source": [
    "from gensim.models import KeyedVectors\n",
    "\n",
    "## Note: this model is very huge, this will take some time ...\n",
    "model_path = \"../input/googlenews/GoogleNews-vectors-negative300.bin\"\n",
    "w2v_google_model = KeyedVectors.load_word2vec_format(model_path, binary=True)\n",
    "print('load ok')\n",
    "\n",
    "w2v_google_model.most_similar('happy', topn=10)"
   ]
  },
  {
   "cell_type": "markdown",
   "id": "42505436",
   "metadata": {
    "id": "NdQ9ul0eYTp5",
    "papermill": {
     "duration": 0.046328,
     "end_time": "2022-11-19T17:33:53.328868",
     "exception": false,
     "start_time": "2022-11-19T17:33:53.282540",
     "status": "completed"
    },
    "tags": []
   },
   "source": [
    "#### (2) Using gensim api\n",
    "\n",
    "Other pretrained models are available here: https://github.com/RaRe-Technologies/gensim-data"
   ]
  },
  {
   "cell_type": "code",
   "execution_count": 60,
   "id": "57c808b7",
   "metadata": {
    "execution": {
     "iopub.execute_input": "2022-11-19T17:33:53.413346Z",
     "iopub.status.busy": "2022-11-19T17:33:53.412413Z",
     "iopub.status.idle": "2022-11-19T17:34:36.849824Z",
     "shell.execute_reply": "2022-11-19T17:34:36.848943Z"
    },
    "id": "oIxHpNB6YTp5",
    "outputId": "8dc8d6f9-80b3-4cff-810d-28f175f5b891",
    "papermill": {
     "duration": 44.293978,
     "end_time": "2022-11-19T17:34:37.663870",
     "exception": false,
     "start_time": "2022-11-19T17:33:53.369892",
     "status": "completed"
    },
    "tags": []
   },
   "outputs": [
    {
     "name": "stdout",
     "output_type": "stream",
     "text": [
      "[==================================================] 100.0% 104.8/104.8MB downloaded\n",
      "load ok\n"
     ]
    },
    {
     "data": {
      "text/plain": [
       "[('birthday', 0.9577818512916565),\n",
       " ('thank', 0.937666654586792),\n",
       " ('welcome', 0.93361496925354),\n",
       " ('love', 0.9176183342933655),\n",
       " ('miss', 0.9164500832557678),\n",
       " ('hello', 0.9158351421356201),\n",
       " ('thanks', 0.915008544921875),\n",
       " ('merry', 0.9053249359130859),\n",
       " ('bless', 0.902732253074646),\n",
       " ('wish', 0.9013164043426514)]"
      ]
     },
     "execution_count": 60,
     "metadata": {},
     "output_type": "execute_result"
    }
   ],
   "source": [
    "import gensim.downloader as api\n",
    "\n",
    "## If you see `SSL: CERTIFICATE_VERIFY_FAILED` error, use this:\n",
    "import ssl\n",
    "import urllib.request\n",
    "ssl._create_default_https_context = ssl._create_unverified_context\n",
    "\n",
    "glove_twitter_25_model = api.load(\"glove-twitter-25\")\n",
    "print('load ok')\n",
    "\n",
    "glove_twitter_25_model.most_similar('happy', topn=10)"
   ]
  },
  {
   "cell_type": "markdown",
   "id": "2840ed27",
   "metadata": {
    "id": "GCNDNqeXYTp5",
    "papermill": {
     "duration": 0.834558,
     "end_time": "2022-11-19T17:34:39.231120",
     "exception": false,
     "start_time": "2022-11-19T17:34:38.396562",
     "status": "completed"
    },
    "tags": []
   },
   "source": [
    "### 7.5 king + woman - man = ?"
   ]
  },
  {
   "cell_type": "markdown",
   "id": "d72aed5a",
   "metadata": {
    "id": "_GtCRr_7YTp5",
    "papermill": {
     "duration": 0.724985,
     "end_time": "2022-11-19T17:34:40.754233",
     "exception": false,
     "start_time": "2022-11-19T17:34:40.029248",
     "status": "completed"
    },
    "tags": []
   },
   "source": [
    "Let's run one of the most famous examples for Word2Vec and compute the similarity between these 3 words:"
   ]
  },
  {
   "cell_type": "code",
   "execution_count": 61,
   "id": "fa6ada71",
   "metadata": {
    "execution": {
     "iopub.execute_input": "2022-11-19T17:34:42.262370Z",
     "iopub.status.busy": "2022-11-19T17:34:42.262069Z",
     "iopub.status.idle": "2022-11-19T17:34:42.455363Z",
     "shell.execute_reply": "2022-11-19T17:34:42.454307Z"
    },
    "id": "Zew7m_kIYTp5",
    "outputId": "807bc2d0-c2c1-4b96-e61d-a62e6096aa1e",
    "papermill": {
     "duration": 0.918036,
     "end_time": "2022-11-19T17:34:42.457699",
     "exception": false,
     "start_time": "2022-11-19T17:34:41.539663",
     "status": "completed"
    },
    "tags": []
   },
   "outputs": [
    {
     "data": {
      "text/plain": [
       "[('queen', 0.7118193507194519),\n",
       " ('monarch', 0.6189674139022827),\n",
       " ('princess', 0.5902431011199951),\n",
       " ('crown_prince', 0.5499460697174072),\n",
       " ('prince', 0.5377321839332581),\n",
       " ('kings', 0.5236844420433044),\n",
       " ('Queen_Consort', 0.5235945582389832),\n",
       " ('queens', 0.5181134343147278),\n",
       " ('sultan', 0.5098593831062317),\n",
       " ('monarchy', 0.5087411999702454)]"
      ]
     },
     "execution_count": 61,
     "metadata": {},
     "output_type": "execute_result"
    }
   ],
   "source": [
    "w2v_google_model.most_similar(positive=['king', 'woman'], negative=['man'])"
   ]
  },
  {
   "cell_type": "markdown",
   "id": "c490f7e5",
   "metadata": {
    "id": "y3RQVnBOYTp5",
    "papermill": {
     "duration": 0.739484,
     "end_time": "2022-11-19T17:34:44.004043",
     "exception": false,
     "start_time": "2022-11-19T17:34:43.264559",
     "status": "completed"
    },
    "tags": []
   },
   "source": [
    "---\n",
    "### ** >>> Exercise 7 (Take home): **  \n",
    "\n",
    "Now, we have the word vectors, but our input data is a sequence of words (or say sentence). \n",
    "How can we utilize these \"word\" vectors to represent the sentence data and train our model?\n"
   ]
  },
  {
   "cell_type": "markdown",
   "id": "7b7c85ce",
   "metadata": {
    "papermill": {
     "duration": 0.723788,
     "end_time": "2022-11-19T17:34:45.516199",
     "exception": false,
     "start_time": "2022-11-19T17:34:44.792411",
     "status": "completed"
    },
    "tags": []
   },
   "source": [
    "### Answer Here\n",
    "\n",
    "One way to get a representation of sentences is to add all the representation of word vectors contained in it, it is termed as words centroid. And similarity between two sentences can be computed by centroid distance. Same thing can be extended to paragraphs and documents. But this method neglects a lot of information like the sequence and it might give false results.\n"
   ]
  },
  {
   "cell_type": "markdown",
   "id": "d9c7760a",
   "metadata": {
    "id": "LrK7O1KDYTp5",
    "papermill": {
     "duration": 0.726837,
     "end_time": "2022-11-19T17:34:47.023034",
     "exception": false,
     "start_time": "2022-11-19T17:34:46.296197",
     "status": "completed"
    },
    "tags": []
   },
   "source": [
    "# 8. Clustering: k-means\n",
    "\n",
    "Here we introduce how to use `sklearn` to do the basic **unsupervised learning** approach, k-means.    \n",
    "\n",
    "more details: http://scikit-learn.org/stable/modules/generated/sklearn.cluster.KMeans.html\n"
   ]
  },
  {
   "cell_type": "markdown",
   "id": "e182e5d3",
   "metadata": {
    "id": "Hr8_IxwBYTp5",
    "papermill": {
     "duration": 0.802164,
     "end_time": "2022-11-19T17:34:48.610086",
     "exception": false,
     "start_time": "2022-11-19T17:34:47.807922",
     "status": "completed"
    },
    "tags": []
   },
   "source": [
    "#### Basic concept\n",
    "\n",
    "![image.png](https://camo.githubusercontent.com/630f4ff082ed061752822d94fce7b3da1f841301be6d5a3ee529d0bfe9186f87/68747470733a2f2f692e696d6775722e636f6d2f504564556635342e706e67)"
   ]
  },
  {
   "cell_type": "code",
   "execution_count": 62,
   "id": "e7fbbca9",
   "metadata": {
    "execution": {
     "iopub.execute_input": "2022-11-19T17:34:50.116024Z",
     "iopub.status.busy": "2022-11-19T17:34:50.115685Z",
     "iopub.status.idle": "2022-11-19T17:34:50.123113Z",
     "shell.execute_reply": "2022-11-19T17:34:50.121507Z"
    },
    "id": "6heUPVwWYTp5",
    "outputId": "46a95152-7852-49d5-c055-f24ac1a04aa3",
    "papermill": {
     "duration": 0.785226,
     "end_time": "2022-11-19T17:34:50.125298",
     "exception": false,
     "start_time": "2022-11-19T17:34:49.340072",
     "status": "completed"
    },
    "tags": []
   },
   "outputs": [
    {
     "name": "stdout",
     "output_type": "stream",
     "text": [
      "target words:  ['happy', 'fear', 'angry', 'car', 'teacher', 'computer']\n"
     ]
    }
   ],
   "source": [
    "# clustering target\n",
    "target_list = ['happy', 'fear', 'angry', 'car', 'teacher', 'computer']\n",
    "print('target words: ', target_list)\n",
    "\n",
    "# convert to word vector\n",
    "X = [word2vec_model.wv[word] for word in target_list]"
   ]
  },
  {
   "cell_type": "code",
   "execution_count": 63,
   "id": "5d87d4fc",
   "metadata": {
    "execution": {
     "iopub.execute_input": "2022-11-19T17:34:51.631732Z",
     "iopub.status.busy": "2022-11-19T17:34:51.631380Z",
     "iopub.status.idle": "2022-11-19T17:34:51.724052Z",
     "shell.execute_reply": "2022-11-19T17:34:51.722865Z"
    },
    "id": "E9t_sJrvYTp5",
    "outputId": "47d70112-5490-47cc-8014-1b5b7dadbb26",
    "papermill": {
     "duration": 0.815987,
     "end_time": "2022-11-19T17:34:51.726984",
     "exception": false,
     "start_time": "2022-11-19T17:34:50.910997",
     "status": "completed"
    },
    "tags": []
   },
   "outputs": [
    {
     "name": "stdout",
     "output_type": "stream",
     "text": [
      "word: happy \t cluster: 0\n",
      "word: fear \t cluster: 0\n",
      "word: angry \t cluster: 0\n",
      "word: car \t cluster: 1\n",
      "word: teacher \t cluster: 1\n",
      "word: computer \t cluster: 1\n"
     ]
    }
   ],
   "source": [
    "from sklearn.cluster import KMeans\n",
    "\n",
    "# we have to decide how many cluster (k) we want\n",
    "k = 2\n",
    "\n",
    "# k-means model\n",
    "kmeans_model = KMeans(n_clusters=k)\n",
    "kmeans_model.fit(X)\n",
    "\n",
    "# cluster result\n",
    "cluster_result = kmeans_model.labels_\n",
    "\n",
    "# show\n",
    "for i in range(len(target_list)):\n",
    "    print('word: {} \\t cluster: {}'.format(target_list[i], cluster_result[i]))"
   ]
  },
  {
   "cell_type": "markdown",
   "id": "a57bb842",
   "metadata": {
    "id": "QcDTL7kRYTp5",
    "papermill": {
     "duration": 0.726399,
     "end_time": "2022-11-19T17:34:53.240641",
     "exception": false,
     "start_time": "2022-11-19T17:34:52.514242",
     "status": "completed"
    },
    "tags": []
   },
   "source": [
    "![image.png](https://raw.githubusercontent.com/keziatamus/DM2022-Lab2-Master/08755efc671824064d7a9347edb8c418550c3e83//pics/pic6.png)"
   ]
  },
  {
   "cell_type": "code",
   "execution_count": 64,
   "id": "111a983f",
   "metadata": {
    "execution": {
     "iopub.execute_input": "2022-11-19T17:34:54.828463Z",
     "iopub.status.busy": "2022-11-19T17:34:54.828103Z",
     "iopub.status.idle": "2022-11-19T17:34:55.033653Z",
     "shell.execute_reply": "2022-11-19T17:34:55.032710Z"
    },
    "id": "NIMFax_uYTp5",
    "outputId": "2f2df2f8-98d2-426b-8ced-719be6a03281",
    "papermill": {
     "duration": 1.010682,
     "end_time": "2022-11-19T17:34:55.036204",
     "exception": false,
     "start_time": "2022-11-19T17:34:54.025522",
     "status": "completed"
    },
    "tags": []
   },
   "outputs": [
    {
     "data": {
      "text/plain": [
       "array([1], dtype=int32)"
      ]
     },
     "execution_count": 64,
     "metadata": {},
     "output_type": "execute_result"
    }
   ],
   "source": [
    "#check cluster membership\n",
    "word = 'student'\n",
    "word_vec = word2vec_model.wv[word]\n",
    "kmeans_model.predict([word_vec])"
   ]
  },
  {
   "cell_type": "code",
   "execution_count": 65,
   "id": "1f4e307c",
   "metadata": {
    "execution": {
     "iopub.execute_input": "2022-11-19T17:34:56.605600Z",
     "iopub.status.busy": "2022-11-19T17:34:56.605170Z",
     "iopub.status.idle": "2022-11-19T17:34:56.617292Z",
     "shell.execute_reply": "2022-11-19T17:34:56.616625Z"
    },
    "id": "vIDuLDOlYTp5",
    "outputId": "eae37f20-1de0-498d-a327-ce60d7336fb0",
    "papermill": {
     "duration": 0.819732,
     "end_time": "2022-11-19T17:34:56.619295",
     "exception": false,
     "start_time": "2022-11-19T17:34:55.799563",
     "status": "completed"
    },
    "tags": []
   },
   "outputs": [
    {
     "data": {
      "text/plain": [
       "array([0], dtype=int32)"
      ]
     },
     "execution_count": 65,
     "metadata": {},
     "output_type": "execute_result"
    }
   ],
   "source": [
    "#check cluster membership\n",
    "word = 'sad'\n",
    "word_vec = word2vec_model.wv[word]\n",
    "kmeans_model.predict([word_vec])"
   ]
  },
  {
   "cell_type": "markdown",
   "id": "99819402",
   "metadata": {
    "id": "cZOEGH3GYTp5",
    "papermill": {
     "duration": 0.797711,
     "end_time": "2022-11-19T17:34:58.147263",
     "exception": false,
     "start_time": "2022-11-19T17:34:57.349552",
     "status": "completed"
    },
    "tags": []
   },
   "source": [
    "\n",
    "# 9. High-dimension Visualization: t-SNE\n",
    "\n",
    "No matter if you use the Bag-of-words, tf-idf, or word2vec, it's very hard to see the embedding result, because the dimension is larger than 3.  \n",
    "\n",
    "In Lab 1, we already talked about PCA. We can use PCA to reduce the dimension of our data, then visualize it. However, if you dig deeper into the result, you'd find it is insufficient...\n",
    "\n",
    "Our aim will be to create a visualization similar to the one below:"
   ]
  },
  {
   "cell_type": "markdown",
   "id": "d4a06d14",
   "metadata": {
    "id": "4FeIFzzxYTp5",
    "papermill": {
     "duration": 0.810656,
     "end_time": "2022-11-19T17:34:59.689960",
     "exception": false,
     "start_time": "2022-11-19T17:34:58.879304",
     "status": "completed"
    },
    "tags": []
   },
   "source": [
    "  "
   ]
  },
  {
   "cell_type": "markdown",
   "id": "15580bfd",
   "metadata": {
    "id": "3-JR-rqyYTp5",
    "papermill": {
     "duration": 0.793733,
     "end_time": "2022-11-19T17:35:01.212938",
     "exception": false,
     "start_time": "2022-11-19T17:35:00.419205",
     "status": "completed"
    },
    "tags": []
   },
   "source": [
    "![image.png](https://raw.githubusercontent.com/keziatamus/DM2022-Lab2-Master/08755efc671824064d7a9347edb8c418550c3e83//pics/pic7.png)"
   ]
  },
  {
   "cell_type": "markdown",
   "id": "5f9e43ca",
   "metadata": {
    "id": "KCFR771SYTp5",
    "papermill": {
     "duration": 0.782727,
     "end_time": "2022-11-19T17:35:02.718291",
     "exception": false,
     "start_time": "2022-11-19T17:35:01.935564",
     "status": "completed"
    },
    "tags": []
   },
   "source": [
    "  "
   ]
  },
  {
   "cell_type": "markdown",
   "id": "11254bd1",
   "metadata": {
    "id": "tmdbJbjxYTp5",
    "papermill": {
     "duration": 0.718141,
     "end_time": "2022-11-19T17:35:04.233318",
     "exception": false,
     "start_time": "2022-11-19T17:35:03.515177",
     "status": "completed"
    },
    "tags": []
   },
   "source": [
    "Here we would like to introduce another visualization method called t-SNE.  \n",
    "http://scikit-learn.org/stable/modules/generated/sklearn.manifold.TSNE.html "
   ]
  },
  {
   "cell_type": "markdown",
   "id": "5f97c442",
   "metadata": {
    "id": "MU8eeDnGYTp5",
    "papermill": {
     "duration": 0.791554,
     "end_time": "2022-11-19T17:35:05.813645",
     "exception": false,
     "start_time": "2022-11-19T17:35:05.022091",
     "status": "completed"
    },
    "tags": []
   },
   "source": [
    "### 9.1 Prepare visualizing target"
   ]
  },
  {
   "cell_type": "markdown",
   "id": "a00e0d86",
   "metadata": {
    "id": "T9IHcP3VYTp5",
    "papermill": {
     "duration": 0.78576,
     "end_time": "2022-11-19T17:35:07.334543",
     "exception": false,
     "start_time": "2022-11-19T17:35:06.548783",
     "status": "completed"
    },
    "tags": []
   },
   "source": [
    "Let's repare data lists like:\n",
    "    - happpy words\n",
    "    - angry words\n",
    "    - data words\n",
    "    - mining words"
   ]
  },
  {
   "cell_type": "code",
   "execution_count": 66,
   "id": "9fdda055",
   "metadata": {
    "execution": {
     "iopub.execute_input": "2022-11-19T17:35:08.847407Z",
     "iopub.status.busy": "2022-11-19T17:35:08.847099Z",
     "iopub.status.idle": "2022-11-19T17:35:09.562663Z",
     "shell.execute_reply": "2022-11-19T17:35:09.558530Z"
    },
    "id": "L9il5L7pYTp5",
    "outputId": "91d18f86-d137-4771-94db-ca7542d5a8d6",
    "papermill": {
     "duration": 1.50863,
     "end_time": "2022-11-19T17:35:09.566667",
     "exception": false,
     "start_time": "2022-11-19T17:35:08.058037",
     "status": "completed"
    },
    "tags": []
   },
   "outputs": [
    {
     "name": "stdout",
     "output_type": "stream",
     "text": [
      "happy_words:  ['happy', 'glad', 'pleased', 'ecstatic', 'overjoyed', 'thrilled']\n",
      "angry_words:  ['angry', 'irate', 'enraged', 'indignant', 'incensed', 'annoyed']\n",
      "data_words:  ['data', 'Data', 'datasets', 'dataset', 'databases', 'statistics']\n",
      "mining_words:  ['mining', 'Mining', 'mines', 'coal_mining', 'mine', 'miner']\n",
      "\n",
      "target words: \n",
      "['happy', 'glad', 'pleased', 'ecstatic', 'overjoyed', 'thrilled', 'angry', 'irate', 'enraged', 'indignant', 'incensed', 'annoyed', 'data', 'Data', 'datasets', 'dataset', 'databases', 'statistics', 'mining', 'Mining', 'mines', 'coal_mining', 'mine', 'miner']\n",
      "\n",
      "color list:\n",
      "['b', 'b', 'b', 'b', 'b', 'b', 'g', 'g', 'g', 'g', 'g', 'g', 'r', 'r', 'r', 'r', 'r', 'r', 'y', 'y', 'y', 'y', 'y', 'y']\n"
     ]
    }
   ],
   "source": [
    "word_list = ['happy', 'angry', 'data', 'mining']\n",
    "\n",
    "topn = 5\n",
    "happy_words = ['happy'] + [word_ for word_, sim_ in w2v_google_model.most_similar('happy', topn=topn)]\n",
    "angry_words = ['angry'] + [word_ for word_, sim_ in w2v_google_model.most_similar('angry', topn=topn)]        \n",
    "data_words = ['data'] + [word_ for word_, sim_ in w2v_google_model.most_similar('data', topn=topn)]        \n",
    "mining_words = ['mining'] + [word_ for word_, sim_ in w2v_google_model.most_similar('mining', topn=topn)]        \n",
    "\n",
    "print('happy_words: ', happy_words)\n",
    "print('angry_words: ', angry_words)\n",
    "print('data_words: ', data_words)\n",
    "print('mining_words: ', mining_words)\n",
    "\n",
    "target_words = happy_words + angry_words + data_words + mining_words\n",
    "print('\\ntarget words: ')\n",
    "print(target_words)\n",
    "\n",
    "print('\\ncolor list:')\n",
    "cn = topn + 1\n",
    "color = ['b'] * cn + ['g'] * cn + ['r'] * cn + ['y'] * cn\n",
    "print(color)"
   ]
  },
  {
   "cell_type": "markdown",
   "id": "0698cf88",
   "metadata": {
    "id": "zKa5LRxbYTp5",
    "papermill": {
     "duration": 0.737644,
     "end_time": "2022-11-19T17:35:11.320758",
     "exception": false,
     "start_time": "2022-11-19T17:35:10.583114",
     "status": "completed"
    },
    "tags": []
   },
   "source": [
    "### 9.1 Plot using t-SNE (2-dimension)"
   ]
  },
  {
   "cell_type": "code",
   "execution_count": 67,
   "id": "43a73181",
   "metadata": {
    "execution": {
     "iopub.execute_input": "2022-11-19T17:35:12.822676Z",
     "iopub.status.busy": "2022-11-19T17:35:12.822335Z",
     "iopub.status.idle": "2022-11-19T17:35:14.134916Z",
     "shell.execute_reply": "2022-11-19T17:35:14.133945Z"
    },
    "id": "CJlljN2gYTp5",
    "outputId": "cdd792e6-0a15-4189-d611-02b1aa42ddb1",
    "papermill": {
     "duration": 2.029366,
     "end_time": "2022-11-19T17:35:14.137093",
     "exception": false,
     "start_time": "2022-11-19T17:35:12.107727",
     "status": "completed"
    },
    "tags": []
   },
   "outputs": [
    {
     "data": {
      "image/png": "[encoded data removed]",
      "text/plain": [
       "<Figure size 862.5x862.5 with 1 Axes>"
      ]
     },
     "metadata": {
      "needs_background": "light"
     },
     "output_type": "display_data"
    }
   ],
   "source": [
    "%matplotlib inline\n",
    "import matplotlib.pyplot as plt\n",
    "from sklearn.manifold import TSNE\n",
    "\n",
    "## w2v model\n",
    "model = w2v_google_model\n",
    "\n",
    "## prepare training word vectors\n",
    "size = 200\n",
    "target_size = len(target_words)\n",
    "all_word = list(model.index_to_key)\n",
    "word_train = target_words + all_word[:size]\n",
    "X_train = model[word_train]\n",
    "\n",
    "## t-SNE model\n",
    "tsne = TSNE(n_components=2, metric='cosine', random_state=28)\n",
    "\n",
    "## training\n",
    "X_tsne = tsne.fit_transform(X_train)\n",
    "\n",
    "## plot the result\n",
    "plt.figure(figsize=(7.5, 7.5), dpi=115)\n",
    "plt.scatter(X_tsne[:target_size, 0], X_tsne[:target_size, 1], c=color)\n",
    "for label, x, y in zip(target_words, X_tsne[:target_size, 0], X_tsne[:target_size, 1]):\n",
    "    plt.annotate(label, xy=(x,y), xytext=(0,0),  textcoords='offset points')\n",
    "plt.show()"
   ]
  },
  {
   "cell_type": "markdown",
   "id": "52ff1915",
   "metadata": {
    "id": "2PL61rqYYTp5",
    "papermill": {
     "duration": 0.725347,
     "end_time": "2022-11-19T17:35:15.658366",
     "exception": false,
     "start_time": "2022-11-19T17:35:14.933019",
     "status": "completed"
    },
    "tags": []
   },
   "source": [
    "---\n",
    "### ** >>> Exercise 8 (Take home): **  \n",
    "\n",
    "Generate a t-SNE visualization to show the 15 words most related to the words \"angry\", \"happy\", \"sad\", \"fear\" (60 words total)."
   ]
  },
  {
   "cell_type": "code",
   "execution_count": 68,
   "id": "24e203ed",
   "metadata": {
    "execution": {
     "iopub.execute_input": "2022-11-19T17:35:17.199337Z",
     "iopub.status.busy": "2022-11-19T17:35:17.198795Z",
     "iopub.status.idle": "2022-11-19T17:35:47.072063Z",
     "shell.execute_reply": "2022-11-19T17:35:47.071235Z"
    },
    "papermill": {
     "duration": 30.617243,
     "end_time": "2022-11-19T17:35:47.074000",
     "exception": false,
     "start_time": "2022-11-19T17:35:16.456757",
     "status": "completed"
    },
    "tags": []
   },
   "outputs": [
    {
     "name": "stdout",
     "output_type": "stream",
     "text": [
      "load ok\n"
     ]
    },
    {
     "data": {
      "text/plain": [
       "[('glad', 0.7408890724182129),\n",
       " ('pleased', 0.6632170677185059),\n",
       " ('ecstatic', 0.6626912355422974),\n",
       " ('overjoyed', 0.6599286794662476),\n",
       " ('thrilled', 0.6514049172401428),\n",
       " ('satisfied', 0.6437949538230896),\n",
       " ('proud', 0.636042058467865),\n",
       " ('delighted', 0.627237856388092),\n",
       " ('disappointed', 0.6269949674606323),\n",
       " ('excited', 0.6247665286064148)]"
      ]
     },
     "execution_count": 68,
     "metadata": {},
     "output_type": "execute_result"
    }
   ],
   "source": [
    "from gensim.models import KeyedVectors\n",
    "\n",
    "## Note: this model is very huge, this will take some time ...\n",
    "model_path = \"../input/googlenews/GoogleNews-vectors-negative300.bin\"\n",
    "w2v_google_model = KeyedVectors.load_word2vec_format(model_path, binary=True)\n",
    "print('load ok')\n",
    "\n",
    "w2v_google_model.most_similar('happy', topn=10)"
   ]
  },
  {
   "cell_type": "code",
   "execution_count": 69,
   "id": "a48ab6b2",
   "metadata": {
    "execution": {
     "iopub.execute_input": "2022-11-19T17:35:48.614000Z",
     "iopub.status.busy": "2022-11-19T17:35:48.613679Z",
     "iopub.status.idle": "2022-11-19T17:35:49.333712Z",
     "shell.execute_reply": "2022-11-19T17:35:49.332964Z"
    },
    "papermill": {
     "duration": 1.452307,
     "end_time": "2022-11-19T17:35:49.336817",
     "exception": false,
     "start_time": "2022-11-19T17:35:47.884510",
     "status": "completed"
    },
    "tags": []
   },
   "outputs": [
    {
     "name": "stdout",
     "output_type": "stream",
     "text": [
      "happy_words:  ['happy', 'glad', 'pleased', 'ecstatic', 'overjoyed', 'thrilled', 'satisfied', 'proud', 'delighted', 'disappointed', 'excited', 'happier', 'Said_Hirschbeck', 'elated', 'thankful', 'unhappy']\n",
      "angry_words:  ['angry', 'irate', 'enraged', 'indignant', 'incensed', 'annoyed', 'agitated', 'frustrated', 'furious', 'unhappy', 'outraged', 'livid', 'irritated', 'exasperated', 'angrier', 'Angry']\n",
      "sad_words:  ['sad', 'saddening', 'Sad', 'saddened', 'heartbreaking', 'disheartening', 'Meny_Friedman', 'parishioner_Pat_Patello', 'saddens_me', 'distressing', 'reminders_bobbing', 'Turkoman_Shiites', 'saddest', 'unfortunate', 'sorry', 'bittersweet']\n",
      "fear_words:  ['fear', 'fearful', 'fears', 'Fear', 'fearing', 'worry', 'dread', 'feared', 'anxiety', 'apprehension', 'afraid', 'worries', 'concern', 'distrust', 'worried', 'Fearful']\n",
      "\n",
      "target words: \n",
      "['happy', 'glad', 'pleased', 'ecstatic', 'overjoyed', 'thrilled', 'satisfied', 'proud', 'delighted', 'disappointed', 'excited', 'happier', 'Said_Hirschbeck', 'elated', 'thankful', 'unhappy', 'angry', 'irate', 'enraged', 'indignant', 'incensed', 'annoyed', 'agitated', 'frustrated', 'furious', 'unhappy', 'outraged', 'livid', 'irritated', 'exasperated', 'angrier', 'Angry', 'sad', 'saddening', 'Sad', 'saddened', 'heartbreaking', 'disheartening', 'Meny_Friedman', 'parishioner_Pat_Patello', 'saddens_me', 'distressing', 'reminders_bobbing', 'Turkoman_Shiites', 'saddest', 'unfortunate', 'sorry', 'bittersweet', 'fear', 'fearful', 'fears', 'Fear', 'fearing', 'worry', 'dread', 'feared', 'anxiety', 'apprehension', 'afraid', 'worries', 'concern', 'distrust', 'worried', 'Fearful']\n",
      "\n",
      "color list:\n",
      "['b', 'b', 'b', 'b', 'b', 'b', 'b', 'b', 'b', 'b', 'b', 'b', 'b', 'b', 'b', 'b', 'g', 'g', 'g', 'g', 'g', 'g', 'g', 'g', 'g', 'g', 'g', 'g', 'g', 'g', 'g', 'g', 'r', 'r', 'r', 'r', 'r', 'r', 'r', 'r', 'r', 'r', 'r', 'r', 'r', 'r', 'r', 'r', 'y', 'y', 'y', 'y', 'y', 'y', 'y', 'y', 'y', 'y', 'y', 'y', 'y', 'y', 'y', 'y']\n"
     ]
    }
   ],
   "source": [
    "word_list = ['happy', 'angry', 'sad', 'fear']\n",
    "\n",
    "topn = 15\n",
    "happy_words = ['happy'] + [word_ for word_, sim_ in w2v_google_model.most_similar('happy', topn=topn)]\n",
    "angry_words = ['angry'] + [word_ for word_, sim_ in w2v_google_model.most_similar('angry', topn=topn)]        \n",
    "sad_words = ['sad'] + [word_ for word_, sim_ in w2v_google_model.most_similar('sad', topn=topn)]        \n",
    "fear_words = ['fear'] + [word_ for word_, sim_ in w2v_google_model.most_similar('fear', topn=topn)]        \n",
    "\n",
    "print('happy_words: ', happy_words)\n",
    "print('angry_words: ', angry_words)\n",
    "print('sad_words: ', sad_words)\n",
    "print('fear_words: ', fear_words)\n",
    "\n",
    "target_words = happy_words + angry_words + sad_words + fear_words\n",
    "print('\\ntarget words: ')\n",
    "print(target_words)\n",
    "\n",
    "print('\\ncolor list:')\n",
    "cn = topn + 1\n",
    "color = ['b'] * cn + ['g'] * cn + ['r'] * cn + ['y'] * cn\n",
    "print(color)"
   ]
  },
  {
   "cell_type": "code",
   "execution_count": 70,
   "id": "a1f6cb9c",
   "metadata": {
    "execution": {
     "iopub.execute_input": "2022-11-19T17:35:50.943774Z",
     "iopub.status.busy": "2022-11-19T17:35:50.943427Z",
     "iopub.status.idle": "2022-11-19T17:36:01.922422Z",
     "shell.execute_reply": "2022-11-19T17:36:01.921666Z"
    },
    "id": "rvh7ymeNYTp5",
    "papermill": {
     "duration": 11.774229,
     "end_time": "2022-11-19T17:36:01.924470",
     "exception": false,
     "start_time": "2022-11-19T17:35:50.150241",
     "status": "completed"
    },
    "tags": []
   },
   "outputs": [
    {
     "data": {
      "image/png": "[encoded data removed]",
      "text/plain": [
       "<Figure size 862.5x862.5 with 1 Axes>"
      ]
     },
     "metadata": {
      "needs_background": "light"
     },
     "output_type": "display_data"
    }
   ],
   "source": [
    "# Answer here\n",
    "%matplotlib inline\n",
    "import matplotlib.pyplot as plt\n",
    "from sklearn.manifold import TSNE\n",
    "\n",
    "## w2v model\n",
    "model = w2v_google_model\n",
    "\n",
    "## prepare training word vectors\n",
    "size = 2000\n",
    "target_size = len(target_words)\n",
    "all_word = list(model.index_to_key)\n",
    "word_train = target_words + all_word[:size]\n",
    "X_train = model[word_train]\n",
    "\n",
    "## t-SNE model\n",
    "tsne = TSNE(n_components=2, metric='cosine', random_state=28)\n",
    "\n",
    "## training\n",
    "X_tsne = tsne.fit_transform(X_train)\n",
    "\n",
    "## plot the result\n",
    "plt.figure(figsize=(7.5, 7.5), dpi=115)\n",
    "plt.scatter(X_tsne[:target_size, 0], X_tsne[:target_size, 1], c=color)\n",
    "for label, x, y in zip(target_words, X_tsne[:target_size, 0], X_tsne[:target_size, 1]):\n",
    "    plt.annotate(label, xy=(x,y), xytext=(0,0),  textcoords='offset points')\n",
    "plt.show()\n"
   ]
  },
  {
   "cell_type": "markdown",
   "id": "c254796e",
   "metadata": {
    "id": "_fF1woa8YTp5",
    "papermill": {
     "duration": 0.789324,
     "end_time": "2022-11-19T17:36:03.443626",
     "exception": false,
     "start_time": "2022-11-19T17:36:02.654302",
     "status": "completed"
    },
    "tags": []
   },
   "source": [
    "---"
   ]
  }
 ],
 "metadata": {
  "kernelspec": {
   "display_name": "Python 3",
   "language": "python",
   "name": "python3"
  },
  "language_info": {
   "codemirror_mode": {
    "name": "ipython",
    "version": 3
   },
   "file_extension": ".py",
   "mimetype": "text/x-python",
   "name": "python",
   "nbconvert_exporter": "python",
   "pygments_lexer": "ipython3",
   "version": "3.7.12"
  },
  "papermill": {
   "default_parameters": {},
   "duration": 237.602344,
   "end_time": "2022-11-19T17:36:07.146605",
   "environment_variables": {},
   "exception": null,
   "input_path": "__notebook__.ipynb",
   "output_path": "__notebook__.ipynb",
   "parameters": {},
   "start_time": "2022-11-19T17:32:09.544261",
   "version": "2.3.4"
  }
 },
 "nbformat": 4,
 "nbformat_minor": 5
}
