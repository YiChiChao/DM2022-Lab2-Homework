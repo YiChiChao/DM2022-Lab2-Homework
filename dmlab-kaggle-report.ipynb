{
 "cells": [
  {
   "cell_type": "markdown",
   "id": "300dbeaf",
   "metadata": {
    "papermill": {
     "duration": 0.011092,
     "end_time": "2022-11-27T12:31:21.960553",
     "exception": false,
     "start_time": "2022-11-27T12:31:21.949461",
     "status": "completed"
    },
    "tags": []
   },
   "source": [
    "# Kaggle Competition"
   ]
  },
  {
   "cell_type": "markdown",
   "id": "0e19db8a",
   "metadata": {
    "papermill": {
     "duration": 0.009059,
     "end_time": "2022-11-27T12:31:21.979420",
     "exception": false,
     "start_time": "2022-11-27T12:31:21.970361",
     "status": "completed"
    },
    "tags": []
   },
   "source": [
    "## Data Preprocess"
   ]
  },
  {
   "cell_type": "code",
   "execution_count": 1,
   "id": "9689e6c1",
   "metadata": {
    "_cell_guid": "b1076dfc-b9ad-4769-8c92-a6c4dae69d19",
    "_uuid": "8f2839f25d086af736a60e9eeb907d3b93b6e0e5",
    "execution": {
     "iopub.execute_input": "2022-11-27T12:31:22.001958Z",
     "iopub.status.busy": "2022-11-27T12:31:22.001494Z",
     "iopub.status.idle": "2022-11-27T12:31:45.174299Z",
     "shell.execute_reply": "2022-11-27T12:31:45.173283Z"
    },
    "papermill": {
     "duration": 23.188811,
     "end_time": "2022-11-27T12:31:45.177572",
     "exception": false,
     "start_time": "2022-11-27T12:31:21.988761",
     "status": "completed"
    },
    "tags": []
   },
   "outputs": [],
   "source": [
    "import pandas as pd\n",
    "import numpy as np\n",
    "import json\n",
    "json_path = '../input/dm2022-isa5810-lab2-homework/tweets_DM.json'\n",
    "json_list = list()\n",
    "with open(json_path , 'r') as file:\n",
    "    for line in file:\n",
    "        json_list.append(json.loads(line))"
   ]
  },
  {
   "cell_type": "code",
   "execution_count": 2,
   "id": "06d2ca31",
   "metadata": {
    "execution": {
     "iopub.execute_input": "2022-11-27T12:31:45.198380Z",
     "iopub.status.busy": "2022-11-27T12:31:45.198050Z",
     "iopub.status.idle": "2022-11-27T12:31:50.281353Z",
     "shell.execute_reply": "2022-11-27T12:31:50.280276Z"
    },
    "papermill": {
     "duration": 5.096867,
     "end_time": "2022-11-27T12:31:50.284451",
     "exception": false,
     "start_time": "2022-11-27T12:31:45.187584",
     "status": "completed"
    },
    "tags": []
   },
   "outputs": [
    {
     "data": {
      "text/html": [
       "<div>\n",
       "<style scoped>\n",
       "    .dataframe tbody tr th:only-of-type {\n",
       "        vertical-align: middle;\n",
       "    }\n",
       "\n",
       "    .dataframe tbody tr th {\n",
       "        vertical-align: top;\n",
       "    }\n",
       "\n",
       "    .dataframe thead th {\n",
       "        text-align: right;\n",
       "    }\n",
       "</style>\n",
       "<table border=\"1\" class=\"dataframe\">\n",
       "  <thead>\n",
       "    <tr style=\"text-align: right;\">\n",
       "      <th></th>\n",
       "      <th>tweet_id</th>\n",
       "      <th>text</th>\n",
       "      <th>hashtag</th>\n",
       "    </tr>\n",
       "  </thead>\n",
       "  <tbody>\n",
       "    <tr>\n",
       "      <th>0</th>\n",
       "      <td>0x376b20</td>\n",
       "      <td>People who post \"add me on #Snapchat\" must be ...</td>\n",
       "      <td>Snapchat</td>\n",
       "    </tr>\n",
       "    <tr>\n",
       "      <th>1</th>\n",
       "      <td>0x2d5350</td>\n",
       "      <td>@brianklaas As we see, Trump is dangerous to #...</td>\n",
       "      <td>freepress TrumpLegacy CNN</td>\n",
       "    </tr>\n",
       "    <tr>\n",
       "      <th>2</th>\n",
       "      <td>0x28b412</td>\n",
       "      <td>Confident of your obedience, I write to you, k...</td>\n",
       "      <td>bibleverse</td>\n",
       "    </tr>\n",
       "    <tr>\n",
       "      <th>3</th>\n",
       "      <td>0x1cd5b0</td>\n",
       "      <td>Now ISSA is stalking Tasha 😂😂😂 &lt;LH&gt;</td>\n",
       "      <td></td>\n",
       "    </tr>\n",
       "    <tr>\n",
       "      <th>4</th>\n",
       "      <td>0x2de201</td>\n",
       "      <td>\"Trust is not the same as faith. A friend is s...</td>\n",
       "      <td></td>\n",
       "    </tr>\n",
       "    <tr>\n",
       "      <th>...</th>\n",
       "      <td>...</td>\n",
       "      <td>...</td>\n",
       "      <td>...</td>\n",
       "    </tr>\n",
       "    <tr>\n",
       "      <th>1867530</th>\n",
       "      <td>0x316b80</td>\n",
       "      <td>When you buy the last 2 tickets remaining for ...</td>\n",
       "      <td>mixedfeeling butimTHATperson</td>\n",
       "    </tr>\n",
       "    <tr>\n",
       "      <th>1867531</th>\n",
       "      <td>0x29d0cb</td>\n",
       "      <td>I swear all this hard work gone pay off one da...</td>\n",
       "      <td></td>\n",
       "    </tr>\n",
       "    <tr>\n",
       "      <th>1867532</th>\n",
       "      <td>0x2a6a4f</td>\n",
       "      <td>@Parcel2Go no card left when I wasn't in so I ...</td>\n",
       "      <td></td>\n",
       "    </tr>\n",
       "    <tr>\n",
       "      <th>1867533</th>\n",
       "      <td>0x24faed</td>\n",
       "      <td>Ah, corporate life, where you can date &lt;LH&gt; us...</td>\n",
       "      <td></td>\n",
       "    </tr>\n",
       "    <tr>\n",
       "      <th>1867534</th>\n",
       "      <td>0x34be8c</td>\n",
       "      <td>Blessed to be living #Sundayvibes &lt;LH&gt;</td>\n",
       "      <td>Sundayvibes</td>\n",
       "    </tr>\n",
       "  </tbody>\n",
       "</table>\n",
       "<p>1867535 rows × 3 columns</p>\n",
       "</div>"
      ],
      "text/plain": [
       "         tweet_id                                               text  \\\n",
       "0        0x376b20  People who post \"add me on #Snapchat\" must be ...   \n",
       "1        0x2d5350  @brianklaas As we see, Trump is dangerous to #...   \n",
       "2        0x28b412  Confident of your obedience, I write to you, k...   \n",
       "3        0x1cd5b0                Now ISSA is stalking Tasha 😂😂😂 <LH>   \n",
       "4        0x2de201  \"Trust is not the same as faith. A friend is s...   \n",
       "...           ...                                                ...   \n",
       "1867530  0x316b80  When you buy the last 2 tickets remaining for ...   \n",
       "1867531  0x29d0cb  I swear all this hard work gone pay off one da...   \n",
       "1867532  0x2a6a4f  @Parcel2Go no card left when I wasn't in so I ...   \n",
       "1867533  0x24faed  Ah, corporate life, where you can date <LH> us...   \n",
       "1867534  0x34be8c             Blessed to be living #Sundayvibes <LH>   \n",
       "\n",
       "                              hashtag  \n",
       "0                            Snapchat  \n",
       "1           freepress TrumpLegacy CNN  \n",
       "2                          bibleverse  \n",
       "3                                      \n",
       "4                                      \n",
       "...                               ...  \n",
       "1867530  mixedfeeling butimTHATperson  \n",
       "1867531                                \n",
       "1867532                                \n",
       "1867533                                \n",
       "1867534                   Sundayvibes  \n",
       "\n",
       "[1867535 rows x 3 columns]"
      ]
     },
     "execution_count": 2,
     "metadata": {},
     "output_type": "execute_result"
    }
   ],
   "source": [
    "tweet_list = list()\n",
    "for json in json_list:\n",
    "    tweet_id = json['_source']['tweet']['tweet_id']\n",
    "    hashtags = json['_source']['tweet']['hashtags']\n",
    "    hashtag = ' '.join(hashtags)\n",
    "    text = json['_source']['tweet']['text']\n",
    "\n",
    "    tweet_list.append([tweet_id, text, hashtag])\n",
    "tweet_df = pd.DataFrame(tweet_list, columns=['tweet_id', 'text', 'hashtag'])\n",
    "tweet_df   \n"
   ]
  },
  {
   "cell_type": "code",
   "execution_count": 3,
   "id": "708ae12e",
   "metadata": {
    "execution": {
     "iopub.execute_input": "2022-11-27T12:31:50.306035Z",
     "iopub.status.busy": "2022-11-27T12:31:50.305742Z",
     "iopub.status.idle": "2022-11-27T12:31:52.519349Z",
     "shell.execute_reply": "2022-11-27T12:31:52.518312Z"
    },
    "papermill": {
     "duration": 2.226874,
     "end_time": "2022-11-27T12:31:52.521870",
     "exception": false,
     "start_time": "2022-11-27T12:31:50.294996",
     "status": "completed"
    },
    "tags": []
   },
   "outputs": [
    {
     "data": {
      "text/html": [
       "<div>\n",
       "<style scoped>\n",
       "    .dataframe tbody tr th:only-of-type {\n",
       "        vertical-align: middle;\n",
       "    }\n",
       "\n",
       "    .dataframe tbody tr th {\n",
       "        vertical-align: top;\n",
       "    }\n",
       "\n",
       "    .dataframe thead th {\n",
       "        text-align: right;\n",
       "    }\n",
       "</style>\n",
       "<table border=\"1\" class=\"dataframe\">\n",
       "  <thead>\n",
       "    <tr style=\"text-align: right;\">\n",
       "      <th></th>\n",
       "      <th>tweet_id</th>\n",
       "      <th>emotion</th>\n",
       "    </tr>\n",
       "  </thead>\n",
       "  <tbody>\n",
       "    <tr>\n",
       "      <th>0</th>\n",
       "      <td>0x3140b1</td>\n",
       "      <td>sadness</td>\n",
       "    </tr>\n",
       "    <tr>\n",
       "      <th>1</th>\n",
       "      <td>0x368b73</td>\n",
       "      <td>disgust</td>\n",
       "    </tr>\n",
       "    <tr>\n",
       "      <th>2</th>\n",
       "      <td>0x296183</td>\n",
       "      <td>anticipation</td>\n",
       "    </tr>\n",
       "    <tr>\n",
       "      <th>3</th>\n",
       "      <td>0x2bd6e1</td>\n",
       "      <td>joy</td>\n",
       "    </tr>\n",
       "    <tr>\n",
       "      <th>4</th>\n",
       "      <td>0x2ee1dd</td>\n",
       "      <td>anticipation</td>\n",
       "    </tr>\n",
       "    <tr>\n",
       "      <th>...</th>\n",
       "      <td>...</td>\n",
       "      <td>...</td>\n",
       "    </tr>\n",
       "    <tr>\n",
       "      <th>1455558</th>\n",
       "      <td>0x38dba0</td>\n",
       "      <td>joy</td>\n",
       "    </tr>\n",
       "    <tr>\n",
       "      <th>1455559</th>\n",
       "      <td>0x300ea2</td>\n",
       "      <td>joy</td>\n",
       "    </tr>\n",
       "    <tr>\n",
       "      <th>1455560</th>\n",
       "      <td>0x360b99</td>\n",
       "      <td>fear</td>\n",
       "    </tr>\n",
       "    <tr>\n",
       "      <th>1455561</th>\n",
       "      <td>0x22eecf</td>\n",
       "      <td>joy</td>\n",
       "    </tr>\n",
       "    <tr>\n",
       "      <th>1455562</th>\n",
       "      <td>0x2fb282</td>\n",
       "      <td>anticipation</td>\n",
       "    </tr>\n",
       "  </tbody>\n",
       "</table>\n",
       "<p>1455563 rows × 2 columns</p>\n",
       "</div>"
      ],
      "text/plain": [
       "         tweet_id       emotion\n",
       "0        0x3140b1       sadness\n",
       "1        0x368b73       disgust\n",
       "2        0x296183  anticipation\n",
       "3        0x2bd6e1           joy\n",
       "4        0x2ee1dd  anticipation\n",
       "...           ...           ...\n",
       "1455558  0x38dba0           joy\n",
       "1455559  0x300ea2           joy\n",
       "1455560  0x360b99          fear\n",
       "1455561  0x22eecf           joy\n",
       "1455562  0x2fb282  anticipation\n",
       "\n",
       "[1455563 rows x 2 columns]"
      ]
     },
     "execution_count": 3,
     "metadata": {},
     "output_type": "execute_result"
    }
   ],
   "source": [
    "emotion_df = pd.read_csv('../input/dm2022-isa5810-lab2-homework/emotion.csv')\n",
    "identification_df = pd.read_csv('../input/dm2022-isa5810-lab2-homework/data_identification.csv')\n",
    "emotion_df\n"
   ]
  },
  {
   "cell_type": "code",
   "execution_count": 4,
   "id": "320fe562",
   "metadata": {
    "execution": {
     "iopub.execute_input": "2022-11-27T12:31:52.542882Z",
     "iopub.status.busy": "2022-11-27T12:31:52.542579Z",
     "iopub.status.idle": "2022-11-27T12:31:55.485160Z",
     "shell.execute_reply": "2022-11-27T12:31:55.484172Z"
    },
    "papermill": {
     "duration": 2.956728,
     "end_time": "2022-11-27T12:31:55.488647",
     "exception": false,
     "start_time": "2022-11-27T12:31:52.531919",
     "status": "completed"
    },
    "tags": []
   },
   "outputs": [
    {
     "data": {
      "text/html": [
       "<div>\n",
       "<style scoped>\n",
       "    .dataframe tbody tr th:only-of-type {\n",
       "        vertical-align: middle;\n",
       "    }\n",
       "\n",
       "    .dataframe tbody tr th {\n",
       "        vertical-align: top;\n",
       "    }\n",
       "\n",
       "    .dataframe thead th {\n",
       "        text-align: right;\n",
       "    }\n",
       "</style>\n",
       "<table border=\"1\" class=\"dataframe\">\n",
       "  <thead>\n",
       "    <tr style=\"text-align: right;\">\n",
       "      <th></th>\n",
       "      <th>tweet_id</th>\n",
       "      <th>text</th>\n",
       "      <th>hashtag</th>\n",
       "      <th>emotion</th>\n",
       "    </tr>\n",
       "  </thead>\n",
       "  <tbody>\n",
       "    <tr>\n",
       "      <th>0</th>\n",
       "      <td>0x376b20</td>\n",
       "      <td>People who post \"add me on #Snapchat\" must be ...</td>\n",
       "      <td>Snapchat</td>\n",
       "      <td>anticipation</td>\n",
       "    </tr>\n",
       "    <tr>\n",
       "      <th>1</th>\n",
       "      <td>0x2d5350</td>\n",
       "      <td>@brianklaas As we see, Trump is dangerous to #...</td>\n",
       "      <td>freepress TrumpLegacy CNN</td>\n",
       "      <td>sadness</td>\n",
       "    </tr>\n",
       "    <tr>\n",
       "      <th>2</th>\n",
       "      <td>0x1cd5b0</td>\n",
       "      <td>Now ISSA is stalking Tasha 😂😂😂 &lt;LH&gt;</td>\n",
       "      <td></td>\n",
       "      <td>fear</td>\n",
       "    </tr>\n",
       "    <tr>\n",
       "      <th>3</th>\n",
       "      <td>0x1d755c</td>\n",
       "      <td>@RISKshow @TheKevinAllison Thx for the BEST TI...</td>\n",
       "      <td>authentic LaughOutLoud</td>\n",
       "      <td>joy</td>\n",
       "    </tr>\n",
       "    <tr>\n",
       "      <th>4</th>\n",
       "      <td>0x2c91a8</td>\n",
       "      <td>Still waiting on those supplies Liscus. &lt;LH&gt;</td>\n",
       "      <td></td>\n",
       "      <td>anticipation</td>\n",
       "    </tr>\n",
       "    <tr>\n",
       "      <th>...</th>\n",
       "      <td>...</td>\n",
       "      <td>...</td>\n",
       "      <td>...</td>\n",
       "      <td>...</td>\n",
       "    </tr>\n",
       "    <tr>\n",
       "      <th>1455558</th>\n",
       "      <td>0x321566</td>\n",
       "      <td>I'm SO HAPPY!!! #NoWonder the name of this sho...</td>\n",
       "      <td>NoWonder Happy</td>\n",
       "      <td>joy</td>\n",
       "    </tr>\n",
       "    <tr>\n",
       "      <th>1455559</th>\n",
       "      <td>0x38959e</td>\n",
       "      <td>In every circumtance I'd like to be thankful t...</td>\n",
       "      <td></td>\n",
       "      <td>joy</td>\n",
       "    </tr>\n",
       "    <tr>\n",
       "      <th>1455560</th>\n",
       "      <td>0x2cbca6</td>\n",
       "      <td>there's currently two girls walking around the...</td>\n",
       "      <td>blessyou</td>\n",
       "      <td>joy</td>\n",
       "    </tr>\n",
       "    <tr>\n",
       "      <th>1455561</th>\n",
       "      <td>0x24faed</td>\n",
       "      <td>Ah, corporate life, where you can date &lt;LH&gt; us...</td>\n",
       "      <td></td>\n",
       "      <td>joy</td>\n",
       "    </tr>\n",
       "    <tr>\n",
       "      <th>1455562</th>\n",
       "      <td>0x34be8c</td>\n",
       "      <td>Blessed to be living #Sundayvibes &lt;LH&gt;</td>\n",
       "      <td>Sundayvibes</td>\n",
       "      <td>joy</td>\n",
       "    </tr>\n",
       "  </tbody>\n",
       "</table>\n",
       "<p>1455563 rows × 4 columns</p>\n",
       "</div>"
      ],
      "text/plain": [
       "         tweet_id                                               text  \\\n",
       "0        0x376b20  People who post \"add me on #Snapchat\" must be ...   \n",
       "1        0x2d5350  @brianklaas As we see, Trump is dangerous to #...   \n",
       "2        0x1cd5b0                Now ISSA is stalking Tasha 😂😂😂 <LH>   \n",
       "3        0x1d755c  @RISKshow @TheKevinAllison Thx for the BEST TI...   \n",
       "4        0x2c91a8       Still waiting on those supplies Liscus. <LH>   \n",
       "...           ...                                                ...   \n",
       "1455558  0x321566  I'm SO HAPPY!!! #NoWonder the name of this sho...   \n",
       "1455559  0x38959e  In every circumtance I'd like to be thankful t...   \n",
       "1455560  0x2cbca6  there's currently two girls walking around the...   \n",
       "1455561  0x24faed  Ah, corporate life, where you can date <LH> us...   \n",
       "1455562  0x34be8c             Blessed to be living #Sundayvibes <LH>   \n",
       "\n",
       "                           hashtag       emotion  \n",
       "0                         Snapchat  anticipation  \n",
       "1        freepress TrumpLegacy CNN       sadness  \n",
       "2                                           fear  \n",
       "3           authentic LaughOutLoud           joy  \n",
       "4                                   anticipation  \n",
       "...                            ...           ...  \n",
       "1455558             NoWonder Happy           joy  \n",
       "1455559                                      joy  \n",
       "1455560                   blessyou           joy  \n",
       "1455561                                      joy  \n",
       "1455562                Sundayvibes           joy  \n",
       "\n",
       "[1455563 rows x 4 columns]"
      ]
     },
     "execution_count": 4,
     "metadata": {},
     "output_type": "execute_result"
    }
   ],
   "source": [
    "\n",
    "test_df = identification_df[(identification_df['identification'] == 'test')]\n",
    "train_df = pd.merge(tweet_df, emotion_df)\n",
    "\n",
    "train_df\n"
   ]
  },
  {
   "cell_type": "code",
   "execution_count": 5,
   "id": "338b882e",
   "metadata": {
    "execution": {
     "iopub.execute_input": "2022-11-27T12:31:55.511141Z",
     "iopub.status.busy": "2022-11-27T12:31:55.510798Z",
     "iopub.status.idle": "2022-11-27T12:31:56.060706Z",
     "shell.execute_reply": "2022-11-27T12:31:56.059650Z"
    },
    "papermill": {
     "duration": 0.564127,
     "end_time": "2022-11-27T12:31:56.063341",
     "exception": false,
     "start_time": "2022-11-27T12:31:55.499214",
     "status": "completed"
    },
    "tags": []
   },
   "outputs": [],
   "source": [
    "train_emotion = train_df.emotion\n",
    "train_df.drop('tweet_id', inplace=True, axis=1)\n"
   ]
  },
  {
   "cell_type": "code",
   "execution_count": 6,
   "id": "9ebef7cf",
   "metadata": {
    "execution": {
     "iopub.execute_input": "2022-11-27T12:31:56.086054Z",
     "iopub.status.busy": "2022-11-27T12:31:56.084460Z",
     "iopub.status.idle": "2022-11-27T12:31:56.091871Z",
     "shell.execute_reply": "2022-11-27T12:31:56.090725Z"
    },
    "papermill": {
     "duration": 0.020781,
     "end_time": "2022-11-27T12:31:56.094361",
     "exception": false,
     "start_time": "2022-11-27T12:31:56.073580",
     "status": "completed"
    },
    "tags": []
   },
   "outputs": [
    {
     "data": {
      "text/plain": [
       "(1455563, 3)"
      ]
     },
     "execution_count": 6,
     "metadata": {},
     "output_type": "execute_result"
    }
   ],
   "source": [
    "train_df.shape"
   ]
  },
  {
   "cell_type": "code",
   "execution_count": 7,
   "id": "4df78a62",
   "metadata": {
    "execution": {
     "iopub.execute_input": "2022-11-27T12:31:56.116097Z",
     "iopub.status.busy": "2022-11-27T12:31:56.115831Z",
     "iopub.status.idle": "2022-11-27T12:31:56.949688Z",
     "shell.execute_reply": "2022-11-27T12:31:56.948536Z"
    },
    "papermill": {
     "duration": 0.847701,
     "end_time": "2022-11-27T12:31:56.952625",
     "exception": false,
     "start_time": "2022-11-27T12:31:56.104924",
     "status": "completed"
    },
    "tags": []
   },
   "outputs": [
    {
     "data": {
      "text/plain": [
       "202"
      ]
     },
     "execution_count": 7,
     "metadata": {},
     "output_type": "execute_result"
    }
   ],
   "source": [
    "max(train_df.text.apply(lambda x : len(x)))"
   ]
  },
  {
   "cell_type": "markdown",
   "id": "ef85ff6b",
   "metadata": {
    "papermill": {
     "duration": 0.009854,
     "end_time": "2022-11-27T12:31:56.973560",
     "exception": false,
     "start_time": "2022-11-27T12:31:56.963706",
     "status": "completed"
    },
    "tags": []
   },
   "source": [
    "### Replace redundent words"
   ]
  },
  {
   "cell_type": "code",
   "execution_count": 8,
   "id": "07ede1f2",
   "metadata": {
    "execution": {
     "iopub.execute_input": "2022-11-27T12:31:56.994929Z",
     "iopub.status.busy": "2022-11-27T12:31:56.994612Z",
     "iopub.status.idle": "2022-11-27T12:32:50.188301Z",
     "shell.execute_reply": "2022-11-27T12:32:50.187263Z"
    },
    "papermill": {
     "duration": 53.207709,
     "end_time": "2022-11-27T12:32:50.191185",
     "exception": false,
     "start_time": "2022-11-27T12:31:56.983476",
     "status": "completed"
    },
    "tags": []
   },
   "outputs": [],
   "source": [
    "# Import Regular Expressions lib\n",
    "import re\n",
    "# Using regex to find the NA values\n",
    "# first separate the NaN data and other datas\n",
    "MAX_LENGTH = 30\n",
    "train_df.text = train_df.text.apply(lambda x: re.sub('|<|>|@|#|0|1|2|3|4|5|6|7|8|9', '', x))\n",
    "train_df.text = train_df.text.apply(lambda x: re.sub('|:|pm|am|AM|PM', '', x))\n",
    "#train_df = train_df[~(train_df.text.apply(lambda x : len(x)) > MAX_LENGTH)]\n",
    "\n"
   ]
  },
  {
   "cell_type": "code",
   "execution_count": 9,
   "id": "70260f8b",
   "metadata": {
    "execution": {
     "iopub.execute_input": "2022-11-27T12:32:50.213535Z",
     "iopub.status.busy": "2022-11-27T12:32:50.213195Z",
     "iopub.status.idle": "2022-11-27T12:32:50.223374Z",
     "shell.execute_reply": "2022-11-27T12:32:50.221823Z"
    },
    "papermill": {
     "duration": 0.023839,
     "end_time": "2022-11-27T12:32:50.225541",
     "exception": false,
     "start_time": "2022-11-27T12:32:50.201702",
     "status": "completed"
    },
    "tags": []
   },
   "outputs": [
    {
     "name": "stdout",
     "output_type": "stream",
     "text": [
      "[原始文本]\n",
      "    句子 1：I Never Take For Granted Waking Up To See Another Day Blessed😇🙌🏽💕\n",
      "    分類  ：joy\n",
      "    --------------------\n",
      "    \n",
      "[原始文本]\n",
      "    句子 1：Maybe someday Ill get this whole weight room thing...sigh. LH\n",
      "    分類  ：sadness\n",
      "    --------------------\n",
      "    \n",
      "[原始文本]\n",
      "    句子 1：Honestly I feel for JUSTICEFORJAZZY I swear she handled this like an angel.  LH is so proud of you sis This is why I don’t do roomates😡\n",
      "    分類  ：anticipation\n",
      "    --------------------\n",
      "    \n",
      "[原始文本]\n",
      "    句子 1：we’re really getting new charli, brockhpton, and eminem on the se day LH\n",
      "    分類  ：joy\n",
      "    --------------------\n",
      "    \n",
      "[原始文本]\n",
      "    句子 1：Gods Love is AZING!\n",
      "    分類  ：anticipation\n",
      "    --------------------\n",
      "    \n",
      "[原始文本]\n",
      "    句子 1：Capricorn ♑ LH dre\n",
      "    分類  ：trust\n",
      "    --------------------\n",
      "    \n",
      "[原始文本]\n",
      "    句子 1：My car aux works again LH\n",
      "    分類  ：joy\n",
      "    --------------------\n",
      "    \n",
      "[原始文本]\n",
      "    句子 1：someaningless I  LH  What are you doing this Friday?\n",
      "    分類  ：joy\n",
      "    --------------------\n",
      "    \n",
      "[原始文本]\n",
      "    句子 1：Don’t wait for everything to be perfect before you decide to enjoy your life.  LH  LH\n",
      "    分類  ：trust\n",
      "    --------------------\n",
      "    \n",
      "[原始文本]\n",
      "    句子 1：to be LH  it's all we want, right?\n",
      "    分類  ：joy\n",
      "    --------------------\n",
      "    \n"
     ]
    }
   ],
   "source": [
    "for i in range (101, 111, 1):\n",
    "    print(f\"\"\"[原始文本]\n",
    "    句子 1：{train_df.text[i]}\n",
    "    分類  ：{train_df.emotion[i]}\n",
    "    --------------------\n",
    "    \"\"\")"
   ]
  },
  {
   "cell_type": "code",
   "execution_count": 10,
   "id": "053a874c",
   "metadata": {
    "execution": {
     "iopub.execute_input": "2022-11-27T12:32:50.248080Z",
     "iopub.status.busy": "2022-11-27T12:32:50.247296Z",
     "iopub.status.idle": "2022-11-27T12:32:50.254786Z",
     "shell.execute_reply": "2022-11-27T12:32:50.253915Z"
    },
    "papermill": {
     "duration": 0.021153,
     "end_time": "2022-11-27T12:32:50.256916",
     "exception": false,
     "start_time": "2022-11-27T12:32:50.235763",
     "status": "completed"
    },
    "tags": []
   },
   "outputs": [
    {
     "data": {
      "text/plain": [
       "(1455563, 3)"
      ]
     },
     "execution_count": 10,
     "metadata": {},
     "output_type": "execute_result"
    }
   ],
   "source": [
    "train_df.shape"
   ]
  },
  {
   "cell_type": "markdown",
   "id": "c1e968f3",
   "metadata": {
    "papermill": {
     "duration": 0.010072,
     "end_time": "2022-11-27T12:32:50.277295",
     "exception": false,
     "start_time": "2022-11-27T12:32:50.267223",
     "status": "completed"
    },
    "tags": []
   },
   "source": [
    "### Stratify Test Train Data"
   ]
  },
  {
   "cell_type": "code",
   "execution_count": 11,
   "id": "29d9b7c7",
   "metadata": {
    "execution": {
     "iopub.execute_input": "2022-11-27T12:32:50.300017Z",
     "iopub.status.busy": "2022-11-27T12:32:50.299159Z",
     "iopub.status.idle": "2022-11-27T12:32:50.396724Z",
     "shell.execute_reply": "2022-11-27T12:32:50.395625Z"
    },
    "papermill": {
     "duration": 0.111248,
     "end_time": "2022-11-27T12:32:50.399105",
     "exception": false,
     "start_time": "2022-11-27T12:32:50.287857",
     "status": "completed"
    },
    "tags": []
   },
   "outputs": [
    {
     "data": {
      "text/plain": [
       "joy             0.354514\n",
       "anticipation    0.171023\n",
       "trust           0.141167\n",
       "sadness         0.132895\n",
       "disgust         0.095565\n",
       "fear            0.043969\n",
       "surprise        0.033478\n",
       "anger           0.027389\n",
       "Name: emotion, dtype: float64"
      ]
     },
     "execution_count": 11,
     "metadata": {},
     "output_type": "execute_result"
    }
   ],
   "source": [
    "pd.Series(train_emotion).value_counts(normalize=True)"
   ]
  },
  {
   "cell_type": "code",
   "execution_count": 12,
   "id": "39db8c44",
   "metadata": {
    "execution": {
     "iopub.execute_input": "2022-11-27T12:32:50.424059Z",
     "iopub.status.busy": "2022-11-27T12:32:50.422406Z",
     "iopub.status.idle": "2022-11-27T12:32:51.626943Z",
     "shell.execute_reply": "2022-11-27T12:32:51.625706Z"
    },
    "papermill": {
     "duration": 1.21937,
     "end_time": "2022-11-27T12:32:51.629990",
     "exception": false,
     "start_time": "2022-11-27T12:32:50.410620",
     "status": "completed"
    },
    "tags": []
   },
   "outputs": [
    {
     "name": "stdout",
     "output_type": "stream",
     "text": [
      "(10189, 3)\n",
      "(4367, 3)\n"
     ]
    }
   ],
   "source": [
    "from sklearn.model_selection import train_test_split\n",
    "SAMPLE_FRAC = 0.01\n",
    "train_df = train_df.sample(frac=SAMPLE_FRAC, random_state=447)\n",
    "df_train, df_test, y_train, y_test= train_test_split(train_df, train_df.emotion, random_state=777, train_size = 0.7, stratify=train_df.emotion)\n",
    "print(df_train.shape)\n",
    "print(df_test.shape)\n"
   ]
  },
  {
   "cell_type": "code",
   "execution_count": 13,
   "id": "66601f6e",
   "metadata": {
    "execution": {
     "iopub.execute_input": "2022-11-27T12:32:51.668427Z",
     "iopub.status.busy": "2022-11-27T12:32:51.667982Z",
     "iopub.status.idle": "2022-11-27T12:32:51.681383Z",
     "shell.execute_reply": "2022-11-27T12:32:51.680234Z"
    },
    "papermill": {
     "duration": 0.036871,
     "end_time": "2022-11-27T12:32:51.686061",
     "exception": false,
     "start_time": "2022-11-27T12:32:51.649190",
     "status": "completed"
    },
    "tags": []
   },
   "outputs": [
    {
     "data": {
      "text/plain": [
       "joy             0.356309\n",
       "anticipation    0.170598\n",
       "trust           0.142661\n",
       "sadness         0.129379\n",
       "disgust         0.094344\n",
       "fear            0.043279\n",
       "surprise        0.033204\n",
       "anger           0.030227\n",
       "Name: emotion, dtype: float64"
      ]
     },
     "execution_count": 13,
     "metadata": {},
     "output_type": "execute_result"
    }
   ],
   "source": [
    "# 查看測試集八種類別比例\n",
    "pd.Series(y_test).value_counts(normalize=True)"
   ]
  },
  {
   "cell_type": "code",
   "execution_count": 14,
   "id": "b6f6f00f",
   "metadata": {
    "execution": {
     "iopub.execute_input": "2022-11-27T12:32:51.726031Z",
     "iopub.status.busy": "2022-11-27T12:32:51.725675Z",
     "iopub.status.idle": "2022-11-27T12:32:51.739437Z",
     "shell.execute_reply": "2022-11-27T12:32:51.738369Z"
    },
    "papermill": {
     "duration": 0.038053,
     "end_time": "2022-11-27T12:32:51.743154",
     "exception": false,
     "start_time": "2022-11-27T12:32:51.705101",
     "status": "completed"
    },
    "tags": []
   },
   "outputs": [
    {
     "data": {
      "text/plain": [
       "joy             0.356267\n",
       "anticipation    0.170478\n",
       "trust           0.142703\n",
       "sadness         0.129453\n",
       "disgust         0.094219\n",
       "fear            0.043380\n",
       "surprise        0.033369\n",
       "anger           0.030131\n",
       "Name: emotion, dtype: float64"
      ]
     },
     "execution_count": 14,
     "metadata": {},
     "output_type": "execute_result"
    }
   ],
   "source": [
    "# 查看訓練集八種類別比例\n",
    "pd.Series(y_train).value_counts(normalize=True)\n"
   ]
  },
  {
   "cell_type": "markdown",
   "id": "f8c89357",
   "metadata": {
    "papermill": {
     "duration": 0.019239,
     "end_time": "2022-11-27T12:32:51.781062",
     "exception": false,
     "start_time": "2022-11-27T12:32:51.761823",
     "status": "completed"
    },
    "tags": []
   },
   "source": [
    "###### BERT"
   ]
  },
  {
   "cell_type": "code",
   "execution_count": 15,
   "id": "bf4be48d",
   "metadata": {
    "execution": {
     "iopub.execute_input": "2022-11-27T12:32:51.821568Z",
     "iopub.status.busy": "2022-11-27T12:32:51.821185Z",
     "iopub.status.idle": "2022-11-27T12:32:55.771840Z",
     "shell.execute_reply": "2022-11-27T12:32:55.770846Z"
    },
    "papermill": {
     "duration": 3.973767,
     "end_time": "2022-11-27T12:32:55.774216",
     "exception": false,
     "start_time": "2022-11-27T12:32:51.800449",
     "status": "completed"
    },
    "tags": []
   },
   "outputs": [],
   "source": [
    "import torch\n",
    "import emoji\n",
    "from transformers import BertTokenizer\n",
    "from IPython.display import clear_output\n",
    "\n",
    "PRETRAINED_MODEL_NAME = \"bert-base-uncased\"  # 指定英文無大小寫模型\n",
    "\n",
    "\n",
    "tokenizer = BertTokenizer.from_pretrained(PRETRAINED_MODEL_NAME)\n",
    "\n",
    "clear_output()"
   ]
  },
  {
   "cell_type": "code",
   "execution_count": 16,
   "id": "093d286f",
   "metadata": {
    "execution": {
     "iopub.execute_input": "2022-11-27T12:32:55.798817Z",
     "iopub.status.busy": "2022-11-27T12:32:55.798403Z",
     "iopub.status.idle": "2022-11-27T12:32:55.803764Z",
     "shell.execute_reply": "2022-11-27T12:32:55.802475Z"
    },
    "papermill": {
     "duration": 0.021874,
     "end_time": "2022-11-27T12:32:55.807794",
     "exception": false,
     "start_time": "2022-11-27T12:32:55.785920",
     "status": "completed"
    },
    "tags": []
   },
   "outputs": [
    {
     "name": "stdout",
     "output_type": "stream",
     "text": [
      "字典大小： 30522\n"
     ]
    }
   ],
   "source": [
    "vocab = tokenizer.vocab\n",
    "print(\"字典大小：\", len(vocab))"
   ]
  },
  {
   "cell_type": "code",
   "execution_count": 17,
   "id": "983125d8",
   "metadata": {
    "execution": {
     "iopub.execute_input": "2022-11-27T12:32:55.830575Z",
     "iopub.status.busy": "2022-11-27T12:32:55.830297Z",
     "iopub.status.idle": "2022-11-27T12:32:55.841166Z",
     "shell.execute_reply": "2022-11-27T12:32:55.840292Z"
    },
    "papermill": {
     "duration": 0.025177,
     "end_time": "2022-11-27T12:32:55.844001",
     "exception": false,
     "start_time": "2022-11-27T12:32:55.818824",
     "status": "completed"
    },
    "tags": []
   },
   "outputs": [],
   "source": [
    "from torch.utils.data import Dataset\n",
    " \n",
    "    \n",
    "class Emotion_Train_Dataset(Dataset):\n",
    "    # 讀取前處理後的 tsv 檔並初始化一些參數\n",
    "    def __init__(self, df, tokenizer, mode):\n",
    "        self.mode = mode\n",
    "        self.df = df\n",
    "        self.len = len(self.df)\n",
    "        self.label_map = {'anger': 0, 'anticipation': 1, 'disgust': 2, 'fear': 3, 'sadness':4, 'surprise': 5, 'trust': 6, 'joy': 7}\n",
    "        self.tokenizer = tokenizer  # 我們將使用 BERT tokenizer\n",
    "    \n",
    "    # 定義回傳一筆訓練 / 測試數據的函式\n",
    "    def __getitem__(self, idx):\n",
    "        if self.mode == \"train\":\n",
    "            text,hashtag, label = self.df.iloc[idx, :].values\n",
    "            text = emoji.demojize(text)\n",
    "            text = text.replace('LH', '')\n",
    "            # 將 label 文字也轉換成索引方便轉換成 tensor\n",
    "            label_id = self.label_map[label]\n",
    "            label_tensor = torch.tensor(label_id)\n",
    "        else:\n",
    "            text,hashtag = self.df.iloc[idx, :2].values\n",
    "            text = emoji.demojize(text)\n",
    "            text = text.replace('LH', '')\n",
    "            label_tensor = None\n",
    "            \n",
    "        \n",
    "        word_pieces = [\"[CLS]\"]\n",
    "        tokens = self.tokenizer.tokenize(text)\n",
    "        word_pieces += tokens[:450] + [\"[SEP]\"]\n",
    "        len_text = len(word_pieces)\n",
    "        \n",
    "        # 將整個 token 序列轉換成索引序列\n",
    "        ids = self.tokenizer.convert_tokens_to_ids(word_pieces)\n",
    "        tokens_tensor = torch.tensor(ids)\n",
    "        return (tokens_tensor, label_tensor)\n",
    "    \n",
    "    def __len__(self):\n",
    "        return self.len\n",
    "    \n",
    "    \n",
    "\n",
    "trainset = Emotion_Train_Dataset(df_train, tokenizer=tokenizer, mode = \"train\")\n",
    "valset = Emotion_Train_Dataset(df_test, tokenizer=tokenizer, mode = \"train\")"
   ]
  },
  {
   "cell_type": "code",
   "execution_count": 18,
   "id": "c278f5db",
   "metadata": {
    "execution": {
     "iopub.execute_input": "2022-11-27T12:32:55.868270Z",
     "iopub.status.busy": "2022-11-27T12:32:55.867987Z",
     "iopub.status.idle": "2022-11-27T12:32:55.891969Z",
     "shell.execute_reply": "2022-11-27T12:32:55.890098Z"
    },
    "papermill": {
     "duration": 0.038569,
     "end_time": "2022-11-27T12:32:55.894440",
     "exception": false,
     "start_time": "2022-11-27T12:32:55.855871",
     "status": "completed"
    },
    "tags": []
   },
   "outputs": [
    {
     "name": "stdout",
     "output_type": "stream",
     "text": [
      "[原始文本]\n",
      "    句子 1：dannymaconline making my hr journey tomorrow to see you as my birthday treat , LH 😀\n",
      "    句子 2：\n",
      "    分類  ：anticipation\n",
      "    --------------------\n",
      "    \n",
      "[原始文本]\n",
      "    句子 1：IddoG I see Gods watching over 😍 LH LH pa'lante....💪👐👐👐👐 juntos✌💞\n",
      "    句子 2：pa\n",
      "    分類  ：anticipation\n",
      "    --------------------\n",
      "    \n",
      "[原始文本]\n",
      "    句子 1：our energy to get up every day and keep on keeping on is based on LH and trust in our maker.\n",
      "    句子 2：maker\n",
      "    分類  ：trust\n",
      "    --------------------\n",
      "    \n",
      "[原始文本]\n",
      "    句子 1：So basically it's a Sopranos/Ge of Thrones mash up, up in that bitch (aka WhiteHouse). Scarucci MakeAmericaTrashAgain LH LH\n",
      "    句子 2：WhiteHouse Scaramucci MakeAmericaTrashAgain\n",
      "    分類  ：disgust\n",
      "    --------------------\n",
      "    \n",
      "[原始文本]\n",
      "    句子 1： The moments in your life are only once Life LH LH LH LH LH LH LH December ,  at \n",
      "    句子 2：Life\n",
      "    分類  ：anticipation\n",
      "    --------------------\n",
      "    \n"
     ]
    }
   ],
   "source": [
    "# 選擇第一個樣本\n",
    "for sample_idx in range (5):\n",
    "    # 將原始文本拿出做比較\n",
    "    text_s, hashtag_s, label_s = trainset.df.iloc[sample_idx].values\n",
    "\n",
    "    # 利用剛剛建立的 Dataset 取出轉換後的 id tensors\n",
    "    tokens_tensor, label_tensor = trainset[sample_idx]\n",
    "\n",
    "    # 將 tokens_tensor 還原成文本\n",
    "    tokens = tokenizer.convert_ids_to_tokens(tokens_tensor.tolist())\n",
    "    combined_text = \" \".join(tokens)\n",
    "\n",
    "    # 渲染前後差異，毫無反應就是個 print。可以直接看輸出結果\n",
    "    print(f\"\"\"[原始文本]\n",
    "    句子 1：{text_s}\n",
    "    句子 2：{hashtag_s}\n",
    "    分類  ：{label_s}\n",
    "    --------------------\n",
    "    \"\"\")"
   ]
  },
  {
   "cell_type": "markdown",
   "id": "20680b97",
   "metadata": {
    "papermill": {
     "duration": 0.01093,
     "end_time": "2022-11-27T12:32:55.916575",
     "exception": false,
     "start_time": "2022-11-27T12:32:55.905645",
     "status": "completed"
    },
    "tags": []
   },
   "source": [
    "## Data Loader"
   ]
  },
  {
   "cell_type": "code",
   "execution_count": 19,
   "id": "0599803f",
   "metadata": {
    "execution": {
     "iopub.execute_input": "2022-11-27T12:32:55.940197Z",
     "iopub.status.busy": "2022-11-27T12:32:55.939403Z",
     "iopub.status.idle": "2022-11-27T12:32:55.943976Z",
     "shell.execute_reply": "2022-11-27T12:32:55.942957Z"
    },
    "papermill": {
     "duration": 0.018587,
     "end_time": "2022-11-27T12:32:55.945993",
     "exception": false,
     "start_time": "2022-11-27T12:32:55.927406",
     "status": "completed"
    },
    "tags": []
   },
   "outputs": [],
   "source": [
    "from torch.utils.data import DataLoader\n",
    "from torch.nn.utils.rnn import pad_sequence\n"
   ]
  },
  {
   "cell_type": "code",
   "execution_count": 20,
   "id": "418de3af",
   "metadata": {
    "execution": {
     "iopub.execute_input": "2022-11-27T12:32:55.969610Z",
     "iopub.status.busy": "2022-11-27T12:32:55.968813Z",
     "iopub.status.idle": "2022-11-27T12:32:55.976229Z",
     "shell.execute_reply": "2022-11-27T12:32:55.975383Z"
    },
    "papermill": {
     "duration": 0.020868,
     "end_time": "2022-11-27T12:32:55.978238",
     "exception": false,
     "start_time": "2022-11-27T12:32:55.957370",
     "status": "completed"
    },
    "tags": []
   },
   "outputs": [],
   "source": [
    "def create_mini_batch(samples):\n",
    "    tokens_tensors = [s[0] for s in samples]\n",
    "    \n",
    "    # 測試集有 labels\n",
    "    if samples[0][1] is not None:\n",
    "        label_ids = torch.stack([s[1] for s in samples])\n",
    "    else:\n",
    "        label_ids = None\n",
    "    \n",
    "    # zero pad 到同一序列長度\n",
    "    \n",
    "    tokens_tensors = pad_sequence(tokens_tensors, \n",
    "                                  batch_first=True)\n",
    "    \n",
    "    # attention masks，將 tokens_tensors 裡頭不為 zero padding\n",
    "    # 的位置設為 1 讓 BERT 只關注這些位置的 tokens\n",
    "    masks_tensors = torch.zeros(tokens_tensors.shape, \n",
    "                                dtype=torch.long)\n",
    "    masks_tensors = masks_tensors.masked_fill(\n",
    "        tokens_tensors != 0, 1)\n",
    "    \n",
    "    return tokens_tensors,masks_tensors, label_ids\n",
    "\n",
    "\n",
    "# 初始化一個每次回傳 16 個訓練樣本的 DataLoader\n",
    "# 利用 `collate_fn` 將 list of samples 合併成一個 mini-batch 是關鍵\n",
    "BATCH_SIZE = 8\n",
    "trainloader = DataLoader(trainset, batch_size=BATCH_SIZE, \n",
    "                         collate_fn=create_mini_batch)\n",
    "valloader = DataLoader(valset, batch_size=BATCH_SIZE, \n",
    "                         collate_fn=create_mini_batch)"
   ]
  },
  {
   "cell_type": "code",
   "execution_count": 21,
   "id": "07578d1a",
   "metadata": {
    "execution": {
     "iopub.execute_input": "2022-11-27T12:32:56.001120Z",
     "iopub.status.busy": "2022-11-27T12:32:56.000504Z",
     "iopub.status.idle": "2022-11-27T12:32:56.024443Z",
     "shell.execute_reply": "2022-11-27T12:32:56.022841Z"
    },
    "papermill": {
     "duration": 0.038964,
     "end_time": "2022-11-27T12:32:56.027798",
     "exception": false,
     "start_time": "2022-11-27T12:32:55.988834",
     "status": "completed"
    },
    "tags": []
   },
   "outputs": [
    {
     "name": "stdout",
     "output_type": "stream",
     "text": [
      "\n",
      "tokens_tensors.shape   = torch.Size([8, 65]) \n",
      "tensor([[  101,  6266, 22911,  2239,  4179,  2437,  2026, 17850,  4990,  4826,\n",
      "          2000,  2156,  2017,  2004,  2026,  5798,  7438,  1010,  1024, 11478,\n",
      "          1035,  2227,  1024,   102,     0,     0,     0,     0,     0,     0,\n",
      "             0,     0,     0,     0,     0,     0,     0,     0,     0,     0,\n",
      "             0,     0,     0,     0,     0,     0,     0,     0,     0,     0,\n",
      "             0,     0,     0,     0,     0,     0,     0,     0,     0,     0,\n",
      "             0,     0,     0,     0,     0],\n",
      "        [  101,  8909, 16168,  1045,  2156,  5932,  3666,  2058,  1024,  5629,\n",
      "          1035,  2227,  1035,  2007,  1035,  2540,  1011,  2159,  1024,  6643,\n",
      "          1005, 17595,  2618,  1012,  1012,  1012,  1012,  1024, 24244,  1035,\n",
      "         27947,  1024,  1024,  2330,  1035,  2398,  1024,  1024,  2330,  1035,\n",
      "          2398,  1024,  1024,  2330,  1035,  2398,  1024,  1024,  2330,  1035,\n",
      "          2398,  1024, 12022, 13122,  1024,  3377,  1035,  2192,  1024,  1024,\n",
      "         24135,  1035,  8072,  1024,   102],\n",
      "        [  101,  2256,  2943,  2000,  2131,  2039,  2296,  2154,  1998,  2562,\n",
      "          2006,  4363,  2006,  2003,  2241,  2006,  1998,  3404,  1999,  2256,\n",
      "          9338,  1012,   102,     0,     0,     0,     0,     0,     0,     0,\n",
      "             0,     0,     0,     0,     0,     0,     0,     0,     0,     0,\n",
      "             0,     0,     0,     0,     0,     0,     0,     0,     0,     0,\n",
      "             0,     0,     0,     0,     0,     0,     0,     0,     0,     0,\n",
      "             0,     0,     0,     0,     0],\n",
      "        [  101,  2061, 10468,  2009,  1005,  1055,  1037, 10430,  2015,  1013,\n",
      "         16216,  1997,  6106,  2015, 16137,  2232,  2039,  1010,  2039,  1999,\n",
      "          2008,  7743,  1006,  9875,  2317,  4580,  1007,  1012, 11228, 16835,\n",
      "          2191, 14074, 14735,  6494,  7377, 23805,  2078,   102,     0,     0,\n",
      "             0,     0,     0,     0,     0,     0,     0,     0,     0,     0,\n",
      "             0,     0,     0,     0,     0,     0,     0,     0,     0,     0,\n",
      "             0,     0,     0,     0,     0],\n",
      "        [  101,  1996,  5312,  1999,  2115,  2166,  2024,  2069,  2320,  2166,\n",
      "          2285,  1010,  2012,   102,     0,     0,     0,     0,     0,     0,\n",
      "             0,     0,     0,     0,     0,     0,     0,     0,     0,     0,\n",
      "             0,     0,     0,     0,     0,     0,     0,     0,     0,     0,\n",
      "             0,     0,     0,     0,     0,     0,     0,     0,     0,     0,\n",
      "             0,     0,     0,     0,     0,     0,     0,     0,     0,     0,\n",
      "             0,     0,     0,     0,     0],\n",
      "        [  101,  1012,  1012,  1012,  1012,  1012,  1012,  1045,  2064,  2102,\n",
      "          2130,  2832,  2054,  1045,  2074,  2657,   102,     0,     0,     0,\n",
      "             0,     0,     0,     0,     0,     0,     0,     0,     0,     0,\n",
      "             0,     0,     0,     0,     0,     0,     0,     0,     0,     0,\n",
      "             0,     0,     0,     0,     0,     0,     0,     0,     0,     0,\n",
      "             0,     0,     0,     0,     0,     0,     0,     0,     0,     0,\n",
      "             0,     0,     0,     0,     0],\n",
      "        [  101, 16380,  2003, 17704,  2757,  1012,   102,     0,     0,     0,\n",
      "             0,     0,     0,     0,     0,     0,     0,     0,     0,     0,\n",
      "             0,     0,     0,     0,     0,     0,     0,     0,     0,     0,\n",
      "             0,     0,     0,     0,     0,     0,     0,     0,     0,     0,\n",
      "             0,     0,     0,     0,     0,     0,     0,     0,     0,     0,\n",
      "             0,     0,     0,     0,     0,     0,     0,     0,     0,     0,\n",
      "             0,     0,     0,     0,     0],\n",
      "        [  101,  2129,  2116,  8135,  2651,  2052,  2552,  1996,  7367,  2004,\n",
      "          5841,  2814,  2106,  2000,  3507,  2040, 11633,  2135,  4076,  1013,\n",
      "         20278,  2130,  1999,  4748, 14028,  3012,  1029,   102,     0,     0,\n",
      "             0,     0,     0,     0,     0,     0,     0,     0,     0,     0,\n",
      "             0,     0,     0,     0,     0,     0,     0,     0,     0,     0,\n",
      "             0,     0,     0,     0,     0,     0,     0,     0,     0,     0,\n",
      "             0,     0,     0,     0,     0]])\n",
      "------------------------\n",
      "\n",
      "------------------------\n",
      "label_ids.shape        = torch.Size([8])\n",
      "tensor([1, 1, 6, 2, 1, 5, 2, 1])\n",
      "\n"
     ]
    }
   ],
   "source": [
    "data = next(iter(trainloader))\n",
    "\n",
    "tokens_tensors, masks_tensors,label_ids = data\n",
    "\n",
    "print(f\"\"\"\n",
    "tokens_tensors.shape   = {tokens_tensors.shape} \n",
    "{tokens_tensors}\n",
    "------------------------\n",
    "\n",
    "------------------------\n",
    "label_ids.shape        = {label_ids.shape}\n",
    "{label_ids}\n",
    "\"\"\")"
   ]
  },
  {
   "cell_type": "code",
   "execution_count": 22,
   "id": "76a5845b",
   "metadata": {
    "execution": {
     "iopub.execute_input": "2022-11-27T12:32:56.051831Z",
     "iopub.status.busy": "2022-11-27T12:32:56.050912Z",
     "iopub.status.idle": "2022-11-27T12:33:14.966179Z",
     "shell.execute_reply": "2022-11-27T12:33:14.964587Z"
    },
    "papermill": {
     "duration": 18.929943,
     "end_time": "2022-11-27T12:33:14.968919",
     "exception": false,
     "start_time": "2022-11-27T12:32:56.038976",
     "status": "completed"
    },
    "tags": []
   },
   "outputs": [],
   "source": [
    "# 載入一個可以做中文多分類任務的模型，n_class = 3\n",
    "from transformers import BertForSequenceClassification\n",
    "\n",
    "PRETRAINED_MODEL_NAME = \"bert-base-uncased\"\n",
    "NUM_LABELS = 8\n",
    "\n",
    "\n",
    "model = BertForSequenceClassification.from_pretrained(\n",
    "    PRETRAINED_MODEL_NAME, num_labels=NUM_LABELS,output_attentions = False,\n",
    "        output_hidden_states = False,\n",
    "        attention_probs_dropout_prob=0.3,\n",
    "        hidden_dropout_prob=0.3)\n",
    "\n",
    "clear_output()\n",
    "\n",
    "# high-level 顯示此模型裡的 modules\n",
    "#print(\"\"\"\n",
    "#name            module\n",
    "#----------------------\"\"\")\n",
    "#for name, module in model.named_children():\n",
    " #   if name == \"bert\":\n",
    "#        for n, _ in module.named_children():\n",
    "#            print(f\"{name}:{n}\")\n",
    "#    else:\n",
    " #       print(\"{:15} {}\".format(name, module))"
   ]
  },
  {
   "cell_type": "code",
   "execution_count": 23,
   "id": "5dd838ee",
   "metadata": {
    "execution": {
     "iopub.execute_input": "2022-11-27T12:33:14.994379Z",
     "iopub.status.busy": "2022-11-27T12:33:14.994029Z",
     "iopub.status.idle": "2022-11-27T12:33:15.001664Z",
     "shell.execute_reply": "2022-11-27T12:33:15.000656Z"
    },
    "papermill": {
     "duration": 0.022599,
     "end_time": "2022-11-27T12:33:15.003674",
     "exception": false,
     "start_time": "2022-11-27T12:33:14.981075",
     "status": "completed"
    },
    "tags": []
   },
   "outputs": [
    {
     "data": {
      "text/plain": [
       "BertConfig {\n",
       "  \"_name_or_path\": \"bert-base-uncased\",\n",
       "  \"architectures\": [\n",
       "    \"BertForMaskedLM\"\n",
       "  ],\n",
       "  \"attention_probs_dropout_prob\": 0.3,\n",
       "  \"classifier_dropout\": null,\n",
       "  \"gradient_checkpointing\": false,\n",
       "  \"hidden_act\": \"gelu\",\n",
       "  \"hidden_dropout_prob\": 0.3,\n",
       "  \"hidden_size\": 768,\n",
       "  \"id2label\": {\n",
       "    \"0\": \"LABEL_0\",\n",
       "    \"1\": \"LABEL_1\",\n",
       "    \"2\": \"LABEL_2\",\n",
       "    \"3\": \"LABEL_3\",\n",
       "    \"4\": \"LABEL_4\",\n",
       "    \"5\": \"LABEL_5\",\n",
       "    \"6\": \"LABEL_6\",\n",
       "    \"7\": \"LABEL_7\"\n",
       "  },\n",
       "  \"initializer_range\": 0.02,\n",
       "  \"intermediate_size\": 3072,\n",
       "  \"label2id\": {\n",
       "    \"LABEL_0\": 0,\n",
       "    \"LABEL_1\": 1,\n",
       "    \"LABEL_2\": 2,\n",
       "    \"LABEL_3\": 3,\n",
       "    \"LABEL_4\": 4,\n",
       "    \"LABEL_5\": 5,\n",
       "    \"LABEL_6\": 6,\n",
       "    \"LABEL_7\": 7\n",
       "  },\n",
       "  \"layer_norm_eps\": 1e-12,\n",
       "  \"max_position_embeddings\": 512,\n",
       "  \"model_type\": \"bert\",\n",
       "  \"num_attention_heads\": 12,\n",
       "  \"num_hidden_layers\": 12,\n",
       "  \"pad_token_id\": 0,\n",
       "  \"position_embedding_type\": \"absolute\",\n",
       "  \"transformers_version\": \"4.20.1\",\n",
       "  \"type_vocab_size\": 2,\n",
       "  \"use_cache\": true,\n",
       "  \"vocab_size\": 30522\n",
       "}"
      ]
     },
     "execution_count": 23,
     "metadata": {},
     "output_type": "execute_result"
    }
   ],
   "source": [
    "model.config"
   ]
  },
  {
   "cell_type": "code",
   "execution_count": 24,
   "id": "5fb88756",
   "metadata": {
    "execution": {
     "iopub.execute_input": "2022-11-27T12:33:15.029128Z",
     "iopub.status.busy": "2022-11-27T12:33:15.027305Z",
     "iopub.status.idle": "2022-11-27T12:33:18.332975Z",
     "shell.execute_reply": "2022-11-27T12:33:18.331949Z"
    },
    "papermill": {
     "duration": 3.320604,
     "end_time": "2022-11-27T12:33:18.335410",
     "exception": false,
     "start_time": "2022-11-27T12:33:15.014806",
     "status": "completed"
    },
    "tags": []
   },
   "outputs": [
    {
     "name": "stdout",
     "output_type": "stream",
     "text": [
      "device: cuda:0\n"
     ]
    }
   ],
   "source": [
    "def get_predictions(model, dataloader, compute_acc=False):\n",
    "    predictions = None\n",
    "    correct = 0\n",
    "    total = 0\n",
    "      \n",
    "    with torch.no_grad():\n",
    "        # 遍巡整個資料集\n",
    "        for data in dataloader:\n",
    "            # 將所有 tensors 移到 GPU 上\n",
    "            if next(model.parameters()).is_cuda:\n",
    "                data = [t.to(\"cuda:0\") for t in data if t is not None]\n",
    "            \n",
    "            #data = token_tensor, mask_tensor, label_ids\n",
    "            # 別忘記前 3 個 tensors 分別為 tokens, segments 以及 masks\n",
    "            # 且強烈建議在將這些 tensors 丟入 `model` 時指定對應的參數名稱\n",
    "            tokens_tensors, masks_tensors = data[:2] \n",
    "            outputs = model(input_ids=tokens_tensors,  \n",
    "                            attention_mask=masks_tensors)\n",
    "            \n",
    "            logits = outputs[0]\n",
    "            _, pred = torch.max(logits.data, 1)\n",
    "            \n",
    "            # 用來計算訓練集的分類準確率\n",
    "            if compute_acc:\n",
    "                labels = data[2]\n",
    "                total += labels.size(0)\n",
    "                correct += (pred == labels).sum().item()\n",
    "                \n",
    "            # 將當前 batch 記錄下來\n",
    "            if predictions is None:\n",
    "                predictions = pred\n",
    "            else:\n",
    "                predictions = torch.cat((predictions, pred))\n",
    "    \n",
    "    if compute_acc:\n",
    "        acc = correct / total\n",
    "        return predictions, acc\n",
    "    return predictions\n",
    "    \n",
    "# 讓模型跑在 GPU 上並取得訓練集的分類準確率\n",
    "\n",
    "device = torch.device(\"cuda:0\" if torch.cuda.is_available() else \"cpu\")\n",
    "print(\"device:\", device)\n",
    "model = model.to(device)\n",
    "\n",
    "#_, acc = get_predictions(model, trainloader, compute_acc=True)\n",
    "#print(\"classification acc:\", acc)"
   ]
  },
  {
   "cell_type": "code",
   "execution_count": 25,
   "id": "15636b6a",
   "metadata": {
    "execution": {
     "iopub.execute_input": "2022-11-27T12:33:18.359378Z",
     "iopub.status.busy": "2022-11-27T12:33:18.359017Z",
     "iopub.status.idle": "2022-11-27T12:33:18.364087Z",
     "shell.execute_reply": "2022-11-27T12:33:18.363114Z"
    },
    "papermill": {
     "duration": 0.019359,
     "end_time": "2022-11-27T12:33:18.366192",
     "exception": false,
     "start_time": "2022-11-27T12:33:18.346833",
     "status": "completed"
    },
    "tags": []
   },
   "outputs": [],
   "source": [
    "history = pd.DataFrame()\n"
   ]
  },
  {
   "cell_type": "markdown",
   "id": "8bcdcd08",
   "metadata": {
    "papermill": {
     "duration": 0.010613,
     "end_time": "2022-11-27T12:33:18.387851",
     "exception": false,
     "start_time": "2022-11-27T12:33:18.377238",
     "status": "completed"
    },
    "tags": []
   },
   "source": [
    "## Train"
   ]
  },
  {
   "cell_type": "code",
   "execution_count": 26,
   "id": "a2940000",
   "metadata": {
    "execution": {
     "iopub.execute_input": "2022-11-27T12:33:18.412441Z",
     "iopub.status.busy": "2022-11-27T12:33:18.411563Z",
     "iopub.status.idle": "2022-11-27T12:51:42.746761Z",
     "shell.execute_reply": "2022-11-27T12:51:42.745430Z"
    },
    "papermill": {
     "duration": 1104.368887,
     "end_time": "2022-11-27T12:51:42.768387",
     "exception": false,
     "start_time": "2022-11-27T12:33:18.399500",
     "status": "completed"
    },
    "tags": []
   },
   "outputs": [
    {
     "name": "stdout",
     "output_type": "stream",
     "text": [
      "[epoch 1] loss: 2150.495, acc: 0.436\n",
      "[epoch 2] loss: 1918.899, acc: 0.454\n",
      "[epoch 3] loss: 1793.892, acc: 0.467\n",
      "[epoch 4] loss: 1699.067, acc: 0.493\n",
      "[epoch 5] loss: 1587.791, acc: 0.496\n",
      "[epoch 6] loss: 1485.399, acc: 0.499\n",
      "CPU times: user 16min 18s, sys: 1min 56s, total: 18min 14s\n",
      "Wall time: 18min 24s\n"
     ]
    }
   ],
   "source": [
    "%%time\n",
    "\n",
    "\n",
    "# 訓練模式\n",
    "model.train()\n",
    "\n",
    "# 使用 Adam Optim 更新整個分類模型的參數\n",
    "optimizer = torch.optim.Adam(model.parameters(), lr=1e-5)\n",
    "\n",
    "\n",
    "EPOCHS = 6  \n",
    "for epoch in range(EPOCHS):\n",
    "    \n",
    "    running_loss = 0.0\n",
    "    for data in trainloader:\n",
    "        \n",
    "        tokens_tensors,  \\\n",
    "        masks_tensors, labels = [t.to(device) for t in data]\n",
    "\n",
    "        # 將參數梯度歸零\n",
    "        optimizer.zero_grad()\n",
    "        \n",
    "        # forward pass\n",
    "        outputs = model(input_ids=tokens_tensors,\n",
    "                        attention_mask=masks_tensors, \n",
    "                        labels=labels)\n",
    "\n",
    "        loss = outputs[0]\n",
    "        # backward\n",
    "        loss.backward()\n",
    "        optimizer.step()\n",
    "\n",
    "\n",
    "        # 紀錄當前 batch loss\n",
    "        running_loss += loss.item()\n",
    "        \n",
    "    # 計算分類準確率\n",
    "    #torch.save(model.state_dict(), './model{0}.pkl'.format(epoch))\n",
    "    _, acc = get_predictions(model, valloader, compute_acc=True)\n",
    "    _, acc_train = get_predictions(model, trainloader, compute_acc=True)\n",
    "    print('[epoch %d] loss: %.3f, acc: %.3f' %\n",
    "          (epoch + 1, running_loss, acc))\n",
    "    new_row = {'epoch':epoch + 1, 'loss':running_loss, 'val_accuracy': acc, 'train_accuracy': acc_train }\n",
    "    #append row to the dataframe\n",
    "    history = history.append(new_row, ignore_index=True)"
   ]
  },
  {
   "cell_type": "markdown",
   "id": "ff6927a4",
   "metadata": {
    "papermill": {
     "duration": 0.01619,
     "end_time": "2022-11-27T12:51:42.802179",
     "exception": false,
     "start_time": "2022-11-27T12:51:42.785989",
     "status": "completed"
    },
    "tags": []
   },
   "source": [
    "## Plot training process"
   ]
  },
  {
   "cell_type": "code",
   "execution_count": 27,
   "id": "a6621782",
   "metadata": {
    "execution": {
     "iopub.execute_input": "2022-11-27T12:51:42.837200Z",
     "iopub.status.busy": "2022-11-27T12:51:42.836710Z",
     "iopub.status.idle": "2022-11-27T12:51:43.126467Z",
     "shell.execute_reply": "2022-11-27T12:51:43.125547Z"
    },
    "papermill": {
     "duration": 0.309977,
     "end_time": "2022-11-27T12:51:43.128594",
     "exception": false,
     "start_time": "2022-11-27T12:51:42.818617",
     "status": "completed"
    },
    "tags": []
   },
   "outputs": [
    {
     "data": {
      "image/png": "[encoded data removed]",
      "text/plain": [
       "<Figure size 432x288 with 1 Axes>"
      ]
     },
     "metadata": {
      "needs_background": "light"
     },
     "output_type": "display_data"
    }
   ],
   "source": [
    "from matplotlib import pyplot as plt\n",
    "plt.plot(history.epoch, history.train_accuracy, color='blue', linewidth=\"2\", label= 'train_accuracy')\n",
    "plt.plot(history.epoch, history.val_accuracy, color='red', linewidth=\"2\", label= 'val_accuracy')\n",
    "plt.xlabel('Epochs', fontsize = \"13\")\n",
    "plt.ylabel('Accuracy', fontsize = \"13\")\n",
    "plt.title('model accuracy')\n",
    "plt.legend()\n",
    "plt.show()"
   ]
  },
  {
   "cell_type": "markdown",
   "id": "7500afe9",
   "metadata": {
    "papermill": {
     "duration": 0.01142,
     "end_time": "2022-11-27T12:51:43.151972",
     "exception": false,
     "start_time": "2022-11-27T12:51:43.140552",
     "status": "completed"
    },
    "tags": []
   },
   "source": [
    "## Model Prediction"
   ]
  },
  {
   "cell_type": "code",
   "execution_count": 28,
   "id": "19fa7a2b",
   "metadata": {
    "execution": {
     "iopub.execute_input": "2022-11-27T12:51:43.178046Z",
     "iopub.status.busy": "2022-11-27T12:51:43.176451Z",
     "iopub.status.idle": "2022-11-27T12:51:48.271773Z",
     "shell.execute_reply": "2022-11-27T12:51:48.270695Z"
    },
    "papermill": {
     "duration": 5.11054,
     "end_time": "2022-11-27T12:51:48.274103",
     "exception": false,
     "start_time": "2022-11-27T12:51:43.163563",
     "status": "completed"
    },
    "tags": []
   },
   "outputs": [
    {
     "name": "stdout",
     "output_type": "stream",
     "text": [
      "classification acc: 0.6298076923076923\n"
     ]
    }
   ],
   "source": [
    "model.eval()\n",
    "\n",
    "from sklearn.metrics import confusion_matrix\n",
    "\n",
    "\n",
    "SAMPLE_FRAC = 0.1\n",
    "\n",
    "df_train = train_df.sample(frac=SAMPLE_FRAC, random_state=1)\n",
    "max(df_train.text.apply(lambda x : len(x)))\n",
    "trainset = Emotion_Train_Dataset(df_train, tokenizer=tokenizer, mode = \"train\")\n",
    "trainloader = DataLoader(trainset, batch_size=BATCH_SIZE, \n",
    "                          collate_fn=create_mini_batch)\n",
    "_, acc = get_predictions(model, trainloader, compute_acc=True)\n",
    "print(\"classification acc:\", acc)"
   ]
  },
  {
   "cell_type": "code",
   "execution_count": 29,
   "id": "f2cad6b4",
   "metadata": {
    "execution": {
     "iopub.execute_input": "2022-11-27T12:51:48.303606Z",
     "iopub.status.busy": "2022-11-27T12:51:48.303115Z",
     "iopub.status.idle": "2022-11-27T12:51:52.744372Z",
     "shell.execute_reply": "2022-11-27T12:51:52.742960Z"
    },
    "papermill": {
     "duration": 4.460056,
     "end_time": "2022-11-27T12:51:52.747689",
     "exception": false,
     "start_time": "2022-11-27T12:51:48.287633",
     "status": "completed"
    },
    "tags": []
   },
   "outputs": [
    {
     "name": "stdout",
     "output_type": "stream",
     "text": [
      "[[ 11   4   8   4  10   8   2   1]\n",
      " [  1 163   6   6  37   7   0  14]\n",
      " [ 11   5  69   2  11  38   1   1]\n",
      " [  1  10   0  27  14   3   0   5]\n",
      " [  1  43   5   6 428   6   1  39]\n",
      " [  3  14  20   7  29 113   2   4]\n",
      " [  2   3   5  14  15   9   1   1]\n",
      " [  0  22   3   0  71   4   0 105]]\n",
      "classification acc: 0.6298076923076923\n"
     ]
    }
   ],
   "source": [
    "predictions = get_predictions(model, trainloader)\n",
    "index_map = {v: k for k, v in trainset.label_map.items()}\n",
    "df = pd.DataFrame({\"emotion\": predictions.tolist()})\n",
    "df['emotion'] = df.emotion.apply(lambda x: index_map[x])\n",
    "#print(df_train.emotion)\n",
    "cm = confusion_matrix(y_true = df_train.emotion, y_pred = df.emotion)\n",
    "print(cm)\n",
    "print(\"classification acc:\", acc)"
   ]
  },
  {
   "cell_type": "code",
   "execution_count": 30,
   "id": "5581c123",
   "metadata": {
    "execution": {
     "iopub.execute_input": "2022-11-27T12:51:52.776040Z",
     "iopub.status.busy": "2022-11-27T12:51:52.775099Z",
     "iopub.status.idle": "2022-11-27T12:51:53.505495Z",
     "shell.execute_reply": "2022-11-27T12:51:53.504299Z"
    },
    "papermill": {
     "duration": 0.747375,
     "end_time": "2022-11-27T12:51:53.508710",
     "exception": false,
     "start_time": "2022-11-27T12:51:52.761335",
     "status": "completed"
    },
    "tags": []
   },
   "outputs": [
    {
     "data": {
      "image/png": "[encoded data removed]",
      "text/plain": [
       "<Figure size 360x360 with 2 Axes>"
      ]
     },
     "metadata": {
      "needs_background": "light"
     },
     "output_type": "display_data"
    }
   ],
   "source": [
    "# Funciton for visualizing confusion_matrix\n",
    "import matplotlib.pyplot as plt\n",
    "import seaborn as sns\n",
    "import numpy as np\n",
    "import itertools\n",
    "\n",
    "def plot_confusion_matrix(cm, classes, title='Confusion matrix',\n",
    "                          cmap=sns.cubehelix_palette(as_cmap=True)):\n",
    "    \"\"\"\n",
    "    This function is modified from: \n",
    "    http://scikit-learn.org/stable/auto_examples/model_selection/plot_confusion_matrix.html\n",
    "    \"\"\"\n",
    "    classes.sort()\n",
    "    tick_marks = np.arange(len(classes))    \n",
    "    \n",
    "    fig, ax = plt.subplots(figsize=(5,5))\n",
    "    im = ax.imshow(cm, interpolation='nearest', cmap=cmap)\n",
    "    ax.figure.colorbar(im, ax=ax)\n",
    "    ax.set(xticks=np.arange(cm.shape[1]),\n",
    "           yticks=np.arange(cm.shape[0]),\n",
    "           xticklabels = classes,\n",
    "           yticklabels = classes,\n",
    "           title = title,\n",
    "           xlabel = 'True label',\n",
    "           ylabel = 'Predicted label')\n",
    "    ax.set_xticklabels(classes, rotation=90)\n",
    "\n",
    "    fmt = 'd'\n",
    "    thresh = cm.max() / 2.\n",
    "    for i, j in itertools.product(range(cm.shape[0]), range(cm.shape[1])):\n",
    "        plt.text(j, i, format(cm[i, j], fmt), horizontalalignment=\"center\", color=\"white\" if cm[i, j] > thresh else \"black\")\n",
    "    ylim_top = len(classes) - 0.5\n",
    "    plt.ylim([ylim_top, -.5])\n",
    "    plt.tight_layout()\n",
    "    plt.show()\n",
    "    \n",
    "# plot your confusion matrix\n",
    "my_tags = ['anger', 'anticipation', 'disgust', 'fear', 'sadness', 'surprise', 'trust', 'joy']\n",
    "plot_confusion_matrix(cm, classes=my_tags, title='Confusion matrix')"
   ]
  },
  {
   "cell_type": "markdown",
   "id": "6631327f",
   "metadata": {
    "papermill": {
     "duration": 0.019281,
     "end_time": "2022-11-27T12:51:53.549894",
     "exception": false,
     "start_time": "2022-11-27T12:51:53.530613",
     "status": "completed"
    },
    "tags": []
   },
   "source": [
    "## Testset"
   ]
  },
  {
   "cell_type": "code",
   "execution_count": 31,
   "id": "6c7b5c50",
   "metadata": {
    "execution": {
     "iopub.execute_input": "2022-11-27T12:51:53.587799Z",
     "iopub.status.busy": "2022-11-27T12:51:53.587390Z",
     "iopub.status.idle": "2022-11-27T12:51:57.593970Z",
     "shell.execute_reply": "2022-11-27T12:51:57.592950Z"
    },
    "papermill": {
     "duration": 4.028502,
     "end_time": "2022-11-27T12:51:57.596337",
     "exception": false,
     "start_time": "2022-11-27T12:51:53.567835",
     "status": "completed"
    },
    "tags": []
   },
   "outputs": [],
   "source": [
    "df_whole = pd.merge(tweet_df, identification_df)"
   ]
  },
  {
   "cell_type": "code",
   "execution_count": 32,
   "id": "7fd330ef",
   "metadata": {
    "execution": {
     "iopub.execute_input": "2022-11-27T12:51:57.623650Z",
     "iopub.status.busy": "2022-11-27T12:51:57.623323Z",
     "iopub.status.idle": "2022-11-27T12:52:15.019182Z",
     "shell.execute_reply": "2022-11-27T12:52:15.018158Z"
    },
    "papermill": {
     "duration": 17.412494,
     "end_time": "2022-11-27T12:52:15.021671",
     "exception": false,
     "start_time": "2022-11-27T12:51:57.609177",
     "status": "completed"
    },
    "tags": []
   },
   "outputs": [
    {
     "data": {
      "text/html": [
       "<div>\n",
       "<style scoped>\n",
       "    .dataframe tbody tr th:only-of-type {\n",
       "        vertical-align: middle;\n",
       "    }\n",
       "\n",
       "    .dataframe tbody tr th {\n",
       "        vertical-align: top;\n",
       "    }\n",
       "\n",
       "    .dataframe thead th {\n",
       "        text-align: right;\n",
       "    }\n",
       "</style>\n",
       "<table border=\"1\" class=\"dataframe\">\n",
       "  <thead>\n",
       "    <tr style=\"text-align: right;\">\n",
       "      <th></th>\n",
       "      <th>tweet_id</th>\n",
       "      <th>text</th>\n",
       "      <th>hashtag</th>\n",
       "      <th>identification</th>\n",
       "    </tr>\n",
       "  </thead>\n",
       "  <tbody>\n",
       "    <tr>\n",
       "      <th>0</th>\n",
       "      <td>0x28b412</td>\n",
       "      <td>Confident of your obedience, I write to you, k...</td>\n",
       "      <td>bibleverse</td>\n",
       "      <td>test</td>\n",
       "    </tr>\n",
       "    <tr>\n",
       "      <th>1</th>\n",
       "      <td>0x2de201</td>\n",
       "      <td>\"Trust is not the se as faith. A friend is som...</td>\n",
       "      <td></td>\n",
       "      <td>test</td>\n",
       "    </tr>\n",
       "    <tr>\n",
       "      <th>2</th>\n",
       "      <td>0x218443</td>\n",
       "      <td>When do you have enough ? When are you satisfi...</td>\n",
       "      <td>materialism money possessions</td>\n",
       "      <td>test</td>\n",
       "    </tr>\n",
       "    <tr>\n",
       "      <th>3</th>\n",
       "      <td>0x2939d5</td>\n",
       "      <td>God woke you up, now chase the day GodsPlan Go...</td>\n",
       "      <td>GodsPlan GodsWork</td>\n",
       "      <td>test</td>\n",
       "    </tr>\n",
       "    <tr>\n",
       "      <th>4</th>\n",
       "      <td>0x26289a</td>\n",
       "      <td>In these tough times, who do YOU turn to as yo...</td>\n",
       "      <td></td>\n",
       "      <td>test</td>\n",
       "    </tr>\n",
       "    <tr>\n",
       "      <th>...</th>\n",
       "      <td>...</td>\n",
       "      <td>...</td>\n",
       "      <td>...</td>\n",
       "      <td>...</td>\n",
       "    </tr>\n",
       "    <tr>\n",
       "      <th>411967</th>\n",
       "      <td>0x2913b4</td>\n",
       "      <td>\"For this is the message that ye heard from th...</td>\n",
       "      <td></td>\n",
       "      <td>test</td>\n",
       "    </tr>\n",
       "    <tr>\n",
       "      <th>411968</th>\n",
       "      <td>0x2a980e</td>\n",
       "      <td>\"There is a lad here, which hath five barley l...</td>\n",
       "      <td></td>\n",
       "      <td>test</td>\n",
       "    </tr>\n",
       "    <tr>\n",
       "      <th>411969</th>\n",
       "      <td>0x316b80</td>\n",
       "      <td>When you buy the last  tickets remaining for a...</td>\n",
       "      <td>mixedfeeling butimTHATperson</td>\n",
       "      <td>test</td>\n",
       "    </tr>\n",
       "    <tr>\n",
       "      <th>411970</th>\n",
       "      <td>0x29d0cb</td>\n",
       "      <td>I swear all this hard work gone pay off one da...</td>\n",
       "      <td></td>\n",
       "      <td>test</td>\n",
       "    </tr>\n",
       "    <tr>\n",
       "      <th>411971</th>\n",
       "      <td>0x2a6a4f</td>\n",
       "      <td>ParcelGo no card left when I wasn't in so I ha...</td>\n",
       "      <td></td>\n",
       "      <td>test</td>\n",
       "    </tr>\n",
       "  </tbody>\n",
       "</table>\n",
       "<p>411972 rows × 4 columns</p>\n",
       "</div>"
      ],
      "text/plain": [
       "        tweet_id                                               text  \\\n",
       "0       0x28b412  Confident of your obedience, I write to you, k...   \n",
       "1       0x2de201  \"Trust is not the se as faith. A friend is som...   \n",
       "2       0x218443  When do you have enough ? When are you satisfi...   \n",
       "3       0x2939d5  God woke you up, now chase the day GodsPlan Go...   \n",
       "4       0x26289a  In these tough times, who do YOU turn to as yo...   \n",
       "...          ...                                                ...   \n",
       "411967  0x2913b4  \"For this is the message that ye heard from th...   \n",
       "411968  0x2a980e  \"There is a lad here, which hath five barley l...   \n",
       "411969  0x316b80  When you buy the last  tickets remaining for a...   \n",
       "411970  0x29d0cb  I swear all this hard work gone pay off one da...   \n",
       "411971  0x2a6a4f  ParcelGo no card left when I wasn't in so I ha...   \n",
       "\n",
       "                              hashtag identification  \n",
       "0                          bibleverse           test  \n",
       "1                                               test  \n",
       "2       materialism money possessions           test  \n",
       "3                   GodsPlan GodsWork           test  \n",
       "4                                               test  \n",
       "...                               ...            ...  \n",
       "411967                                          test  \n",
       "411968                                          test  \n",
       "411969   mixedfeeling butimTHATperson           test  \n",
       "411970                                          test  \n",
       "411971                                          test  \n",
       "\n",
       "[411972 rows x 4 columns]"
      ]
     },
     "execution_count": 32,
     "metadata": {},
     "output_type": "execute_result"
    }
   ],
   "source": [
    "df_test = df_whole[(df_whole['identification'] == 'test')]\n",
    "dftest_id = df_test.tweet_id\n",
    "dftest_id = dftest_id.reset_index()\n",
    "df_test = df_test.reset_index()\n",
    "dftest_id.drop('index', inplace=True, axis=1)\n",
    "df_test.drop('index', inplace=True, axis=1)\n",
    "df_test.text = df_test.text.apply(lambda x: re.sub('|<|>|@|#|0|1|2|3|4|5|6|7|8|9', '', x))\n",
    "df_test.text = df_test.text.apply(lambda x: re.sub('|:|pm|am|AM|PM', '', x))\n",
    "df_test"
   ]
  },
  {
   "cell_type": "code",
   "execution_count": 33,
   "id": "b2e11ef0",
   "metadata": {
    "execution": {
     "iopub.execute_input": "2022-11-27T12:52:15.048985Z",
     "iopub.status.busy": "2022-11-27T12:52:15.048011Z",
     "iopub.status.idle": "2022-11-27T12:52:15.126060Z",
     "shell.execute_reply": "2022-11-27T12:52:15.124996Z"
    },
    "papermill": {
     "duration": 0.094408,
     "end_time": "2022-11-27T12:52:15.129122",
     "exception": false,
     "start_time": "2022-11-27T12:52:15.034714",
     "status": "completed"
    },
    "tags": []
   },
   "outputs": [],
   "source": [
    "df_test.drop('tweet_id', inplace=True, axis=1)\n",
    "df_test.drop('identification', inplace=True, axis=1)"
   ]
  },
  {
   "cell_type": "code",
   "execution_count": 34,
   "id": "ac97c11a",
   "metadata": {
    "execution": {
     "iopub.execute_input": "2022-11-27T12:52:15.159661Z",
     "iopub.status.busy": "2022-11-27T12:52:15.159316Z",
     "iopub.status.idle": "2022-11-27T12:52:24.376210Z",
     "shell.execute_reply": "2022-11-27T12:52:24.375209Z"
    },
    "papermill": {
     "duration": 9.234418,
     "end_time": "2022-11-27T12:52:24.378398",
     "exception": false,
     "start_time": "2022-11-27T12:52:15.143980",
     "status": "completed"
    },
    "tags": []
   },
   "outputs": [
    {
     "data": {
      "text/plain": [
       "246"
      ]
     },
     "execution_count": 34,
     "metadata": {},
     "output_type": "execute_result"
    }
   ],
   "source": [
    "df_test.text.apply(lambda x: re.sub('|<|>|@|#|', '', x))\n",
    "max(df_test.text.apply(lambda x : len(x)))"
   ]
  },
  {
   "cell_type": "code",
   "execution_count": 35,
   "id": "a1e028bf",
   "metadata": {
    "execution": {
     "iopub.execute_input": "2022-11-27T12:52:24.406317Z",
     "iopub.status.busy": "2022-11-27T12:52:24.405940Z",
     "iopub.status.idle": "2022-11-27T12:52:24.411080Z",
     "shell.execute_reply": "2022-11-27T12:52:24.410036Z"
    },
    "papermill": {
     "duration": 0.021721,
     "end_time": "2022-11-27T12:52:24.413346",
     "exception": false,
     "start_time": "2022-11-27T12:52:24.391625",
     "status": "completed"
    },
    "tags": []
   },
   "outputs": [],
   "source": [
    "testset = Emotion_Train_Dataset(df_test, tokenizer=tokenizer, mode = \"test\")"
   ]
  },
  {
   "cell_type": "code",
   "execution_count": 36,
   "id": "f3b5677d",
   "metadata": {
    "execution": {
     "iopub.execute_input": "2022-11-27T12:52:24.441224Z",
     "iopub.status.busy": "2022-11-27T12:52:24.440234Z",
     "iopub.status.idle": "2022-11-27T12:52:24.445764Z",
     "shell.execute_reply": "2022-11-27T12:52:24.444844Z"
    },
    "papermill": {
     "duration": 0.021604,
     "end_time": "2022-11-27T12:52:24.447894",
     "exception": false,
     "start_time": "2022-11-27T12:52:24.426290",
     "status": "completed"
    },
    "tags": []
   },
   "outputs": [],
   "source": [
    "testloader = DataLoader(testset, batch_size=16, \n",
    "                        collate_fn=create_mini_batch)"
   ]
  },
  {
   "cell_type": "code",
   "execution_count": 37,
   "id": "bf6ed979",
   "metadata": {
    "execution": {
     "iopub.execute_input": "2022-11-27T12:52:24.475586Z",
     "iopub.status.busy": "2022-11-27T12:52:24.474702Z",
     "iopub.status.idle": "2022-11-27T12:52:24.504144Z",
     "shell.execute_reply": "2022-11-27T12:52:24.500231Z"
    },
    "papermill": {
     "duration": 0.045772,
     "end_time": "2022-11-27T12:52:24.506562",
     "exception": false,
     "start_time": "2022-11-27T12:52:24.460790",
     "status": "completed"
    },
    "tags": []
   },
   "outputs": [
    {
     "name": "stdout",
     "output_type": "stream",
     "text": [
      "\n",
      "tokens_tensors.shape   = torch.Size([16, 53]) \n",
      "tensor([[  101,  9657,  1997,  2115, 22645,  1010,  1045,  4339,  2000,  2017,\n",
      "          1010,  4209,  2008,  2017,  2097,  2079,  2130,  2062,  2084,  1045,\n",
      "          3198,  1012,  1006,  6316, 26941,  1007,  1013,  6331, 16070,   102,\n",
      "             0,     0,     0,     0,     0,     0,     0,     0,     0,     0,\n",
      "             0,     0,     0,     0,     0,     0,     0,     0,     0,     0,\n",
      "             0,     0,     0],\n",
      "        [  101,  1000,  3404,  2003,  2025,  1996,  7367,  2004,  4752,  1012,\n",
      "          1037,  2767,  2003,  2619,  2017,  3404,  1012,  5128,  4752,  1999,\n",
      "          3087,  2003,  1037,  6707,  1012,  1000,  1066,  5696, 27738,  6132,\n",
      "           102,     0,     0,     0,     0,     0,     0,     0,     0,     0,\n",
      "             0,     0,     0,     0,     0,     0,     0,     0,     0,     0,\n",
      "             0,     0,     0],\n",
      "        [  101,  2043,  2079,  2017,  2031,  2438,  1029,  2043,  2024,  2017,\n",
      "          8510,  1029,  2003,  2017,  3125,  2428,  2035,  2055,  2769,  1029,\n",
      "          3430,  2964,  2769, 13689,   102,     0,     0,     0,     0,     0,\n",
      "             0,     0,     0,     0,     0,     0,     0,     0,     0,     0,\n",
      "             0,     0,     0,     0,     0,     0,     0,     0,     0,     0,\n",
      "             0,     0,     0],\n",
      "        [  101,  2643,  8271,  2017,  2039,  1010,  2085,  5252,  1996,  2154,\n",
      "          5932, 24759,  2319,  5932,  6198,   102,     0,     0,     0,     0,\n",
      "             0,     0,     0,     0,     0,     0,     0,     0,     0,     0,\n",
      "             0,     0,     0,     0,     0,     0,     0,     0,     0,     0,\n",
      "             0,     0,     0,     0,     0,     0,     0,     0,     0,     0,\n",
      "             0,     0,     0],\n",
      "        [  101,  1999,  2122,  7823,  2335,  1010,  2040,  2079,  2017,  2735,\n",
      "          2000,  2004,  2115,  6454,  1997,  3246,  1029,   102,     0,     0,\n",
      "             0,     0,     0,     0,     0,     0,     0,     0,     0,     0,\n",
      "             0,     0,     0,     0,     0,     0,     0,     0,     0,     0,\n",
      "             0,     0,     0,     0,     0,     0,     0,     0,     0,     0,\n",
      "             0,     0,     0],\n",
      "        [  101,  4332,  2041,  2017,  2064, 17614,  2111,  2011,  2037,  6151,\n",
      "          3111,  1012,   102,     0,     0,     0,     0,     0,     0,     0,\n",
      "             0,     0,     0,     0,     0,     0,     0,     0,     0,     0,\n",
      "             0,     0,     0,     0,     0,     0,     0,     0,     0,     0,\n",
      "             0,     0,     0,     0,     0,     0,     0,     0,     0,     0,\n",
      "             0,     0,     0],\n",
      "        [  101,  1045,  2066,  2129, 10974,  8159,  2015, 20565,  1010,  8600,\n",
      "          1010,  1998,  1996,  9019,  6424,  2031,  2000,  5376,  2046,  2673,\n",
      "          1012,  2016,  2064,  1521,  1056,  5047,  2505,  2841,  1012, 18304,\n",
      "           102,     0,     0,     0,     0,     0,     0,     0,     0,     0,\n",
      "             0,     0,     0,     0,     0,     0,     0,     0,     0,     0,\n",
      "             0,     0,     0],\n",
      "        [  101,  1045,  2074,  2293,  2009,  2043,  2296,  2309,  2028,  1997,\n",
      "          2026,  2774,  2074,  3972, 12870,  3209,  1012,  1012,  1024, 13433,\n",
      "         20807,  1035,  2227,  1024,  1024, 14477,  7606,  2098,  1035,  2227,\n",
      "          1024,  2023,  2003,  1996, 16428,  2335,  2023,  2038,  3047,   999,\n",
      "          2025, 13901,   102,     0,     0,     0,     0,     0,     0,     0,\n",
      "             0,     0,     0],\n",
      "        [  101,  7628,  8661,  2043,  2064,  2057,  5987,  1037,  2161,  1997,\n",
      "          8958,  5638, 18259, 21709,  5886,  1045,  2228,  2008,  2052,  2022,\n",
      "           102,     0,     0,     0,     0,     0,     0,     0,     0,     0,\n",
      "             0,     0,     0,     0,     0,     0,     0,     0,     0,     0,\n",
      "             0,     0,     0,     0,     0,     0,     0,     0,     0,     0,\n",
      "             0,     0,     0],\n",
      "        [  101, 26419,  2232,  1012,  9038, 13403,  2062,  2084,  9085,  2006,\n",
      "          1037, 23853,   102,     0,     0,     0,     0,     0,     0,     0,\n",
      "             0,     0,     0,     0,     0,     0,     0,     0,     0,     0,\n",
      "             0,     0,     0,     0,     0,     0,     0,     0,     0,     0,\n",
      "             0,     0,     0,     0,     0,     0,     0,     0,     0,     0,\n",
      "             0,     0,     0],\n",
      "        [  101,  2498,  2066,  1996, 12090,  5510,  1997,  4157,  1998,  2413,\n",
      "         22201,  1012,  1012,  1012,   102,     0,     0,     0,     0,     0,\n",
      "             0,     0,     0,     0,     0,     0,     0,     0,     0,     0,\n",
      "             0,     0,     0,     0,     0,     0,     0,     0,     0,     0,\n",
      "             0,     0,     0,     0,     0,     0,     0,     0,     0,     0,\n",
      "             0,     0,     0],\n",
      "        [  101,  1045,  2298,  2012,  2673,  2066,  2009,  2097,  2022,  2908,\n",
      "          4826,   102,     0,     0,     0,     0,     0,     0,     0,     0,\n",
      "             0,     0,     0,     0,     0,     0,     0,     0,     0,     0,\n",
      "             0,     0,     0,     0,     0,     0,     0,     0,     0,     0,\n",
      "             0,     0,     0,     0,     0,     0,     0,     0,     0,     0,\n",
      "             0,     0,     0],\n",
      "        [  101,  1045,  2031,  7564,  1997,  2051,  2006,  2026,  2398,  1010,\n",
      "          2035,  1045,  2079,  2003,  2147,  1011,  6221,  8398,  2471, 12399,\n",
      "         26010, 12032,  2094,   102,     0,     0,     0,     0,     0,     0,\n",
      "             0,     0,     0,     0,     0,     0,     0,     0,     0,     0,\n",
      "             0,     0,     0,     0,     0,     0,     0,     0,     0,     0,\n",
      "             0,     0,     0],\n",
      "        [  101,  1996,  9336,  2850,  9623, 19864, 14076, 12618,  3600,  1045,\n",
      "          2042,  3038,  2023,  2005,  2086,  1012,  2017,  2024,   102,     0,\n",
      "             0,     0,     0,     0,     0,     0,     0,     0,     0,     0,\n",
      "             0,     0,     0,     0,     0,     0,     0,     0,     0,     0,\n",
      "             0,     0,     0,     0,     0,     0,     0,     0,     0,     0,\n",
      "             0,     0,     0],\n",
      "        [  101,  9471,  2000,  2039,  2005,  1996,  2465,  8312,  2862,  2021,\n",
      "          2026, 28939,  2546,  2525,  2404,  2026, 11265,  2091,  1024,  9928,\n",
      "          1035,  6933,  1035,  2227,  1024,  1024,  2992,  1035,  7345,  1035,\n",
      "          5396,  1011,  2422,  1035,  3096,  1035,  4309,  1024,  1024,  2111,\n",
      "          1035,  2007,  1035, 16291,  1035,  5551,  1024, 16266,  2288,  2015,\n",
      "          2033,  1012,   102],\n",
      "        [  101,  1045,  1005,  1049,  6069,  2022,  2160,  3564,  2076,  1996,\n",
      "          2047,  4231,   102,     0,     0,     0,     0,     0,     0,     0,\n",
      "             0,     0,     0,     0,     0,     0,     0,     0,     0,     0,\n",
      "             0,     0,     0,     0,     0,     0,     0,     0,     0,     0,\n",
      "             0,     0,     0,     0,     0,     0,     0,     0,     0,     0,\n",
      "             0,     0,     0]])\n",
      "------------------------\n",
      "masks_tensors.shape    = torch.Size([16, 53])\n",
      "tensor([[1, 1, 1, 1, 1, 1, 1, 1, 1, 1, 1, 1, 1, 1, 1, 1, 1, 1, 1, 1, 1, 1, 1, 1,\n",
      "         1, 1, 1, 1, 1, 1, 0, 0, 0, 0, 0, 0, 0, 0, 0, 0, 0, 0, 0, 0, 0, 0, 0, 0,\n",
      "         0, 0, 0, 0, 0],\n",
      "        [1, 1, 1, 1, 1, 1, 1, 1, 1, 1, 1, 1, 1, 1, 1, 1, 1, 1, 1, 1, 1, 1, 1, 1,\n",
      "         1, 1, 1, 1, 1, 1, 1, 0, 0, 0, 0, 0, 0, 0, 0, 0, 0, 0, 0, 0, 0, 0, 0, 0,\n",
      "         0, 0, 0, 0, 0],\n",
      "        [1, 1, 1, 1, 1, 1, 1, 1, 1, 1, 1, 1, 1, 1, 1, 1, 1, 1, 1, 1, 1, 1, 1, 1,\n",
      "         1, 0, 0, 0, 0, 0, 0, 0, 0, 0, 0, 0, 0, 0, 0, 0, 0, 0, 0, 0, 0, 0, 0, 0,\n",
      "         0, 0, 0, 0, 0],\n",
      "        [1, 1, 1, 1, 1, 1, 1, 1, 1, 1, 1, 1, 1, 1, 1, 1, 0, 0, 0, 0, 0, 0, 0, 0,\n",
      "         0, 0, 0, 0, 0, 0, 0, 0, 0, 0, 0, 0, 0, 0, 0, 0, 0, 0, 0, 0, 0, 0, 0, 0,\n",
      "         0, 0, 0, 0, 0],\n",
      "        [1, 1, 1, 1, 1, 1, 1, 1, 1, 1, 1, 1, 1, 1, 1, 1, 1, 1, 0, 0, 0, 0, 0, 0,\n",
      "         0, 0, 0, 0, 0, 0, 0, 0, 0, 0, 0, 0, 0, 0, 0, 0, 0, 0, 0, 0, 0, 0, 0, 0,\n",
      "         0, 0, 0, 0, 0],\n",
      "        [1, 1, 1, 1, 1, 1, 1, 1, 1, 1, 1, 1, 1, 0, 0, 0, 0, 0, 0, 0, 0, 0, 0, 0,\n",
      "         0, 0, 0, 0, 0, 0, 0, 0, 0, 0, 0, 0, 0, 0, 0, 0, 0, 0, 0, 0, 0, 0, 0, 0,\n",
      "         0, 0, 0, 0, 0],\n",
      "        [1, 1, 1, 1, 1, 1, 1, 1, 1, 1, 1, 1, 1, 1, 1, 1, 1, 1, 1, 1, 1, 1, 1, 1,\n",
      "         1, 1, 1, 1, 1, 1, 1, 0, 0, 0, 0, 0, 0, 0, 0, 0, 0, 0, 0, 0, 0, 0, 0, 0,\n",
      "         0, 0, 0, 0, 0],\n",
      "        [1, 1, 1, 1, 1, 1, 1, 1, 1, 1, 1, 1, 1, 1, 1, 1, 1, 1, 1, 1, 1, 1, 1, 1,\n",
      "         1, 1, 1, 1, 1, 1, 1, 1, 1, 1, 1, 1, 1, 1, 1, 1, 1, 1, 1, 0, 0, 0, 0, 0,\n",
      "         0, 0, 0, 0, 0],\n",
      "        [1, 1, 1, 1, 1, 1, 1, 1, 1, 1, 1, 1, 1, 1, 1, 1, 1, 1, 1, 1, 1, 0, 0, 0,\n",
      "         0, 0, 0, 0, 0, 0, 0, 0, 0, 0, 0, 0, 0, 0, 0, 0, 0, 0, 0, 0, 0, 0, 0, 0,\n",
      "         0, 0, 0, 0, 0],\n",
      "        [1, 1, 1, 1, 1, 1, 1, 1, 1, 1, 1, 1, 1, 0, 0, 0, 0, 0, 0, 0, 0, 0, 0, 0,\n",
      "         0, 0, 0, 0, 0, 0, 0, 0, 0, 0, 0, 0, 0, 0, 0, 0, 0, 0, 0, 0, 0, 0, 0, 0,\n",
      "         0, 0, 0, 0, 0],\n",
      "        [1, 1, 1, 1, 1, 1, 1, 1, 1, 1, 1, 1, 1, 1, 1, 0, 0, 0, 0, 0, 0, 0, 0, 0,\n",
      "         0, 0, 0, 0, 0, 0, 0, 0, 0, 0, 0, 0, 0, 0, 0, 0, 0, 0, 0, 0, 0, 0, 0, 0,\n",
      "         0, 0, 0, 0, 0],\n",
      "        [1, 1, 1, 1, 1, 1, 1, 1, 1, 1, 1, 1, 0, 0, 0, 0, 0, 0, 0, 0, 0, 0, 0, 0,\n",
      "         0, 0, 0, 0, 0, 0, 0, 0, 0, 0, 0, 0, 0, 0, 0, 0, 0, 0, 0, 0, 0, 0, 0, 0,\n",
      "         0, 0, 0, 0, 0],\n",
      "        [1, 1, 1, 1, 1, 1, 1, 1, 1, 1, 1, 1, 1, 1, 1, 1, 1, 1, 1, 1, 1, 1, 1, 1,\n",
      "         0, 0, 0, 0, 0, 0, 0, 0, 0, 0, 0, 0, 0, 0, 0, 0, 0, 0, 0, 0, 0, 0, 0, 0,\n",
      "         0, 0, 0, 0, 0],\n",
      "        [1, 1, 1, 1, 1, 1, 1, 1, 1, 1, 1, 1, 1, 1, 1, 1, 1, 1, 1, 0, 0, 0, 0, 0,\n",
      "         0, 0, 0, 0, 0, 0, 0, 0, 0, 0, 0, 0, 0, 0, 0, 0, 0, 0, 0, 0, 0, 0, 0, 0,\n",
      "         0, 0, 0, 0, 0],\n",
      "        [1, 1, 1, 1, 1, 1, 1, 1, 1, 1, 1, 1, 1, 1, 1, 1, 1, 1, 1, 1, 1, 1, 1, 1,\n",
      "         1, 1, 1, 1, 1, 1, 1, 1, 1, 1, 1, 1, 1, 1, 1, 1, 1, 1, 1, 1, 1, 1, 1, 1,\n",
      "         1, 1, 1, 1, 1],\n",
      "        [1, 1, 1, 1, 1, 1, 1, 1, 1, 1, 1, 1, 1, 0, 0, 0, 0, 0, 0, 0, 0, 0, 0, 0,\n",
      "         0, 0, 0, 0, 0, 0, 0, 0, 0, 0, 0, 0, 0, 0, 0, 0, 0, 0, 0, 0, 0, 0, 0, 0,\n",
      "         0, 0, 0, 0, 0]])\n",
      "------------------------\n",
      "\n",
      "\n"
     ]
    }
   ],
   "source": [
    "data = next(iter(testloader))\n",
    "\n",
    "tokens_tensors,  masks_tensors, la = data\n",
    "\n",
    "print(f\"\"\"\n",
    "tokens_tensors.shape   = {tokens_tensors.shape} \n",
    "{tokens_tensors}\n",
    "------------------------\n",
    "masks_tensors.shape    = {masks_tensors.shape}\n",
    "{masks_tensors}\n",
    "------------------------\n",
    "\n",
    "\"\"\")"
   ]
  },
  {
   "cell_type": "code",
   "execution_count": 38,
   "id": "20a3424e",
   "metadata": {
    "execution": {
     "iopub.execute_input": "2022-11-27T12:52:24.535607Z",
     "iopub.status.busy": "2022-11-27T12:52:24.534775Z",
     "iopub.status.idle": "2022-11-27T13:14:35.518804Z",
     "shell.execute_reply": "2022-11-27T13:14:35.517729Z"
    },
    "papermill": {
     "duration": 1331.012022,
     "end_time": "2022-11-27T13:14:35.532240",
     "exception": false,
     "start_time": "2022-11-27T12:52:24.520218",
     "status": "completed"
    },
    "tags": []
   },
   "outputs": [
    {
     "name": "stdout",
     "output_type": "stream",
     "text": [
      "CPU times: user 22min 3s, sys: 1.49 s, total: 22min 5s\n",
      "Wall time: 22min 10s\n"
     ]
    },
    {
     "data": {
      "text/html": [
       "<div>\n",
       "<style scoped>\n",
       "    .dataframe tbody tr th:only-of-type {\n",
       "        vertical-align: middle;\n",
       "    }\n",
       "\n",
       "    .dataframe tbody tr th {\n",
       "        vertical-align: top;\n",
       "    }\n",
       "\n",
       "    .dataframe thead th {\n",
       "        text-align: right;\n",
       "    }\n",
       "</style>\n",
       "<table border=\"1\" class=\"dataframe\">\n",
       "  <thead>\n",
       "    <tr style=\"text-align: right;\">\n",
       "      <th></th>\n",
       "      <th>id</th>\n",
       "      <th>emotion</th>\n",
       "    </tr>\n",
       "  </thead>\n",
       "  <tbody>\n",
       "    <tr>\n",
       "      <th>0</th>\n",
       "      <td>0x28b412</td>\n",
       "      <td>anticipation</td>\n",
       "    </tr>\n",
       "    <tr>\n",
       "      <th>1</th>\n",
       "      <td>0x2de201</td>\n",
       "      <td>anticipation</td>\n",
       "    </tr>\n",
       "    <tr>\n",
       "      <th>2</th>\n",
       "      <td>0x218443</td>\n",
       "      <td>anticipation</td>\n",
       "    </tr>\n",
       "    <tr>\n",
       "      <th>3</th>\n",
       "      <td>0x2939d5</td>\n",
       "      <td>joy</td>\n",
       "    </tr>\n",
       "    <tr>\n",
       "      <th>4</th>\n",
       "      <td>0x26289a</td>\n",
       "      <td>trust</td>\n",
       "    </tr>\n",
       "    <tr>\n",
       "      <th>...</th>\n",
       "      <td>...</td>\n",
       "      <td>...</td>\n",
       "    </tr>\n",
       "    <tr>\n",
       "      <th>411967</th>\n",
       "      <td>0x2913b4</td>\n",
       "      <td>anticipation</td>\n",
       "    </tr>\n",
       "    <tr>\n",
       "      <th>411968</th>\n",
       "      <td>0x2a980e</td>\n",
       "      <td>anticipation</td>\n",
       "    </tr>\n",
       "    <tr>\n",
       "      <th>411969</th>\n",
       "      <td>0x316b80</td>\n",
       "      <td>sadness</td>\n",
       "    </tr>\n",
       "    <tr>\n",
       "      <th>411970</th>\n",
       "      <td>0x29d0cb</td>\n",
       "      <td>joy</td>\n",
       "    </tr>\n",
       "    <tr>\n",
       "      <th>411971</th>\n",
       "      <td>0x2a6a4f</td>\n",
       "      <td>sadness</td>\n",
       "    </tr>\n",
       "  </tbody>\n",
       "</table>\n",
       "<p>411972 rows × 2 columns</p>\n",
       "</div>"
      ],
      "text/plain": [
       "              id       emotion\n",
       "0       0x28b412  anticipation\n",
       "1       0x2de201  anticipation\n",
       "2       0x218443  anticipation\n",
       "3       0x2939d5           joy\n",
       "4       0x26289a         trust\n",
       "...          ...           ...\n",
       "411967  0x2913b4  anticipation\n",
       "411968  0x2a980e  anticipation\n",
       "411969  0x316b80       sadness\n",
       "411970  0x29d0cb           joy\n",
       "411971  0x2a6a4f       sadness\n",
       "\n",
       "[411972 rows x 2 columns]"
      ]
     },
     "execution_count": 38,
     "metadata": {},
     "output_type": "execute_result"
    }
   ],
   "source": [
    "%%time\n",
    "# 用分類模型預測測試集\n",
    "predictions = get_predictions(model, testloader)\n",
    "\n",
    "# 用來將預測的 label id 轉回 label 文字\n",
    "index_map = {v: k for k, v in testset.label_map.items()}\n",
    "\n",
    "# 生成 Kaggle 繳交檔案\n",
    "df = pd.DataFrame({\"emotion\": predictions.tolist()})\n",
    "df['emotion'] = df.emotion.apply(lambda x: index_map[x])\n",
    "submission = pd.concat([dftest_id, \n",
    "                          df.loc[:, 'emotion']], axis=1)\n",
    "submission.columns = ['id', 'emotion']\n",
    "submission.to_csv('submission.csv', index=False)\n",
    "#df_pred.head()\n",
    "submission"
   ]
  },
  {
   "cell_type": "code",
   "execution_count": 39,
   "id": "8bbb978c",
   "metadata": {
    "execution": {
     "iopub.execute_input": "2022-11-27T13:14:35.560462Z",
     "iopub.status.busy": "2022-11-27T13:14:35.560130Z",
     "iopub.status.idle": "2022-11-27T13:14:35.572818Z",
     "shell.execute_reply": "2022-11-27T13:14:35.571647Z"
    },
    "papermill": {
     "duration": 0.029704,
     "end_time": "2022-11-27T13:14:35.575144",
     "exception": false,
     "start_time": "2022-11-27T13:14:35.545440",
     "status": "completed"
    },
    "tags": []
   },
   "outputs": [
    {
     "data": {
      "text/html": [
       "<div>\n",
       "<style scoped>\n",
       "    .dataframe tbody tr th:only-of-type {\n",
       "        vertical-align: middle;\n",
       "    }\n",
       "\n",
       "    .dataframe tbody tr th {\n",
       "        vertical-align: top;\n",
       "    }\n",
       "\n",
       "    .dataframe thead th {\n",
       "        text-align: right;\n",
       "    }\n",
       "</style>\n",
       "<table border=\"1\" class=\"dataframe\">\n",
       "  <thead>\n",
       "    <tr style=\"text-align: right;\">\n",
       "      <th></th>\n",
       "      <th>id</th>\n",
       "      <th>emotion</th>\n",
       "    </tr>\n",
       "  </thead>\n",
       "  <tbody>\n",
       "    <tr>\n",
       "      <th>0</th>\n",
       "      <td>0x28b412</td>\n",
       "      <td>anticipation</td>\n",
       "    </tr>\n",
       "    <tr>\n",
       "      <th>1</th>\n",
       "      <td>0x2de201</td>\n",
       "      <td>anticipation</td>\n",
       "    </tr>\n",
       "    <tr>\n",
       "      <th>2</th>\n",
       "      <td>0x218443</td>\n",
       "      <td>anticipation</td>\n",
       "    </tr>\n",
       "    <tr>\n",
       "      <th>3</th>\n",
       "      <td>0x2939d5</td>\n",
       "      <td>joy</td>\n",
       "    </tr>\n",
       "    <tr>\n",
       "      <th>4</th>\n",
       "      <td>0x26289a</td>\n",
       "      <td>trust</td>\n",
       "    </tr>\n",
       "    <tr>\n",
       "      <th>...</th>\n",
       "      <td>...</td>\n",
       "      <td>...</td>\n",
       "    </tr>\n",
       "    <tr>\n",
       "      <th>411967</th>\n",
       "      <td>0x2913b4</td>\n",
       "      <td>anticipation</td>\n",
       "    </tr>\n",
       "    <tr>\n",
       "      <th>411968</th>\n",
       "      <td>0x2a980e</td>\n",
       "      <td>anticipation</td>\n",
       "    </tr>\n",
       "    <tr>\n",
       "      <th>411969</th>\n",
       "      <td>0x316b80</td>\n",
       "      <td>sadness</td>\n",
       "    </tr>\n",
       "    <tr>\n",
       "      <th>411970</th>\n",
       "      <td>0x29d0cb</td>\n",
       "      <td>joy</td>\n",
       "    </tr>\n",
       "    <tr>\n",
       "      <th>411971</th>\n",
       "      <td>0x2a6a4f</td>\n",
       "      <td>sadness</td>\n",
       "    </tr>\n",
       "  </tbody>\n",
       "</table>\n",
       "<p>411972 rows × 2 columns</p>\n",
       "</div>"
      ],
      "text/plain": [
       "              id       emotion\n",
       "0       0x28b412  anticipation\n",
       "1       0x2de201  anticipation\n",
       "2       0x218443  anticipation\n",
       "3       0x2939d5           joy\n",
       "4       0x26289a         trust\n",
       "...          ...           ...\n",
       "411967  0x2913b4  anticipation\n",
       "411968  0x2a980e  anticipation\n",
       "411969  0x316b80       sadness\n",
       "411970  0x29d0cb           joy\n",
       "411971  0x2a6a4f       sadness\n",
       "\n",
       "[411972 rows x 2 columns]"
      ]
     },
     "execution_count": 39,
     "metadata": {},
     "output_type": "execute_result"
    }
   ],
   "source": [
    "submission"
   ]
  }
 ],
 "metadata": {
  "kernelspec": {
   "display_name": "Python 3",
   "language": "python",
   "name": "python3"
  },
  "language_info": {
   "codemirror_mode": {
    "name": "ipython",
    "version": 3
   },
   "file_extension": ".py",
   "mimetype": "text/x-python",
   "name": "python",
   "nbconvert_exporter": "python",
   "pygments_lexer": "ipython3",
   "version": "3.7.12"
  },
  "papermill": {
   "default_parameters": {},
   "duration": 2605.714506,
   "end_time": "2022-11-27T13:14:38.614800",
   "environment_variables": {},
   "exception": null,
   "input_path": "__notebook__.ipynb",
   "output_path": "__notebook__.ipynb",
   "parameters": {},
   "start_time": "2022-11-27T12:31:12.900294",
   "version": "2.3.4"
  },
  "widgets": {
   "application/vnd.jupyter.widget-state+json": {
    "state": {
     "0779bd1aee79439d852017a4f6846adc": {
      "model_module": "@jupyter-widgets/controls",
      "model_module_version": "1.5.0",
      "model_name": "DescriptionStyleModel",
      "state": {
       "_model_module": "@jupyter-widgets/controls",
       "_model_module_version": "1.5.0",
       "_model_name": "DescriptionStyleModel",
       "_view_count": null,
       "_view_module": "@jupyter-widgets/base",
       "_view_module_version": "1.2.0",
       "_view_name": "StyleView",
       "description_width": ""
      }
     },
     "0a7d1757cbba4beb8b60ad63a8879716": {
      "model_module": "@jupyter-widgets/base",
      "model_module_version": "1.2.0",
      "model_name": "LayoutModel",
      "state": {
       "_model_module": "@jupyter-widgets/base",
       "_model_module_version": "1.2.0",
       "_model_name": "LayoutModel",
       "_view_count": null,
       "_view_module": "@jupyter-widgets/base",
       "_view_module_version": "1.2.0",
       "_view_name": "LayoutView",
       "align_content": null,
       "align_items": null,
       "align_self": null,
       "border": null,
       "bottom": null,
       "display": null,
       "flex": null,
       "flex_flow": null,
       "grid_area": null,
       "grid_auto_columns": null,
       "grid_auto_flow": null,
       "grid_auto_rows": null,
       "grid_column": null,
       "grid_gap": null,
       "grid_row": null,
       "grid_template_areas": null,
       "grid_template_columns": null,
       "grid_template_rows": null,
       "height": null,
       "justify_content": null,
       "justify_items": null,
       "left": null,
       "margin": null,
       "max_height": null,
       "max_width": null,
       "min_height": null,
       "min_width": null,
       "object_fit": null,
       "object_position": null,
       "order": null,
       "overflow": null,
       "overflow_x": null,
       "overflow_y": null,
       "padding": null,
       "right": null,
       "top": null,
       "visibility": null,
       "width": null
      }
     },
     "0f370b29c97e48f592b150e532c428b2": {
      "model_module": "@jupyter-widgets/controls",
      "model_module_version": "1.5.0",
      "model_name": "DescriptionStyleModel",
      "state": {
       "_model_module": "@jupyter-widgets/controls",
       "_model_module_version": "1.5.0",
       "_model_name": "DescriptionStyleModel",
       "_view_count": null,
       "_view_module": "@jupyter-widgets/base",
       "_view_module_version": "1.2.0",
       "_view_name": "StyleView",
       "description_width": ""
      }
     },
     "1849b767b83841ff931575ab9594173f": {
      "model_module": "@jupyter-widgets/controls",
      "model_module_version": "1.5.0",
      "model_name": "FloatProgressModel",
      "state": {
       "_dom_classes": [],
       "_model_module": "@jupyter-widgets/controls",
       "_model_module_version": "1.5.0",
       "_model_name": "FloatProgressModel",
       "_view_count": null,
       "_view_module": "@jupyter-widgets/controls",
       "_view_module_version": "1.5.0",
       "_view_name": "ProgressView",
       "bar_style": "success",
       "description": "",
       "description_tooltip": null,
       "layout": "IPY_MODEL_2c440312213d4468a2a68d8c9a38d240",
       "max": 570.0,
       "min": 0.0,
       "orientation": "horizontal",
       "style": "IPY_MODEL_1e63cd6d448d47f395d25d4ae7dbd5dc",
       "value": 570.0
      }
     },
     "1e63cd6d448d47f395d25d4ae7dbd5dc": {
      "model_module": "@jupyter-widgets/controls",
      "model_module_version": "1.5.0",
      "model_name": "ProgressStyleModel",
      "state": {
       "_model_module": "@jupyter-widgets/controls",
       "_model_module_version": "1.5.0",
       "_model_name": "ProgressStyleModel",
       "_view_count": null,
       "_view_module": "@jupyter-widgets/base",
       "_view_module_version": "1.2.0",
       "_view_name": "StyleView",
       "bar_color": null,
       "description_width": ""
      }
     },
     "2be954321eb24fa5a2f912e07bac7c60": {
      "model_module": "@jupyter-widgets/base",
      "model_module_version": "1.2.0",
      "model_name": "LayoutModel",
      "state": {
       "_model_module": "@jupyter-widgets/base",
       "_model_module_version": "1.2.0",
       "_model_name": "LayoutModel",
       "_view_count": null,
       "_view_module": "@jupyter-widgets/base",
       "_view_module_version": "1.2.0",
       "_view_name": "LayoutView",
       "align_content": null,
       "align_items": null,
       "align_self": null,
       "border": null,
       "bottom": null,
       "display": null,
       "flex": null,
       "flex_flow": null,
       "grid_area": null,
       "grid_auto_columns": null,
       "grid_auto_flow": null,
       "grid_auto_rows": null,
       "grid_column": null,
       "grid_gap": null,
       "grid_row": null,
       "grid_template_areas": null,
       "grid_template_columns": null,
       "grid_template_rows": null,
       "height": null,
       "justify_content": null,
       "justify_items": null,
       "left": null,
       "margin": null,
       "max_height": null,
       "max_width": null,
       "min_height": null,
       "min_width": null,
       "object_fit": null,
       "object_position": null,
       "order": null,
       "overflow": null,
       "overflow_x": null,
       "overflow_y": null,
       "padding": null,
       "right": null,
       "top": null,
       "visibility": null,
       "width": null
      }
     },
     "2c440312213d4468a2a68d8c9a38d240": {
      "model_module": "@jupyter-widgets/base",
      "model_module_version": "1.2.0",
      "model_name": "LayoutModel",
      "state": {
       "_model_module": "@jupyter-widgets/base",
       "_model_module_version": "1.2.0",
       "_model_name": "LayoutModel",
       "_view_count": null,
       "_view_module": "@jupyter-widgets/base",
       "_view_module_version": "1.2.0",
       "_view_name": "LayoutView",
       "align_content": null,
       "align_items": null,
       "align_self": null,
       "border": null,
       "bottom": null,
       "display": null,
       "flex": null,
       "flex_flow": null,
       "grid_area": null,
       "grid_auto_columns": null,
       "grid_auto_flow": null,
       "grid_auto_rows": null,
       "grid_column": null,
       "grid_gap": null,
       "grid_row": null,
       "grid_template_areas": null,
       "grid_template_columns": null,
       "grid_template_rows": null,
       "height": null,
       "justify_content": null,
       "justify_items": null,
       "left": null,
       "margin": null,
       "max_height": null,
       "max_width": null,
       "min_height": null,
       "min_width": null,
       "object_fit": null,
       "object_position": null,
       "order": null,
       "overflow": null,
       "overflow_x": null,
       "overflow_y": null,
       "padding": null,
       "right": null,
       "top": null,
       "visibility": null,
       "width": null
      }
     },
     "36131f6ae9d34d7aa9d545e1079ccc4c": {
      "model_module": "@jupyter-widgets/controls",
      "model_module_version": "1.5.0",
      "model_name": "HBoxModel",
      "state": {
       "_dom_classes": [],
       "_model_module": "@jupyter-widgets/controls",
       "_model_module_version": "1.5.0",
       "_model_name": "HBoxModel",
       "_view_count": null,
       "_view_module": "@jupyter-widgets/controls",
       "_view_module_version": "1.5.0",
       "_view_name": "HBoxView",
       "box_style": "",
       "children": [
        "IPY_MODEL_89d43c01efe64bcebdf263590eb31fef",
        "IPY_MODEL_7b88d853d671492e956e146ba9f86ccc",
        "IPY_MODEL_cc1d1d36945b4e8abef65b96a0a99335"
       ],
       "layout": "IPY_MODEL_2be954321eb24fa5a2f912e07bac7c60"
      }
     },
     "383919254a094b81bbe3d42a59a8982f": {
      "model_module": "@jupyter-widgets/controls",
      "model_module_version": "1.5.0",
      "model_name": "DescriptionStyleModel",
      "state": {
       "_model_module": "@jupyter-widgets/controls",
       "_model_module_version": "1.5.0",
       "_model_name": "DescriptionStyleModel",
       "_view_count": null,
       "_view_module": "@jupyter-widgets/base",
       "_view_module_version": "1.2.0",
       "_view_name": "StyleView",
       "description_width": ""
      }
     },
     "38aab7c7f3fc4b049aea34b8f6902aae": {
      "model_module": "@jupyter-widgets/controls",
      "model_module_version": "1.5.0",
      "model_name": "FloatProgressModel",
      "state": {
       "_dom_classes": [],
       "_model_module": "@jupyter-widgets/controls",
       "_model_module_version": "1.5.0",
       "_model_name": "FloatProgressModel",
       "_view_count": null,
       "_view_module": "@jupyter-widgets/controls",
       "_view_module_version": "1.5.0",
       "_view_name": "ProgressView",
       "bar_style": "success",
       "description": "",
       "description_tooltip": null,
       "layout": "IPY_MODEL_9f63e2523c764bc9888c5ff2fa1659e3",
       "max": 231508.0,
       "min": 0.0,
       "orientation": "horizontal",
       "style": "IPY_MODEL_b6fdf593688947ebb47386c328a356fb",
       "value": 231508.0
      }
     },
     "42d62195137a489a820670fd80defadd": {
      "model_module": "@jupyter-widgets/controls",
      "model_module_version": "1.5.0",
      "model_name": "ProgressStyleModel",
      "state": {
       "_model_module": "@jupyter-widgets/controls",
       "_model_module_version": "1.5.0",
       "_model_name": "ProgressStyleModel",
       "_view_count": null,
       "_view_module": "@jupyter-widgets/base",
       "_view_module_version": "1.2.0",
       "_view_name": "StyleView",
       "bar_color": null,
       "description_width": ""
      }
     },
     "493343b86ee642b38415b5f194b54527": {
      "model_module": "@jupyter-widgets/controls",
      "model_module_version": "1.5.0",
      "model_name": "DescriptionStyleModel",
      "state": {
       "_model_module": "@jupyter-widgets/controls",
       "_model_module_version": "1.5.0",
       "_model_name": "DescriptionStyleModel",
       "_view_count": null,
       "_view_module": "@jupyter-widgets/base",
       "_view_module_version": "1.2.0",
       "_view_name": "StyleView",
       "description_width": ""
      }
     },
     "5c957af1dfec4baf813ce16c0d285df9": {
      "model_module": "@jupyter-widgets/controls",
      "model_module_version": "1.5.0",
      "model_name": "HTMLModel",
      "state": {
       "_dom_classes": [],
       "_model_module": "@jupyter-widgets/controls",
       "_model_module_version": "1.5.0",
       "_model_name": "HTMLModel",
       "_view_count": null,
       "_view_module": "@jupyter-widgets/controls",
       "_view_module_version": "1.5.0",
       "_view_name": "HTMLView",
       "description": "",
       "description_tooltip": null,
       "layout": "IPY_MODEL_c0a3ae28b2fd40dab81d5487fb03a7ed",
       "placeholder": "​",
       "style": "IPY_MODEL_383919254a094b81bbe3d42a59a8982f",
       "value": "Downloading: 100%"
      }
     },
     "622dc24ecd9348faa17b21e140f1b965": {
      "model_module": "@jupyter-widgets/base",
      "model_module_version": "1.2.0",
      "model_name": "LayoutModel",
      "state": {
       "_model_module": "@jupyter-widgets/base",
       "_model_module_version": "1.2.0",
       "_model_name": "LayoutModel",
       "_view_count": null,
       "_view_module": "@jupyter-widgets/base",
       "_view_module_version": "1.2.0",
       "_view_name": "LayoutView",
       "align_content": null,
       "align_items": null,
       "align_self": null,
       "border": null,
       "bottom": null,
       "display": null,
       "flex": null,
       "flex_flow": null,
       "grid_area": null,
       "grid_auto_columns": null,
       "grid_auto_flow": null,
       "grid_auto_rows": null,
       "grid_column": null,
       "grid_gap": null,
       "grid_row": null,
       "grid_template_areas": null,
       "grid_template_columns": null,
       "grid_template_rows": null,
       "height": null,
       "justify_content": null,
       "justify_items": null,
       "left": null,
       "margin": null,
       "max_height": null,
       "max_width": null,
       "min_height": null,
       "min_width": null,
       "object_fit": null,
       "object_position": null,
       "order": null,
       "overflow": null,
       "overflow_x": null,
       "overflow_y": null,
       "padding": null,
       "right": null,
       "top": null,
       "visibility": null,
       "width": null
      }
     },
     "6461cd0544a7408186f78ffcbd08b6ce": {
      "model_module": "@jupyter-widgets/base",
      "model_module_version": "1.2.0",
      "model_name": "LayoutModel",
      "state": {
       "_model_module": "@jupyter-widgets/base",
       "_model_module_version": "1.2.0",
       "_model_name": "LayoutModel",
       "_view_count": null,
       "_view_module": "@jupyter-widgets/base",
       "_view_module_version": "1.2.0",
       "_view_name": "LayoutView",
       "align_content": null,
       "align_items": null,
       "align_self": null,
       "border": null,
       "bottom": null,
       "display": null,
       "flex": null,
       "flex_flow": null,
       "grid_area": null,
       "grid_auto_columns": null,
       "grid_auto_flow": null,
       "grid_auto_rows": null,
       "grid_column": null,
       "grid_gap": null,
       "grid_row": null,
       "grid_template_areas": null,
       "grid_template_columns": null,
       "grid_template_rows": null,
       "height": null,
       "justify_content": null,
       "justify_items": null,
       "left": null,
       "margin": null,
       "max_height": null,
       "max_width": null,
       "min_height": null,
       "min_width": null,
       "object_fit": null,
       "object_position": null,
       "order": null,
       "overflow": null,
       "overflow_x": null,
       "overflow_y": null,
       "padding": null,
       "right": null,
       "top": null,
       "visibility": null,
       "width": null
      }
     },
     "661ec1cd478d4a1aa15740b19ee7fdf3": {
      "model_module": "@jupyter-widgets/base",
      "model_module_version": "1.2.0",
      "model_name": "LayoutModel",
      "state": {
       "_model_module": "@jupyter-widgets/base",
       "_model_module_version": "1.2.0",
       "_model_name": "LayoutModel",
       "_view_count": null,
       "_view_module": "@jupyter-widgets/base",
       "_view_module_version": "1.2.0",
       "_view_name": "LayoutView",
       "align_content": null,
       "align_items": null,
       "align_self": null,
       "border": null,
       "bottom": null,
       "display": null,
       "flex": null,
       "flex_flow": null,
       "grid_area": null,
       "grid_auto_columns": null,
       "grid_auto_flow": null,
       "grid_auto_rows": null,
       "grid_column": null,
       "grid_gap": null,
       "grid_row": null,
       "grid_template_areas": null,
       "grid_template_columns": null,
       "grid_template_rows": null,
       "height": null,
       "justify_content": null,
       "justify_items": null,
       "left": null,
       "margin": null,
       "max_height": null,
       "max_width": null,
       "min_height": null,
       "min_width": null,
       "object_fit": null,
       "object_position": null,
       "order": null,
       "overflow": null,
       "overflow_x": null,
       "overflow_y": null,
       "padding": null,
       "right": null,
       "top": null,
       "visibility": null,
       "width": null
      }
     },
     "66417d3ece5243068459df8fc71f46db": {
      "model_module": "@jupyter-widgets/controls",
      "model_module_version": "1.5.0",
      "model_name": "HBoxModel",
      "state": {
       "_dom_classes": [],
       "_model_module": "@jupyter-widgets/controls",
       "_model_module_version": "1.5.0",
       "_model_name": "HBoxModel",
       "_view_count": null,
       "_view_module": "@jupyter-widgets/controls",
       "_view_module_version": "1.5.0",
       "_view_name": "HBoxView",
       "box_style": "",
       "children": [
        "IPY_MODEL_b3d9099659af49ec9bf0d85f94fa4d6c",
        "IPY_MODEL_38aab7c7f3fc4b049aea34b8f6902aae",
        "IPY_MODEL_f5700d8ea3644f1aaf5f2ae8c5a5f2e6"
       ],
       "layout": "IPY_MODEL_bba40a1868054a1db22969f3fb223ecf"
      }
     },
     "69839881bf4849da9e4cd8fa87196d68": {
      "model_module": "@jupyter-widgets/base",
      "model_module_version": "1.2.0",
      "model_name": "LayoutModel",
      "state": {
       "_model_module": "@jupyter-widgets/base",
       "_model_module_version": "1.2.0",
       "_model_name": "LayoutModel",
       "_view_count": null,
       "_view_module": "@jupyter-widgets/base",
       "_view_module_version": "1.2.0",
       "_view_name": "LayoutView",
       "align_content": null,
       "align_items": null,
       "align_self": null,
       "border": null,
       "bottom": null,
       "display": null,
       "flex": null,
       "flex_flow": null,
       "grid_area": null,
       "grid_auto_columns": null,
       "grid_auto_flow": null,
       "grid_auto_rows": null,
       "grid_column": null,
       "grid_gap": null,
       "grid_row": null,
       "grid_template_areas": null,
       "grid_template_columns": null,
       "grid_template_rows": null,
       "height": null,
       "justify_content": null,
       "justify_items": null,
       "left": null,
       "margin": null,
       "max_height": null,
       "max_width": null,
       "min_height": null,
       "min_width": null,
       "object_fit": null,
       "object_position": null,
       "order": null,
       "overflow": null,
       "overflow_x": null,
       "overflow_y": null,
       "padding": null,
       "right": null,
       "top": null,
       "visibility": null,
       "width": null
      }
     },
     "7249e318960241d697e154508fa12ccf": {
      "model_module": "@jupyter-widgets/base",
      "model_module_version": "1.2.0",
      "model_name": "LayoutModel",
      "state": {
       "_model_module": "@jupyter-widgets/base",
       "_model_module_version": "1.2.0",
       "_model_name": "LayoutModel",
       "_view_count": null,
       "_view_module": "@jupyter-widgets/base",
       "_view_module_version": "1.2.0",
       "_view_name": "LayoutView",
       "align_content": null,
       "align_items": null,
       "align_self": null,
       "border": null,
       "bottom": null,
       "display": null,
       "flex": null,
       "flex_flow": null,
       "grid_area": null,
       "grid_auto_columns": null,
       "grid_auto_flow": null,
       "grid_auto_rows": null,
       "grid_column": null,
       "grid_gap": null,
       "grid_row": null,
       "grid_template_areas": null,
       "grid_template_columns": null,
       "grid_template_rows": null,
       "height": null,
       "justify_content": null,
       "justify_items": null,
       "left": null,
       "margin": null,
       "max_height": null,
       "max_width": null,
       "min_height": null,
       "min_width": null,
       "object_fit": null,
       "object_position": null,
       "order": null,
       "overflow": null,
       "overflow_x": null,
       "overflow_y": null,
       "padding": null,
       "right": null,
       "top": null,
       "visibility": null,
       "width": null
      }
     },
     "7281e6e04b654e218841b962bffe07c8": {
      "model_module": "@jupyter-widgets/base",
      "model_module_version": "1.2.0",
      "model_name": "LayoutModel",
      "state": {
       "_model_module": "@jupyter-widgets/base",
       "_model_module_version": "1.2.0",
       "_model_name": "LayoutModel",
       "_view_count": null,
       "_view_module": "@jupyter-widgets/base",
       "_view_module_version": "1.2.0",
       "_view_name": "LayoutView",
       "align_content": null,
       "align_items": null,
       "align_self": null,
       "border": null,
       "bottom": null,
       "display": null,
       "flex": null,
       "flex_flow": null,
       "grid_area": null,
       "grid_auto_columns": null,
       "grid_auto_flow": null,
       "grid_auto_rows": null,
       "grid_column": null,
       "grid_gap": null,
       "grid_row": null,
       "grid_template_areas": null,
       "grid_template_columns": null,
       "grid_template_rows": null,
       "height": null,
       "justify_content": null,
       "justify_items": null,
       "left": null,
       "margin": null,
       "max_height": null,
       "max_width": null,
       "min_height": null,
       "min_width": null,
       "object_fit": null,
       "object_position": null,
       "order": null,
       "overflow": null,
       "overflow_x": null,
       "overflow_y": null,
       "padding": null,
       "right": null,
       "top": null,
       "visibility": null,
       "width": null
      }
     },
     "7b88d853d671492e956e146ba9f86ccc": {
      "model_module": "@jupyter-widgets/controls",
      "model_module_version": "1.5.0",
      "model_name": "FloatProgressModel",
      "state": {
       "_dom_classes": [],
       "_model_module": "@jupyter-widgets/controls",
       "_model_module_version": "1.5.0",
       "_model_name": "FloatProgressModel",
       "_view_count": null,
       "_view_module": "@jupyter-widgets/controls",
       "_view_module_version": "1.5.0",
       "_view_name": "ProgressView",
       "bar_style": "success",
       "description": "",
       "description_tooltip": null,
       "layout": "IPY_MODEL_7281e6e04b654e218841b962bffe07c8",
       "max": 28.0,
       "min": 0.0,
       "orientation": "horizontal",
       "style": "IPY_MODEL_c18a6a171dfa4e3eaf59b14ca5f6a446",
       "value": 28.0
      }
     },
     "8836d85290c24d3dbca2269415c79e27": {
      "model_module": "@jupyter-widgets/base",
      "model_module_version": "1.2.0",
      "model_name": "LayoutModel",
      "state": {
       "_model_module": "@jupyter-widgets/base",
       "_model_module_version": "1.2.0",
       "_model_name": "LayoutModel",
       "_view_count": null,
       "_view_module": "@jupyter-widgets/base",
       "_view_module_version": "1.2.0",
       "_view_name": "LayoutView",
       "align_content": null,
       "align_items": null,
       "align_self": null,
       "border": null,
       "bottom": null,
       "display": null,
       "flex": null,
       "flex_flow": null,
       "grid_area": null,
       "grid_auto_columns": null,
       "grid_auto_flow": null,
       "grid_auto_rows": null,
       "grid_column": null,
       "grid_gap": null,
       "grid_row": null,
       "grid_template_areas": null,
       "grid_template_columns": null,
       "grid_template_rows": null,
       "height": null,
       "justify_content": null,
       "justify_items": null,
       "left": null,
       "margin": null,
       "max_height": null,
       "max_width": null,
       "min_height": null,
       "min_width": null,
       "object_fit": null,
       "object_position": null,
       "order": null,
       "overflow": null,
       "overflow_x": null,
       "overflow_y": null,
       "padding": null,
       "right": null,
       "top": null,
       "visibility": null,
       "width": null
      }
     },
     "89d43c01efe64bcebdf263590eb31fef": {
      "model_module": "@jupyter-widgets/controls",
      "model_module_version": "1.5.0",
      "model_name": "HTMLModel",
      "state": {
       "_dom_classes": [],
       "_model_module": "@jupyter-widgets/controls",
       "_model_module_version": "1.5.0",
       "_model_name": "HTMLModel",
       "_view_count": null,
       "_view_module": "@jupyter-widgets/controls",
       "_view_module_version": "1.5.0",
       "_view_name": "HTMLView",
       "description": "",
       "description_tooltip": null,
       "layout": "IPY_MODEL_a6b09576cea14f939a57ab55dc9c1697",
       "placeholder": "​",
       "style": "IPY_MODEL_493343b86ee642b38415b5f194b54527",
       "value": "Downloading: 100%"
      }
     },
     "93ff3b0f139a47ff869691889837d20e": {
      "model_module": "@jupyter-widgets/base",
      "model_module_version": "1.2.0",
      "model_name": "LayoutModel",
      "state": {
       "_model_module": "@jupyter-widgets/base",
       "_model_module_version": "1.2.0",
       "_model_name": "LayoutModel",
       "_view_count": null,
       "_view_module": "@jupyter-widgets/base",
       "_view_module_version": "1.2.0",
       "_view_name": "LayoutView",
       "align_content": null,
       "align_items": null,
       "align_self": null,
       "border": null,
       "bottom": null,
       "display": null,
       "flex": null,
       "flex_flow": null,
       "grid_area": null,
       "grid_auto_columns": null,
       "grid_auto_flow": null,
       "grid_auto_rows": null,
       "grid_column": null,
       "grid_gap": null,
       "grid_row": null,
       "grid_template_areas": null,
       "grid_template_columns": null,
       "grid_template_rows": null,
       "height": null,
       "justify_content": null,
       "justify_items": null,
       "left": null,
       "margin": null,
       "max_height": null,
       "max_width": null,
       "min_height": null,
       "min_width": null,
       "object_fit": null,
       "object_position": null,
       "order": null,
       "overflow": null,
       "overflow_x": null,
       "overflow_y": null,
       "padding": null,
       "right": null,
       "top": null,
       "visibility": null,
       "width": null
      }
     },
     "9a1b20b254764876920c668720602b65": {
      "model_module": "@jupyter-widgets/controls",
      "model_module_version": "1.5.0",
      "model_name": "DescriptionStyleModel",
      "state": {
       "_model_module": "@jupyter-widgets/controls",
       "_model_module_version": "1.5.0",
       "_model_name": "DescriptionStyleModel",
       "_view_count": null,
       "_view_module": "@jupyter-widgets/base",
       "_view_module_version": "1.2.0",
       "_view_name": "StyleView",
       "description_width": ""
      }
     },
     "9e5e92a35ed74c6a885368aebd8dc3fd": {
      "model_module": "@jupyter-widgets/controls",
      "model_module_version": "1.5.0",
      "model_name": "HTMLModel",
      "state": {
       "_dom_classes": [],
       "_model_module": "@jupyter-widgets/controls",
       "_model_module_version": "1.5.0",
       "_model_name": "HTMLModel",
       "_view_count": null,
       "_view_module": "@jupyter-widgets/controls",
       "_view_module_version": "1.5.0",
       "_view_name": "HTMLView",
       "description": "",
       "description_tooltip": null,
       "layout": "IPY_MODEL_7249e318960241d697e154508fa12ccf",
       "placeholder": "​",
       "style": "IPY_MODEL_0779bd1aee79439d852017a4f6846adc",
       "value": " 570/570 [00:00&lt;00:00, 22.6kB/s]"
      }
     },
     "9f63e2523c764bc9888c5ff2fa1659e3": {
      "model_module": "@jupyter-widgets/base",
      "model_module_version": "1.2.0",
      "model_name": "LayoutModel",
      "state": {
       "_model_module": "@jupyter-widgets/base",
       "_model_module_version": "1.2.0",
       "_model_name": "LayoutModel",
       "_view_count": null,
       "_view_module": "@jupyter-widgets/base",
       "_view_module_version": "1.2.0",
       "_view_name": "LayoutView",
       "align_content": null,
       "align_items": null,
       "align_self": null,
       "border": null,
       "bottom": null,
       "display": null,
       "flex": null,
       "flex_flow": null,
       "grid_area": null,
       "grid_auto_columns": null,
       "grid_auto_flow": null,
       "grid_auto_rows": null,
       "grid_column": null,
       "grid_gap": null,
       "grid_row": null,
       "grid_template_areas": null,
       "grid_template_columns": null,
       "grid_template_rows": null,
       "height": null,
       "justify_content": null,
       "justify_items": null,
       "left": null,
       "margin": null,
       "max_height": null,
       "max_width": null,
       "min_height": null,
       "min_width": null,
       "object_fit": null,
       "object_position": null,
       "order": null,
       "overflow": null,
       "overflow_x": null,
       "overflow_y": null,
       "padding": null,
       "right": null,
       "top": null,
       "visibility": null,
       "width": null
      }
     },
     "a6b09576cea14f939a57ab55dc9c1697": {
      "model_module": "@jupyter-widgets/base",
      "model_module_version": "1.2.0",
      "model_name": "LayoutModel",
      "state": {
       "_model_module": "@jupyter-widgets/base",
       "_model_module_version": "1.2.0",
       "_model_name": "LayoutModel",
       "_view_count": null,
       "_view_module": "@jupyter-widgets/base",
       "_view_module_version": "1.2.0",
       "_view_name": "LayoutView",
       "align_content": null,
       "align_items": null,
       "align_self": null,
       "border": null,
       "bottom": null,
       "display": null,
       "flex": null,
       "flex_flow": null,
       "grid_area": null,
       "grid_auto_columns": null,
       "grid_auto_flow": null,
       "grid_auto_rows": null,
       "grid_column": null,
       "grid_gap": null,
       "grid_row": null,
       "grid_template_areas": null,
       "grid_template_columns": null,
       "grid_template_rows": null,
       "height": null,
       "justify_content": null,
       "justify_items": null,
       "left": null,
       "margin": null,
       "max_height": null,
       "max_width": null,
       "min_height": null,
       "min_width": null,
       "object_fit": null,
       "object_position": null,
       "order": null,
       "overflow": null,
       "overflow_x": null,
       "overflow_y": null,
       "padding": null,
       "right": null,
       "top": null,
       "visibility": null,
       "width": null
      }
     },
     "a837f09b76ac42969a94b9e4dc714013": {
      "model_module": "@jupyter-widgets/controls",
      "model_module_version": "1.5.0",
      "model_name": "HBoxModel",
      "state": {
       "_dom_classes": [],
       "_model_module": "@jupyter-widgets/controls",
       "_model_module_version": "1.5.0",
       "_model_name": "HBoxModel",
       "_view_count": null,
       "_view_module": "@jupyter-widgets/controls",
       "_view_module_version": "1.5.0",
       "_view_name": "HBoxView",
       "box_style": "",
       "children": [
        "IPY_MODEL_f5aa8c74208c4be896a9eb03bb26ddc4",
        "IPY_MODEL_1849b767b83841ff931575ab9594173f",
        "IPY_MODEL_9e5e92a35ed74c6a885368aebd8dc3fd"
       ],
       "layout": "IPY_MODEL_661ec1cd478d4a1aa15740b19ee7fdf3"
      }
     },
     "b2ddc7ff970b4691a83bd6743c771db6": {
      "model_module": "@jupyter-widgets/controls",
      "model_module_version": "1.5.0",
      "model_name": "DescriptionStyleModel",
      "state": {
       "_model_module": "@jupyter-widgets/controls",
       "_model_module_version": "1.5.0",
       "_model_name": "DescriptionStyleModel",
       "_view_count": null,
       "_view_module": "@jupyter-widgets/base",
       "_view_module_version": "1.2.0",
       "_view_name": "StyleView",
       "description_width": ""
      }
     },
     "b3d9099659af49ec9bf0d85f94fa4d6c": {
      "model_module": "@jupyter-widgets/controls",
      "model_module_version": "1.5.0",
      "model_name": "HTMLModel",
      "state": {
       "_dom_classes": [],
       "_model_module": "@jupyter-widgets/controls",
       "_model_module_version": "1.5.0",
       "_model_name": "HTMLModel",
       "_view_count": null,
       "_view_module": "@jupyter-widgets/controls",
       "_view_module_version": "1.5.0",
       "_view_name": "HTMLView",
       "description": "",
       "description_tooltip": null,
       "layout": "IPY_MODEL_0a7d1757cbba4beb8b60ad63a8879716",
       "placeholder": "​",
       "style": "IPY_MODEL_9a1b20b254764876920c668720602b65",
       "value": "Downloading: 100%"
      }
     },
     "b6fdf593688947ebb47386c328a356fb": {
      "model_module": "@jupyter-widgets/controls",
      "model_module_version": "1.5.0",
      "model_name": "ProgressStyleModel",
      "state": {
       "_model_module": "@jupyter-widgets/controls",
       "_model_module_version": "1.5.0",
       "_model_name": "ProgressStyleModel",
       "_view_count": null,
       "_view_module": "@jupyter-widgets/base",
       "_view_module_version": "1.2.0",
       "_view_name": "StyleView",
       "bar_color": null,
       "description_width": ""
      }
     },
     "bba40a1868054a1db22969f3fb223ecf": {
      "model_module": "@jupyter-widgets/base",
      "model_module_version": "1.2.0",
      "model_name": "LayoutModel",
      "state": {
       "_model_module": "@jupyter-widgets/base",
       "_model_module_version": "1.2.0",
       "_model_name": "LayoutModel",
       "_view_count": null,
       "_view_module": "@jupyter-widgets/base",
       "_view_module_version": "1.2.0",
       "_view_name": "LayoutView",
       "align_content": null,
       "align_items": null,
       "align_self": null,
       "border": null,
       "bottom": null,
       "display": null,
       "flex": null,
       "flex_flow": null,
       "grid_area": null,
       "grid_auto_columns": null,
       "grid_auto_flow": null,
       "grid_auto_rows": null,
       "grid_column": null,
       "grid_gap": null,
       "grid_row": null,
       "grid_template_areas": null,
       "grid_template_columns": null,
       "grid_template_rows": null,
       "height": null,
       "justify_content": null,
       "justify_items": null,
       "left": null,
       "margin": null,
       "max_height": null,
       "max_width": null,
       "min_height": null,
       "min_width": null,
       "object_fit": null,
       "object_position": null,
       "order": null,
       "overflow": null,
       "overflow_x": null,
       "overflow_y": null,
       "padding": null,
       "right": null,
       "top": null,
       "visibility": null,
       "width": null
      }
     },
     "c0a3ae28b2fd40dab81d5487fb03a7ed": {
      "model_module": "@jupyter-widgets/base",
      "model_module_version": "1.2.0",
      "model_name": "LayoutModel",
      "state": {
       "_model_module": "@jupyter-widgets/base",
       "_model_module_version": "1.2.0",
       "_model_name": "LayoutModel",
       "_view_count": null,
       "_view_module": "@jupyter-widgets/base",
       "_view_module_version": "1.2.0",
       "_view_name": "LayoutView",
       "align_content": null,
       "align_items": null,
       "align_self": null,
       "border": null,
       "bottom": null,
       "display": null,
       "flex": null,
       "flex_flow": null,
       "grid_area": null,
       "grid_auto_columns": null,
       "grid_auto_flow": null,
       "grid_auto_rows": null,
       "grid_column": null,
       "grid_gap": null,
       "grid_row": null,
       "grid_template_areas": null,
       "grid_template_columns": null,
       "grid_template_rows": null,
       "height": null,
       "justify_content": null,
       "justify_items": null,
       "left": null,
       "margin": null,
       "max_height": null,
       "max_width": null,
       "min_height": null,
       "min_width": null,
       "object_fit": null,
       "object_position": null,
       "order": null,
       "overflow": null,
       "overflow_x": null,
       "overflow_y": null,
       "padding": null,
       "right": null,
       "top": null,
       "visibility": null,
       "width": null
      }
     },
     "c18a6a171dfa4e3eaf59b14ca5f6a446": {
      "model_module": "@jupyter-widgets/controls",
      "model_module_version": "1.5.0",
      "model_name": "ProgressStyleModel",
      "state": {
       "_model_module": "@jupyter-widgets/controls",
       "_model_module_version": "1.5.0",
       "_model_name": "ProgressStyleModel",
       "_view_count": null,
       "_view_module": "@jupyter-widgets/base",
       "_view_module_version": "1.2.0",
       "_view_name": "StyleView",
       "bar_color": null,
       "description_width": ""
      }
     },
     "c31ed05d7e984d55a9cd94c77d9c96a7": {
      "model_module": "@jupyter-widgets/controls",
      "model_module_version": "1.5.0",
      "model_name": "HBoxModel",
      "state": {
       "_dom_classes": [],
       "_model_module": "@jupyter-widgets/controls",
       "_model_module_version": "1.5.0",
       "_model_name": "HBoxModel",
       "_view_count": null,
       "_view_module": "@jupyter-widgets/controls",
       "_view_module_version": "1.5.0",
       "_view_name": "HBoxView",
       "box_style": "",
       "children": [
        "IPY_MODEL_5c957af1dfec4baf813ce16c0d285df9",
        "IPY_MODEL_fe91d8f21c7d4a07911af3e29f8de8b5",
        "IPY_MODEL_d6bc51705208478b950c97f6d113db7a"
       ],
       "layout": "IPY_MODEL_69839881bf4849da9e4cd8fa87196d68"
      }
     },
     "c92bcd51171c434a9dca3d9d5ff0a7ac": {
      "model_module": "@jupyter-widgets/controls",
      "model_module_version": "1.5.0",
      "model_name": "DescriptionStyleModel",
      "state": {
       "_model_module": "@jupyter-widgets/controls",
       "_model_module_version": "1.5.0",
       "_model_name": "DescriptionStyleModel",
       "_view_count": null,
       "_view_module": "@jupyter-widgets/base",
       "_view_module_version": "1.2.0",
       "_view_name": "StyleView",
       "description_width": ""
      }
     },
     "cc1d1d36945b4e8abef65b96a0a99335": {
      "model_module": "@jupyter-widgets/controls",
      "model_module_version": "1.5.0",
      "model_name": "HTMLModel",
      "state": {
       "_dom_classes": [],
       "_model_module": "@jupyter-widgets/controls",
       "_model_module_version": "1.5.0",
       "_model_name": "HTMLModel",
       "_view_count": null,
       "_view_module": "@jupyter-widgets/controls",
       "_view_module_version": "1.5.0",
       "_view_name": "HTMLView",
       "description": "",
       "description_tooltip": null,
       "layout": "IPY_MODEL_8836d85290c24d3dbca2269415c79e27",
       "placeholder": "​",
       "style": "IPY_MODEL_d16678a1638140e1ac339011db9b9176",
       "value": " 28.0/28.0 [00:00&lt;00:00, 1.11kB/s]"
      }
     },
     "d16678a1638140e1ac339011db9b9176": {
      "model_module": "@jupyter-widgets/controls",
      "model_module_version": "1.5.0",
      "model_name": "DescriptionStyleModel",
      "state": {
       "_model_module": "@jupyter-widgets/controls",
       "_model_module_version": "1.5.0",
       "_model_name": "DescriptionStyleModel",
       "_view_count": null,
       "_view_module": "@jupyter-widgets/base",
       "_view_module_version": "1.2.0",
       "_view_name": "StyleView",
       "description_width": ""
      }
     },
     "d6bc51705208478b950c97f6d113db7a": {
      "model_module": "@jupyter-widgets/controls",
      "model_module_version": "1.5.0",
      "model_name": "HTMLModel",
      "state": {
       "_dom_classes": [],
       "_model_module": "@jupyter-widgets/controls",
       "_model_module_version": "1.5.0",
       "_model_name": "HTMLModel",
       "_view_count": null,
       "_view_module": "@jupyter-widgets/controls",
       "_view_module_version": "1.5.0",
       "_view_name": "HTMLView",
       "description": "",
       "description_tooltip": null,
       "layout": "IPY_MODEL_6461cd0544a7408186f78ffcbd08b6ce",
       "placeholder": "​",
       "style": "IPY_MODEL_b2ddc7ff970b4691a83bd6743c771db6",
       "value": " 420M/420M [00:15&lt;00:00, 30.7MB/s]"
      }
     },
     "dc4db8f4164d4abd8be32073acff83b7": {
      "model_module": "@jupyter-widgets/base",
      "model_module_version": "1.2.0",
      "model_name": "LayoutModel",
      "state": {
       "_model_module": "@jupyter-widgets/base",
       "_model_module_version": "1.2.0",
       "_model_name": "LayoutModel",
       "_view_count": null,
       "_view_module": "@jupyter-widgets/base",
       "_view_module_version": "1.2.0",
       "_view_name": "LayoutView",
       "align_content": null,
       "align_items": null,
       "align_self": null,
       "border": null,
       "bottom": null,
       "display": null,
       "flex": null,
       "flex_flow": null,
       "grid_area": null,
       "grid_auto_columns": null,
       "grid_auto_flow": null,
       "grid_auto_rows": null,
       "grid_column": null,
       "grid_gap": null,
       "grid_row": null,
       "grid_template_areas": null,
       "grid_template_columns": null,
       "grid_template_rows": null,
       "height": null,
       "justify_content": null,
       "justify_items": null,
       "left": null,
       "margin": null,
       "max_height": null,
       "max_width": null,
       "min_height": null,
       "min_width": null,
       "object_fit": null,
       "object_position": null,
       "order": null,
       "overflow": null,
       "overflow_x": null,
       "overflow_y": null,
       "padding": null,
       "right": null,
       "top": null,
       "visibility": null,
       "width": null
      }
     },
     "f5700d8ea3644f1aaf5f2ae8c5a5f2e6": {
      "model_module": "@jupyter-widgets/controls",
      "model_module_version": "1.5.0",
      "model_name": "HTMLModel",
      "state": {
       "_dom_classes": [],
       "_model_module": "@jupyter-widgets/controls",
       "_model_module_version": "1.5.0",
       "_model_name": "HTMLModel",
       "_view_count": null,
       "_view_module": "@jupyter-widgets/controls",
       "_view_module_version": "1.5.0",
       "_view_name": "HTMLView",
       "description": "",
       "description_tooltip": null,
       "layout": "IPY_MODEL_622dc24ecd9348faa17b21e140f1b965",
       "placeholder": "​",
       "style": "IPY_MODEL_c92bcd51171c434a9dca3d9d5ff0a7ac",
       "value": " 226k/226k [00:00&lt;00:00, 1.33MB/s]"
      }
     },
     "f5aa8c74208c4be896a9eb03bb26ddc4": {
      "model_module": "@jupyter-widgets/controls",
      "model_module_version": "1.5.0",
      "model_name": "HTMLModel",
      "state": {
       "_dom_classes": [],
       "_model_module": "@jupyter-widgets/controls",
       "_model_module_version": "1.5.0",
       "_model_name": "HTMLModel",
       "_view_count": null,
       "_view_module": "@jupyter-widgets/controls",
       "_view_module_version": "1.5.0",
       "_view_name": "HTMLView",
       "description": "",
       "description_tooltip": null,
       "layout": "IPY_MODEL_93ff3b0f139a47ff869691889837d20e",
       "placeholder": "​",
       "style": "IPY_MODEL_0f370b29c97e48f592b150e532c428b2",
       "value": "Downloading: 100%"
      }
     },
     "fe91d8f21c7d4a07911af3e29f8de8b5": {
      "model_module": "@jupyter-widgets/controls",
      "model_module_version": "1.5.0",
      "model_name": "FloatProgressModel",
      "state": {
       "_dom_classes": [],
       "_model_module": "@jupyter-widgets/controls",
       "_model_module_version": "1.5.0",
       "_model_name": "FloatProgressModel",
       "_view_count": null,
       "_view_module": "@jupyter-widgets/controls",
       "_view_module_version": "1.5.0",
       "_view_name": "ProgressView",
       "bar_style": "success",
       "description": "",
       "description_tooltip": null,
       "layout": "IPY_MODEL_dc4db8f4164d4abd8be32073acff83b7",
       "max": 440473133.0,
       "min": 0.0,
       "orientation": "horizontal",
       "style": "IPY_MODEL_42d62195137a489a820670fd80defadd",
       "value": 440473133.0
      }
     }
    },
    "version_major": 2,
    "version_minor": 0
   }
  }
 },
 "nbformat": 4,
 "nbformat_minor": 5
}
